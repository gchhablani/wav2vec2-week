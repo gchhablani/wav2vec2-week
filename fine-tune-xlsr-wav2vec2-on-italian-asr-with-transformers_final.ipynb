{
 "cells": [
  {
   "cell_type": "markdown",
   "metadata": {
    "id": "LBSYoWbi-45k"
   },
   "source": [
    "# **Fine-tuning XLSR-Wav2Vec2 for Multi-Lingual ASR with 🤗 Transformers**"
   ]
  },
  {
   "cell_type": "markdown",
   "metadata": {},
   "source": [
    "## Pre-configuration"
   ]
  },
  {
   "cell_type": "code",
   "execution_count": 4,
   "metadata": {},
   "outputs": [],
   "source": [
    "from ipywidgets import widgets"
   ]
  },
  {
   "cell_type": "code",
   "execution_count": 5,
   "metadata": {},
   "outputs": [],
   "source": [
    "import os"
   ]
  },
  {
   "cell_type": "code",
   "execution_count": 6,
   "metadata": {},
   "outputs": [],
   "source": [
    "language_code = 'it'\n",
    "language_name = 'it'\n",
    "base_model = \"facebook/wav2vec2-large-xlsr-53\"\n",
    "pretrain_model = f\"gchhablani/wav2vec2-large-xlsr-{language_name}\"\n",
    "\n",
    "# data_dir = f\"/workspace/data/{language_code}\"\n",
    "output_models_dir = f\"/workspace/output_models/{language_code}/wav2vec2-large-xlsr-{language_name}\""
   ]
  },
  {
   "cell_type": "code",
   "execution_count": 7,
   "metadata": {},
   "outputs": [],
   "source": [
    "import jiwer\n",
    "\n",
    "def chunked_wer(targets, predictions, chunk_size=None):\n",
    "    if chunk_size is None: return jiwer.wer(targets, predictions)\n",
    "    start = 0\n",
    "    end = chunk_size\n",
    "    H, S, D, I = 0, 0, 0, 0\n",
    "    while start < len(targets):\n",
    "        chunk_metrics = jiwer.compute_measures(targets[start:end], predictions[start:end])\n",
    "        H = H + chunk_metrics[\"hits\"]\n",
    "        S = S + chunk_metrics[\"substitutions\"]\n",
    "        D = D + chunk_metrics[\"deletions\"]\n",
    "        I = I + chunk_metrics[\"insertions\"]\n",
    "        start += chunk_size\n",
    "        end += chunk_size\n",
    "    return float(S + D + I) / float(H + S + D)"
   ]
  },
  {
   "cell_type": "code",
   "execution_count": 8,
   "metadata": {},
   "outputs": [],
   "source": [
    "def input_lengths(example):\n",
    "    example[\"length\"] = len(example[\"input_values\"])\n",
    "    return example\n",
    "## Use subclassed Trainer class to support pre-computed lengths\n",
    "\n",
    "from transformers import Trainer\n",
    "from transformers.trainer_pt_utils import LengthGroupedSampler, DistributedLengthGroupedSampler\n",
    "from torch.utils.data import DataLoader\n",
    "import collections\n",
    "\n",
    "class GroupedLengthsTrainer(Trainer):\n",
    "    # length_field_name should possibly be part of TrainingArguments instead\n",
    "    def __init__(self, length_field_name=None, *args, **kwargs):\n",
    "        super().__init__(*args, **kwargs)\n",
    "        self.length_field_name = length_field_name\n",
    "    \n",
    "    def _get_train_sampler(self):\n",
    "        if isinstance(self.train_dataset, torch.utils.data.IterableDataset) or not isinstance(\n",
    "            self.train_dataset, collections.abc.Sized\n",
    "        ):\n",
    "            return None\n",
    "\n",
    "        # Build the sampler.\n",
    "        if self.args.group_by_length:\n",
    "            lengths = self.train_dataset[self.length_field_name] if self.length_field_name is not None else None\n",
    "            model_input_name = self.tokenizer.model_input_names[0] if self.tokenizer is not None else None\n",
    "            if self.args.world_size <= 1:\n",
    "                return LengthGroupedSampler(\n",
    "                    self.train_dataset, self.args.train_batch_size, lengths=lengths, model_input_name=model_input_name\n",
    "                )\n",
    "            else:\n",
    "                return DistributedLengthGroupedSampler(\n",
    "                    self.train_dataset,\n",
    "                    self.args.train_batch_size,\n",
    "                    num_replicas=self.args.world_size,\n",
    "                    rank=self.args.process_index,\n",
    "                    lengths=lengths,\n",
    "                    model_input_name=model_input_name,\n",
    "                )\n",
    "\n",
    "        else:\n",
    "            return super()._get_train_sampler()"
   ]
  },
  {
   "cell_type": "code",
   "execution_count": 9,
   "metadata": {},
   "outputs": [
    {
     "data": {
      "text/plain": [
       "'For wandb login please visit https://wandb.ai/authorize'"
      ]
     },
     "metadata": {},
     "output_type": "display_data"
    },
    {
     "data": {
      "application/vnd.jupyter.widget-view+json": {
       "model_id": "78d97ffce5cb4d728d1a7110c0b489ab",
       "version_major": 2,
       "version_minor": 0
      },
      "text/plain": [
       "Text(value='', description='Token :')"
      ]
     },
     "metadata": {},
     "output_type": "display_data"
    },
    {
     "data": {
      "application/vnd.jupyter.widget-view+json": {
       "model_id": "6c0158f30e734650a051bac37ca5041b",
       "version_major": 2,
       "version_minor": 0
      },
      "text/plain": [
       "Button(description='Validate', style=ButtonStyle())"
      ]
     },
     "metadata": {},
     "output_type": "display_data"
    }
   ],
   "source": [
    "### Wandb configuration\n",
    "#!wandb login \n",
    "display(\"For wandb login please visit https://wandb.ai/authorize\")\n",
    "\n",
    "wandb_login = widgets.Text(description=\"Token :\")\n",
    "wandb_button = widgets.Button(description=\"Validate\")\n",
    "\n",
    "def handle_wb_submit(sender):\n",
    "    token = wandb_login.value\n",
    "    os.system(f\"wandb login {token}\")\n",
    "    \n",
    "if 'WANDB_API_KEY' not in os.environ:\n",
    "    display(wandb_login)\n",
    "    display(wandb_button)\n",
    "    wandb_button.on_click(handle_wb_submit)\n",
    "    \n",
    "\n",
    "\n",
    "\n",
    "\n",
    "    \n",
    "    \n"
   ]
  },
  {
   "cell_type": "code",
   "execution_count": 10,
   "metadata": {},
   "outputs": [
    {
     "name": "stdout",
     "output_type": "stream",
     "text": [
      "\u001b[34m\u001b[1mwandb\u001b[0m: Currently logged in as: \u001b[33mgchhablani\u001b[0m (use `wandb login --relogin` to force relogin)\n"
     ]
    }
   ],
   "source": [
    "# optional c\n",
    "!wandb login"
   ]
  },
  {
   "cell_type": "markdown",
   "metadata": {},
   "source": [
    "## Presentation"
   ]
  },
  {
   "cell_type": "markdown",
   "metadata": {
    "id": "V7YOT2mnUiea"
   },
   "source": [
    "Wav2Vec2 is a pretrained model for Automatic Speech Recognition (ASR) and was released in [September 2020](https://ai.facebook.com/blog/wav2vec-20-learning-the-structure-of-speech-from-raw-audio/) by Alexei Baevski, Michael Auli, and Alex Conneau.  Soon after the superior performance of Wav2Vec2 was demonstrated on the English ASR dataset LibriSpeech, *Facebook AI* presented XLSR-Wav2Vec2 (click [here](https://arxiv.org/abs/2006.13979)). XLSR stands for *cross-lingual  speech representations* and refers to XLSR-Wav2Vec2`s ability to learn speech representations that are useful across multiple languages.\n",
    "\n",
    "Similar to Wav2Vec2, XLSR-Wav2Vec2 learns powerful speech representations from hundreds of thousands of hours of speech in more than 50 languages of unlabeled speech. Similar, to [BERT's masked language modeling](http://jalammar.github.io/illustrated-bert/), the model learns contextualized speech representations by randomly masking feature vectors before passing them to a transformer network.\n",
    "\n",
    "![wav2vec2_structure](https://raw.githubusercontent.com/patrickvonplaten/scientific_images/master/xlsr_wav2vec2.png)\n",
    "\n",
    "The authors show for the first time that massively pretraining an ASR model on cross-lingual unlabeled speech data, followed by language-specific fine-tuning on very little labeled data achieves state-of-the-art results. See Table 1-5 of the official [paper](https://arxiv.org/pdf/2006.13979.pdf)."
   ]
  },
  {
   "cell_type": "markdown",
   "metadata": {
    "id": "nT_QrfWtsxIz"
   },
   "source": [
    "In this notebook, we will give an in-detail explanation of how XLSR-Wav2Vec2's pretrained checkpoint can be fine-tuned on a low-resource ASR dataset of any language. Note that in this notebook, we will fine-tune XLSR-Wav2Vec2 without making use of a language model. It is much simpler and more efficient to use XLSR-Wav2Vec2 without a language model, but better results can be achieved by including a language model. \n",
    "\n",
    "For demonstration purposes, we fine-tune the [wav2vec2-large-xlsr-53](https://huggingface.co/facebook/wav2vec2-large-xlsr-53) on the low resource Turkish ASR dataset of [Common Voice](https://huggingface.co/datasets/common_voice) that contains just ~6h of validated training data."
   ]
  },
  {
   "cell_type": "markdown",
   "metadata": {
    "id": "Gx9OdDYrCtQ1"
   },
   "source": [
    "XLSR-Wav2Vec2 is fine-tuned using Connectionist Temporal Classification (CTC), which is an algorithm that is used to train neural networks for sequence-to-sequence problems and mainly in Automatic Speech Recognition and handwriting recognition. \n",
    "\n",
    "I highly recommend reading the blog post [Sequence Modeling with CTC (2017)](https://distill.pub/2017/ctc/) very well-written blog post by Awni Hannun."
   ]
  },
  {
   "cell_type": "markdown",
   "metadata": {
    "id": "e335hPmdtASZ"
   },
   "source": [
    "Before we start, let's install both `datasets` and `transformers` from master. Also, we need the `torchaudio` and `librosa` package to load audio files and the `jiwer` to evaluate our fine-tuned model using the [word error rate (WER)](https://huggingface.co/metrics/wer) metric ${}^1$."
   ]
  },
  {
   "cell_type": "markdown",
   "metadata": {
    "id": "Mn9swf6EQ9Vd"
   },
   "source": [
    "\n",
    "\n",
    "\n",
    "---\n",
    "\n",
    "${}^1$ In the [paper](https://arxiv.org/pdf/2006.13979.pdf), the model was evaluated using the phoneme error rate (PER), but by far the most common metric in ASR is the word error rate (WER). To keep this notebook as general as possible we decided to evaluate the model using WER."
   ]
  },
  {
   "cell_type": "markdown",
   "metadata": {
    "id": "0mW-C1Nt-j7k"
   },
   "source": [
    "## Prepare Data, Tokenizer, Feature Extractor"
   ]
  },
  {
   "cell_type": "markdown",
   "metadata": {
    "id": "BeBosnY9BH3e"
   },
   "source": [
    "ASR models transcribe speech to text, which means that we both need a feature extractor that processes the speech signal to the model's input format, *e.g.* a feature vector, and a tokenizer that processes the model's output format to text. \n",
    "\n",
    "In 🤗 Transformers, the XLSR-Wav2Vec2 model is thus accompanied by both a tokenizer, called [Wav2Vec2CTCTokenizer](https://huggingface.co/transformers/master/model_doc/wav2vec2.html#wav2vec2ctctokenizer), and a feature extractor, called [Wav2Vec2FeatureExtractor](https://huggingface.co/transformers/master/model_doc/wav2vec2.html#wav2vec2featureextractor).\n",
    "\n",
    "Let's start by creating the tokenizer responsible for decoding the model's predictions."
   ]
  },
  {
   "cell_type": "markdown",
   "metadata": {
    "id": "sEXEWEJGQPqD"
   },
   "source": [
    "### Create Wav2Vec2CTCTokenizer"
   ]
  },
  {
   "cell_type": "markdown",
   "metadata": {
    "id": "tWmMikuNEKl_"
   },
   "source": [
    "The [pretrained Wav2Vec2 checkpoint]( ) maps the speech signal to a sequence of context representations as illustrated in the figure above. A fine-tuned XLSR-Wav2Vec2 checkpoint needs to map this sequence of context representations to its corresponding transcription so that a linear layer has to be added on top of the transformer block (shown in yellow). This linear layer is used to classifies each context representation to a token class analogous how, *e.g.*, after pretraining a linear layer is added on top of BERT's embeddings for further classification - *cf.* with *\"BERT\"* section of this [blog post](https://huggingface.co/blog/warm-starting-encoder-decoder).\n",
    "\n",
    "The output size of this layer corresponds to the number of tokens in the vocabulary, which does **not** depend on XLSR-Wav2Vec2's pretraining task, but only on the labeled dataset used for fine-tuning. So in the first step, we will take a look at Common Voice and define a vocabulary based on the dataset's transcriptions."
   ]
  },
  {
   "cell_type": "markdown",
   "metadata": {
    "id": "idBczw8mWzgt"
   },
   "source": [
    "First, let's go to [Common Voice](https://commonvoice.mozilla.org/en/datasets) and pick a language to fine-tune XLSR-Wav2Vec2 on. For this notebook, we will use Turkish. \n",
    "\n",
    "For each language-specific dataset, you can find a language code corresponding to your chosen language. On [Common Voice](https://commonvoice.mozilla.org/en/datasets), look for the field \"Version\". The language code then corresponds to the prefix before the underscore. For Turkish, *e.g.* the language code is `\"tr\"`.\n",
    "\n",
    "Great, now we can use 🤗 Datasets' simple API to download the data. The dataset name will be `\"common_voice\"`, the config name corresponds to the language code - `\"tr\"` in our case."
   ]
  },
  {
   "cell_type": "markdown",
   "metadata": {
    "id": "bee4g9rpLxll"
   },
   "source": [
    "Common Voice has many different splits including `invalidated`, which refers to data that was not rated as \"clean enough\" to be considered useful. In this notebook, we will only make use of the splits `\"train\"`, `\"validation\"` and `\"test\"`. \n",
    "\n",
    "Because the Turkish dataset is so small, we will merge both the validation and training data into a training dataset and simply use the test data for validation."
   ]
  },
  {
   "cell_type": "code",
   "execution_count": 11,
   "metadata": {
    "colab": {
     "base_uri": "https://localhost:8080/",
     "height": 227,
     "referenced_widgets": [
      "def702d8f8354fa4999587a5c68d0034",
      "2fd148d5587b4139919b0158f9dad71e",
      "edf36819322e4f9fa227a11592fef429",
      "ce337f50183942e6a74ca1b33735ade9",
      "8292dafcd40745958d0f3c563bf6b9b0",
      "93f191a48b3141e1889fd94870b6ac0e",
      "9532db4cdc5e4371a4a02055a4c67a08",
      "e9a702f10538415b970ea1345804d72c",
      "f3adb92e618743cca3299e3e7b6e369f",
      "83b51e16d88046c48dcd745cf09d2e56",
      "b0e3a36279d243ab9943149705c72c3e",
      "12696cc03f464a63a411efb2b5e5ac3b",
      "530f66ac087e4f8f979fcaa33941c60d",
      "a34dae18d9994b848630d4e3d836e0cb",
      "68a3178fe7a54e838e798ff28ff9aa0b",
      "ceb44ba4fdf34da19a52469acf1ce63f",
      "90b8bc59e26a46009e1d3763f86f227a",
      "3e2cd59ac697495f8db14b894b783f95",
      "98e7ab5f7ebf426fbb71a37bbad4c28f",
      "e3b719c0ffcc4fd1b410ffb7f969b7a5",
      "4382726ef043441a9b1a4a647d84f242",
      "2f5406546970425282a881b5d2f7c248",
      "19e263785ea343ba99ee2127d9b83d1d",
      "c9dc4421940241c59f1151aeabedc98b",
      "8701fb161cec47e89fc4d57b599ee7fe",
      "1813458f75514f039ba0214597a09bb4",
      "7f787df324514a8c915785e272a8af18",
      "889da3e5ed2945849d3c8a6a75175747",
      "71ffdf6f26ba4381a8e671958e679f88",
      "7916b06da182435a9cc1d13c73310500",
      "59e0f5200068461cbfb256ad5479c4c8",
      "2cd13e03a2ab45dc8570c8c739a613b4",
      "089428f56e66419f85ea149d9d102454",
      "d649c0f9c1c24634a84b7ef697721ffa",
      "4db5037af3f64a3a8a8a1203018a80ff",
      "6a957c1c17474d8d89c27ddecf702fda",
      "2a6e1185a6a247f5acba8111824ad36b",
      "c0e6b6e6395d4dbd827eb1c0de1ad21a",
      "05f83d714f864a399083f0e34a812467",
      "91fcf0641fe3489ab96f3aaa40adf245",
      "25ba4f4c8b9c44af9885b3903a9261fd",
      "dde7ae43ef954ef1b901c80f0a4e11fd",
      "03b33c17734d49e28c4636dddd6e833d",
      "71c059a0f3c246f3a40d55744331daaa",
      "da1ff50f8b9241108a325ada04224642",
      "bee0f50055eb4f738636142a10da0ddd",
      "cb5666eb8ebb4d1392e98d6b5af8761c",
      "430c3c079d0e4006b90e72df7986ffb0",
      "6c065aa34661469ca1efb4c5e90fe136",
      "540510088d3947f1b3cf6f4c983c1a53",
      "0a9b58c98508420d8f8936189f064316",
      "8dd5b08bb5bd4e608d04122424796ae7",
      "c546bca23ee248a1be7bd8ead3e82a8f",
      "af85713f677243d19cba9fe69a4a5f46",
      "2f18d89c684343b69c3f44ffbb9b42a0",
      "9eb51a6ecf3f41578aa397a5c2a33673"
     ]
    },
    "id": "2MMXcWFFgCXU",
    "outputId": "dc239772-da3b-4ef0-d029-f161f0625fff"
   },
   "outputs": [
    {
     "name": "stderr",
     "output_type": "stream",
     "text": [
      "Reusing dataset common_voice (/workspace/.cache/huggingface/datasets/common_voice/it/6.1.0/0041e06ab061b91d0a23234a2221e87970a19cf3a81b20901474cffffeb7869f)\n",
      "Reusing dataset common_voice (/workspace/.cache/huggingface/datasets/common_voice/it/6.1.0/0041e06ab061b91d0a23234a2221e87970a19cf3a81b20901474cffffeb7869f)\n"
     ]
    }
   ],
   "source": [
    "from datasets import load_dataset, load_metric\n",
    "\n",
    "common_voice_train = load_dataset(\"common_voice\", language_code, split=\"train+validation\")\n",
    "common_voice_test = load_dataset(\"common_voice\", language_code, split=\"test\")"
   ]
  },
  {
   "cell_type": "markdown",
   "metadata": {
    "id": "ri5y5N_HMANq"
   },
   "source": [
    "Many ASR datasets only provide the target text, `'sentence'` for each audio file `'path'`. Common Voice actually provides much more information about each audio file, such as the `'accent'`, etc. However, we want to keep the notebook as general as possible, so that we will only consider the transcribed text for fine-tuning.\n",
    "\n"
   ]
  },
  {
   "cell_type": "code",
   "execution_count": 12,
   "metadata": {
    "id": "kbyq6lDgQc2a"
   },
   "outputs": [],
   "source": [
    "common_voice_train = common_voice_train.remove_columns([\"accent\", \"age\", \"client_id\", \"down_votes\", \"gender\", \"locale\", \"segment\", \"up_votes\"])\n",
    "common_voice_test = common_voice_test.remove_columns([\"accent\", \"age\", \"client_id\", \"down_votes\", \"gender\", \"locale\", \"segment\", \"up_votes\"])"
   ]
  },
  {
   "cell_type": "markdown",
   "metadata": {
    "id": "Go9Hq4e4NDT9"
   },
   "source": [
    "Let's write a short function to display some random samples of the dataset and run it a couple of times to get a feeling for the transcriptions."
   ]
  },
  {
   "cell_type": "code",
   "execution_count": 13,
   "metadata": {
    "id": "72737oog2F6U"
   },
   "outputs": [],
   "source": [
    "from datasets import ClassLabel\n",
    "import random\n",
    "import pandas as pd\n",
    "from IPython.display import display, HTML\n",
    "\n",
    "def show_random_elements(dataset, num_examples=10):\n",
    "    assert num_examples <= len(dataset), \"Can't pick more elements than there are in the dataset.\"\n",
    "    picks = []\n",
    "    for _ in range(num_examples):\n",
    "        pick = random.randint(0, len(dataset)-1)\n",
    "        while pick in picks:\n",
    "            pick = random.randint(0, len(dataset)-1)\n",
    "        picks.append(pick)\n",
    "    \n",
    "    df = pd.DataFrame(dataset[picks])\n",
    "    display(HTML(df.to_html()))"
   ]
  },
  {
   "cell_type": "code",
   "execution_count": 14,
   "metadata": {
    "colab": {
     "base_uri": "https://localhost:8080/",
     "height": 669
    },
    "id": "K_JUmf3G3b9S",
    "outputId": "a8fe6d21-b0ce-4d5b-e3a2-abe08ae551f7"
   },
   "outputs": [
    {
     "data": {
      "text/html": [
       "<table border=\"1\" class=\"dataframe\">\n",
       "  <thead>\n",
       "    <tr style=\"text-align: right;\">\n",
       "      <th></th>\n",
       "      <th>sentence</th>\n",
       "    </tr>\n",
       "  </thead>\n",
       "  <tbody>\n",
       "    <tr>\n",
       "      <th>0</th>\n",
       "      <td>\"La vita non è solo l'atto di fecondazione è un atto di amore\"</td>\n",
       "    </tr>\n",
       "    <tr>\n",
       "      <th>1</th>\n",
       "      <td>Black Mamba</td>\n",
       "    </tr>\n",
       "    <tr>\n",
       "      <th>2</th>\n",
       "      <td>Il Diritto d’autore o CopyRight serve a tutelare l’autore e fornire una remunerazione per un lasso di tempo.</td>\n",
       "    </tr>\n",
       "    <tr>\n",
       "      <th>3</th>\n",
       "      <td>Maggior impianto di gioco è il campo sportivo comunale di viale Voli.</td>\n",
       "    </tr>\n",
       "    <tr>\n",
       "      <th>4</th>\n",
       "      <td>Durante la prigionia contrasse la tubercolosi e morì in prigione.</td>\n",
       "    </tr>\n",
       "    <tr>\n",
       "      <th>5</th>\n",
       "      <td>Le prefazioni dei volumi sono di Salvatore Proietti.</td>\n",
       "    </tr>\n",
       "    <tr>\n",
       "      <th>6</th>\n",
       "      <td>Santa Giustina</td>\n",
       "    </tr>\n",
       "    <tr>\n",
       "      <th>7</th>\n",
       "      <td>\"Seguendo l'ordine alfabetico vennero in seguito presentate le più grandi \"\"M\"\" e \"\"N\"\".\"</td>\n",
       "    </tr>\n",
       "    <tr>\n",
       "      <th>8</th>\n",
       "      <td>Luis Alí</td>\n",
       "    </tr>\n",
       "    <tr>\n",
       "      <th>9</th>\n",
       "      <td>Julio César Rodríguez Giménez</td>\n",
       "    </tr>\n",
       "    <tr>\n",
       "      <th>10</th>\n",
       "      <td>\"Un alto funzionario confermò queste affermazioni parlando di \"\"evidente corruzione\"\" delle autorità giudiziarie locali.\"</td>\n",
       "    </tr>\n",
       "    <tr>\n",
       "      <th>11</th>\n",
       "      <td>La catapecchia del pescatore si riempì di gente.</td>\n",
       "    </tr>\n",
       "    <tr>\n",
       "      <th>12</th>\n",
       "      <td>Nel codice di Ostiglia vi sono altre otto composizioni del genere.</td>\n",
       "    </tr>\n",
       "    <tr>\n",
       "      <th>13</th>\n",
       "      <td>Gli occhi sono tondeggianti e prominenti.</td>\n",
       "    </tr>\n",
       "    <tr>\n",
       "      <th>14</th>\n",
       "      <td>La musica rococò si sviluppò al di fuori della musica barocca, particolarmente in Francia.</td>\n",
       "    </tr>\n",
       "    <tr>\n",
       "      <th>15</th>\n",
       "      <td>\"Il dipinto, che avrebbe dovuto rappresentare una \"\"Deposizione\"\", non fu però mai completato.\"</td>\n",
       "    </tr>\n",
       "    <tr>\n",
       "      <th>16</th>\n",
       "      <td>E dire che è innocente!</td>\n",
       "    </tr>\n",
       "    <tr>\n",
       "      <th>17</th>\n",
       "      <td>Questa pellicola ha ottenuto un notevole successo internazionale..</td>\n",
       "    </tr>\n",
       "    <tr>\n",
       "      <th>18</th>\n",
       "      <td>Francisco Sánchez Silva</td>\n",
       "    </tr>\n",
       "    <tr>\n",
       "      <th>19</th>\n",
       "      <td>Moses e Emil G. Hirsch.</td>\n",
       "    </tr>\n",
       "  </tbody>\n",
       "</table>"
      ],
      "text/plain": [
       "<IPython.core.display.HTML object>"
      ]
     },
     "metadata": {},
     "output_type": "display_data"
    }
   ],
   "source": [
    "show_random_elements(common_voice_train.remove_columns([\"path\"]), num_examples=20)"
   ]
  },
  {
   "cell_type": "markdown",
   "metadata": {
    "id": "fowcOllGNNju"
   },
   "source": [
    "Alright! The transcriptions look fairly clean. Having translated the transcribed sentences (I'm sadly not a native speaker in Turkish), it seems that the language corresponds more to written text than noisy dialogue. This makes sense taking into account that [Common Voice](https://huggingface.co/datasets/common_voice) is a crowd-sourced read speech corpus."
   ]
  },
  {
   "cell_type": "markdown",
   "metadata": {
    "id": "vq7OR50LN49m"
   },
   "source": [
    "We can see that the transcriptions contain some special characters, such as `,.?!;:`. Without a language model, it is much harder to classify speech chunks to such special characters because they don't really correspond to a characteristic sound unit. *E.g.*, the letter `\"s\"` has a more or less clear sound, whereas the special character `\".\"` does not.\n",
    "Also in order to understand the meaning of a speech signal, it is usually not necessary to include special characters in the transcription.\n",
    "\n",
    "In addition, we normalize the text to only have lower case letters and append a word separator token at the end."
   ]
  },
  {
   "cell_type": "code",
   "execution_count": 15,
   "metadata": {
    "id": "svKzVJ_hQGK6"
   },
   "outputs": [],
   "source": [
    "import re\n",
    "chars_to_remove= [\",\", \"?\", \".\", \"!\", \"-\", \";\", \":\", '\"\"', \"%\", '\"', \"�\",'ʿ','“','”','(','=','`','_','+','«','<','>','~','…','«','»','–','\\[','\\]','°','̇','´','ʾ','„','̇','̇','̇','¡'] # All extra characters\n",
    "\n",
    "chars_to_remove_regex = f'[{\"\".join(chars_to_remove)}]'\n",
    "\n",
    "def remove_special_characters(batch):\n",
    "    batch[\"sentence\"] = re.sub(chars_to_remove_regex, '', batch[\"sentence\"]).lower().replace('‘',\"'\").replace('ʻ',\"'\").replace('ʼ',\"'\").replace('’',\"'\").replace('ʹ',\"''\").replace('̇','')+ \" \" ## Replace all type of quotes to a single one\n",
    "    return batch"
   ]
  },
  {
   "cell_type": "code",
   "execution_count": 16,
   "metadata": {
    "colab": {
     "base_uri": "https://localhost:8080/",
     "height": 117,
     "referenced_widgets": [
      "92a35db69bbf4ad6af44c53aa3870be5",
      "389e43e47a734193a507817ebad955f7",
      "b94e374d92c146009447c3827b977267",
      "1f1faa7b986e475c9e6839b2e7b55c74",
      "4ff7ccffc36a4a0f93031f5cdc3b718d",
      "b177a8cb85a24b88ab6d56205b630f1d",
      "2ca2f397c4ef405bba27ae2b1415cada",
      "b320306eaf264ad9872d507a1a1cb2da",
      "cc9c1e00c2d34516b8fd9edff96bb0d8",
      "6abfbe44a1bd4518b41f5f53f920e936",
      "33c92b5afd1d4b6d88016aabfb434194",
      "998676d59f9c464e8463d65baad6448b",
      "45f0a2f361da4608bc8314a27657a56c",
      "3dc9ea77b842455a91f00e9ca9f41948",
      "7bf5b2b625764f63ad57a360c3fd0a61",
      "7b4cfd2b448643b8a4409dd612aef0d1"
     ]
    },
    "id": "XIHocAuTQbBR",
    "outputId": "cc1a70b2-7b4d-410b-f997-1f1c47c3c9e5"
   },
   "outputs": [
    {
     "name": "stderr",
     "output_type": "stream",
     "text": [
      "Loading cached processed dataset at /workspace/.cache/huggingface/datasets/common_voice/it/6.1.0/0041e06ab061b91d0a23234a2221e87970a19cf3a81b20901474cffffeb7869f/cache-ef138c5b0d00e2ca.arrow\n",
      "Loading cached processed dataset at /workspace/.cache/huggingface/datasets/common_voice/it/6.1.0/0041e06ab061b91d0a23234a2221e87970a19cf3a81b20901474cffffeb7869f/cache-63d6bce855096d54.arrow\n"
     ]
    }
   ],
   "source": [
    "common_voice_train = common_voice_train.map(remove_special_characters)\n",
    "common_voice_test = common_voice_test.map(remove_special_characters)"
   ]
  },
  {
   "cell_type": "code",
   "execution_count": 17,
   "metadata": {
    "colab": {
     "base_uri": "https://localhost:8080/",
     "height": 359
    },
    "id": "RBDRAAYxRE6n",
    "outputId": "c3a72eaa-8ddc-4283-ccb8-52e50215b84d"
   },
   "outputs": [
    {
     "data": {
      "text/html": [
       "<table border=\"1\" class=\"dataframe\">\n",
       "  <thead>\n",
       "    <tr style=\"text-align: right;\">\n",
       "      <th></th>\n",
       "      <th>sentence</th>\n",
       "    </tr>\n",
       "  </thead>\n",
       "  <tbody>\n",
       "    <tr>\n",
       "      <th>0</th>\n",
       "      <td>quando il vecchio stava assente</td>\n",
       "    </tr>\n",
       "    <tr>\n",
       "      <th>1</th>\n",
       "      <td>un gran numero di unità irregolari vennero invece organizzate a livello locale</td>\n",
       "    </tr>\n",
       "    <tr>\n",
       "      <th>2</th>\n",
       "      <td>storicamente era approdo dei pirati turchi</td>\n",
       "    </tr>\n",
       "    <tr>\n",
       "      <th>3</th>\n",
       "      <td>i turni di qualificazione sono giocati in partite di andata e ritorno</td>\n",
       "    </tr>\n",
       "    <tr>\n",
       "      <th>4</th>\n",
       "      <td>scooby e i suoi amici investigano come al solito per cercare indizi</td>\n",
       "    </tr>\n",
       "    <tr>\n",
       "      <th>5</th>\n",
       "      <td>parlavo con loro</td>\n",
       "    </tr>\n",
       "    <tr>\n",
       "      <th>6</th>\n",
       "      <td>fu coinvolta nelle lotte tra i comuni lombardi e limpero</td>\n",
       "    </tr>\n",
       "    <tr>\n",
       "      <th>7</th>\n",
       "      <td>rimase lontano dalla filosofia ufficiale e non esercitò mai alcuna funzione accademica</td>\n",
       "    </tr>\n",
       "    <tr>\n",
       "      <th>8</th>\n",
       "      <td>la chiesa è caratterizzata da affreschi un altare maggiore e stucchi ornamentali</td>\n",
       "    </tr>\n",
       "    <tr>\n",
       "      <th>9</th>\n",
       "      <td>tra i ritratti certamente eccelle quello a grandezza naturale del benedettino card</td>\n",
       "    </tr>\n",
       "  </tbody>\n",
       "</table>"
      ],
      "text/plain": [
       "<IPython.core.display.HTML object>"
      ]
     },
     "metadata": {},
     "output_type": "display_data"
    }
   ],
   "source": [
    "show_random_elements(common_voice_train.remove_columns([\"path\"]))"
   ]
  },
  {
   "cell_type": "markdown",
   "metadata": {
    "id": "jwfaptH5RJwA"
   },
   "source": [
    "Good! This looks better. We have removed most special characters from transcriptions and normalized them to lower-case only.\n",
    "\n",
    "In CTC, it is common to classify speech chunks into letters, so we will do the same here. \n",
    "Let's extract all distinct letters of the training and test data and build our vocabulary from this set of letters.\n",
    "\n",
    "We write a mapping function that concatenates all transcriptions into one long transcription and then transforms the string into a set of chars. \n",
    "It is important to pass the argument `batched=True` to the `map(...)` function so that the mapping function has access to all transcriptions at once."
   ]
  },
  {
   "cell_type": "code",
   "execution_count": 18,
   "metadata": {},
   "outputs": [],
   "source": [
    "import numpy as np"
   ]
  },
  {
   "cell_type": "code",
   "execution_count": 19,
   "metadata": {},
   "outputs": [],
   "source": [
    "all_values = []\n",
    "def extract_all_chars(batch):\n",
    "  global all_values\n",
    "  all_text = \" \".join(batch[\"sentence\"])\n",
    "  vocab = list(set(all_text))\n",
    "  all_values+=list(all_text)\n",
    "  return {\"vocab\": [vocab], \"all_text\": [all_text]}"
   ]
  },
  {
   "cell_type": "code",
   "execution_count": 20,
   "metadata": {},
   "outputs": [
    {
     "name": "stderr",
     "output_type": "stream",
     "text": [
      "Loading cached processed dataset at /workspace/.cache/huggingface/datasets/common_voice/it/6.1.0/0041e06ab061b91d0a23234a2221e87970a19cf3a81b20901474cffffeb7869f/cache-4bc5cddcf37c43cc.arrow\n"
     ]
    }
   ],
   "source": [
    "vocab_train = common_voice_train.map(extract_all_chars, batched=True, batch_size=-1, remove_columns=common_voice_train.column_names)"
   ]
  },
  {
   "cell_type": "code",
   "execution_count": 21,
   "metadata": {},
   "outputs": [
    {
     "name": "stderr",
     "output_type": "stream",
     "text": [
      "Loading cached processed dataset at /workspace/.cache/huggingface/datasets/common_voice/it/6.1.0/0041e06ab061b91d0a23234a2221e87970a19cf3a81b20901474cffffeb7869f/cache-b3059eabd2be0fef.arrow\n"
     ]
    }
   ],
   "source": [
    "vocab_test = common_voice_test.map(extract_all_chars, batched=True, batch_size=-1, remove_columns=common_voice_test.column_names)"
   ]
  },
  {
   "cell_type": "code",
   "execution_count": 22,
   "metadata": {},
   "outputs": [],
   "source": [
    "values, counts = np.unique(all_values,return_counts=True)"
   ]
  },
  {
   "cell_type": "code",
   "execution_count": 23,
   "metadata": {},
   "outputs": [
    {
     "data": {
      "text/plain": [
       "97"
      ]
     },
     "execution_count": 23,
     "metadata": {},
     "output_type": "execute_result"
    }
   ],
   "source": [
    "ord('a')"
   ]
  },
  {
   "cell_type": "code",
   "execution_count": 24,
   "metadata": {},
   "outputs": [
    {
     "data": {
      "text/plain": [
       "[(' ', 36),\n",
       " ('i', 19),\n",
       " ('a', 17),\n",
       " ('e', 17),\n",
       " ('t', 16),\n",
       " ('o', 13),\n",
       " ('n', 11),\n",
       " ('l', 9),\n",
       " ('c', 8),\n",
       " ('r', 8),\n",
       " ('s', 8),\n",
       " ('m', 6),\n",
       " ('u', 6),\n",
       " ('d', 3),\n",
       " ('h', 3),\n",
       " ('p', 3),\n",
       " ('b', 2),\n",
       " ('k', 2),\n",
       " ('à', 2),\n",
       " ('q', 1),\n",
       " ('v', 1),\n",
       " ('w', 1),\n",
       " ('è', 1),\n",
       " ('ì', 1)]"
      ]
     },
     "execution_count": 24,
     "metadata": {},
     "output_type": "execute_result"
    }
   ],
   "source": [
    "sorted(list(zip(values,counts)),key=lambda x: x[1], reverse=True)"
   ]
  },
  {
   "cell_type": "code",
   "execution_count": 25,
   "metadata": {},
   "outputs": [],
   "source": [
    "allowed_characters = [\n",
    "    \" \",\n",
    "    \"'\",\n",
    "    'a',\n",
    "    'b',\n",
    "    'c',\n",
    "    'd',\n",
    "    'e',\n",
    "    'f',\n",
    "    'g',\n",
    "    'h',\n",
    "    'i',\n",
    "    'j',\n",
    "    'k',\n",
    "    'l',\n",
    "    'm',\n",
    "    'n',\n",
    "    'o',\n",
    "    'p',\n",
    "    'q',\n",
    "    'r',\n",
    "    's',\n",
    "    't',\n",
    "    'u',\n",
    "    'v',\n",
    "    'w',\n",
    "    'x',\n",
    "    'y',\n",
    "    'z',\n",
    "    'à',\n",
    "    'á',\n",
    "    'è',\n",
    "    'é',\n",
    "    'ì',\n",
    "    'í',\n",
    "#     'î',\n",
    "    'ò',\n",
    "    'ó',\n",
    "    'ù',\n",
    "    'ú',\n",
    "#     'а', # need to check\n",
    "#     'е', # need to check\n",
    "#     'ṛ' # need to check\n",
    "    ]\n",
    "# Those having frequency more than 100 + some after discussion with a friend of Italian origin."
   ]
  },
  {
   "cell_type": "code",
   "execution_count": 26,
   "metadata": {},
   "outputs": [],
   "source": [
    "import unicodedata\n",
    "\n",
    "def remove_accents(input_str):\n",
    "    if input_str in allowed_characters:\n",
    "        return input_str\n",
    "    if input_str == 'ø':\n",
    "        return 'o'\n",
    "    elif input_str=='ß' or input_str =='ß':\n",
    "        return 'b'\n",
    "    elif input_str=='ё':\n",
    "        return 'e'\n",
    "    elif input_str=='đ':\n",
    "        return 'd'\n",
    "    elif input_str=='а':\n",
    "        return 'a'\n",
    "    elif input_str=='е':\n",
    "        return 'e'\n",
    "    nfkd_form = unicodedata.normalize('NFKD', input_str)\n",
    "    only_ascii = nfkd_form.encode('ASCII', 'ignore').decode()\n",
    "    \n",
    "    if only_ascii is None or only_ascii=='':\n",
    "        return input_str\n",
    "    else:\n",
    "        return only_ascii\n",
    "def fix_accents(batch):\n",
    "    old_sentence = batch['sentence']\n",
    "    new_sentence=''\n",
    "    for char in batch['sentence']:\n",
    "        new_sentence+=remove_accents(char)\n",
    "    batch['sentence']=new_sentence\n",
    "    # if old_sentence!=new_sentence:\n",
    "    #     print(old_sentence,'|',new_sentence)\n",
    "    return batch"
   ]
  },
  {
   "cell_type": "code",
   "execution_count": 27,
   "metadata": {},
   "outputs": [
    {
     "name": "stderr",
     "output_type": "stream",
     "text": [
      "Loading cached processed dataset at /workspace/.cache/huggingface/datasets/common_voice/it/6.1.0/0041e06ab061b91d0a23234a2221e87970a19cf3a81b20901474cffffeb7869f/cache-1d1adb0eb2885ac2.arrow\n",
      "Loading cached processed dataset at /workspace/.cache/huggingface/datasets/common_voice/it/6.1.0/0041e06ab061b91d0a23234a2221e87970a19cf3a81b20901474cffffeb7869f/cache-d0a8bdc2568d7972.arrow\n"
     ]
    }
   ],
   "source": [
    "common_voice_train = common_voice_train.map(fix_accents)\n",
    "common_voice_test = common_voice_test.map(fix_accents)"
   ]
  },
  {
   "cell_type": "code",
   "execution_count": 30,
   "metadata": {},
   "outputs": [
    {
     "data": {
      "text/html": [
       "<table border=\"1\" class=\"dataframe\">\n",
       "  <thead>\n",
       "    <tr style=\"text-align: right;\">\n",
       "      <th></th>\n",
       "      <th>sentence</th>\n",
       "    </tr>\n",
       "  </thead>\n",
       "  <tbody>\n",
       "    <tr>\n",
       "      <th>0</th>\n",
       "      <td>spotify sessions</td>\n",
       "    </tr>\n",
       "    <tr>\n",
       "      <th>1</th>\n",
       "      <td>animatore volontario all'ospedale bambino gesù di roma</td>\n",
       "    </tr>\n",
       "    <tr>\n",
       "      <th>2</th>\n",
       "      <td>in cantiere o nella costruzione di gallerie vengono fatte saltare con limpiego di esplosivo</td>\n",
       "    </tr>\n",
       "    <tr>\n",
       "      <th>3</th>\n",
       "      <td>il simbolo del patriot è un disegno di un miliziano della rivoluzione americana</td>\n",
       "    </tr>\n",
       "    <tr>\n",
       "      <th>4</th>\n",
       "      <td>rappresentano un quadro completo e definito dei principi della geometria noti al tempo</td>\n",
       "    </tr>\n",
       "    <tr>\n",
       "      <th>5</th>\n",
       "      <td>nel frattempo anche altri olandesi sentono grida di bambini</td>\n",
       "    </tr>\n",
       "    <tr>\n",
       "      <th>6</th>\n",
       "      <td>bevi soltanto acqua le bevande gassate fanno male e fanno ingrassare</td>\n",
       "    </tr>\n",
       "    <tr>\n",
       "      <th>7</th>\n",
       "      <td>il percorso è circolare ed è segnalato da dei triangoli rossi</td>\n",
       "    </tr>\n",
       "    <tr>\n",
       "      <th>8</th>\n",
       "      <td>essere sul binario giusto</td>\n",
       "    </tr>\n",
       "    <tr>\n",
       "      <th>9</th>\n",
       "      <td>lautore della sceneggiatura del remake di adrian lyne è stephen schiff</td>\n",
       "    </tr>\n",
       "  </tbody>\n",
       "</table>"
      ],
      "text/plain": [
       "<IPython.core.display.HTML object>"
      ]
     },
     "metadata": {},
     "output_type": "display_data"
    }
   ],
   "source": [
    "show_random_elements(common_voice_train.remove_columns([\"path\"]))"
   ]
  },
  {
   "cell_type": "code",
   "execution_count": 31,
   "metadata": {},
   "outputs": [],
   "source": [
    "import numpy as np"
   ]
  },
  {
   "cell_type": "code",
   "execution_count": 32,
   "metadata": {
    "id": "LwCshNbbeRZR"
   },
   "outputs": [],
   "source": [
    "# all_values = []\n",
    "def extract_all_chars(batch):\n",
    "#   global all_values\n",
    "  all_text = \" \".join(batch[\"sentence\"])\n",
    "  vocab = list(set(all_text))\n",
    "#   all_values+=list(all_text)\n",
    "  return {\"vocab\": [vocab], \"all_text\": [all_text]}"
   ]
  },
  {
   "cell_type": "code",
   "execution_count": 33,
   "metadata": {
    "colab": {
     "base_uri": "https://localhost:8080/",
     "height": 117,
     "referenced_widgets": [
      "304e9130c12f4110941bfbd3db49a28c",
      "5e6bae23461b4378b6e5fc890fe6bc97",
      "75e00c38605f44cfb584067db1160349",
      "8c07a528fc4a4e108b393ab117fe2e46",
      "c01aca3229a24d41841be2b4a3a65bcc",
      "73ecbfc3c5c5456bb42e19b8a34b1576",
      "813fc95246034f5cb9e5198897b4ed42",
      "8bb78a89ff81400791e3005098fdcb94",
      "bd0958ea97b141b1aca367c71721c549",
      "0354ab33471e4c34a0c1b3c062bcd6bb",
      "d080668299ef42fabb8ab6fbcf329cea",
      "aafd4b2c56db43378c4627797665db17",
      "b0f3a205ad4546188fc6e7e7cf96ab32",
      "f972527479e74337a98f236ed018ae1d",
      "ccb720bf256e42f7b0251494ccb7741f",
      "ad428686450f4ebdb50a0356b2e5a8c4"
     ]
    },
    "id": "_m6uUjjcfbjH",
    "outputId": "75a1a23f-a9c7-4c8b-8777-dad120a9aa9a"
   },
   "outputs": [
    {
     "name": "stderr",
     "output_type": "stream",
     "text": [
      "Loading cached processed dataset at /workspace/.cache/huggingface/datasets/common_voice/it/6.1.0/0041e06ab061b91d0a23234a2221e87970a19cf3a81b20901474cffffeb7869f/cache-8240cf596ea6d1a5.arrow\n",
      "Loading cached processed dataset at /workspace/.cache/huggingface/datasets/common_voice/it/6.1.0/0041e06ab061b91d0a23234a2221e87970a19cf3a81b20901474cffffeb7869f/cache-afd95a1eb9a96279.arrow\n"
     ]
    }
   ],
   "source": [
    "vocab_train = common_voice_train.map(extract_all_chars, batched=True, batch_size=-1, remove_columns=common_voice_train.column_names)\n",
    "vocab_test = common_voice_test.map(extract_all_chars, batched=True, batch_size=-1, remove_columns=common_voice_test.column_names)"
   ]
  },
  {
   "cell_type": "code",
   "execution_count": 34,
   "metadata": {},
   "outputs": [],
   "source": [
    "# value,counts = np.unique(all_values,return_counts=True)\n",
    "# for v,c in sorted([(v,c) for v,c in zip(value,counts)],key=lambda x: x[1],reverse=True):\n",
    "#     if v not in allowed_characters and re.match(r'[\\u3040-\\u30ff\\u3400-\\u4dbf\\u4e00-\\u9fff\\uf900-\\ufaff\\uff66-\\uff9f]',v) is None and v not in ['ד','ו','л','ה','ъ','б','љ']: ## Chinese Japanese Characters:\n",
    "#         print(v, c)\n",
    "        \n",
    "#         if v =='ø':\n",
    "#             print(\"Modified Version: \",'o')\n",
    "#         elif v=='ß':\n",
    "#             print(\"Modified Version: \",'b')\n",
    "#         elif v=='ё':\n",
    "#             print(\"Modified Version: \",'e')\n",
    "#         elif v=='đ':\n",
    "#             print(\"Modified Version: \",'d')\n",
    "#         else:\n",
    "#             print(\"Modified Version: \",remove_accents(v).decode())"
   ]
  },
  {
   "cell_type": "markdown",
   "metadata": {
    "id": "7oVgE8RZSJNP"
   },
   "source": [
    "Now, we create the union of all distinct letters in the training dataset and test dataset and convert the resulting list into an enumerated dictionary."
   ]
  },
  {
   "cell_type": "code",
   "execution_count": 35,
   "metadata": {
    "id": "aQfneNsmlJI0"
   },
   "outputs": [],
   "source": [
    "vocab_list = list(set(vocab_train[\"vocab\"][0]) | set(vocab_test[\"vocab\"][0]))"
   ]
  },
  {
   "cell_type": "code",
   "execution_count": 36,
   "metadata": {},
   "outputs": [],
   "source": [
    "new_vocab_list = []\n",
    "for char in vocab_list:\n",
    "    if re.match(r'[\\u3040-\\u30ff\\u3400-\\u4dbf\\u4e00-\\u9fff\\uf900-\\ufaff\\uff66-\\uff9f]',char) is not None or char in ['ד','ו','л','ה','ъ','б','љ','ц','œ','þ','ð','µ','ə','æ','ı','ł']: ## Chinese Japanese Characters, other extra characters, ignore these in the vocab dict\n",
    "        pass\n",
    "    else:\n",
    "        new_vocab_list.append(char)"
   ]
  },
  {
   "cell_type": "code",
   "execution_count": 37,
   "metadata": {
    "colab": {
     "base_uri": "https://localhost:8080/"
    },
    "id": "_0kRndSvqaKk",
    "outputId": "29f5d23f-75b1-44d0-9975-87f9ec4c0aa5"
   },
   "outputs": [
    {
     "data": {
      "text/plain": [
       "[(' ', 28),\n",
       " (\"'\", 2),\n",
       " ('a', 3),\n",
       " ('b', 23),\n",
       " ('c', 37),\n",
       " ('d', 13),\n",
       " ('e', 36),\n",
       " ('f', 6),\n",
       " ('g', 27),\n",
       " ('h', 18),\n",
       " ('i', 31),\n",
       " ('j', 34),\n",
       " ('k', 35),\n",
       " ('l', 15),\n",
       " ('m', 21),\n",
       " ('n', 7),\n",
       " ('o', 17),\n",
       " ('p', 20),\n",
       " ('q', 11),\n",
       " ('r', 5),\n",
       " ('s', 26),\n",
       " ('t', 24),\n",
       " ('u', 1),\n",
       " ('v', 32),\n",
       " ('w', 16),\n",
       " ('x', 8),\n",
       " ('y', 12),\n",
       " ('z', 4),\n",
       " ('à', 10),\n",
       " ('á', 25),\n",
       " ('è', 30),\n",
       " ('é', 0),\n",
       " ('ì', 29),\n",
       " ('í', 22),\n",
       " ('ò', 14),\n",
       " ('ó', 9),\n",
       " ('ù', 33),\n",
       " ('ú', 19)]"
      ]
     },
     "execution_count": 37,
     "metadata": {},
     "output_type": "execute_result"
    }
   ],
   "source": [
    "vocab_dict = {v: k for k, v in enumerate(new_vocab_list)}\n",
    "sorted(vocab_dict.items(),key = lambda x: x[0])"
   ]
  },
  {
   "cell_type": "markdown",
   "metadata": {
    "id": "JOSzbvs9SXT1"
   },
   "source": [
    "Cool, we see that all letters of the alphabet occur in the dataset (which is not really surprising) and we also extracted the special characters `\" \"` and `'`. Note that we did not exclude those special characters because: \n",
    "\n",
    "- The model has to learn to predict when a word is finished or else the model prediction would always be a sequence of chars which would make it impossible to separate words from each other.\n",
    "- From the transcriptions above it seems that words that include an apostrophe, such as `maktouf'un` do exist in Turkish, so I decided to keep the apostrophe in the dataset. This might be a wrong assumption though.\n",
    "\n",
    "One should always keep in mind that the data-preprocessing is a very important step before training your model. E.g., we don't want our model to differentiate between `a` and `A` just because we forgot to normalize the data. The difference between `a` and `A` does not depend on the \"sound\" of the letter at all, but more on grammatical rules - *e.g.* use a capitalized letter at the beginning of the sentence. So it is sensible to remove the difference between capitalized and non-capitalized letters so that the model has an easier time learning to transcribe speech. \n",
    "\n",
    "It is always advantageous to get help from a native speaker of the language you would like to transcribe to verify whether the assumptions you made are sensible, *e.g.* I should have made sure that keeping `'`, but removing other special characters is a sensible choice for Turkish. "
   ]
  },
  {
   "cell_type": "markdown",
   "metadata": {
    "id": "b1fBRCn-TRaO"
   },
   "source": [
    "To make it clearer that `\" \"` has its own token class, we give it a more visible character `|`. In addition, we also add an \"unknown\" token so that the model can later deal with characters not encountered in Common Voice's training set. \n",
    "\n",
    "Finally, we also add a padding token that corresponds to CTC's \"*blank token*\". The \"blank token\" is a core component of the CTC algorithm. For more information, please take a look at the \"Alignment\" section [here](https://distill.pub/2017/ctc/)."
   ]
  },
  {
   "cell_type": "code",
   "execution_count": 38,
   "metadata": {
    "id": "npbIbBoLgaFX"
   },
   "outputs": [],
   "source": [
    "vocab_dict[\"|\"] = vocab_dict[\" \"]\n",
    "del vocab_dict[\" \"]"
   ]
  },
  {
   "cell_type": "code",
   "execution_count": 39,
   "metadata": {
    "colab": {
     "base_uri": "https://localhost:8080/"
    },
    "id": "znF0bNunsjbl",
    "outputId": "6dd50862-f4c5-4a05-87a7-da03d157e30e"
   },
   "outputs": [
    {
     "data": {
      "text/plain": [
       "40"
      ]
     },
     "execution_count": 39,
     "metadata": {},
     "output_type": "execute_result"
    }
   ],
   "source": [
    "vocab_dict[\"[UNK]\"] = len(vocab_dict)\n",
    "vocab_dict[\"[PAD]\"] = len(vocab_dict)\n",
    "len(vocab_dict)"
   ]
  },
  {
   "cell_type": "markdown",
   "metadata": {
    "id": "SFPGfet8U5sL"
   },
   "source": [
    "Cool, now our vocabulary is complete and consists of 39 tokens, which means that the linear layer that we will add on top of the pretrained XLSR-Wav2Vec2 checkpoint will have an output dimension of 39."
   ]
  },
  {
   "cell_type": "markdown",
   "metadata": {
    "id": "1CujRgBNVRaD"
   },
   "source": [
    "Let's now save the vocabulary as a json file."
   ]
  },
  {
   "cell_type": "code",
   "execution_count": 40,
   "metadata": {
    "id": "ehyUoh9vk191"
   },
   "outputs": [],
   "source": [
    "import json\n",
    "with open('vocab.json', 'w') as vocab_file:\n",
    "    json.dump(vocab_dict, vocab_file)"
   ]
  },
  {
   "cell_type": "markdown",
   "metadata": {
    "id": "SHJDaKlIVVim"
   },
   "source": [
    "In a final step, we use the json file to instantiate an object of the `Wav2Vec2CTCTokenizer` class."
   ]
  },
  {
   "cell_type": "code",
   "execution_count": 41,
   "metadata": {
    "id": "xriFGEWQkO4M"
   },
   "outputs": [],
   "source": [
    "from transformers import Wav2Vec2CTCTokenizer\n",
    "\n",
    "tokenizer = Wav2Vec2CTCTokenizer(\"./vocab.json\", unk_token=\"[UNK]\", pad_token=\"[PAD]\", word_delimiter_token=\"|\")"
   ]
  },
  {
   "cell_type": "markdown",
   "metadata": {
    "id": "KvL12DrNV4cx"
   },
   "source": [
    "Next, we will create the feature extractor."
   ]
  },
  {
   "cell_type": "markdown",
   "metadata": {
    "id": "mYcIiR2FQ96i"
   },
   "source": [
    "### Create XLSR-Wav2Vec2 Feature Extractor"
   ]
  },
  {
   "cell_type": "markdown",
   "metadata": {
    "id": "Y6mDEyW719rx"
   },
   "source": [
    "Speech is a continuous signal and to be treated by computers, it first has to be discretized, which is usually called **sampling**. The sampling rate hereby plays an important role in that it defines how many data points of the speech signal are measured per second. Therefore, sampling with a higher sampling rate results in a better approximation of the *real* speech signal but also necessitates more values per second.\n",
    "\n",
    "A pretrained checkpoint expects its input data to have been sampled more or less from the same distribution as the data it was trained on. The same speech signals sampled at two different rates have a very different distribution, *e.g.*, doubling the sampling rate results in data points being twice as long. Thus, \n",
    "before fine-tuning a pretrained checkpoint of an ASR model, it is crucial to verify that the sampling rate of the data that was used to pretrain the model matches the sampling rate of the dataset used to fine-tune the model.\n",
    "\n",
    "XLSR-Wav2Vec2 was pretrained on the audio data of [Babel](https://huggingface.co/datasets/librispeech_asr), \n",
    "[Multilingual LibriSpeech (MLS)](https://ai.facebook.com/blog/a-new-open-data-set-for-multilingual-speech-research/), and [Common Voice](https://huggingface.co/datasets/common_voice). Most of those datasets were sampled at 16kHz, so that Common Voice, sampled at 48kHz, has to be downsampled to 16kHz for training. Therefore, we will have to downsample our fine-tuning data to 16kHz in the following.\n",
    "\n"
   ]
  },
  {
   "cell_type": "markdown",
   "metadata": {
    "id": "KuUbPW7oV-B5"
   },
   "source": [
    "A XLSR-Wav2Vec2 feature extractor object requires the following parameters to be instantiated:\n",
    "\n",
    "- `feature_size`: Speech models take a sequence of feature vectors as an input. While the length of this sequence obviously varies, the feature size should not. In the case of Wav2Vec2, the feature size is 1 because the model was trained on the raw speech signal ${}^2$.\n",
    "- `sampling_rate`: The sampling rate at which the model is trained on.\n",
    "- `padding_value`: For batched inference, shorter inputs need to be padded with a specific value\n",
    "- `do_normalize`: Whether the input should be *zero-mean-unit-variance* normalized or not. Usually, speech models perform better when normalizing the input\n",
    "- `return_attention_mask`: Whether the model should make use of an `attention_mask` for batched inference. In general, XLSR-Wav2Vec2 models should **always** make use of the `attention_mask`."
   ]
  },
  {
   "cell_type": "code",
   "execution_count": 42,
   "metadata": {
    "id": "kAR0-2KLkopp"
   },
   "outputs": [],
   "source": [
    "from transformers import Wav2Vec2FeatureExtractor\n",
    "\n",
    "feature_extractor = Wav2Vec2FeatureExtractor(feature_size=1, sampling_rate=16000, padding_value=0.0, do_normalize=True, return_attention_mask=True)"
   ]
  },
  {
   "cell_type": "markdown",
   "metadata": {
    "id": "qUETetgqYC3W"
   },
   "source": [
    "Great, XLSR-Wav2Vec2's feature extraction pipeline is thereby fully defined!\n",
    "\n",
    "To make the usage of XLSR-Wav2Vec2 as user-friendly as possible, the feature extractor and tokenizer are *wrapped* into a single `Wav2Vec2Processor` class so that one only needs a `model` and `processor` object."
   ]
  },
  {
   "cell_type": "code",
   "execution_count": 43,
   "metadata": {
    "id": "KYZtoW-tlZgl"
   },
   "outputs": [],
   "source": [
    "from transformers import Wav2Vec2Processor\n",
    "\n",
    "#processor = Wav2Vec2Processor(feature_extractor=feature_extractor, tokenizer=tokenizer)"
   ]
  },
  {
   "cell_type": "markdown",
   "metadata": {
    "id": "fTfFDSS0YfMN"
   },
   "source": [
    "If one wants to re-use the just created processor and the fine-tuned model of this notebook, one can mount his/her google drive to the notebook and save all relevant files there. To do so, please uncomment the following lines. \n",
    "\n",
    "We will give the fine-tuned model the name `\"wav2vec2-large-xlsr-turkish-demo\"`."
   ]
  },
  {
   "cell_type": "code",
   "execution_count": 44,
   "metadata": {
    "id": "Par9rpypPsml"
   },
   "outputs": [
    {
     "name": "stderr",
     "output_type": "stream",
     "text": [
      "Special tokens have been added in the vocabulary, make sure the associated word embedding are fine-tuned or trained.\n"
     ]
    }
   ],
   "source": [
    "processor = Wav2Vec2Processor.from_pretrained(output_models_dir+\"/processor\")"
   ]
  },
  {
   "cell_type": "markdown",
   "metadata": {
    "id": "DrKnYuvDIoOO"
   },
   "source": [
    "Next, we can prepare the dataset."
   ]
  },
  {
   "cell_type": "markdown",
   "metadata": {
    "id": "YFmShnl7RE35"
   },
   "source": [
    "### Preprocess Data\n",
    "\n",
    "So far, we have not looked at the actual values of the speech signal but just kept the path to its file in the dataset. `XLSR-Wav2Vec2` expects the audio file in the format of a 1-dimensional array, so in the first step, let's load all audio files into the dataset object.\n",
    "\n",
    "Let's first check the serialization format of the downloaded audio files by looking at the first training sample."
   ]
  },
  {
   "cell_type": "code",
   "execution_count": 45,
   "metadata": {
    "colab": {
     "base_uri": "https://localhost:8080/"
    },
    "id": "TTCS7W6XJ9BG",
    "outputId": "9c3b8cc0-3bcd-43fe-87ca-2825239b365a"
   },
   "outputs": [
    {
     "data": {
      "text/plain": [
       "{'path': '/workspace/.cache/huggingface/datasets/downloads/extracted/8e91aec2ad2fc4f97a2098d6e50a762a1c3f91147f2609bfee560c75d76acf5c/cv-corpus-6.1-2020-12-11/it/clips/common_voice_it_20105137.mp3',\n",
       " 'sentence': 'ma i piani di questa misteriosa entità vanno ben oltre '}"
      ]
     },
     "execution_count": 45,
     "metadata": {},
     "output_type": "execute_result"
    }
   ],
   "source": [
    "common_voice_train[0]"
   ]
  },
  {
   "cell_type": "markdown",
   "metadata": {
    "id": "wSBIGEiaKHMn"
   },
   "source": [
    "Alright, the audio file is saved in the `.mp3` format. The `.mp3` format is usually not the easiest format to deal with. We found that the [`torchaudio`](https://pytorch.org/audio/stable/index.html) library works best for reading in `.mp3` data. \n",
    "\n",
    "An audio file usually stores both its values and the sampling rate with which the speech signal was digitalized. We want to store both in the dataset and write a `map(...)` function accordingly."
   ]
  },
  {
   "cell_type": "code",
   "execution_count": 46,
   "metadata": {
    "id": "al9Luo4LPpwJ"
   },
   "outputs": [
    {
     "name": "stderr",
     "output_type": "stream",
     "text": [
      "/opt/conda/lib/python3.7/site-packages/torchaudio/backend/utils.py:54: UserWarning: \"sox\" backend is being deprecated. The default backend will be changed to \"sox_io\" backend in 0.8.0 and \"sox\" backend will be removed in 0.9.0. Please migrate to \"sox_io\" backend. Please refer to https://github.com/pytorch/audio/issues/903 for the detail.\n",
      "  '\"sox\" backend is being deprecated. '\n"
     ]
    }
   ],
   "source": [
    "import torchaudio\n",
    "\n",
    "def speech_file_to_array_fn(batch):\n",
    "    speech_array, sampling_rate = torchaudio.load(batch[\"path\"])\n",
    "    batch[\"speech\"] = speech_array[0].numpy()\n",
    "    batch[\"sampling_rate\"] = sampling_rate\n",
    "    batch[\"target_text\"] = batch[\"sentence\"]\n",
    "    return batch"
   ]
  },
  {
   "cell_type": "code",
   "execution_count": 47,
   "metadata": {
    "colab": {
     "base_uri": "https://localhost:8080/",
     "height": 117,
     "referenced_widgets": [
      "348ef54c80b2449f8a3bc950cccd62cc",
      "b78413dcc0584a0c8f71731a06aaa1b8",
      "7edbecaccdd94ede8fddc0e1807e777e",
      "5e3aad95e52f4be2bd670d1345398f1b",
      "b9c5c6dd54cc4dc5ad5a2bb69a24ab05",
      "3e3a022a9f304b0f9f7ef067fcee1e56",
      "7aa70322bdfe46938b583a20003093d5",
      "99d5c44ea54b45ee9bd89380cb1ad189",
      "5f48f54986924e418aa4ac22aa54b714",
      "db71db50799c404aafa4a54de8b9b799",
      "a58c203a7cc54086aea45f2029821207",
      "8d409ca0372a48e2972ca1d8eee5ffa1",
      "c8fdf261ac294093a355778a3a4aba3b",
      "b1b6a4649fc34c9996f993c57671766b",
      "d362345c05234c97a675c6bacdad0e92",
      "b0479f03f96241ca959f6fe7bcbd1aba"
     ]
    },
    "id": "afeicUeWlrRL",
    "outputId": "d5e4d41a-61d6-4094-eba9-a5bbed02cedc"
   },
   "outputs": [
    {
     "data": {
      "application/vnd.jupyter.widget-view+json": {
       "model_id": "f0b182e496c34675b2921f5e4f607e63",
       "version_major": 2,
       "version_minor": 0
      },
      "text/plain": [
       "HBox(children=(FloatProgress(value=0.0, max=70943.0), HTML(value='')))"
      ]
     },
     "metadata": {},
     "output_type": "display_data"
    },
    {
     "name": "stdout",
     "output_type": "stream",
     "text": [
      "\n"
     ]
    },
    {
     "data": {
      "application/vnd.jupyter.widget-view+json": {
       "model_id": "0e39f580a7424f44a4696ac41c50b913",
       "version_major": 2,
       "version_minor": 0
      },
      "text/plain": [
       "HBox(children=(FloatProgress(value=0.0, max=12928.0), HTML(value='')))"
      ]
     },
     "metadata": {},
     "output_type": "display_data"
    },
    {
     "name": "stdout",
     "output_type": "stream",
     "text": [
      "\n"
     ]
    }
   ],
   "source": [
    "common_voice_train = common_voice_train.map(speech_file_to_array_fn, remove_columns=common_voice_train.column_names)\n",
    "common_voice_test = common_voice_test.map(speech_file_to_array_fn, remove_columns=common_voice_test.column_names)"
   ]
  },
  {
   "cell_type": "markdown",
   "metadata": {
    "id": "ki5sXmzucc9Q"
   },
   "source": [
    "Great, now we've successfully read in all the audio files, but since we know that Common Voice is sampled at 48kHz, we need to resample the audio files to 16kHz. \n",
    "\n",
    "Let's make use of the [`librosa`](https://github.com/librosa/librosa) library to downsample the data."
   ]
  },
  {
   "cell_type": "code",
   "execution_count": 52,
   "metadata": {
    "id": "6Y6AK3Z-kHwP"
   },
   "outputs": [],
   "source": [
    "import librosa\n",
    "import numpy as np\n",
    "\n",
    "def resample(batch):\n",
    "    batch[\"speech\"] = librosa.resample(np.asarray(batch[\"speech\"]), 48_000, 16_000)\n",
    "    batch[\"sampling_rate\"] = 16_000\n",
    "    return batch"
   ]
  },
  {
   "cell_type": "code",
   "execution_count": 53,
   "metadata": {
    "colab": {
     "base_uri": "https://localhost:8080/",
     "height": 453,
     "referenced_widgets": [
      "ee641bbf54a7499597713c517baa81bb",
      "3d929b9e2518402b81a71757ffb753d2",
      "4f8957dc035d4c1a9e8630fc8ab8cd10",
      "757e7bd0e6c5410da0490d191b4e68c8",
      "596aea0362924c7db583203268dd5a3e",
      "47a6c3c427614f21a6dab1c048e5dd37",
      "0b795d4b68014de19bf9579c67b55ffb",
      "9185f86719af476da41e3835e8f06f8d",
      "771959e46cb64b3ebafe931f96f5ff52",
      "0e999af234bd4b63ad2937e61d08b693",
      "f792530a76ee486688cbc2502dfae594",
      "d69468d63dd74fdd807fe061b92aa84e",
      "1261590ef796493798f7068ea0547b74",
      "7e50f8027fb74d669daae5e46082026c",
      "7f5203fde6b64bf7ad53d6ecd3041bfc",
      "84e7f0001ebe458dad3c96e7e9a38cdc",
      "24ea17ae8ab14e8a871e5e115c3f4c06",
      "f57d087016124ebeb073fd7428dcb68b",
      "f3905820a42c499fba04af9c1ad19705",
      "4e1a725fd90b45e280b8b0028ba65250",
      "4c0ad31e73234e46aac0a297ec18bdeb",
      "fc9504846f424542a7feb932964f1f5b",
      "9f79629ad6a94201acf3283862d1ae17",
      "491fd969d61a478f8e85ffcd3e1a3e20",
      "76d162d3ea0845cc837651a77a5a2d36",
      "98c594f1e41e4b3fab10f0763bd93d75",
      "f6b01ad0433a40178ef3ba5657bc1583",
      "eed2ccc12daa4c71b080794a7a18f5cb",
      "beca070c32124a119a08cb21c2ca95e5",
      "69828f4a101f4340916a4be141866904",
      "20347ed29fdc4c0a96da28c09aacf44d",
      "f18eddbd3d994ddc88f37e02d754c206",
      "b7c43fb5efdd4afbb82c81b923f2815a",
      "c0a661f20e7e4649a3c8c42a5fd01956",
      "8dddd0245dcb4532917cbfa0181d2a00",
      "3bdb4058f40f40e3a10e323325a64638",
      "024989cea06f435894776b0a921164b2",
      "b1d93a7521fa47b8a815445b5232da59",
      "751ae6b9e2da4b85be9600561485f1ac",
      "d7f27e9cf8a844349ca90393e0c49a03",
      "82015055d32449b89346ea18e7474c4d",
      "a170c0cb21cf425fbee97fd6d5584e2c",
      "f5f1f0865d7e4d8b810ccb9c3c4d2683",
      "416badb151ee4660b53fdbc136e0c8fb",
      "a47f1ea64f894f0b8e6b277c31ae9f7d",
      "e51b5fd9d5a6416d986fac1526d1666f",
      "824569c63ec445c08362659ca228dd2a",
      "0f3756509e3b405d87936f599b153de2",
      "d96e01ad62c342cdb7d9b1eceb39afa3",
      "e6ce9330460d4a0fb67cc493ca74ae96",
      "e6178f7b148c4bf39f2826f208e0cc64",
      "f78ff14b9c8f46448ed1ecb3fe1f5e0b",
      "929cde17b3484f3e9e8f8774bc43e374",
      "6ba6d07674a34836be53cf173c2b61ca",
      "5a5bc8b4a1c644dea08a60128d888d10",
      "b054b00a32e64fc5988fbd2966ebbce6",
      "5ccd12253fff448f9c15c9b03c70a408",
      "330226a977694de1bd88c0aa3789be47",
      "f203c54e7e054d97aa4d1097f320f611",
      "6266a4019e124aff877bb55f21740180",
      "3ec3285e9f3e4a5abcefabb7f140f4a3",
      "0cd1932178c945d48604ffd299e65d2c",
      "8ad3e4b211e34c048d0f48e36fdbfe48",
      "55071fc1b7484620803aeba453e9af72"
     ]
    },
    "id": "Ws8DyIL_kjwT",
    "outputId": "6176aea2-5986-4da0-a2ad-6ef5e2c85493"
   },
   "outputs": [
    {
     "name": "stdout",
     "output_type": "stream",
     "text": [
      "    "
     ]
    },
    {
     "data": {
      "application/vnd.jupyter.widget-view+json": {
       "model_id": "4a89707d68c14d7a8269656efeba5d9e",
       "version_major": 2,
       "version_minor": 0
      },
      "text/plain": [
       "HBox(children=(FloatProgress(value=0.0, description='#3', max=17735.0, style=ProgressStyle(description_width='…"
      ]
     },
     "metadata": {},
     "output_type": "display_data"
    },
    {
     "data": {
      "application/vnd.jupyter.widget-view+json": {
       "model_id": "ad849257cfb14082a81dc3858bc457a8",
       "version_major": 2,
       "version_minor": 0
      },
      "text/plain": [
       "HBox(children=(FloatProgress(value=0.0, description='#0', max=17736.0, style=ProgressStyle(description_width='…"
      ]
     },
     "metadata": {},
     "output_type": "display_data"
    },
    {
     "data": {
      "application/vnd.jupyter.widget-view+json": {
       "model_id": "eabe3672beda4a1a9ea5729664edd272",
       "version_major": 2,
       "version_minor": 0
      },
      "text/plain": [
       "HBox(children=(FloatProgress(value=0.0, description='#2', max=17736.0, style=ProgressStyle(description_width='…"
      ]
     },
     "metadata": {},
     "output_type": "display_data"
    },
    {
     "data": {
      "application/vnd.jupyter.widget-view+json": {
       "model_id": "1b0000e9190f4053a3fd32afe0ccaf2e",
       "version_major": 2,
       "version_minor": 0
      },
      "text/plain": [
       "HBox(children=(FloatProgress(value=0.0, description='#1', max=17736.0, style=ProgressStyle(description_width='…"
      ]
     },
     "metadata": {},
     "output_type": "display_data"
    },
    {
     "name": "stdout",
     "output_type": "stream",
     "text": [
      "\n",
      "\n",
      "\n",
      "\n",
      "   "
     ]
    },
    {
     "data": {
      "application/vnd.jupyter.widget-view+json": {
       "model_id": "17986a8b99a4424dac8b0f571374872a",
       "version_major": 2,
       "version_minor": 0
      },
      "text/plain": [
       "HBox(children=(FloatProgress(value=0.0, description='#0', max=3232.0, style=ProgressStyle(description_width='i…"
      ]
     },
     "metadata": {},
     "output_type": "display_data"
    },
    {
     "data": {
      "application/vnd.jupyter.widget-view+json": {
       "model_id": "3189194e799542289ec2225a0d398608",
       "version_major": 2,
       "version_minor": 0
      },
      "text/plain": [
       "HBox(children=(FloatProgress(value=0.0, description='#1', max=3232.0, style=ProgressStyle(description_width='i…"
      ]
     },
     "metadata": {},
     "output_type": "display_data"
    },
    {
     "data": {
      "application/vnd.jupyter.widget-view+json": {
       "model_id": "6292a28ae41145c8b4a710c2add3999f",
       "version_major": 2,
       "version_minor": 0
      },
      "text/plain": [
       "HBox(children=(FloatProgress(value=0.0, description='#2', max=3232.0, style=ProgressStyle(description_width='i…"
      ]
     },
     "metadata": {},
     "output_type": "display_data"
    },
    {
     "data": {
      "application/vnd.jupyter.widget-view+json": {
       "model_id": "869056c7db3a4af0b5967ee0286e6423",
       "version_major": 2,
       "version_minor": 0
      },
      "text/plain": [
       "HBox(children=(FloatProgress(value=0.0, description='#3', max=3232.0, style=ProgressStyle(description_width='i…"
      ]
     },
     "metadata": {},
     "output_type": "display_data"
    },
    {
     "name": "stdout",
     "output_type": "stream",
     "text": [
      "\n",
      "\n",
      "\n",
      "\n"
     ]
    }
   ],
   "source": [
    "common_voice_train = common_voice_train.map(resample, num_proc=4)\n",
    "common_voice_test = common_voice_test.map(resample, num_proc=4)"
   ]
  },
  {
   "cell_type": "markdown",
   "metadata": {
    "id": "SOckzFd4Mbzq"
   },
   "source": [
    "This seemed to have worked! Let's listen to a couple of audio files to better understand the dataset and verify that the audio was correctly loaded. \n",
    "\n",
    "**Note**: *You can click the following cell a couple of times to listen to different speech samples.*"
   ]
  },
  {
   "cell_type": "code",
   "execution_count": 54,
   "metadata": {
    "colab": {
     "base_uri": "https://localhost:8080/",
     "height": 74
    },
    "id": "dueM6U7Ev0OA",
    "outputId": "1a3e579d-213e-4c7a-b2ec-9a7725d95afc"
   },
   "outputs": [
    {
     "data": {
      "text/html": [
       "\n",
       "                <audio  controls=\"controls\" autoplay=\"autoplay\">\n",
       "                    <source src=\"data:audio/wav;base64,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\" type=\"audio/wav\" />\n",
       "                    Your browser does not support the audio element.\n",
       "                </audio>\n",
       "              "
      ],
      "text/plain": [
       "<IPython.lib.display.Audio object>"
      ]
     },
     "execution_count": 54,
     "metadata": {},
     "output_type": "execute_result"
    }
   ],
   "source": [
    "import IPython.display as ipd\n",
    "import numpy as np\n",
    "import random\n",
    "\n",
    "rand_int = random.randint(0, len(common_voice_train)-1)\n",
    "\n",
    "ipd.Audio(data=np.asarray(common_voice_train[rand_int][\"speech\"]), autoplay=True, rate=16000)"
   ]
  },
  {
   "cell_type": "markdown",
   "metadata": {
    "id": "1MaL9J2dNVtG"
   },
   "source": [
    "It can be heard, that the speakers change along with their speaking rate, accent, and background environment, etc. Overall, the recordings sound acceptably clear though, which is to be expected from a crowd-sourced read speech corpus.\n",
    "\n",
    "Let's do a final check that the data is correctly prepared, by printing the shape of the speech input, its transcription, and the corresponding sampling rate.\n",
    "\n",
    "**Note**: *You can click the following cell a couple of times to verify multiple samples.*"
   ]
  },
  {
   "cell_type": "code",
   "execution_count": 55,
   "metadata": {
    "colab": {
     "base_uri": "https://localhost:8080/"
    },
    "id": "1Po2g7YPuRTx",
    "outputId": "96b0b82c-a5df-4ae6-d17b-9c7d4f710b42"
   },
   "outputs": [
    {
     "name": "stdout",
     "output_type": "stream",
     "text": [
      "Target text: non ha un gran feeling con i media vista la sua proverbiale riservatezza \n",
      "Input array shape: (97536,)\n",
      "Sampling rate: 16000\n"
     ]
    }
   ],
   "source": [
    "# rand_int = random.randint(0, len(common_voice_train)-1)\n",
    "\n",
    "print(\"Target text:\", common_voice_train[rand_int][\"target_text\"])\n",
    "print(\"Input array shape:\", np.asarray(common_voice_train[rand_int][\"speech\"]).shape)\n",
    "print(\"Sampling rate:\", common_voice_train[rand_int][\"sampling_rate\"])"
   ]
  },
  {
   "cell_type": "markdown",
   "metadata": {
    "id": "M9teZcSwOBJ4"
   },
   "source": [
    "Good! Everything looks fine - the data is a 1-dimensional array, the sampling rate always corresponds to 16kHz, and the target text is normalized."
   ]
  },
  {
   "cell_type": "markdown",
   "metadata": {
    "id": "k3Pbn5WvOYZF"
   },
   "source": [
    "Finally, we can process the dataset to the format expected by the model for training. We will again make use of the `map(...)` function.\n",
    "\n",
    "First, we check that the data samples have the same sampling rate of 16kHz.\n",
    "Second, we extract the `input_values` from the loaded audio file. In our case, this includes only normalization, but for other speech models, this step could correspond to extracting, *e.g.* [Log-Mel features](https://en.wikipedia.org/wiki/Mel-frequency_cepstrum). \n",
    "Third, we encode the transcriptions to label ids.\n",
    "\n",
    "**Note**: This mapping function is a good example of how the `Wav2Vec2Processor` class should be used. In \"normal\" context, calling `processor(...)` is redirected to `Wav2Vec2FeatureExtractor`'s call method. When wrapping the processor into the `as_target_processor` context, however, the same method is redirected to `Wav2Vec2CTCTokenizer`'s call method.\n",
    "For more information please check the [docs](https://huggingface.co/transformers/master/model_doc/wav2vec2.html#transformers.Wav2Vec2Processor.__call__)."
   ]
  },
  {
   "cell_type": "code",
   "execution_count": 56,
   "metadata": {
    "id": "eJY7I0XAwe9p"
   },
   "outputs": [],
   "source": [
    "def prepare_dataset(batch):\n",
    "    # check that all files have the correct sampling rate\n",
    "    assert (\n",
    "        len(set(batch[\"sampling_rate\"])) == 1\n",
    "    ), f\"Make sure all inputs have the same sampling rate of {processor.feature_extractor.sampling_rate}.\"\n",
    "\n",
    "    batch[\"input_values\"] = processor(batch[\"speech\"], sampling_rate=batch[\"sampling_rate\"][0]).input_values\n",
    "    \n",
    "    with processor.as_target_processor():\n",
    "        batch[\"labels\"] = processor(batch[\"target_text\"]).input_ids\n",
    "    return batch"
   ]
  },
  {
   "cell_type": "code",
   "execution_count": 57,
   "metadata": {
    "colab": {
     "base_uri": "https://localhost:8080/",
     "height": 509,
     "referenced_widgets": [
      "4797f1acd9924b4e97f12f964c83078c",
      "73940df84ffd4e0f96637342e9fd12b7",
      "5370c0f2d54b45c0a89f11fb5b70cd4b",
      "018c1f8e198e4df4b480e609bd1be602",
      "fa7926bbe77e48b3a0648b45f5d2dc7a",
      "020bdb330b0d40f5b89697ff37025f69",
      "d35c15beeb33476894b07c3563f8facd",
      "768ab09956774f50a79b2493a8bf179b",
      "7ef969e47c2d429a9848d5ab3f5bb2d9",
      "fe62265afdc74026b7e9c5a50ef61d2c",
      "015c5690e1ea4281954c7efda1c80a6a",
      "f4135dd72864445391f43f387635bfdc",
      "2f727c76652944e3892dd584bea11af2",
      "dec796237765477ea904834d9a824b61",
      "8df9d19602cb4951b397c385458a11ef",
      "923ed9e127524187ab8cfcac31164ba7",
      "bf9e57d81135412d9a9a2281f28bd52a",
      "c41610c0baef412984f8661d96e08b7e",
      "579b6055028f473981ce789a0733a753",
      "4fb7347e9ca542e6ab9003bf4db218e0",
      "3133b378b9294a759c8dfb786ed8f815",
      "6de66d6b7a73434cbdc59b2109bdf0a0",
      "6d4a26d876fb4ac6b5948a09945bdc6b",
      "0987aac282af415da2fbc9dc1b4d5069",
      "ac35dca0845149a284b9867d9e607232",
      "b54bff6261964119bcb562c1a9f74ce6",
      "5071a31d06f544a5b7340a4e863d8fdf",
      "542027ba12f444d586e8072452badea0",
      "49defa4284554baf85f32de242b22709",
      "b2473405490e4556bf30c0cc81237aa5",
      "02bdb06c176145feaa842b97ae58609c",
      "bc41384bbae04044b9780651c6b5a47c",
      "7040945accce4739a41746cc75bb7fce",
      "71011f0d2bc942ac8f9ea1d1fd30c78d",
      "6f60626242534f44a6381195e6eb6530",
      "9fee9d9dd1164d97a9109e942444c332",
      "5ab30242cd154ec0b560c23c0f178546",
      "0ffcbedb8d4444508ac0c3c0b41ea8ac",
      "f9efaa7678c2450f847ff2c2f21ff96e",
      "c126ea97019149848396e593cfab016f",
      "0f99011a13754ed99f3c51a478b0e793",
      "4abe2731ec624729b401d60a392cae63",
      "bd187486ac2548f2961cfcb63d852de1",
      "3f780f0aa8834fc189b292e0474e2ffa",
      "231c66f195d34f86b216805518f4bccd",
      "58f3e8002f984594ac05c973aa78ef69",
      "ec36a94ee2574ac8b227ccaefdee5520",
      "a868dea9d9b047a4b853b390e138e4c1",
      "6462bd9561e24abb98fce6ce4675d810",
      "bd3447291ce54812af10ac6245ea4328",
      "e273548a15aa4d4994132b317adb66fc",
      "f6930dd5519d4dfda64c597def220a30",
      "7d62810674c8482abe46c60fc08884b4",
      "80697300a4394b909f1c499ba80aeb13",
      "ab72c80dfd5e4ab19a183f4204486b59",
      "56ad6231a0a04228be29ceecbc6b7c0e",
      "b6221b4c04e64c9da9eb9e11539bac89",
      "dc6862530f6e429ba61a169b4c95722c",
      "02d1f77324854fbca0df9384c57faac8",
      "8e63ba7f1fd24555bf11bc9dbe9c770b",
      "704ea5e05fd744d998b76d6435992995",
      "d4a3f79644fc41848450ba29e6fdfc3d",
      "405b5de4ae854cf9896f63d15f2207dd",
      "26e7bab0f3bf4797bfcef83dcace24f0"
     ]
    },
    "id": "-np9xYK-wl8q",
    "outputId": "6155b5f0-a5a2-4e20-d0e2-0b3a60c13f98"
   },
   "outputs": [
    {
     "name": "stdout",
     "output_type": "stream",
     "text": [
      "    "
     ]
    },
    {
     "data": {
      "application/vnd.jupyter.widget-view+json": {
       "model_id": "68fb8d88dd294fa7ab7a1ad2f7c0ca7d",
       "version_major": 2,
       "version_minor": 0
      },
      "text/plain": [
       "HBox(children=(FloatProgress(value=0.0, description='#0', max=2217.0, style=ProgressStyle(description_width='i…"
      ]
     },
     "metadata": {},
     "output_type": "display_data"
    },
    {
     "data": {
      "application/vnd.jupyter.widget-view+json": {
       "model_id": "02fe25a212f14b6c8ca99366aec1d4c1",
       "version_major": 2,
       "version_minor": 0
      },
      "text/plain": [
       "HBox(children=(FloatProgress(value=0.0, description='#3', max=2217.0, style=ProgressStyle(description_width='i…"
      ]
     },
     "metadata": {},
     "output_type": "display_data"
    },
    {
     "data": {
      "application/vnd.jupyter.widget-view+json": {
       "model_id": "226d8422b20947009c8c14b070064a2d",
       "version_major": 2,
       "version_minor": 0
      },
      "text/plain": [
       "HBox(children=(FloatProgress(value=0.0, description='#2', max=2217.0, style=ProgressStyle(description_width='i…"
      ]
     },
     "metadata": {},
     "output_type": "display_data"
    },
    {
     "data": {
      "application/vnd.jupyter.widget-view+json": {
       "model_id": "4b20b017c9634c0ca01cef8dacdc93eb",
       "version_major": 2,
       "version_minor": 0
      },
      "text/plain": [
       "HBox(children=(FloatProgress(value=0.0, description='#1', max=2217.0, style=ProgressStyle(description_width='i…"
      ]
     },
     "metadata": {},
     "output_type": "display_data"
    },
    {
     "name": "stdout",
     "output_type": "stream",
     "text": [
      "\n",
      "\n",
      "\n",
      "\n",
      "    "
     ]
    },
    {
     "data": {
      "application/vnd.jupyter.widget-view+json": {
       "model_id": "4d68a8712a924bf08fb690b8d2951ff6",
       "version_major": 2,
       "version_minor": 0
      },
      "text/plain": [
       "HBox(children=(FloatProgress(value=0.0, description='#3', max=404.0, style=ProgressStyle(description_width='in…"
      ]
     },
     "metadata": {},
     "output_type": "display_data"
    },
    {
     "data": {
      "application/vnd.jupyter.widget-view+json": {
       "model_id": "554b1925f229437d986141b14909a0ae",
       "version_major": 2,
       "version_minor": 0
      },
      "text/plain": [
       "HBox(children=(FloatProgress(value=0.0, description='#2', max=404.0, style=ProgressStyle(description_width='in…"
      ]
     },
     "metadata": {},
     "output_type": "display_data"
    },
    {
     "data": {
      "application/vnd.jupyter.widget-view+json": {
       "model_id": "da79c94d541646b8804379c465becda4",
       "version_major": 2,
       "version_minor": 0
      },
      "text/plain": [
       "HBox(children=(FloatProgress(value=0.0, description='#0', max=404.0, style=ProgressStyle(description_width='in…"
      ]
     },
     "metadata": {},
     "output_type": "display_data"
    },
    {
     "data": {
      "application/vnd.jupyter.widget-view+json": {
       "model_id": "76b6d36f40d74de698c2851737f525c7",
       "version_major": 2,
       "version_minor": 0
      },
      "text/plain": [
       "HBox(children=(FloatProgress(value=0.0, description='#1', max=404.0, style=ProgressStyle(description_width='in…"
      ]
     },
     "metadata": {},
     "output_type": "display_data"
    },
    {
     "name": "stdout",
     "output_type": "stream",
     "text": [
      "\n",
      "\n",
      "\n",
      "\n"
     ]
    }
   ],
   "source": [
    "common_voice_train = common_voice_train.map(prepare_dataset, remove_columns=common_voice_train.column_names, batch_size=8, num_proc=4, batched=True)\n",
    "common_voice_test = common_voice_test.map(prepare_dataset, remove_columns=common_voice_test.column_names, batch_size=8, num_proc=4, batched=True)"
   ]
  },
  {
   "cell_type": "code",
   "execution_count": 58,
   "metadata": {},
   "outputs": [
    {
     "name": "stdout",
     "output_type": "stream",
     "text": [
      "    "
     ]
    },
    {
     "data": {
      "application/vnd.jupyter.widget-view+json": {
       "model_id": "8a9550f1f4cf49d3be78129a33f05adf",
       "version_major": 2,
       "version_minor": 0
      },
      "text/plain": [
       "HBox(children=(FloatProgress(value=0.0, description='#0', max=17736.0, style=ProgressStyle(description_width='…"
      ]
     },
     "metadata": {},
     "output_type": "display_data"
    },
    {
     "data": {
      "application/vnd.jupyter.widget-view+json": {
       "model_id": "5f942453d4614841802e82550ee84681",
       "version_major": 2,
       "version_minor": 0
      },
      "text/plain": [
       "HBox(children=(FloatProgress(value=0.0, description='#3', max=17735.0, style=ProgressStyle(description_width='…"
      ]
     },
     "metadata": {},
     "output_type": "display_data"
    },
    {
     "data": {
      "application/vnd.jupyter.widget-view+json": {
       "model_id": "da72bc59429b441aa3dde75afcc36ebb",
       "version_major": 2,
       "version_minor": 0
      },
      "text/plain": [
       "HBox(children=(FloatProgress(value=0.0, description='#2', max=17736.0, style=ProgressStyle(description_width='…"
      ]
     },
     "metadata": {},
     "output_type": "display_data"
    },
    {
     "data": {
      "application/vnd.jupyter.widget-view+json": {
       "model_id": "c0a9611fd06d4fbcb23bbaf06a483cce",
       "version_major": 2,
       "version_minor": 0
      },
      "text/plain": [
       "HBox(children=(FloatProgress(value=0.0, description='#1', max=17736.0, style=ProgressStyle(description_width='…"
      ]
     },
     "metadata": {},
     "output_type": "display_data"
    },
    {
     "name": "stdout",
     "output_type": "stream",
     "text": [
      "\n",
      "\n",
      "\n",
      "\n",
      "   "
     ]
    },
    {
     "data": {
      "application/vnd.jupyter.widget-view+json": {
       "model_id": "6785829f8d2a4ffcbdbc724d7470405c",
       "version_major": 2,
       "version_minor": 0
      },
      "text/plain": [
       "HBox(children=(FloatProgress(value=0.0, description='#3', max=3232.0, style=ProgressStyle(description_width='i…"
      ]
     },
     "metadata": {},
     "output_type": "display_data"
    },
    {
     "data": {
      "application/vnd.jupyter.widget-view+json": {
       "model_id": "00921cbeaff14a279881e60b4e335fd0",
       "version_major": 2,
       "version_minor": 0
      },
      "text/plain": [
       "HBox(children=(FloatProgress(value=0.0, description='#2', max=3232.0, style=ProgressStyle(description_width='i…"
      ]
     },
     "metadata": {},
     "output_type": "display_data"
    },
    {
     "data": {
      "application/vnd.jupyter.widget-view+json": {
       "model_id": "68f1766ff68f4f01848ad3de29510abb",
       "version_major": 2,
       "version_minor": 0
      },
      "text/plain": [
       "HBox(children=(FloatProgress(value=0.0, description='#0', max=3232.0, style=ProgressStyle(description_width='i…"
      ]
     },
     "metadata": {},
     "output_type": "display_data"
    },
    {
     "data": {
      "application/vnd.jupyter.widget-view+json": {
       "model_id": "cd565883980246659e1097ae93e2ab3f",
       "version_major": 2,
       "version_minor": 0
      },
      "text/plain": [
       "HBox(children=(FloatProgress(value=0.0, description='#1', max=3232.0, style=ProgressStyle(description_width='i…"
      ]
     },
     "metadata": {},
     "output_type": "display_data"
    },
    {
     "name": "stdout",
     "output_type": "stream",
     "text": [
      "\n",
      "\n",
      "\n",
      "\n"
     ]
    }
   ],
   "source": [
    "# Adjust for your system\n",
    "num_proc=4\n",
    "common_voice_train = common_voice_train.map(input_lengths, num_proc=num_proc)\n",
    "common_voice_test = common_voice_test.map(input_lengths, num_proc=num_proc)"
   ]
  },
  {
   "cell_type": "markdown",
   "metadata": {
    "id": "gYlQkKVoRUos"
   },
   "source": [
    "## Training\n",
    "\n",
    "The data is processed so that we are ready to start setting up the training pipeline. We will make use of 🤗's [Trainer](https://huggingface.co/transformers/master/main_classes/trainer.html?highlight=trainer) for which we essentially need to do the following:\n",
    "\n",
    "- Define a data collator. In contrast to most NLP models, XLSR-Wav2Vec2 has a much larger input length than output length. *E.g.*, a sample of input length 50000 has an output length of no more than 100. Given the large input sizes, it is much more efficient to pad the training batches dynamically meaning that all training samples should only be padded to the longest sample in their batch and not the overall longest sample. Therefore, fine-tuning XLSR-Wav2Vec2 requires a special padding data collator, which we will define below\n",
    "\n",
    "- Evaluation metric. During training, the model should be evaluated on the word error rate. We should define a `compute_metrics` function accordingly\n",
    "\n",
    "- Load a pretrained checkpoint. We need to load a pretrained checkpoint and configure it correctly for training.\n",
    "\n",
    "- Define the training configuration.\n",
    "\n",
    "After having fine-tuned the model, we will correctly evaluate it on the test data and verify that it has indeed learned to correctly transcribe speech."
   ]
  },
  {
   "cell_type": "markdown",
   "metadata": {
    "id": "Slk403unUS91"
   },
   "source": [
    "### Set-up Trainer\n",
    "\n",
    "Let's start by defining the data collator. The code for the data collator was copied from [this example](https://github.com/huggingface/transformers/blob/9a06b6b11bdfc42eea08fa91d0c737d1863c99e3/examples/research_projects/wav2vec2/run_asr.py#L81).\n",
    "\n",
    "Without going into too many details, in contrast to the common data collators, this data collator treats the `input_values` and `labels` differently and thus applies to separate padding functions on them (again making use of XLSR-Wav2Vec2's context manager). This is necessary because in speech input and output are of different modalities meaning that they should not be treated by the same padding function.\n",
    "Analogous to the common data collators, the padding tokens in the labels with `-100` so that those tokens are **not** taken into account when computing the loss."
   ]
  },
  {
   "cell_type": "code",
   "execution_count": 59,
   "metadata": {
    "id": "tborvC9hx88e"
   },
   "outputs": [],
   "source": [
    "import torch\n",
    "\n",
    "from dataclasses import dataclass, field\n",
    "from typing import Any, Dict, List, Optional, Union\n",
    "\n",
    "@dataclass\n",
    "class DataCollatorCTCWithPadding:\n",
    "    \"\"\"\n",
    "    Data collator that will dynamically pad the inputs received.\n",
    "    Args:\n",
    "        processor (:class:`~transformers.Wav2Vec2Processor`)\n",
    "            The processor used for proccessing the data.\n",
    "        padding (:obj:`bool`, :obj:`str` or :class:`~transformers.tokenization_utils_base.PaddingStrategy`, `optional`, defaults to :obj:`True`):\n",
    "            Select a strategy to pad the returned sequences (according to the model's padding side and padding index)\n",
    "            among:\n",
    "            * :obj:`True` or :obj:`'longest'`: Pad to the longest sequence in the batch (or no padding if only a single\n",
    "              sequence if provided).\n",
    "            * :obj:`'max_length'`: Pad to a maximum length specified with the argument :obj:`max_length` or to the\n",
    "              maximum acceptable input length for the model if that argument is not provided.\n",
    "            * :obj:`False` or :obj:`'do_not_pad'` (default): No padding (i.e., can output a batch with sequences of\n",
    "              different lengths).\n",
    "        max_length (:obj:`int`, `optional`):\n",
    "            Maximum length of the ``input_values`` of the returned list and optionally padding length (see above).\n",
    "        max_length_labels (:obj:`int`, `optional`):\n",
    "            Maximum length of the ``labels`` returned list and optionally padding length (see above).\n",
    "        pad_to_multiple_of (:obj:`int`, `optional`):\n",
    "            If set will pad the sequence to a multiple of the provided value.\n",
    "            This is especially useful to enable the use of Tensor Cores on NVIDIA hardware with compute capability >=\n",
    "            7.5 (Volta).\n",
    "    \"\"\"\n",
    "\n",
    "    processor: Wav2Vec2Processor\n",
    "    padding: Union[bool, str] = True\n",
    "    max_length: Optional[int] = None\n",
    "    max_length_labels: Optional[int] = None\n",
    "    pad_to_multiple_of: Optional[int] = None\n",
    "    pad_to_multiple_of_labels: Optional[int] = None\n",
    "\n",
    "    def __call__(self, features: List[Dict[str, Union[List[int], torch.Tensor]]]) -> Dict[str, torch.Tensor]:\n",
    "        # split inputs and labels since they have to be of different lenghts and need\n",
    "        # different padding methods\n",
    "        input_features = [{\"input_values\": feature[\"input_values\"]} for feature in features]\n",
    "        label_features = [{\"input_ids\": feature[\"labels\"]} for feature in features]\n",
    "\n",
    "        batch = self.processor.pad(\n",
    "            input_features,\n",
    "            padding=self.padding,\n",
    "            max_length=self.max_length,\n",
    "            pad_to_multiple_of=self.pad_to_multiple_of,\n",
    "            return_tensors=\"pt\",\n",
    "        )\n",
    "        with self.processor.as_target_processor():\n",
    "            labels_batch = self.processor.pad(\n",
    "                label_features,\n",
    "                padding=self.padding,\n",
    "                max_length=self.max_length_labels,\n",
    "                pad_to_multiple_of=self.pad_to_multiple_of_labels,\n",
    "                return_tensors=\"pt\",\n",
    "            )\n",
    "\n",
    "        # replace padding with -100 to ignore loss correctly\n",
    "        labels = labels_batch[\"input_ids\"].masked_fill(labels_batch.attention_mask.ne(1), -100)\n",
    "\n",
    "        batch[\"labels\"] = labels\n",
    "\n",
    "        return batch"
   ]
  },
  {
   "cell_type": "code",
   "execution_count": 60,
   "metadata": {
    "id": "lbQf5GuZyQ4_"
   },
   "outputs": [],
   "source": [
    "data_collator = DataCollatorCTCWithPadding(processor=processor, padding=True)"
   ]
  },
  {
   "cell_type": "markdown",
   "metadata": {
    "id": "xO-Zdj-5cxXp"
   },
   "source": [
    "Next, the evaluation metric is defined. As mentioned earlier, the \n",
    "predominant metric in ASR is the word error rate (WER), hence we will use it in this notebook as well."
   ]
  },
  {
   "cell_type": "code",
   "execution_count": 61,
   "metadata": {
    "colab": {
     "base_uri": "https://localhost:8080/",
     "height": 67,
     "referenced_widgets": [
      "d5fb02debe4347e781543a996ce39be3",
      "da12267c52144292adb9896249d61a6a",
      "8e1a85a4a6214a16b7431da23a301ada",
      "57198e3250374e1fa64c5a4be255861e",
      "a3c04c75ec9743feb795f69e7c4dff4f",
      "d453bd4a35e54bfba20dac1fe86c60c1",
      "969080b52ad44ee997829986d198c505",
      "8f737725708c4097a8caaf4da6229636"
     ]
    },
    "id": "9Xsux2gmyXso",
    "outputId": "58e0e6f5-6131-4147-bccb-6c42223833db"
   },
   "outputs": [],
   "source": [
    "wer_metric = load_metric(\"wer\")"
   ]
  },
  {
   "cell_type": "markdown",
   "metadata": {
    "id": "E1qZU5p-deqB"
   },
   "source": [
    "The model will return a sequence of logit vectors:\n",
    "$\\mathbf{y}_1, \\ldots, \\mathbf{y}_m$ with $\\mathbf{y}_1 = f_{\\theta}(x_1, \\ldots, x_n)[0]$ and $n >> m$.\n",
    "\n",
    "A logit vector $\\mathbf{y}_1$ contains the log-odds for each word in the vocabulary we defined earlier, thus $\\text{len}(\\mathbf{y}_i) =$ `config.vocab_size`. We are interested in the most likely prediction of the model and thus take the `argmax(...)` of the logits. Also, we transform the encoded labels back to the original string by replacing `-100` with the `pad_token_id` and decoding the ids while making sure that consecutive tokens are **not** grouped to the same token in CTC style ${}^1$."
   ]
  },
  {
   "cell_type": "code",
   "execution_count": 62,
   "metadata": {
    "id": "1XZ-kjweyTy_"
   },
   "outputs": [],
   "source": [
    "def compute_metrics(pred):\n",
    "    pred_logits = pred.predictions\n",
    "    pred_ids = np.argmax(pred_logits, axis=-1)\n",
    "\n",
    "    pred.label_ids[pred.label_ids == -100] = processor.tokenizer.pad_token_id\n",
    "\n",
    "    pred_str = processor.batch_decode(pred_ids)\n",
    "    # we do not want to group tokens when computing the metrics\n",
    "    label_str = processor.batch_decode(pred.label_ids, group_tokens=False)\n",
    "\n",
    "    wer = wer_metric.compute(predictions=pred_str, references=label_str)\n",
    "\n",
    "    return {\"wer\": wer}"
   ]
  },
  {
   "cell_type": "markdown",
   "metadata": {
    "id": "Xmgrx4bRwLIH"
   },
   "source": [
    "Now, we can load the pretrained `XLSR-Wav2Vec2` checkpoint. The tokenizer's `pad_token_id` must be to define the model's `pad_token_id` or in the case of `Wav2Vec2ForCTC` also CTC's *blank token* ${}^2$. To save GPU memory, we enable PyTorch's [gradient checkpointing](https://pytorch.org/docs/stable/checkpoint.html) and also set the loss reduction to \"*mean*\".\n",
    "\n",
    "Because the dataset is quite small (~6h of training data) and because Common Voice is quite noisy, fine-tuning Facebook's [wav2vec2-large-xlsr-53 checkpoint](https://huggingface.co/facebook/wav2vec2-large-xlsr-53) seems to require some hyper-parameter tuning. Therefore, I had to play around a bit with different values for dropout, [SpecAugment](https://arxiv.org/abs/1904.08779)'s masking dropout rate, layer dropout, and the learning rate until training seemed to be stable enough. \n",
    "\n",
    "**Note**: When using this notebook to train XLSR-Wav2Vec2 on another language of Common Voice those hyper-parameter settings might not work very well. Feel free to adapt those depending on your use case. "
   ]
  },
  {
   "cell_type": "code",
   "execution_count": 63,
   "metadata": {
    "colab": {
     "base_uri": "https://localhost:8080/"
    },
    "id": "e7cqAWIayn6w",
    "outputId": "0a5ab559-6c38-47c6-b4f5-64480ed1df65"
   },
   "outputs": [
    {
     "name": "stderr",
     "output_type": "stream",
     "text": [
      "Some weights of Wav2Vec2ForCTC were not initialized from the model checkpoint at facebook/wav2vec2-large-xlsr-53 and are newly initialized: ['lm_head.bias', 'lm_head.weight']\n",
      "You should probably TRAIN this model on a down-stream task to be able to use it for predictions and inference.\n"
     ]
    }
   ],
   "source": [
    "from transformers import Wav2Vec2ForCTC\n",
    "\n",
    "model = Wav2Vec2ForCTC.from_pretrained(\n",
    "    \"facebook/wav2vec2-large-xlsr-53\", \n",
    "    attention_dropout=0.094,\n",
    "    activation_dropout=0.055,\n",
    "    hidden_dropout=0.047,\n",
    "    feat_proj_dropout=0.04,\n",
    "    mask_time_prob=0.0082,\n",
    "    layerdrop=0.041,\n",
    "    gradient_checkpointing=True, \n",
    "    ctc_loss_reduction=\"mean\", \n",
    "    pad_token_id=processor.tokenizer.pad_token_id,\n",
    "    vocab_size=len(processor.tokenizer)\n",
    ")"
   ]
  },
  {
   "cell_type": "markdown",
   "metadata": {
    "id": "1DwR3XLSzGDD"
   },
   "source": [
    "The first component of XLSR-Wav2Vec2 consists of a stack of CNN layers that are used to extract acoustically meaningful - but contextually independent - features from the raw speech signal. This part of the model has already been sufficiently trained during pretraining and as stated in the [paper](https://arxiv.org/pdf/2006.13979.pdf) does not need to be fine-tuned anymore. \n",
    "Thus, we can set the `requires_grad` to `False` for all parameters of the *feature extraction* part."
   ]
  },
  {
   "cell_type": "code",
   "execution_count": 64,
   "metadata": {
    "id": "oGI8zObtZ3V0"
   },
   "outputs": [],
   "source": [
    "model.freeze_feature_extractor()"
   ]
  },
  {
   "cell_type": "markdown",
   "metadata": {
    "id": "lD4aGhQM0K-D"
   },
   "source": [
    "In a final step, we define all parameters related to training. \n",
    "To give more explanation on some of the parameters:\n",
    "- `group_by_length` makes training more efficient by grouping training samples of similar input length into one batch. This can significantly speed up training time by heavily reducing the overall number of useless padding tokens that are passed through the model\n",
    "- `learning_rate` and `weight_decay` were heuristically tuned until fine-tuning has become stable. Note that those parameters strongly depend on the Common Voice dataset and might be suboptimal for other speech datasets.\n",
    "\n",
    "For more explanations on other parameters, one can take a look at the [docs](https://huggingface.co/transformers/master/main_classes/trainer.html?highlight=trainer#trainingarguments).\n",
    "\n",
    "**Note**: If one wants to save the trained models in his/her google drive the commented-out `output_dir` can be used instead."
   ]
  },
  {
   "cell_type": "code",
   "execution_count": 66,
   "metadata": {
    "id": "KbeKSV7uzGPP"
   },
   "outputs": [],
   "source": [
    "from transformers import TrainingArguments\n",
    "\n",
    "training_args = TrainingArguments(\n",
    "  output_dir=output_models_dir,\n",
    "  group_by_length=True,\n",
    "  per_device_train_batch_size=16,\n",
    "  per_device_eval_batch_size=16,\n",
    "  gradient_accumulation_steps=2,\n",
    "  eval_accumulation_steps=64,\n",
    "  evaluation_strategy=\"steps\",\n",
    "  num_train_epochs=10,\n",
    "  fp16=True,\n",
    "  save_steps=4000,\n",
    "  eval_steps=4000,\n",
    "  logging_steps=4000,\n",
    "  learning_rate=2.34e-4,\n",
    "  dataloader_num_workers=8,\n",
    "  warmup_ratio=0.1, #~10% of training\n",
    "  save_total_limit=2,\n",
    ")"
   ]
  },
  {
   "cell_type": "markdown",
   "metadata": {
    "id": "OsW-WZcL1ZtN"
   },
   "source": [
    "Now, all instances can be passed to Trainer and we are ready to start training!"
   ]
  },
  {
   "cell_type": "code",
   "execution_count": 67,
   "metadata": {
    "id": "rY7vBmFCPFgC"
   },
   "outputs": [],
   "source": [
    "from transformers import Trainer\n",
    "\n",
    "trainer = GroupedLengthsTrainer(\n",
    "    length_field_name=\"length\",\n",
    "    model=model,\n",
    "    data_collator=data_collator,\n",
    "    args=training_args,\n",
    "    compute_metrics=compute_metrics,\n",
    "    train_dataset=common_voice_train,\n",
    "    eval_dataset=common_voice_test.shard(index=1, num_shards=10), # 10 % data\n",
    "    tokenizer=processor.feature_extractor,\n",
    ")"
   ]
  },
  {
   "cell_type": "markdown",
   "metadata": {
    "id": "UoXBx1JAA0DX"
   },
   "source": [
    "\n",
    "\n",
    "---\n",
    "\n",
    "${}^1$ To allow models to become independent of the speaker rate, in CTC, consecutive tokens that are identical are simply grouped as a single token. However, the encoded labels should not be grouped when decoding since they don't correspond to the predicted tokens of the model, which is why the `group_tokens=False` parameter has to be passed. If we wouldn't pass this parameter a word like `\"hello\"` would incorrectly be encoded, and decoded as `\"helo\"`.\n",
    "\n",
    "${}^2$ The blank token allows the model to predict a word, such as `\"hello\"` by forcing it to insert the blank token between the two l's. A CTC-conform prediction of `\"hello\"` of our model would be `[PAD] [PAD] \"h\" \"e\" \"e\" \"l\" \"l\" [PAD] \"l\" \"o\" \"o\" [PAD]`."
   ]
  },
  {
   "cell_type": "markdown",
   "metadata": {
    "id": "rpvZHM1xReIW"
   },
   "source": [
    "### Training"
   ]
  },
  {
   "cell_type": "markdown",
   "metadata": {
    "id": "j-3oKSzZ1hGq"
   },
   "source": [
    "Training will take between 180 and 240 minutes depending on the GPU allocated to this notebook. While the trained model yields somewhat satisfying results on *Common Voice*'s test data of Turkish, it is by no means an optimally fine-tuned model. The purpose of this notebook is to demonstrate how XLSR-Wav2Vec2's [checkpoint](https://huggingface.co/facebook/wav2vec2-large-xlsr-53) can be fine-tuned on a low-resource ASR dataset.\n",
    "\n",
    "In case you want to use this google colab to fine-tune your model, you should make sure that your training doesn't stop due to inactivity. A simple hack to prevent this is to paste the following code into the console of this tab (*right mouse click -> inspect -> Console tab and insert code*)."
   ]
  },
  {
   "cell_type": "markdown",
   "metadata": {
    "id": "VYYAvgkW4P0m"
   },
   "source": [
    "```javascript\n",
    "function ConnectButton(){\n",
    "    console.log(\"Connect pushed\"); \n",
    "    document.querySelector(\"#top-toolbar > colab-connect-button\").shadowRoot.querySelector(\"#connect\").click() \n",
    "}\n",
    "setInterval(ConnectButton,60000);\n",
    "```"
   ]
  },
  {
   "cell_type": "code",
   "execution_count": 68,
   "metadata": {
    "colab": {
     "base_uri": "https://localhost:8080/",
     "height": 348
    },
    "id": "_UEjJqGsQw24",
    "outputId": "2e23b190-ca76-48ad-8117-376d1d7c058e"
   },
   "outputs": [
    {
     "name": "stderr",
     "output_type": "stream",
     "text": [
      "\u001b[34m\u001b[1mwandb\u001b[0m: Currently logged in as: \u001b[33mgchhablani\u001b[0m (use `wandb login --relogin` to force relogin)\n",
      "\u001b[34m\u001b[1mwandb\u001b[0m: wandb version 0.10.23 is available!  To upgrade, please run:\n",
      "\u001b[34m\u001b[1mwandb\u001b[0m:  $ pip install wandb --upgrade\n"
     ]
    },
    {
     "data": {
      "text/html": [
       "\n",
       "                Tracking run with wandb version 0.10.12<br/>\n",
       "                Syncing run <strong style=\"color:#cdcd00\">/workspace/output_models/it/wav2vec2-large-xlsr-it</strong> to <a href=\"https://wandb.ai\" target=\"_blank\">Weights & Biases</a> <a href=\"https://docs.wandb.com/integrations/jupyter.html\" target=\"_blank\">(Documentation)</a>.<br/>\n",
       "                Project page: <a href=\"https://wandb.ai/gchhablani/huggingface\" target=\"_blank\">https://wandb.ai/gchhablani/huggingface</a><br/>\n",
       "                Run page: <a href=\"https://wandb.ai/gchhablani/huggingface/runs/dqrwy680\" target=\"_blank\">https://wandb.ai/gchhablani/huggingface/runs/dqrwy680</a><br/>\n",
       "                Run data is saved locally in <code>/workspace/wav2vec/wandb/run-20210328_092210-dqrwy680</code><br/><br/>\n",
       "            "
      ],
      "text/plain": [
       "<IPython.core.display.HTML object>"
      ]
     },
     "metadata": {},
     "output_type": "display_data"
    },
    {
     "name": "stderr",
     "output_type": "stream",
     "text": [
      "/opt/conda/lib/python3.7/site-packages/torch/optim/lr_scheduler.py:136: UserWarning: Detected call of `lr_scheduler.step()` before `optimizer.step()`. In PyTorch 1.1.0 and later, you should call them in the opposite order: `optimizer.step()` before `lr_scheduler.step()`.  Failure to do this will result in PyTorch skipping the first value of the learning rate schedule. See more details at https://pytorch.org/docs/stable/optim.html#how-to-adjust-learning-rate\n",
      "  \"https://pytorch.org/docs/stable/optim.html#how-to-adjust-learning-rate\", UserWarning)\n"
     ]
    },
    {
     "data": {
      "text/html": [
       "\n",
       "    <div>\n",
       "        <style>\n",
       "            /* Turns off some styling */\n",
       "            progress {\n",
       "                /* gets rid of default border in Firefox and Opera. */\n",
       "                border: none;\n",
       "                /* Needs to be in here for Safari polyfill so background images work as expected. */\n",
       "                background-size: auto;\n",
       "            }\n",
       "        </style>\n",
       "      \n",
       "      <progress value='22170' max='22170' style='width:300px; height:20px; vertical-align: middle;'></progress>\n",
       "      [22170/22170 12:50:24, Epoch 10/10]\n",
       "    </div>\n",
       "    <table border=\"1\" class=\"dataframe\">\n",
       "  <thead>\n",
       "    <tr style=\"text-align: left;\">\n",
       "      <th>Step</th>\n",
       "      <th>Training Loss</th>\n",
       "      <th>Validation Loss</th>\n",
       "      <th>Wer</th>\n",
       "      <th>Runtime</th>\n",
       "      <th>Samples Per Second</th>\n",
       "    </tr>\n",
       "  </thead>\n",
       "  <tbody>\n",
       "    <tr>\n",
       "      <td>4000</td>\n",
       "      <td>1.379700</td>\n",
       "      <td>0.159083</td>\n",
       "      <td>0.262967</td>\n",
       "      <td>54.238500</td>\n",
       "      <td>23.839000</td>\n",
       "    </tr>\n",
       "    <tr>\n",
       "      <td>8000</td>\n",
       "      <td>0.151400</td>\n",
       "      <td>0.146069</td>\n",
       "      <td>0.240693</td>\n",
       "      <td>53.694300</td>\n",
       "      <td>24.081000</td>\n",
       "    </tr>\n",
       "    <tr>\n",
       "      <td>12000</td>\n",
       "      <td>0.108400</td>\n",
       "      <td>0.132236</td>\n",
       "      <td>0.225266</td>\n",
       "      <td>54.314800</td>\n",
       "      <td>23.806000</td>\n",
       "    </tr>\n",
       "    <tr>\n",
       "      <td>16000</td>\n",
       "      <td>0.078900</td>\n",
       "      <td>0.124411</td>\n",
       "      <td>0.213066</td>\n",
       "      <td>53.681100</td>\n",
       "      <td>24.087000</td>\n",
       "    </tr>\n",
       "    <tr>\n",
       "      <td>20000</td>\n",
       "      <td>0.058700</td>\n",
       "      <td>0.125516</td>\n",
       "      <td>0.205746</td>\n",
       "      <td>53.926100</td>\n",
       "      <td>23.977000</td>\n",
       "    </tr>\n",
       "  </tbody>\n",
       "</table><p>"
      ],
      "text/plain": [
       "<IPython.core.display.HTML object>"
      ]
     },
     "metadata": {},
     "output_type": "display_data"
    },
    {
     "data": {
      "text/plain": [
       "TrainOutput(global_step=22170, training_loss=0.32527120587628977, metrics={'train_runtime': 46236.9007, 'train_samples_per_second': 0.479, 'total_flos': 1.200072303142943e+20, 'epoch': 10.0, 'init_mem_cpu_alloc_delta': 9485137, 'init_mem_gpu_alloc_delta': 1261927424, 'init_mem_cpu_peaked_delta': 18306, 'init_mem_gpu_peaked_delta': 0, 'train_mem_cpu_alloc_delta': 58185981, 'train_mem_gpu_alloc_delta': 3780669440, 'train_mem_cpu_peaked_delta': 124307431, 'train_mem_gpu_peaked_delta': 5194415104})"
      ]
     },
     "execution_count": 68,
     "metadata": {},
     "output_type": "execute_result"
    }
   ],
   "source": [
    "trainer.train()"
   ]
  },
  {
   "cell_type": "markdown",
   "metadata": {
    "id": "RHIVc44_fY2N"
   },
   "source": [
    "The training loss goes down and we can see that the WER on the test set also improves nicely. Because this notebook is just for demonstration purposes, we can stop here.\n",
    "\n",
    "The resulting model of this notebook has been saved to [`patrickvonplaten/wav2vec2-large-xlsr-turkish-demo`](https://huggingface.co/patrickvonplaten/wav2vec2-large-xlsr-turkish-demo)\n",
    "\n",
    "As a final check, let's load the model and verify that it indeed has learned to transcribe Turkish speech.\n",
    "\n",
    "Let's first load the pretrained checkpoint."
   ]
  },
  {
   "cell_type": "code",
   "execution_count": 69,
   "metadata": {},
   "outputs": [],
   "source": [
    "trainer.save_model(output_models_dir+'/final')"
   ]
  },
  {
   "cell_type": "markdown",
   "metadata": {},
   "source": [
    "# Usage"
   ]
  },
  {
   "cell_type": "code",
   "execution_count": 80,
   "metadata": {},
   "outputs": [
    {
     "name": "stderr",
     "output_type": "stream",
     "text": [
      "Reusing dataset common_voice (/workspace/.cache/huggingface/datasets/common_voice/it/6.1.0/0041e06ab061b91d0a23234a2221e87970a19cf3a81b20901474cffffeb7869f)\n",
      "Special tokens have been added in the vocabulary, make sure the associated word embedding are fine-tuned or trained.\n"
     ]
    },
    {
     "data": {
      "application/vnd.jupyter.widget-view+json": {
       "model_id": "d6fddaecbe7141499f10e65e46fefb84",
       "version_major": 2,
       "version_minor": 0
      },
      "text/plain": [
       "HBox(children=(FloatProgress(value=0.0, max=259.0), HTML(value='')))"
      ]
     },
     "metadata": {},
     "output_type": "display_data"
    },
    {
     "name": "stdout",
     "output_type": "stream",
     "text": [
      "\n",
      "Prediction: ['poi lei morì', 'il libro ha suiscitato molte polemiche a causa dei suoi contenuti']\n",
      "Reference: ['Poi lei morì.', 'Il libro ha suscitato molte polemiche a causa dei suoi contenuti.']\n"
     ]
    }
   ],
   "source": [
    "import torch\n",
    "import torchaudio\n",
    "from datasets import load_dataset\n",
    "from transformers import Wav2Vec2ForCTC, Wav2Vec2Processor\n",
    "\n",
    "test_dataset = load_dataset(\"common_voice\", \"it\", split=\"test[:2%]\")\n",
    "\n",
    "processor = Wav2Vec2Processor.from_pretrained(output_models_dir+'/processor')\n",
    "model = Wav2Vec2ForCTC.from_pretrained(output_models_dir+'/final') \n",
    "\n",
    "resampler = torchaudio.transforms.Resample(48_000, 16_000)\n",
    "\n",
    "# Preprocessing the datasets.\n",
    "# We need to read the aduio files as arrays\n",
    "def speech_file_to_array_fn(batch):\n",
    "    speech_array, sampling_rate = torchaudio.load(batch[\"path\"])\n",
    "    batch[\"speech\"] = resampler(speech_array).squeeze().numpy()\n",
    "    return batch\n",
    "\n",
    "test_dataset = test_dataset.map(speech_file_to_array_fn)\n",
    "inputs = processor(test_dataset[\"speech\"][:2], sampling_rate=16_000, return_tensors=\"pt\", padding=True)\n",
    "\n",
    "with torch.no_grad():\n",
    "    logits = model(inputs.input_values, attention_mask=inputs.attention_mask).logits\n",
    "\n",
    "predicted_ids = torch.argmax(logits, dim=-1)\n",
    "\n",
    "print(\"Prediction:\", processor.batch_decode(predicted_ids))\n",
    "print(\"Reference:\", test_dataset[\"sentence\"][:2])"
   ]
  },
  {
   "cell_type": "markdown",
   "metadata": {},
   "source": [
    "# Evaluation"
   ]
  },
  {
   "cell_type": "code",
   "execution_count": 79,
   "metadata": {},
   "outputs": [
    {
     "name": "stderr",
     "output_type": "stream",
     "text": [
      "Reusing dataset common_voice (/workspace/.cache/huggingface/datasets/common_voice/it/6.1.0/0041e06ab061b91d0a23234a2221e87970a19cf3a81b20901474cffffeb7869f)\n",
      "Special tokens have been added in the vocabulary, make sure the associated word embedding are fine-tuned or trained.\n"
     ]
    },
    {
     "data": {
      "application/vnd.jupyter.widget-view+json": {
       "model_id": "cabec7b2cdea4f498a30771db5bb090c",
       "version_major": 2,
       "version_minor": 0
      },
      "text/plain": [
       "HBox(children=(FloatProgress(value=0.0, max=12928.0), HTML(value='')))"
      ]
     },
     "metadata": {},
     "output_type": "display_data"
    },
    {
     "name": "stdout",
     "output_type": "stream",
     "text": [
      "\n"
     ]
    },
    {
     "data": {
      "application/vnd.jupyter.widget-view+json": {
       "model_id": "7b409c728a854c05957d44db0feed873",
       "version_major": 2,
       "version_minor": 0
      },
      "text/plain": [
       "HBox(children=(FloatProgress(value=0.0, max=1616.0), HTML(value='')))"
      ]
     },
     "metadata": {},
     "output_type": "display_data"
    },
    {
     "name": "stdout",
     "output_type": "stream",
     "text": [
      "\n",
      "WER: 11.495970\n"
     ]
    }
   ],
   "source": [
    "import torch\n",
    "import torchaudio\n",
    "from datasets import load_dataset, load_metric\n",
    "from transformers import Wav2Vec2ForCTC, Wav2Vec2Processor\n",
    "import re\n",
    "\n",
    "import unicodedata\n",
    "import jiwer\n",
    "\n",
    "def chunked_wer(targets, predictions, chunk_size=None):\n",
    "    if chunk_size is None: return jiwer.wer(targets, predictions)\n",
    "    start = 0\n",
    "    end = chunk_size\n",
    "    H, S, D, I = 0, 0, 0, 0\n",
    "    while start < len(targets):\n",
    "        chunk_metrics = jiwer.compute_measures(targets[start:end], predictions[start:end])\n",
    "        H = H + chunk_metrics[\"hits\"]\n",
    "        S = S + chunk_metrics[\"substitutions\"]\n",
    "        D = D + chunk_metrics[\"deletions\"]\n",
    "        I = I + chunk_metrics[\"insertions\"]\n",
    "        start += chunk_size\n",
    "        end += chunk_size\n",
    "    return float(S + D + I) / float(H + S + D)\n",
    "\n",
    "\n",
    "def remove_accents(input_str):\n",
    "    if input_str in allowed_characters:\n",
    "        return input_str\n",
    "    if input_str == 'ø':\n",
    "        return 'o'\n",
    "    elif input_str=='ß' or input_str =='ß':\n",
    "        return 'b'\n",
    "    elif input_str=='ё':\n",
    "        return 'e'\n",
    "    elif input_str=='đ':\n",
    "        return 'd'\n",
    "    nfkd_form = unicodedata.normalize('NFKD', input_str)\n",
    "    only_ascii = nfkd_form.encode('ASCII', 'ignore').decode()\n",
    "    \n",
    "    if only_ascii is None or only_ascii=='':\n",
    "        return input_str\n",
    "    else:\n",
    "        return only_ascii\n",
    "def fix_accents(sentence):\n",
    "    new_sentence=''\n",
    "    for char in sentence:\n",
    "        new_sentence+=remove_accents(char)\n",
    "    return new_sentence\n",
    "\n",
    "test_dataset = load_dataset(\"common_voice\", \"it\", split=\"test\")\n",
    "wer = load_metric(\"wer\")\n",
    "\n",
    "processor = Wav2Vec2Processor.from_pretrained(output_models_dir+'/processor')\n",
    "model = Wav2Vec2ForCTC.from_pretrained(output_models_dir+'/final') \n",
    "model.to(\"cuda\")\n",
    "\n",
    "resampler = torchaudio.transforms.Resample(48_000, 16_000)\n",
    "\n",
    "chars_to_remove= [\",\", \"?\", \".\", \"!\", \"-\", \";\", \":\", '\"\"', \"%\", '\"', \"�\",'ʿ','“','”','(','=','`','_','+','«','<','>','~','…','«','»','–','\\[','\\]','°','̇','´','ʾ','„','̇','̇','̇','¡'] # All extra characters\n",
    "\n",
    "chars_to_remove_regex = f'[{\"\".join(chars_to_remove)}]'\n",
    "\n",
    "# Preprocessing the datasets.\n",
    "# We need to read the aduio files as arrays\n",
    "def speech_file_to_array_fn(batch):\n",
    "    batch[\"sentence\"] = re.sub(chars_to_remove_regex, '', batch[\"sentence\"]).lower().replace('‘',\"'\").replace('ʻ',\"'\").replace('ʼ',\"'\").replace('’',\"'\").replace('ʹ',\"''\").replace('̇','')\n",
    "    batch[\"sentence\"] = fix_accents(batch[\"sentence\"])\n",
    "    speech_array, sampling_rate = torchaudio.load(batch[\"path\"])\n",
    "    batch[\"speech\"] = resampler(speech_array).squeeze().numpy()\n",
    "    return batch\n",
    "\n",
    "test_dataset = test_dataset.map(speech_file_to_array_fn)\n",
    "\n",
    "# Preprocessing the datasets.\n",
    "# We need to read the aduio files as arrays\n",
    "def evaluate(batch):\n",
    "    inputs = processor(batch[\"speech\"], sampling_rate=16_000, return_tensors=\"pt\", padding=True)\n",
    "\n",
    "    with torch.no_grad():\n",
    "        logits = model(inputs.input_values.to(\"cuda\"), attention_mask=inputs.attention_mask.to(\"cuda\")).logits\n",
    "\n",
    "        pred_ids = torch.argmax(logits, dim=-1)\n",
    "        batch[\"pred_strings\"] = processor.batch_decode(pred_ids)\n",
    "    return batch\n",
    "\n",
    "result = test_dataset.map(evaluate, batched=True, batch_size=8)\n",
    "\n",
    "print(\"WER: {:2f}\".format(100 * chunked_wer(predictions=result[\"pred_strings\"], targets=result[\"sentence\"],chunk_size=5000)))"
   ]
  },
  {
   "cell_type": "code",
   "execution_count": null,
   "metadata": {},
   "outputs": [],
   "source": []
  }
 ],
 "metadata": {
  "accelerator": "GPU",
  "colab": {
   "collapsed_sections": [],
   "include_colab_link": true,
   "machine_shape": "hm",
   "name": "Fine-Tune XLSR-Wav2Vec2 on Turkish ASR with 🤗 Transformers.ipynb",
   "provenance": []
  },
  "kernelspec": {
   "display_name": "Python 3",
   "language": "python",
   "name": "python3"
  },
  "language_info": {
   "codemirror_mode": {
    "name": "ipython",
    "version": 3
   },
   "file_extension": ".py",
   "mimetype": "text/x-python",
   "name": "python",
   "nbconvert_exporter": "python",
   "pygments_lexer": "ipython3",
   "version": "3.7.6"
  },
  "widgets": {
   "application/vnd.jupyter.widget-state+json": {
    "015c5690e1ea4281954c7efda1c80a6a": {
     "model_module": "@jupyter-widgets/controls",
     "model_name": "FloatProgressModel",
     "state": {
      "_dom_classes": [],
      "_model_module": "@jupyter-widgets/controls",
      "_model_module_version": "1.5.0",
      "_model_name": "FloatProgressModel",
      "_view_count": null,
      "_view_module": "@jupyter-widgets/controls",
      "_view_module_version": "1.5.0",
      "_view_name": "ProgressView",
      "bar_style": "success",
      "description": "#1: 100%",
      "description_tooltip": null,
      "layout": "IPY_MODEL_dec796237765477ea904834d9a824b61",
      "max": 109,
      "min": 0,
      "orientation": "horizontal",
      "style": "IPY_MODEL_2f727c76652944e3892dd584bea11af2",
      "value": 109
     }
    },
    "018c1f8e198e4df4b480e609bd1be602": {
     "model_module": "@jupyter-widgets/controls",
     "model_name": "HTMLModel",
     "state": {
      "_dom_classes": [],
      "_model_module": "@jupyter-widgets/controls",
      "_model_module_version": "1.5.0",
      "_model_name": "HTMLModel",
      "_view_count": null,
      "_view_module": "@jupyter-widgets/controls",
      "_view_module_version": "1.5.0",
      "_view_name": "HTMLView",
      "description": "",
      "description_tooltip": null,
      "layout": "IPY_MODEL_768ab09956774f50a79b2493a8bf179b",
      "placeholder": "​",
      "style": "IPY_MODEL_d35c15beeb33476894b07c3563f8facd",
      "value": " 109/109 [00:56&lt;00:00,  1.92ba/s]"
     }
    },
    "020bdb330b0d40f5b89697ff37025f69": {
     "model_module": "@jupyter-widgets/base",
     "model_name": "LayoutModel",
     "state": {
      "_model_module": "@jupyter-widgets/base",
      "_model_module_version": "1.2.0",
      "_model_name": "LayoutModel",
      "_view_count": null,
      "_view_module": "@jupyter-widgets/base",
      "_view_module_version": "1.2.0",
      "_view_name": "LayoutView",
      "align_content": null,
      "align_items": null,
      "align_self": null,
      "border": null,
      "bottom": null,
      "display": null,
      "flex": null,
      "flex_flow": null,
      "grid_area": null,
      "grid_auto_columns": null,
      "grid_auto_flow": null,
      "grid_auto_rows": null,
      "grid_column": null,
      "grid_gap": null,
      "grid_row": null,
      "grid_template_areas": null,
      "grid_template_columns": null,
      "grid_template_rows": null,
      "height": null,
      "justify_content": null,
      "justify_items": null,
      "left": null,
      "margin": null,
      "max_height": null,
      "max_width": null,
      "min_height": null,
      "min_width": null,
      "object_fit": null,
      "object_position": null,
      "order": null,
      "overflow": null,
      "overflow_x": null,
      "overflow_y": null,
      "padding": null,
      "right": null,
      "top": null,
      "visibility": null,
      "width": null
     }
    },
    "024989cea06f435894776b0a921164b2": {
     "model_module": "@jupyter-widgets/controls",
     "model_name": "ProgressStyleModel",
     "state": {
      "_model_module": "@jupyter-widgets/controls",
      "_model_module_version": "1.5.0",
      "_model_name": "ProgressStyleModel",
      "_view_count": null,
      "_view_module": "@jupyter-widgets/base",
      "_view_module_version": "1.2.0",
      "_view_name": "StyleView",
      "bar_color": null,
      "description_width": "initial"
     }
    },
    "02bdb06c176145feaa842b97ae58609c": {
     "model_module": "@jupyter-widgets/controls",
     "model_name": "DescriptionStyleModel",
     "state": {
      "_model_module": "@jupyter-widgets/controls",
      "_model_module_version": "1.5.0",
      "_model_name": "DescriptionStyleModel",
      "_view_count": null,
      "_view_module": "@jupyter-widgets/base",
      "_view_module_version": "1.2.0",
      "_view_name": "StyleView",
      "description_width": ""
     }
    },
    "02d1f77324854fbca0df9384c57faac8": {
     "model_module": "@jupyter-widgets/controls",
     "model_name": "FloatProgressModel",
     "state": {
      "_dom_classes": [],
      "_model_module": "@jupyter-widgets/controls",
      "_model_module_version": "1.5.0",
      "_model_name": "FloatProgressModel",
      "_view_count": null,
      "_view_module": "@jupyter-widgets/controls",
      "_view_module_version": "1.5.0",
      "_view_name": "ProgressView",
      "bar_style": "success",
      "description": "#3: 100%",
      "description_tooltip": null,
      "layout": "IPY_MODEL_d4a3f79644fc41848450ba29e6fdfc3d",
      "max": 52,
      "min": 0,
      "orientation": "horizontal",
      "style": "IPY_MODEL_704ea5e05fd744d998b76d6435992995",
      "value": 52
     }
    },
    "0354ab33471e4c34a0c1b3c062bcd6bb": {
     "model_module": "@jupyter-widgets/base",
     "model_name": "LayoutModel",
     "state": {
      "_model_module": "@jupyter-widgets/base",
      "_model_module_version": "1.2.0",
      "_model_name": "LayoutModel",
      "_view_count": null,
      "_view_module": "@jupyter-widgets/base",
      "_view_module_version": "1.2.0",
      "_view_name": "LayoutView",
      "align_content": null,
      "align_items": null,
      "align_self": null,
      "border": null,
      "bottom": null,
      "display": null,
      "flex": null,
      "flex_flow": null,
      "grid_area": null,
      "grid_auto_columns": null,
      "grid_auto_flow": null,
      "grid_auto_rows": null,
      "grid_column": null,
      "grid_gap": null,
      "grid_row": null,
      "grid_template_areas": null,
      "grid_template_columns": null,
      "grid_template_rows": null,
      "height": null,
      "justify_content": null,
      "justify_items": null,
      "left": null,
      "margin": null,
      "max_height": null,
      "max_width": null,
      "min_height": null,
      "min_width": null,
      "object_fit": null,
      "object_position": null,
      "order": null,
      "overflow": null,
      "overflow_x": null,
      "overflow_y": null,
      "padding": null,
      "right": null,
      "top": null,
      "visibility": null,
      "width": null
     }
    },
    "03b33c17734d49e28c4636dddd6e833d": {
     "model_module": "@jupyter-widgets/controls",
     "model_name": "FloatProgressModel",
     "state": {
      "_dom_classes": [],
      "_model_module": "@jupyter-widgets/controls",
      "_model_module_version": "1.5.0",
      "_model_name": "FloatProgressModel",
      "_view_count": null,
      "_view_module": "@jupyter-widgets/controls",
      "_view_module_version": "1.5.0",
      "_view_name": "ProgressView",
      "bar_style": "info",
      "description": "",
      "description_tooltip": null,
      "layout": "IPY_MODEL_bee0f50055eb4f738636142a10da0ddd",
      "max": 1,
      "min": 0,
      "orientation": "horizontal",
      "style": "IPY_MODEL_da1ff50f8b9241108a325ada04224642",
      "value": 1
     }
    },
    "05f83d714f864a399083f0e34a812467": {
     "model_module": "@jupyter-widgets/controls",
     "model_name": "DescriptionStyleModel",
     "state": {
      "_model_module": "@jupyter-widgets/controls",
      "_model_module_version": "1.5.0",
      "_model_name": "DescriptionStyleModel",
      "_view_count": null,
      "_view_module": "@jupyter-widgets/base",
      "_view_module_version": "1.2.0",
      "_view_name": "StyleView",
      "description_width": ""
     }
    },
    "089428f56e66419f85ea149d9d102454": {
     "model_module": "@jupyter-widgets/controls",
     "model_name": "HBoxModel",
     "state": {
      "_dom_classes": [],
      "_model_module": "@jupyter-widgets/controls",
      "_model_module_version": "1.5.0",
      "_model_name": "HBoxModel",
      "_view_count": null,
      "_view_module": "@jupyter-widgets/controls",
      "_view_module_version": "1.5.0",
      "_view_name": "HBoxView",
      "box_style": "",
      "children": [
       "IPY_MODEL_4db5037af3f64a3a8a8a1203018a80ff",
       "IPY_MODEL_6a957c1c17474d8d89c27ddecf702fda"
      ],
      "layout": "IPY_MODEL_d649c0f9c1c24634a84b7ef697721ffa"
     }
    },
    "0987aac282af415da2fbc9dc1b4d5069": {
     "model_module": "@jupyter-widgets/base",
     "model_name": "LayoutModel",
     "state": {
      "_model_module": "@jupyter-widgets/base",
      "_model_module_version": "1.2.0",
      "_model_name": "LayoutModel",
      "_view_count": null,
      "_view_module": "@jupyter-widgets/base",
      "_view_module_version": "1.2.0",
      "_view_name": "LayoutView",
      "align_content": null,
      "align_items": null,
      "align_self": null,
      "border": null,
      "bottom": null,
      "display": null,
      "flex": null,
      "flex_flow": null,
      "grid_area": null,
      "grid_auto_columns": null,
      "grid_auto_flow": null,
      "grid_auto_rows": null,
      "grid_column": null,
      "grid_gap": null,
      "grid_row": null,
      "grid_template_areas": null,
      "grid_template_columns": null,
      "grid_template_rows": null,
      "height": null,
      "justify_content": null,
      "justify_items": null,
      "left": null,
      "margin": null,
      "max_height": null,
      "max_width": null,
      "min_height": null,
      "min_width": null,
      "object_fit": null,
      "object_position": null,
      "order": null,
      "overflow": null,
      "overflow_x": null,
      "overflow_y": null,
      "padding": null,
      "right": null,
      "top": null,
      "visibility": null,
      "width": null
     }
    },
    "0a9b58c98508420d8f8936189f064316": {
     "model_module": "@jupyter-widgets/controls",
     "model_name": "FloatProgressModel",
     "state": {
      "_dom_classes": [],
      "_model_module": "@jupyter-widgets/controls",
      "_model_module_version": "1.5.0",
      "_model_name": "FloatProgressModel",
      "_view_count": null,
      "_view_module": "@jupyter-widgets/controls",
      "_view_module_version": "1.5.0",
      "_view_name": "ProgressView",
      "bar_style": "info",
      "description": "",
      "description_tooltip": null,
      "layout": "IPY_MODEL_af85713f677243d19cba9fe69a4a5f46",
      "max": 1,
      "min": 0,
      "orientation": "horizontal",
      "style": "IPY_MODEL_c546bca23ee248a1be7bd8ead3e82a8f",
      "value": 1
     }
    },
    "0b795d4b68014de19bf9579c67b55ffb": {
     "model_module": "@jupyter-widgets/controls",
     "model_name": "DescriptionStyleModel",
     "state": {
      "_model_module": "@jupyter-widgets/controls",
      "_model_module_version": "1.5.0",
      "_model_name": "DescriptionStyleModel",
      "_view_count": null,
      "_view_module": "@jupyter-widgets/base",
      "_view_module_version": "1.2.0",
      "_view_name": "StyleView",
      "description_width": ""
     }
    },
    "0cd1932178c945d48604ffd299e65d2c": {
     "model_module": "@jupyter-widgets/base",
     "model_name": "LayoutModel",
     "state": {
      "_model_module": "@jupyter-widgets/base",
      "_model_module_version": "1.2.0",
      "_model_name": "LayoutModel",
      "_view_count": null,
      "_view_module": "@jupyter-widgets/base",
      "_view_module_version": "1.2.0",
      "_view_name": "LayoutView",
      "align_content": null,
      "align_items": null,
      "align_self": null,
      "border": null,
      "bottom": null,
      "display": null,
      "flex": null,
      "flex_flow": null,
      "grid_area": null,
      "grid_auto_columns": null,
      "grid_auto_flow": null,
      "grid_auto_rows": null,
      "grid_column": null,
      "grid_gap": null,
      "grid_row": null,
      "grid_template_areas": null,
      "grid_template_columns": null,
      "grid_template_rows": null,
      "height": null,
      "justify_content": null,
      "justify_items": null,
      "left": null,
      "margin": null,
      "max_height": null,
      "max_width": null,
      "min_height": null,
      "min_width": null,
      "object_fit": null,
      "object_position": null,
      "order": null,
      "overflow": null,
      "overflow_x": null,
      "overflow_y": null,
      "padding": null,
      "right": null,
      "top": null,
      "visibility": null,
      "width": null
     }
    },
    "0e999af234bd4b63ad2937e61d08b693": {
     "model_module": "@jupyter-widgets/base",
     "model_name": "LayoutModel",
     "state": {
      "_model_module": "@jupyter-widgets/base",
      "_model_module_version": "1.2.0",
      "_model_name": "LayoutModel",
      "_view_count": null,
      "_view_module": "@jupyter-widgets/base",
      "_view_module_version": "1.2.0",
      "_view_name": "LayoutView",
      "align_content": null,
      "align_items": null,
      "align_self": null,
      "border": null,
      "bottom": null,
      "display": null,
      "flex": null,
      "flex_flow": null,
      "grid_area": null,
      "grid_auto_columns": null,
      "grid_auto_flow": null,
      "grid_auto_rows": null,
      "grid_column": null,
      "grid_gap": null,
      "grid_row": null,
      "grid_template_areas": null,
      "grid_template_columns": null,
      "grid_template_rows": null,
      "height": null,
      "justify_content": null,
      "justify_items": null,
      "left": null,
      "margin": null,
      "max_height": null,
      "max_width": null,
      "min_height": null,
      "min_width": null,
      "object_fit": null,
      "object_position": null,
      "order": null,
      "overflow": null,
      "overflow_x": null,
      "overflow_y": null,
      "padding": null,
      "right": null,
      "top": null,
      "visibility": null,
      "width": null
     }
    },
    "0f3756509e3b405d87936f599b153de2": {
     "model_module": "@jupyter-widgets/base",
     "model_name": "LayoutModel",
     "state": {
      "_model_module": "@jupyter-widgets/base",
      "_model_module_version": "1.2.0",
      "_model_name": "LayoutModel",
      "_view_count": null,
      "_view_module": "@jupyter-widgets/base",
      "_view_module_version": "1.2.0",
      "_view_name": "LayoutView",
      "align_content": null,
      "align_items": null,
      "align_self": null,
      "border": null,
      "bottom": null,
      "display": null,
      "flex": null,
      "flex_flow": null,
      "grid_area": null,
      "grid_auto_columns": null,
      "grid_auto_flow": null,
      "grid_auto_rows": null,
      "grid_column": null,
      "grid_gap": null,
      "grid_row": null,
      "grid_template_areas": null,
      "grid_template_columns": null,
      "grid_template_rows": null,
      "height": null,
      "justify_content": null,
      "justify_items": null,
      "left": null,
      "margin": null,
      "max_height": null,
      "max_width": null,
      "min_height": null,
      "min_width": null,
      "object_fit": null,
      "object_position": null,
      "order": null,
      "overflow": null,
      "overflow_x": null,
      "overflow_y": null,
      "padding": null,
      "right": null,
      "top": null,
      "visibility": null,
      "width": null
     }
    },
    "0f99011a13754ed99f3c51a478b0e793": {
     "model_module": "@jupyter-widgets/controls",
     "model_name": "HBoxModel",
     "state": {
      "_dom_classes": [],
      "_model_module": "@jupyter-widgets/controls",
      "_model_module_version": "1.5.0",
      "_model_name": "HBoxModel",
      "_view_count": null,
      "_view_module": "@jupyter-widgets/controls",
      "_view_module_version": "1.5.0",
      "_view_name": "HBoxView",
      "box_style": "",
      "children": [
       "IPY_MODEL_bd187486ac2548f2961cfcb63d852de1",
       "IPY_MODEL_3f780f0aa8834fc189b292e0474e2ffa"
      ],
      "layout": "IPY_MODEL_4abe2731ec624729b401d60a392cae63"
     }
    },
    "0ffcbedb8d4444508ac0c3c0b41ea8ac": {
     "model_module": "@jupyter-widgets/base",
     "model_name": "LayoutModel",
     "state": {
      "_model_module": "@jupyter-widgets/base",
      "_model_module_version": "1.2.0",
      "_model_name": "LayoutModel",
      "_view_count": null,
      "_view_module": "@jupyter-widgets/base",
      "_view_module_version": "1.2.0",
      "_view_name": "LayoutView",
      "align_content": null,
      "align_items": null,
      "align_self": null,
      "border": null,
      "bottom": null,
      "display": null,
      "flex": null,
      "flex_flow": null,
      "grid_area": null,
      "grid_auto_columns": null,
      "grid_auto_flow": null,
      "grid_auto_rows": null,
      "grid_column": null,
      "grid_gap": null,
      "grid_row": null,
      "grid_template_areas": null,
      "grid_template_columns": null,
      "grid_template_rows": null,
      "height": null,
      "justify_content": null,
      "justify_items": null,
      "left": null,
      "margin": null,
      "max_height": null,
      "max_width": null,
      "min_height": null,
      "min_width": null,
      "object_fit": null,
      "object_position": null,
      "order": null,
      "overflow": null,
      "overflow_x": null,
      "overflow_y": null,
      "padding": null,
      "right": null,
      "top": null,
      "visibility": null,
      "width": null
     }
    },
    "1261590ef796493798f7068ea0547b74": {
     "model_module": "@jupyter-widgets/controls",
     "model_name": "ProgressStyleModel",
     "state": {
      "_model_module": "@jupyter-widgets/controls",
      "_model_module_version": "1.5.0",
      "_model_name": "ProgressStyleModel",
      "_view_count": null,
      "_view_module": "@jupyter-widgets/base",
      "_view_module_version": "1.2.0",
      "_view_name": "StyleView",
      "bar_color": null,
      "description_width": "initial"
     }
    },
    "12696cc03f464a63a411efb2b5e5ac3b": {
     "model_module": "@jupyter-widgets/controls",
     "model_name": "HTMLModel",
     "state": {
      "_dom_classes": [],
      "_model_module": "@jupyter-widgets/controls",
      "_model_module_version": "1.5.0",
      "_model_name": "HTMLModel",
      "_view_count": null,
      "_view_module": "@jupyter-widgets/controls",
      "_view_module_version": "1.5.0",
      "_view_name": "HTMLView",
      "description": "",
      "description_tooltip": null,
      "layout": "IPY_MODEL_ceb44ba4fdf34da19a52469acf1ce63f",
      "placeholder": "​",
      "style": "IPY_MODEL_68a3178fe7a54e838e798ff28ff9aa0b",
      "value": " 139k/? [00:00&lt;00:00, 2.38MB/s]"
     }
    },
    "1813458f75514f039ba0214597a09bb4": {
     "model_module": "@jupyter-widgets/base",
     "model_name": "LayoutModel",
     "state": {
      "_model_module": "@jupyter-widgets/base",
      "_model_module_version": "1.2.0",
      "_model_name": "LayoutModel",
      "_view_count": null,
      "_view_module": "@jupyter-widgets/base",
      "_view_module_version": "1.2.0",
      "_view_name": "LayoutView",
      "align_content": null,
      "align_items": null,
      "align_self": null,
      "border": null,
      "bottom": null,
      "display": null,
      "flex": null,
      "flex_flow": null,
      "grid_area": null,
      "grid_auto_columns": null,
      "grid_auto_flow": null,
      "grid_auto_rows": null,
      "grid_column": null,
      "grid_gap": null,
      "grid_row": null,
      "grid_template_areas": null,
      "grid_template_columns": null,
      "grid_template_rows": null,
      "height": null,
      "justify_content": null,
      "justify_items": null,
      "left": null,
      "margin": null,
      "max_height": null,
      "max_width": null,
      "min_height": null,
      "min_width": null,
      "object_fit": null,
      "object_position": null,
      "order": null,
      "overflow": null,
      "overflow_x": null,
      "overflow_y": null,
      "padding": null,
      "right": null,
      "top": null,
      "visibility": null,
      "width": null
     }
    },
    "19e263785ea343ba99ee2127d9b83d1d": {
     "model_module": "@jupyter-widgets/controls",
     "model_name": "DescriptionStyleModel",
     "state": {
      "_model_module": "@jupyter-widgets/controls",
      "_model_module_version": "1.5.0",
      "_model_name": "DescriptionStyleModel",
      "_view_count": null,
      "_view_module": "@jupyter-widgets/base",
      "_view_module_version": "1.2.0",
      "_view_name": "StyleView",
      "description_width": ""
     }
    },
    "1f1faa7b986e475c9e6839b2e7b55c74": {
     "model_module": "@jupyter-widgets/controls",
     "model_name": "HTMLModel",
     "state": {
      "_dom_classes": [],
      "_model_module": "@jupyter-widgets/controls",
      "_model_module_version": "1.5.0",
      "_model_name": "HTMLModel",
      "_view_count": null,
      "_view_module": "@jupyter-widgets/controls",
      "_view_module_version": "1.5.0",
      "_view_name": "HTMLView",
      "description": "",
      "description_tooltip": null,
      "layout": "IPY_MODEL_b320306eaf264ad9872d507a1a1cb2da",
      "placeholder": "​",
      "style": "IPY_MODEL_2ca2f397c4ef405bba27ae2b1415cada",
      "value": " 3478/3478 [03:59&lt;00:00, 14.53ex/s]"
     }
    },
    "20347ed29fdc4c0a96da28c09aacf44d": {
     "model_module": "@jupyter-widgets/controls",
     "model_name": "DescriptionStyleModel",
     "state": {
      "_model_module": "@jupyter-widgets/controls",
      "_model_module_version": "1.5.0",
      "_model_name": "DescriptionStyleModel",
      "_view_count": null,
      "_view_module": "@jupyter-widgets/base",
      "_view_module_version": "1.2.0",
      "_view_name": "StyleView",
      "description_width": ""
     }
    },
    "231c66f195d34f86b216805518f4bccd": {
     "model_module": "@jupyter-widgets/controls",
     "model_name": "ProgressStyleModel",
     "state": {
      "_model_module": "@jupyter-widgets/controls",
      "_model_module_version": "1.5.0",
      "_model_name": "ProgressStyleModel",
      "_view_count": null,
      "_view_module": "@jupyter-widgets/base",
      "_view_module_version": "1.2.0",
      "_view_name": "StyleView",
      "bar_color": null,
      "description_width": "initial"
     }
    },
    "24ea17ae8ab14e8a871e5e115c3f4c06": {
     "model_module": "@jupyter-widgets/controls",
     "model_name": "HBoxModel",
     "state": {
      "_dom_classes": [],
      "_model_module": "@jupyter-widgets/controls",
      "_model_module_version": "1.5.0",
      "_model_name": "HBoxModel",
      "_view_count": null,
      "_view_module": "@jupyter-widgets/controls",
      "_view_module_version": "1.5.0",
      "_view_name": "HBoxView",
      "box_style": "",
      "children": [
       "IPY_MODEL_f3905820a42c499fba04af9c1ad19705",
       "IPY_MODEL_4e1a725fd90b45e280b8b0028ba65250"
      ],
      "layout": "IPY_MODEL_f57d087016124ebeb073fd7428dcb68b"
     }
    },
    "25ba4f4c8b9c44af9885b3903a9261fd": {
     "model_module": "@jupyter-widgets/controls",
     "model_name": "HBoxModel",
     "state": {
      "_dom_classes": [],
      "_model_module": "@jupyter-widgets/controls",
      "_model_module_version": "1.5.0",
      "_model_name": "HBoxModel",
      "_view_count": null,
      "_view_module": "@jupyter-widgets/controls",
      "_view_module_version": "1.5.0",
      "_view_name": "HBoxView",
      "box_style": "",
      "children": [
       "IPY_MODEL_03b33c17734d49e28c4636dddd6e833d",
       "IPY_MODEL_71c059a0f3c246f3a40d55744331daaa"
      ],
      "layout": "IPY_MODEL_dde7ae43ef954ef1b901c80f0a4e11fd"
     }
    },
    "26e7bab0f3bf4797bfcef83dcace24f0": {
     "model_module": "@jupyter-widgets/base",
     "model_name": "LayoutModel",
     "state": {
      "_model_module": "@jupyter-widgets/base",
      "_model_module_version": "1.2.0",
      "_model_name": "LayoutModel",
      "_view_count": null,
      "_view_module": "@jupyter-widgets/base",
      "_view_module_version": "1.2.0",
      "_view_name": "LayoutView",
      "align_content": null,
      "align_items": null,
      "align_self": null,
      "border": null,
      "bottom": null,
      "display": null,
      "flex": null,
      "flex_flow": null,
      "grid_area": null,
      "grid_auto_columns": null,
      "grid_auto_flow": null,
      "grid_auto_rows": null,
      "grid_column": null,
      "grid_gap": null,
      "grid_row": null,
      "grid_template_areas": null,
      "grid_template_columns": null,
      "grid_template_rows": null,
      "height": null,
      "justify_content": null,
      "justify_items": null,
      "left": null,
      "margin": null,
      "max_height": null,
      "max_width": null,
      "min_height": null,
      "min_width": null,
      "object_fit": null,
      "object_position": null,
      "order": null,
      "overflow": null,
      "overflow_x": null,
      "overflow_y": null,
      "padding": null,
      "right": null,
      "top": null,
      "visibility": null,
      "width": null
     }
    },
    "2a6e1185a6a247f5acba8111824ad36b": {
     "model_module": "@jupyter-widgets/controls",
     "model_name": "ProgressStyleModel",
     "state": {
      "_model_module": "@jupyter-widgets/controls",
      "_model_module_version": "1.5.0",
      "_model_name": "ProgressStyleModel",
      "_view_count": null,
      "_view_module": "@jupyter-widgets/base",
      "_view_module_version": "1.2.0",
      "_view_name": "StyleView",
      "bar_color": null,
      "description_width": "initial"
     }
    },
    "2ca2f397c4ef405bba27ae2b1415cada": {
     "model_module": "@jupyter-widgets/controls",
     "model_name": "DescriptionStyleModel",
     "state": {
      "_model_module": "@jupyter-widgets/controls",
      "_model_module_version": "1.5.0",
      "_model_name": "DescriptionStyleModel",
      "_view_count": null,
      "_view_module": "@jupyter-widgets/base",
      "_view_module_version": "1.2.0",
      "_view_name": "StyleView",
      "description_width": ""
     }
    },
    "2cd13e03a2ab45dc8570c8c739a613b4": {
     "model_module": "@jupyter-widgets/base",
     "model_name": "LayoutModel",
     "state": {
      "_model_module": "@jupyter-widgets/base",
      "_model_module_version": "1.2.0",
      "_model_name": "LayoutModel",
      "_view_count": null,
      "_view_module": "@jupyter-widgets/base",
      "_view_module_version": "1.2.0",
      "_view_name": "LayoutView",
      "align_content": null,
      "align_items": null,
      "align_self": null,
      "border": null,
      "bottom": null,
      "display": null,
      "flex": null,
      "flex_flow": null,
      "grid_area": null,
      "grid_auto_columns": null,
      "grid_auto_flow": null,
      "grid_auto_rows": null,
      "grid_column": null,
      "grid_gap": null,
      "grid_row": null,
      "grid_template_areas": null,
      "grid_template_columns": null,
      "grid_template_rows": null,
      "height": null,
      "justify_content": null,
      "justify_items": null,
      "left": null,
      "margin": null,
      "max_height": null,
      "max_width": null,
      "min_height": null,
      "min_width": null,
      "object_fit": null,
      "object_position": null,
      "order": null,
      "overflow": null,
      "overflow_x": null,
      "overflow_y": null,
      "padding": null,
      "right": null,
      "top": null,
      "visibility": null,
      "width": null
     }
    },
    "2f18d89c684343b69c3f44ffbb9b42a0": {
     "model_module": "@jupyter-widgets/controls",
     "model_name": "DescriptionStyleModel",
     "state": {
      "_model_module": "@jupyter-widgets/controls",
      "_model_module_version": "1.5.0",
      "_model_name": "DescriptionStyleModel",
      "_view_count": null,
      "_view_module": "@jupyter-widgets/base",
      "_view_module_version": "1.2.0",
      "_view_name": "StyleView",
      "description_width": ""
     }
    },
    "2f5406546970425282a881b5d2f7c248": {
     "model_module": "@jupyter-widgets/base",
     "model_name": "LayoutModel",
     "state": {
      "_model_module": "@jupyter-widgets/base",
      "_model_module_version": "1.2.0",
      "_model_name": "LayoutModel",
      "_view_count": null,
      "_view_module": "@jupyter-widgets/base",
      "_view_module_version": "1.2.0",
      "_view_name": "LayoutView",
      "align_content": null,
      "align_items": null,
      "align_self": null,
      "border": null,
      "bottom": null,
      "display": null,
      "flex": null,
      "flex_flow": null,
      "grid_area": null,
      "grid_auto_columns": null,
      "grid_auto_flow": null,
      "grid_auto_rows": null,
      "grid_column": null,
      "grid_gap": null,
      "grid_row": null,
      "grid_template_areas": null,
      "grid_template_columns": null,
      "grid_template_rows": null,
      "height": null,
      "justify_content": null,
      "justify_items": null,
      "left": null,
      "margin": null,
      "max_height": null,
      "max_width": null,
      "min_height": null,
      "min_width": null,
      "object_fit": null,
      "object_position": null,
      "order": null,
      "overflow": null,
      "overflow_x": null,
      "overflow_y": null,
      "padding": null,
      "right": null,
      "top": null,
      "visibility": null,
      "width": null
     }
    },
    "2f727c76652944e3892dd584bea11af2": {
     "model_module": "@jupyter-widgets/controls",
     "model_name": "ProgressStyleModel",
     "state": {
      "_model_module": "@jupyter-widgets/controls",
      "_model_module_version": "1.5.0",
      "_model_name": "ProgressStyleModel",
      "_view_count": null,
      "_view_module": "@jupyter-widgets/base",
      "_view_module_version": "1.2.0",
      "_view_name": "StyleView",
      "bar_color": null,
      "description_width": "initial"
     }
    },
    "2fd148d5587b4139919b0158f9dad71e": {
     "model_module": "@jupyter-widgets/base",
     "model_name": "LayoutModel",
     "state": {
      "_model_module": "@jupyter-widgets/base",
      "_model_module_version": "1.2.0",
      "_model_name": "LayoutModel",
      "_view_count": null,
      "_view_module": "@jupyter-widgets/base",
      "_view_module_version": "1.2.0",
      "_view_name": "LayoutView",
      "align_content": null,
      "align_items": null,
      "align_self": null,
      "border": null,
      "bottom": null,
      "display": null,
      "flex": null,
      "flex_flow": null,
      "grid_area": null,
      "grid_auto_columns": null,
      "grid_auto_flow": null,
      "grid_auto_rows": null,
      "grid_column": null,
      "grid_gap": null,
      "grid_row": null,
      "grid_template_areas": null,
      "grid_template_columns": null,
      "grid_template_rows": null,
      "height": null,
      "justify_content": null,
      "justify_items": null,
      "left": null,
      "margin": null,
      "max_height": null,
      "max_width": null,
      "min_height": null,
      "min_width": null,
      "object_fit": null,
      "object_position": null,
      "order": null,
      "overflow": null,
      "overflow_x": null,
      "overflow_y": null,
      "padding": null,
      "right": null,
      "top": null,
      "visibility": null,
      "width": null
     }
    },
    "304e9130c12f4110941bfbd3db49a28c": {
     "model_module": "@jupyter-widgets/controls",
     "model_name": "HBoxModel",
     "state": {
      "_dom_classes": [],
      "_model_module": "@jupyter-widgets/controls",
      "_model_module_version": "1.5.0",
      "_model_name": "HBoxModel",
      "_view_count": null,
      "_view_module": "@jupyter-widgets/controls",
      "_view_module_version": "1.5.0",
      "_view_name": "HBoxView",
      "box_style": "",
      "children": [
       "IPY_MODEL_75e00c38605f44cfb584067db1160349",
       "IPY_MODEL_8c07a528fc4a4e108b393ab117fe2e46"
      ],
      "layout": "IPY_MODEL_5e6bae23461b4378b6e5fc890fe6bc97"
     }
    },
    "3133b378b9294a759c8dfb786ed8f815": {
     "model_module": "@jupyter-widgets/controls",
     "model_name": "ProgressStyleModel",
     "state": {
      "_model_module": "@jupyter-widgets/controls",
      "_model_module_version": "1.5.0",
      "_model_name": "ProgressStyleModel",
      "_view_count": null,
      "_view_module": "@jupyter-widgets/base",
      "_view_module_version": "1.2.0",
      "_view_name": "StyleView",
      "bar_color": null,
      "description_width": "initial"
     }
    },
    "330226a977694de1bd88c0aa3789be47": {
     "model_module": "@jupyter-widgets/base",
     "model_name": "LayoutModel",
     "state": {
      "_model_module": "@jupyter-widgets/base",
      "_model_module_version": "1.2.0",
      "_model_name": "LayoutModel",
      "_view_count": null,
      "_view_module": "@jupyter-widgets/base",
      "_view_module_version": "1.2.0",
      "_view_name": "LayoutView",
      "align_content": null,
      "align_items": null,
      "align_self": null,
      "border": null,
      "bottom": null,
      "display": null,
      "flex": null,
      "flex_flow": null,
      "grid_area": null,
      "grid_auto_columns": null,
      "grid_auto_flow": null,
      "grid_auto_rows": null,
      "grid_column": null,
      "grid_gap": null,
      "grid_row": null,
      "grid_template_areas": null,
      "grid_template_columns": null,
      "grid_template_rows": null,
      "height": null,
      "justify_content": null,
      "justify_items": null,
      "left": null,
      "margin": null,
      "max_height": null,
      "max_width": null,
      "min_height": null,
      "min_width": null,
      "object_fit": null,
      "object_position": null,
      "order": null,
      "overflow": null,
      "overflow_x": null,
      "overflow_y": null,
      "padding": null,
      "right": null,
      "top": null,
      "visibility": null,
      "width": null
     }
    },
    "33c92b5afd1d4b6d88016aabfb434194": {
     "model_module": "@jupyter-widgets/controls",
     "model_name": "FloatProgressModel",
     "state": {
      "_dom_classes": [],
      "_model_module": "@jupyter-widgets/controls",
      "_model_module_version": "1.5.0",
      "_model_name": "FloatProgressModel",
      "_view_count": null,
      "_view_module": "@jupyter-widgets/controls",
      "_view_module_version": "1.5.0",
      "_view_name": "ProgressView",
      "bar_style": "success",
      "description": "100%",
      "description_tooltip": null,
      "layout": "IPY_MODEL_3dc9ea77b842455a91f00e9ca9f41948",
      "max": 1647,
      "min": 0,
      "orientation": "horizontal",
      "style": "IPY_MODEL_45f0a2f361da4608bc8314a27657a56c",
      "value": 1647
     }
    },
    "348ef54c80b2449f8a3bc950cccd62cc": {
     "model_module": "@jupyter-widgets/controls",
     "model_name": "HBoxModel",
     "state": {
      "_dom_classes": [],
      "_model_module": "@jupyter-widgets/controls",
      "_model_module_version": "1.5.0",
      "_model_name": "HBoxModel",
      "_view_count": null,
      "_view_module": "@jupyter-widgets/controls",
      "_view_module_version": "1.5.0",
      "_view_name": "HBoxView",
      "box_style": "",
      "children": [
       "IPY_MODEL_7edbecaccdd94ede8fddc0e1807e777e",
       "IPY_MODEL_5e3aad95e52f4be2bd670d1345398f1b"
      ],
      "layout": "IPY_MODEL_b78413dcc0584a0c8f71731a06aaa1b8"
     }
    },
    "389e43e47a734193a507817ebad955f7": {
     "model_module": "@jupyter-widgets/base",
     "model_name": "LayoutModel",
     "state": {
      "_model_module": "@jupyter-widgets/base",
      "_model_module_version": "1.2.0",
      "_model_name": "LayoutModel",
      "_view_count": null,
      "_view_module": "@jupyter-widgets/base",
      "_view_module_version": "1.2.0",
      "_view_name": "LayoutView",
      "align_content": null,
      "align_items": null,
      "align_self": null,
      "border": null,
      "bottom": null,
      "display": null,
      "flex": null,
      "flex_flow": null,
      "grid_area": null,
      "grid_auto_columns": null,
      "grid_auto_flow": null,
      "grid_auto_rows": null,
      "grid_column": null,
      "grid_gap": null,
      "grid_row": null,
      "grid_template_areas": null,
      "grid_template_columns": null,
      "grid_template_rows": null,
      "height": null,
      "justify_content": null,
      "justify_items": null,
      "left": null,
      "margin": null,
      "max_height": null,
      "max_width": null,
      "min_height": null,
      "min_width": null,
      "object_fit": null,
      "object_position": null,
      "order": null,
      "overflow": null,
      "overflow_x": null,
      "overflow_y": null,
      "padding": null,
      "right": null,
      "top": null,
      "visibility": null,
      "width": null
     }
    },
    "3bdb4058f40f40e3a10e323325a64638": {
     "model_module": "@jupyter-widgets/controls",
     "model_name": "HTMLModel",
     "state": {
      "_dom_classes": [],
      "_model_module": "@jupyter-widgets/controls",
      "_model_module_version": "1.5.0",
      "_model_name": "HTMLModel",
      "_view_count": null,
      "_view_module": "@jupyter-widgets/controls",
      "_view_module_version": "1.5.0",
      "_view_name": "HTMLView",
      "description": "",
      "description_tooltip": null,
      "layout": "IPY_MODEL_d7f27e9cf8a844349ca90393e0c49a03",
      "placeholder": "​",
      "style": "IPY_MODEL_751ae6b9e2da4b85be9600561485f1ac",
      "value": " 412/412 [03:04&lt;00:00,  2.23ex/s]"
     }
    },
    "3d929b9e2518402b81a71757ffb753d2": {
     "model_module": "@jupyter-widgets/base",
     "model_name": "LayoutModel",
     "state": {
      "_model_module": "@jupyter-widgets/base",
      "_model_module_version": "1.2.0",
      "_model_name": "LayoutModel",
      "_view_count": null,
      "_view_module": "@jupyter-widgets/base",
      "_view_module_version": "1.2.0",
      "_view_name": "LayoutView",
      "align_content": null,
      "align_items": null,
      "align_self": null,
      "border": null,
      "bottom": null,
      "display": null,
      "flex": null,
      "flex_flow": null,
      "grid_area": null,
      "grid_auto_columns": null,
      "grid_auto_flow": null,
      "grid_auto_rows": null,
      "grid_column": null,
      "grid_gap": null,
      "grid_row": null,
      "grid_template_areas": null,
      "grid_template_columns": null,
      "grid_template_rows": null,
      "height": null,
      "justify_content": null,
      "justify_items": null,
      "left": null,
      "margin": null,
      "max_height": null,
      "max_width": null,
      "min_height": null,
      "min_width": null,
      "object_fit": null,
      "object_position": null,
      "order": null,
      "overflow": null,
      "overflow_x": null,
      "overflow_y": null,
      "padding": null,
      "right": null,
      "top": null,
      "visibility": null,
      "width": null
     }
    },
    "3dc9ea77b842455a91f00e9ca9f41948": {
     "model_module": "@jupyter-widgets/base",
     "model_name": "LayoutModel",
     "state": {
      "_model_module": "@jupyter-widgets/base",
      "_model_module_version": "1.2.0",
      "_model_name": "LayoutModel",
      "_view_count": null,
      "_view_module": "@jupyter-widgets/base",
      "_view_module_version": "1.2.0",
      "_view_name": "LayoutView",
      "align_content": null,
      "align_items": null,
      "align_self": null,
      "border": null,
      "bottom": null,
      "display": null,
      "flex": null,
      "flex_flow": null,
      "grid_area": null,
      "grid_auto_columns": null,
      "grid_auto_flow": null,
      "grid_auto_rows": null,
      "grid_column": null,
      "grid_gap": null,
      "grid_row": null,
      "grid_template_areas": null,
      "grid_template_columns": null,
      "grid_template_rows": null,
      "height": null,
      "justify_content": null,
      "justify_items": null,
      "left": null,
      "margin": null,
      "max_height": null,
      "max_width": null,
      "min_height": null,
      "min_width": null,
      "object_fit": null,
      "object_position": null,
      "order": null,
      "overflow": null,
      "overflow_x": null,
      "overflow_y": null,
      "padding": null,
      "right": null,
      "top": null,
      "visibility": null,
      "width": null
     }
    },
    "3e2cd59ac697495f8db14b894b783f95": {
     "model_module": "@jupyter-widgets/base",
     "model_name": "LayoutModel",
     "state": {
      "_model_module": "@jupyter-widgets/base",
      "_model_module_version": "1.2.0",
      "_model_name": "LayoutModel",
      "_view_count": null,
      "_view_module": "@jupyter-widgets/base",
      "_view_module_version": "1.2.0",
      "_view_name": "LayoutView",
      "align_content": null,
      "align_items": null,
      "align_self": null,
      "border": null,
      "bottom": null,
      "display": null,
      "flex": null,
      "flex_flow": null,
      "grid_area": null,
      "grid_auto_columns": null,
      "grid_auto_flow": null,
      "grid_auto_rows": null,
      "grid_column": null,
      "grid_gap": null,
      "grid_row": null,
      "grid_template_areas": null,
      "grid_template_columns": null,
      "grid_template_rows": null,
      "height": null,
      "justify_content": null,
      "justify_items": null,
      "left": null,
      "margin": null,
      "max_height": null,
      "max_width": null,
      "min_height": null,
      "min_width": null,
      "object_fit": null,
      "object_position": null,
      "order": null,
      "overflow": null,
      "overflow_x": null,
      "overflow_y": null,
      "padding": null,
      "right": null,
      "top": null,
      "visibility": null,
      "width": null
     }
    },
    "3e3a022a9f304b0f9f7ef067fcee1e56": {
     "model_module": "@jupyter-widgets/base",
     "model_name": "LayoutModel",
     "state": {
      "_model_module": "@jupyter-widgets/base",
      "_model_module_version": "1.2.0",
      "_model_name": "LayoutModel",
      "_view_count": null,
      "_view_module": "@jupyter-widgets/base",
      "_view_module_version": "1.2.0",
      "_view_name": "LayoutView",
      "align_content": null,
      "align_items": null,
      "align_self": null,
      "border": null,
      "bottom": null,
      "display": null,
      "flex": null,
      "flex_flow": null,
      "grid_area": null,
      "grid_auto_columns": null,
      "grid_auto_flow": null,
      "grid_auto_rows": null,
      "grid_column": null,
      "grid_gap": null,
      "grid_row": null,
      "grid_template_areas": null,
      "grid_template_columns": null,
      "grid_template_rows": null,
      "height": null,
      "justify_content": null,
      "justify_items": null,
      "left": null,
      "margin": null,
      "max_height": null,
      "max_width": null,
      "min_height": null,
      "min_width": null,
      "object_fit": null,
      "object_position": null,
      "order": null,
      "overflow": null,
      "overflow_x": null,
      "overflow_y": null,
      "padding": null,
      "right": null,
      "top": null,
      "visibility": null,
      "width": null
     }
    },
    "3ec3285e9f3e4a5abcefabb7f140f4a3": {
     "model_module": "@jupyter-widgets/controls",
     "model_name": "ProgressStyleModel",
     "state": {
      "_model_module": "@jupyter-widgets/controls",
      "_model_module_version": "1.5.0",
      "_model_name": "ProgressStyleModel",
      "_view_count": null,
      "_view_module": "@jupyter-widgets/base",
      "_view_module_version": "1.2.0",
      "_view_name": "StyleView",
      "bar_color": null,
      "description_width": "initial"
     }
    },
    "3f780f0aa8834fc189b292e0474e2ffa": {
     "model_module": "@jupyter-widgets/controls",
     "model_name": "HTMLModel",
     "state": {
      "_dom_classes": [],
      "_model_module": "@jupyter-widgets/controls",
      "_model_module_version": "1.5.0",
      "_model_name": "HTMLModel",
      "_view_count": null,
      "_view_module": "@jupyter-widgets/controls",
      "_view_module_version": "1.5.0",
      "_view_name": "HTMLView",
      "description": "",
      "description_tooltip": null,
      "layout": "IPY_MODEL_a868dea9d9b047a4b853b390e138e4c1",
      "placeholder": "​",
      "style": "IPY_MODEL_ec36a94ee2574ac8b227ccaefdee5520",
      "value": " 52/52 [00:31&lt;00:00,  1.67ba/s]"
     }
    },
    "405b5de4ae854cf9896f63d15f2207dd": {
     "model_module": "@jupyter-widgets/controls",
     "model_name": "DescriptionStyleModel",
     "state": {
      "_model_module": "@jupyter-widgets/controls",
      "_model_module_version": "1.5.0",
      "_model_name": "DescriptionStyleModel",
      "_view_count": null,
      "_view_module": "@jupyter-widgets/base",
      "_view_module_version": "1.2.0",
      "_view_name": "StyleView",
      "description_width": ""
     }
    },
    "416badb151ee4660b53fdbc136e0c8fb": {
     "model_module": "@jupyter-widgets/controls",
     "model_name": "HTMLModel",
     "state": {
      "_dom_classes": [],
      "_model_module": "@jupyter-widgets/controls",
      "_model_module_version": "1.5.0",
      "_model_name": "HTMLModel",
      "_view_count": null,
      "_view_module": "@jupyter-widgets/controls",
      "_view_module_version": "1.5.0",
      "_view_name": "HTMLView",
      "description": "",
      "description_tooltip": null,
      "layout": "IPY_MODEL_0f3756509e3b405d87936f599b153de2",
      "placeholder": "​",
      "style": "IPY_MODEL_824569c63ec445c08362659ca228dd2a",
      "value": " 412/412 [03:01&lt;00:00,  2.28ex/s]"
     }
    },
    "430c3c079d0e4006b90e72df7986ffb0": {
     "model_module": "@jupyter-widgets/base",
     "model_name": "LayoutModel",
     "state": {
      "_model_module": "@jupyter-widgets/base",
      "_model_module_version": "1.2.0",
      "_model_name": "LayoutModel",
      "_view_count": null,
      "_view_module": "@jupyter-widgets/base",
      "_view_module_version": "1.2.0",
      "_view_name": "LayoutView",
      "align_content": null,
      "align_items": null,
      "align_self": null,
      "border": null,
      "bottom": null,
      "display": null,
      "flex": null,
      "flex_flow": null,
      "grid_area": null,
      "grid_auto_columns": null,
      "grid_auto_flow": null,
      "grid_auto_rows": null,
      "grid_column": null,
      "grid_gap": null,
      "grid_row": null,
      "grid_template_areas": null,
      "grid_template_columns": null,
      "grid_template_rows": null,
      "height": null,
      "justify_content": null,
      "justify_items": null,
      "left": null,
      "margin": null,
      "max_height": null,
      "max_width": null,
      "min_height": null,
      "min_width": null,
      "object_fit": null,
      "object_position": null,
      "order": null,
      "overflow": null,
      "overflow_x": null,
      "overflow_y": null,
      "padding": null,
      "right": null,
      "top": null,
      "visibility": null,
      "width": null
     }
    },
    "4382726ef043441a9b1a4a647d84f242": {
     "model_module": "@jupyter-widgets/controls",
     "model_name": "ProgressStyleModel",
     "state": {
      "_model_module": "@jupyter-widgets/controls",
      "_model_module_version": "1.5.0",
      "_model_name": "ProgressStyleModel",
      "_view_count": null,
      "_view_module": "@jupyter-widgets/base",
      "_view_module_version": "1.2.0",
      "_view_name": "StyleView",
      "bar_color": null,
      "description_width": "initial"
     }
    },
    "45f0a2f361da4608bc8314a27657a56c": {
     "model_module": "@jupyter-widgets/controls",
     "model_name": "ProgressStyleModel",
     "state": {
      "_model_module": "@jupyter-widgets/controls",
      "_model_module_version": "1.5.0",
      "_model_name": "ProgressStyleModel",
      "_view_count": null,
      "_view_module": "@jupyter-widgets/base",
      "_view_module_version": "1.2.0",
      "_view_name": "StyleView",
      "bar_color": null,
      "description_width": "initial"
     }
    },
    "4797f1acd9924b4e97f12f964c83078c": {
     "model_module": "@jupyter-widgets/controls",
     "model_name": "HBoxModel",
     "state": {
      "_dom_classes": [],
      "_model_module": "@jupyter-widgets/controls",
      "_model_module_version": "1.5.0",
      "_model_name": "HBoxModel",
      "_view_count": null,
      "_view_module": "@jupyter-widgets/controls",
      "_view_module_version": "1.5.0",
      "_view_name": "HBoxView",
      "box_style": "",
      "children": [
       "IPY_MODEL_5370c0f2d54b45c0a89f11fb5b70cd4b",
       "IPY_MODEL_018c1f8e198e4df4b480e609bd1be602"
      ],
      "layout": "IPY_MODEL_73940df84ffd4e0f96637342e9fd12b7"
     }
    },
    "47a6c3c427614f21a6dab1c048e5dd37": {
     "model_module": "@jupyter-widgets/base",
     "model_name": "LayoutModel",
     "state": {
      "_model_module": "@jupyter-widgets/base",
      "_model_module_version": "1.2.0",
      "_model_name": "LayoutModel",
      "_view_count": null,
      "_view_module": "@jupyter-widgets/base",
      "_view_module_version": "1.2.0",
      "_view_name": "LayoutView",
      "align_content": null,
      "align_items": null,
      "align_self": null,
      "border": null,
      "bottom": null,
      "display": null,
      "flex": null,
      "flex_flow": null,
      "grid_area": null,
      "grid_auto_columns": null,
      "grid_auto_flow": null,
      "grid_auto_rows": null,
      "grid_column": null,
      "grid_gap": null,
      "grid_row": null,
      "grid_template_areas": null,
      "grid_template_columns": null,
      "grid_template_rows": null,
      "height": null,
      "justify_content": null,
      "justify_items": null,
      "left": null,
      "margin": null,
      "max_height": null,
      "max_width": null,
      "min_height": null,
      "min_width": null,
      "object_fit": null,
      "object_position": null,
      "order": null,
      "overflow": null,
      "overflow_x": null,
      "overflow_y": null,
      "padding": null,
      "right": null,
      "top": null,
      "visibility": null,
      "width": null
     }
    },
    "491fd969d61a478f8e85ffcd3e1a3e20": {
     "model_module": "@jupyter-widgets/base",
     "model_name": "LayoutModel",
     "state": {
      "_model_module": "@jupyter-widgets/base",
      "_model_module_version": "1.2.0",
      "_model_name": "LayoutModel",
      "_view_count": null,
      "_view_module": "@jupyter-widgets/base",
      "_view_module_version": "1.2.0",
      "_view_name": "LayoutView",
      "align_content": null,
      "align_items": null,
      "align_self": null,
      "border": null,
      "bottom": null,
      "display": null,
      "flex": null,
      "flex_flow": null,
      "grid_area": null,
      "grid_auto_columns": null,
      "grid_auto_flow": null,
      "grid_auto_rows": null,
      "grid_column": null,
      "grid_gap": null,
      "grid_row": null,
      "grid_template_areas": null,
      "grid_template_columns": null,
      "grid_template_rows": null,
      "height": null,
      "justify_content": null,
      "justify_items": null,
      "left": null,
      "margin": null,
      "max_height": null,
      "max_width": null,
      "min_height": null,
      "min_width": null,
      "object_fit": null,
      "object_position": null,
      "order": null,
      "overflow": null,
      "overflow_x": null,
      "overflow_y": null,
      "padding": null,
      "right": null,
      "top": null,
      "visibility": null,
      "width": null
     }
    },
    "49defa4284554baf85f32de242b22709": {
     "model_module": "@jupyter-widgets/controls",
     "model_name": "ProgressStyleModel",
     "state": {
      "_model_module": "@jupyter-widgets/controls",
      "_model_module_version": "1.5.0",
      "_model_name": "ProgressStyleModel",
      "_view_count": null,
      "_view_module": "@jupyter-widgets/base",
      "_view_module_version": "1.2.0",
      "_view_name": "StyleView",
      "bar_color": null,
      "description_width": "initial"
     }
    },
    "4abe2731ec624729b401d60a392cae63": {
     "model_module": "@jupyter-widgets/base",
     "model_name": "LayoutModel",
     "state": {
      "_model_module": "@jupyter-widgets/base",
      "_model_module_version": "1.2.0",
      "_model_name": "LayoutModel",
      "_view_count": null,
      "_view_module": "@jupyter-widgets/base",
      "_view_module_version": "1.2.0",
      "_view_name": "LayoutView",
      "align_content": null,
      "align_items": null,
      "align_self": null,
      "border": null,
      "bottom": null,
      "display": null,
      "flex": null,
      "flex_flow": null,
      "grid_area": null,
      "grid_auto_columns": null,
      "grid_auto_flow": null,
      "grid_auto_rows": null,
      "grid_column": null,
      "grid_gap": null,
      "grid_row": null,
      "grid_template_areas": null,
      "grid_template_columns": null,
      "grid_template_rows": null,
      "height": null,
      "justify_content": null,
      "justify_items": null,
      "left": null,
      "margin": null,
      "max_height": null,
      "max_width": null,
      "min_height": null,
      "min_width": null,
      "object_fit": null,
      "object_position": null,
      "order": null,
      "overflow": null,
      "overflow_x": null,
      "overflow_y": null,
      "padding": null,
      "right": null,
      "top": null,
      "visibility": null,
      "width": null
     }
    },
    "4c0ad31e73234e46aac0a297ec18bdeb": {
     "model_module": "@jupyter-widgets/controls",
     "model_name": "ProgressStyleModel",
     "state": {
      "_model_module": "@jupyter-widgets/controls",
      "_model_module_version": "1.5.0",
      "_model_name": "ProgressStyleModel",
      "_view_count": null,
      "_view_module": "@jupyter-widgets/base",
      "_view_module_version": "1.2.0",
      "_view_name": "StyleView",
      "bar_color": null,
      "description_width": "initial"
     }
    },
    "4db5037af3f64a3a8a8a1203018a80ff": {
     "model_module": "@jupyter-widgets/controls",
     "model_name": "FloatProgressModel",
     "state": {
      "_dom_classes": [],
      "_model_module": "@jupyter-widgets/controls",
      "_model_module_version": "1.5.0",
      "_model_name": "FloatProgressModel",
      "_view_count": null,
      "_view_module": "@jupyter-widgets/controls",
      "_view_module_version": "1.5.0",
      "_view_name": "ProgressView",
      "bar_style": "info",
      "description": "",
      "description_tooltip": null,
      "layout": "IPY_MODEL_c0e6b6e6395d4dbd827eb1c0de1ad21a",
      "max": 1,
      "min": 0,
      "orientation": "horizontal",
      "style": "IPY_MODEL_2a6e1185a6a247f5acba8111824ad36b",
      "value": 1
     }
    },
    "4e1a725fd90b45e280b8b0028ba65250": {
     "model_module": "@jupyter-widgets/controls",
     "model_name": "HTMLModel",
     "state": {
      "_dom_classes": [],
      "_model_module": "@jupyter-widgets/controls",
      "_model_module_version": "1.5.0",
      "_model_name": "HTMLModel",
      "_view_count": null,
      "_view_module": "@jupyter-widgets/controls",
      "_view_module_version": "1.5.0",
      "_view_name": "HTMLView",
      "description": "",
      "description_tooltip": null,
      "layout": "IPY_MODEL_491fd969d61a478f8e85ffcd3e1a3e20",
      "placeholder": "​",
      "style": "IPY_MODEL_9f79629ad6a94201acf3283862d1ae17",
      "value": " 869/869 [05:48&lt;00:00,  2.49ex/s]"
     }
    },
    "4f8957dc035d4c1a9e8630fc8ab8cd10": {
     "model_module": "@jupyter-widgets/controls",
     "model_name": "FloatProgressModel",
     "state": {
      "_dom_classes": [],
      "_model_module": "@jupyter-widgets/controls",
      "_model_module_version": "1.5.0",
      "_model_name": "FloatProgressModel",
      "_view_count": null,
      "_view_module": "@jupyter-widgets/controls",
      "_view_module_version": "1.5.0",
      "_view_name": "ProgressView",
      "bar_style": "success",
      "description": "#1: 100%",
      "description_tooltip": null,
      "layout": "IPY_MODEL_47a6c3c427614f21a6dab1c048e5dd37",
      "max": 870,
      "min": 0,
      "orientation": "horizontal",
      "style": "IPY_MODEL_596aea0362924c7db583203268dd5a3e",
      "value": 870
     }
    },
    "4fb7347e9ca542e6ab9003bf4db218e0": {
     "model_module": "@jupyter-widgets/controls",
     "model_name": "HTMLModel",
     "state": {
      "_dom_classes": [],
      "_model_module": "@jupyter-widgets/controls",
      "_model_module_version": "1.5.0",
      "_model_name": "HTMLModel",
      "_view_count": null,
      "_view_module": "@jupyter-widgets/controls",
      "_view_module_version": "1.5.0",
      "_view_name": "HTMLView",
      "description": "",
      "description_tooltip": null,
      "layout": "IPY_MODEL_0987aac282af415da2fbc9dc1b4d5069",
      "placeholder": "​",
      "style": "IPY_MODEL_6d4a26d876fb4ac6b5948a09945bdc6b",
      "value": " 109/109 [00:58&lt;00:00,  1.88ba/s]"
     }
    },
    "4ff7ccffc36a4a0f93031f5cdc3b718d": {
     "model_module": "@jupyter-widgets/controls",
     "model_name": "ProgressStyleModel",
     "state": {
      "_model_module": "@jupyter-widgets/controls",
      "_model_module_version": "1.5.0",
      "_model_name": "ProgressStyleModel",
      "_view_count": null,
      "_view_module": "@jupyter-widgets/base",
      "_view_module_version": "1.2.0",
      "_view_name": "StyleView",
      "bar_color": null,
      "description_width": "initial"
     }
    },
    "5071a31d06f544a5b7340a4e863d8fdf": {
     "model_module": "@jupyter-widgets/controls",
     "model_name": "FloatProgressModel",
     "state": {
      "_dom_classes": [],
      "_model_module": "@jupyter-widgets/controls",
      "_model_module_version": "1.5.0",
      "_model_name": "FloatProgressModel",
      "_view_count": null,
      "_view_module": "@jupyter-widgets/controls",
      "_view_module_version": "1.5.0",
      "_view_name": "ProgressView",
      "bar_style": "success",
      "description": "#3: 100%",
      "description_tooltip": null,
      "layout": "IPY_MODEL_b2473405490e4556bf30c0cc81237aa5",
      "max": 109,
      "min": 0,
      "orientation": "horizontal",
      "style": "IPY_MODEL_49defa4284554baf85f32de242b22709",
      "value": 109
     }
    },
    "530f66ac087e4f8f979fcaa33941c60d": {
     "model_module": "@jupyter-widgets/controls",
     "model_name": "ProgressStyleModel",
     "state": {
      "_model_module": "@jupyter-widgets/controls",
      "_model_module_version": "1.5.0",
      "_model_name": "ProgressStyleModel",
      "_view_count": null,
      "_view_module": "@jupyter-widgets/base",
      "_view_module_version": "1.2.0",
      "_view_name": "StyleView",
      "bar_color": null,
      "description_width": "initial"
     }
    },
    "5370c0f2d54b45c0a89f11fb5b70cd4b": {
     "model_module": "@jupyter-widgets/controls",
     "model_name": "FloatProgressModel",
     "state": {
      "_dom_classes": [],
      "_model_module": "@jupyter-widgets/controls",
      "_model_module_version": "1.5.0",
      "_model_name": "FloatProgressModel",
      "_view_count": null,
      "_view_module": "@jupyter-widgets/controls",
      "_view_module_version": "1.5.0",
      "_view_name": "ProgressView",
      "bar_style": "success",
      "description": "#0: 100%",
      "description_tooltip": null,
      "layout": "IPY_MODEL_020bdb330b0d40f5b89697ff37025f69",
      "max": 109,
      "min": 0,
      "orientation": "horizontal",
      "style": "IPY_MODEL_fa7926bbe77e48b3a0648b45f5d2dc7a",
      "value": 109
     }
    },
    "540510088d3947f1b3cf6f4c983c1a53": {
     "model_module": "@jupyter-widgets/base",
     "model_name": "LayoutModel",
     "state": {
      "_model_module": "@jupyter-widgets/base",
      "_model_module_version": "1.2.0",
      "_model_name": "LayoutModel",
      "_view_count": null,
      "_view_module": "@jupyter-widgets/base",
      "_view_module_version": "1.2.0",
      "_view_name": "LayoutView",
      "align_content": null,
      "align_items": null,
      "align_self": null,
      "border": null,
      "bottom": null,
      "display": null,
      "flex": null,
      "flex_flow": null,
      "grid_area": null,
      "grid_auto_columns": null,
      "grid_auto_flow": null,
      "grid_auto_rows": null,
      "grid_column": null,
      "grid_gap": null,
      "grid_row": null,
      "grid_template_areas": null,
      "grid_template_columns": null,
      "grid_template_rows": null,
      "height": null,
      "justify_content": null,
      "justify_items": null,
      "left": null,
      "margin": null,
      "max_height": null,
      "max_width": null,
      "min_height": null,
      "min_width": null,
      "object_fit": null,
      "object_position": null,
      "order": null,
      "overflow": null,
      "overflow_x": null,
      "overflow_y": null,
      "padding": null,
      "right": null,
      "top": null,
      "visibility": null,
      "width": null
     }
    },
    "542027ba12f444d586e8072452badea0": {
     "model_module": "@jupyter-widgets/controls",
     "model_name": "HTMLModel",
     "state": {
      "_dom_classes": [],
      "_model_module": "@jupyter-widgets/controls",
      "_model_module_version": "1.5.0",
      "_model_name": "HTMLModel",
      "_view_count": null,
      "_view_module": "@jupyter-widgets/controls",
      "_view_module_version": "1.5.0",
      "_view_name": "HTMLView",
      "description": "",
      "description_tooltip": null,
      "layout": "IPY_MODEL_bc41384bbae04044b9780651c6b5a47c",
      "placeholder": "​",
      "style": "IPY_MODEL_02bdb06c176145feaa842b97ae58609c",
      "value": " 109/109 [00:58&lt;00:00,  1.88ba/s]"
     }
    },
    "55071fc1b7484620803aeba453e9af72": {
     "model_module": "@jupyter-widgets/base",
     "model_name": "LayoutModel",
     "state": {
      "_model_module": "@jupyter-widgets/base",
      "_model_module_version": "1.2.0",
      "_model_name": "LayoutModel",
      "_view_count": null,
      "_view_module": "@jupyter-widgets/base",
      "_view_module_version": "1.2.0",
      "_view_name": "LayoutView",
      "align_content": null,
      "align_items": null,
      "align_self": null,
      "border": null,
      "bottom": null,
      "display": null,
      "flex": null,
      "flex_flow": null,
      "grid_area": null,
      "grid_auto_columns": null,
      "grid_auto_flow": null,
      "grid_auto_rows": null,
      "grid_column": null,
      "grid_gap": null,
      "grid_row": null,
      "grid_template_areas": null,
      "grid_template_columns": null,
      "grid_template_rows": null,
      "height": null,
      "justify_content": null,
      "justify_items": null,
      "left": null,
      "margin": null,
      "max_height": null,
      "max_width": null,
      "min_height": null,
      "min_width": null,
      "object_fit": null,
      "object_position": null,
      "order": null,
      "overflow": null,
      "overflow_x": null,
      "overflow_y": null,
      "padding": null,
      "right": null,
      "top": null,
      "visibility": null,
      "width": null
     }
    },
    "56ad6231a0a04228be29ceecbc6b7c0e": {
     "model_module": "@jupyter-widgets/base",
     "model_name": "LayoutModel",
     "state": {
      "_model_module": "@jupyter-widgets/base",
      "_model_module_version": "1.2.0",
      "_model_name": "LayoutModel",
      "_view_count": null,
      "_view_module": "@jupyter-widgets/base",
      "_view_module_version": "1.2.0",
      "_view_name": "LayoutView",
      "align_content": null,
      "align_items": null,
      "align_self": null,
      "border": null,
      "bottom": null,
      "display": null,
      "flex": null,
      "flex_flow": null,
      "grid_area": null,
      "grid_auto_columns": null,
      "grid_auto_flow": null,
      "grid_auto_rows": null,
      "grid_column": null,
      "grid_gap": null,
      "grid_row": null,
      "grid_template_areas": null,
      "grid_template_columns": null,
      "grid_template_rows": null,
      "height": null,
      "justify_content": null,
      "justify_items": null,
      "left": null,
      "margin": null,
      "max_height": null,
      "max_width": null,
      "min_height": null,
      "min_width": null,
      "object_fit": null,
      "object_position": null,
      "order": null,
      "overflow": null,
      "overflow_x": null,
      "overflow_y": null,
      "padding": null,
      "right": null,
      "top": null,
      "visibility": null,
      "width": null
     }
    },
    "57198e3250374e1fa64c5a4be255861e": {
     "model_module": "@jupyter-widgets/controls",
     "model_name": "HTMLModel",
     "state": {
      "_dom_classes": [],
      "_model_module": "@jupyter-widgets/controls",
      "_model_module_version": "1.5.0",
      "_model_name": "HTMLModel",
      "_view_count": null,
      "_view_module": "@jupyter-widgets/controls",
      "_view_module_version": "1.5.0",
      "_view_name": "HTMLView",
      "description": "",
      "description_tooltip": null,
      "layout": "IPY_MODEL_8f737725708c4097a8caaf4da6229636",
      "placeholder": "​",
      "style": "IPY_MODEL_969080b52ad44ee997829986d198c505",
      "value": " 3.90k/? [00:00&lt;00:00, 23.0kB/s]"
     }
    },
    "579b6055028f473981ce789a0733a753": {
     "model_module": "@jupyter-widgets/controls",
     "model_name": "FloatProgressModel",
     "state": {
      "_dom_classes": [],
      "_model_module": "@jupyter-widgets/controls",
      "_model_module_version": "1.5.0",
      "_model_name": "FloatProgressModel",
      "_view_count": null,
      "_view_module": "@jupyter-widgets/controls",
      "_view_module_version": "1.5.0",
      "_view_name": "ProgressView",
      "bar_style": "success",
      "description": "#2: 100%",
      "description_tooltip": null,
      "layout": "IPY_MODEL_6de66d6b7a73434cbdc59b2109bdf0a0",
      "max": 109,
      "min": 0,
      "orientation": "horizontal",
      "style": "IPY_MODEL_3133b378b9294a759c8dfb786ed8f815",
      "value": 109
     }
    },
    "58f3e8002f984594ac05c973aa78ef69": {
     "model_module": "@jupyter-widgets/base",
     "model_name": "LayoutModel",
     "state": {
      "_model_module": "@jupyter-widgets/base",
      "_model_module_version": "1.2.0",
      "_model_name": "LayoutModel",
      "_view_count": null,
      "_view_module": "@jupyter-widgets/base",
      "_view_module_version": "1.2.0",
      "_view_name": "LayoutView",
      "align_content": null,
      "align_items": null,
      "align_self": null,
      "border": null,
      "bottom": null,
      "display": null,
      "flex": null,
      "flex_flow": null,
      "grid_area": null,
      "grid_auto_columns": null,
      "grid_auto_flow": null,
      "grid_auto_rows": null,
      "grid_column": null,
      "grid_gap": null,
      "grid_row": null,
      "grid_template_areas": null,
      "grid_template_columns": null,
      "grid_template_rows": null,
      "height": null,
      "justify_content": null,
      "justify_items": null,
      "left": null,
      "margin": null,
      "max_height": null,
      "max_width": null,
      "min_height": null,
      "min_width": null,
      "object_fit": null,
      "object_position": null,
      "order": null,
      "overflow": null,
      "overflow_x": null,
      "overflow_y": null,
      "padding": null,
      "right": null,
      "top": null,
      "visibility": null,
      "width": null
     }
    },
    "596aea0362924c7db583203268dd5a3e": {
     "model_module": "@jupyter-widgets/controls",
     "model_name": "ProgressStyleModel",
     "state": {
      "_model_module": "@jupyter-widgets/controls",
      "_model_module_version": "1.5.0",
      "_model_name": "ProgressStyleModel",
      "_view_count": null,
      "_view_module": "@jupyter-widgets/base",
      "_view_module_version": "1.2.0",
      "_view_name": "StyleView",
      "bar_color": null,
      "description_width": "initial"
     }
    },
    "59e0f5200068461cbfb256ad5479c4c8": {
     "model_module": "@jupyter-widgets/controls",
     "model_name": "DescriptionStyleModel",
     "state": {
      "_model_module": "@jupyter-widgets/controls",
      "_model_module_version": "1.5.0",
      "_model_name": "DescriptionStyleModel",
      "_view_count": null,
      "_view_module": "@jupyter-widgets/base",
      "_view_module_version": "1.2.0",
      "_view_name": "StyleView",
      "description_width": ""
     }
    },
    "5a5bc8b4a1c644dea08a60128d888d10": {
     "model_module": "@jupyter-widgets/controls",
     "model_name": "DescriptionStyleModel",
     "state": {
      "_model_module": "@jupyter-widgets/controls",
      "_model_module_version": "1.5.0",
      "_model_name": "DescriptionStyleModel",
      "_view_count": null,
      "_view_module": "@jupyter-widgets/base",
      "_view_module_version": "1.2.0",
      "_view_name": "StyleView",
      "description_width": ""
     }
    },
    "5ab30242cd154ec0b560c23c0f178546": {
     "model_module": "@jupyter-widgets/controls",
     "model_name": "ProgressStyleModel",
     "state": {
      "_model_module": "@jupyter-widgets/controls",
      "_model_module_version": "1.5.0",
      "_model_name": "ProgressStyleModel",
      "_view_count": null,
      "_view_module": "@jupyter-widgets/base",
      "_view_module_version": "1.2.0",
      "_view_name": "StyleView",
      "bar_color": null,
      "description_width": "initial"
     }
    },
    "5ccd12253fff448f9c15c9b03c70a408": {
     "model_module": "@jupyter-widgets/controls",
     "model_name": "HBoxModel",
     "state": {
      "_dom_classes": [],
      "_model_module": "@jupyter-widgets/controls",
      "_model_module_version": "1.5.0",
      "_model_name": "HBoxModel",
      "_view_count": null,
      "_view_module": "@jupyter-widgets/controls",
      "_view_module_version": "1.5.0",
      "_view_name": "HBoxView",
      "box_style": "",
      "children": [
       "IPY_MODEL_f203c54e7e054d97aa4d1097f320f611",
       "IPY_MODEL_6266a4019e124aff877bb55f21740180"
      ],
      "layout": "IPY_MODEL_330226a977694de1bd88c0aa3789be47"
     }
    },
    "5e3aad95e52f4be2bd670d1345398f1b": {
     "model_module": "@jupyter-widgets/controls",
     "model_name": "HTMLModel",
     "state": {
      "_dom_classes": [],
      "_model_module": "@jupyter-widgets/controls",
      "_model_module_version": "1.5.0",
      "_model_name": "HTMLModel",
      "_view_count": null,
      "_view_module": "@jupyter-widgets/controls",
      "_view_module_version": "1.5.0",
      "_view_name": "HTMLView",
      "description": "",
      "description_tooltip": null,
      "layout": "IPY_MODEL_99d5c44ea54b45ee9bd89380cb1ad189",
      "placeholder": "​",
      "style": "IPY_MODEL_7aa70322bdfe46938b583a20003093d5",
      "value": " 3478/3478 [03:16&lt;00:00, 17.67ex/s]"
     }
    },
    "5e6bae23461b4378b6e5fc890fe6bc97": {
     "model_module": "@jupyter-widgets/base",
     "model_name": "LayoutModel",
     "state": {
      "_model_module": "@jupyter-widgets/base",
      "_model_module_version": "1.2.0",
      "_model_name": "LayoutModel",
      "_view_count": null,
      "_view_module": "@jupyter-widgets/base",
      "_view_module_version": "1.2.0",
      "_view_name": "LayoutView",
      "align_content": null,
      "align_items": null,
      "align_self": null,
      "border": null,
      "bottom": null,
      "display": null,
      "flex": null,
      "flex_flow": null,
      "grid_area": null,
      "grid_auto_columns": null,
      "grid_auto_flow": null,
      "grid_auto_rows": null,
      "grid_column": null,
      "grid_gap": null,
      "grid_row": null,
      "grid_template_areas": null,
      "grid_template_columns": null,
      "grid_template_rows": null,
      "height": null,
      "justify_content": null,
      "justify_items": null,
      "left": null,
      "margin": null,
      "max_height": null,
      "max_width": null,
      "min_height": null,
      "min_width": null,
      "object_fit": null,
      "object_position": null,
      "order": null,
      "overflow": null,
      "overflow_x": null,
      "overflow_y": null,
      "padding": null,
      "right": null,
      "top": null,
      "visibility": null,
      "width": null
     }
    },
    "5f48f54986924e418aa4ac22aa54b714": {
     "model_module": "@jupyter-widgets/controls",
     "model_name": "HBoxModel",
     "state": {
      "_dom_classes": [],
      "_model_module": "@jupyter-widgets/controls",
      "_model_module_version": "1.5.0",
      "_model_name": "HBoxModel",
      "_view_count": null,
      "_view_module": "@jupyter-widgets/controls",
      "_view_module_version": "1.5.0",
      "_view_name": "HBoxView",
      "box_style": "",
      "children": [
       "IPY_MODEL_a58c203a7cc54086aea45f2029821207",
       "IPY_MODEL_8d409ca0372a48e2972ca1d8eee5ffa1"
      ],
      "layout": "IPY_MODEL_db71db50799c404aafa4a54de8b9b799"
     }
    },
    "6266a4019e124aff877bb55f21740180": {
     "model_module": "@jupyter-widgets/controls",
     "model_name": "HTMLModel",
     "state": {
      "_dom_classes": [],
      "_model_module": "@jupyter-widgets/controls",
      "_model_module_version": "1.5.0",
      "_model_name": "HTMLModel",
      "_view_count": null,
      "_view_module": "@jupyter-widgets/controls",
      "_view_module_version": "1.5.0",
      "_view_name": "HTMLView",
      "description": "",
      "description_tooltip": null,
      "layout": "IPY_MODEL_55071fc1b7484620803aeba453e9af72",
      "placeholder": "​",
      "style": "IPY_MODEL_8ad3e4b211e34c048d0f48e36fdbfe48",
      "value": " 411/411 [02:58&lt;00:00,  2.30ex/s]"
     }
    },
    "6462bd9561e24abb98fce6ce4675d810": {
     "model_module": "@jupyter-widgets/controls",
     "model_name": "HBoxModel",
     "state": {
      "_dom_classes": [],
      "_model_module": "@jupyter-widgets/controls",
      "_model_module_version": "1.5.0",
      "_model_name": "HBoxModel",
      "_view_count": null,
      "_view_module": "@jupyter-widgets/controls",
      "_view_module_version": "1.5.0",
      "_view_name": "HBoxView",
      "box_style": "",
      "children": [
       "IPY_MODEL_e273548a15aa4d4994132b317adb66fc",
       "IPY_MODEL_f6930dd5519d4dfda64c597def220a30"
      ],
      "layout": "IPY_MODEL_bd3447291ce54812af10ac6245ea4328"
     }
    },
    "68a3178fe7a54e838e798ff28ff9aa0b": {
     "model_module": "@jupyter-widgets/controls",
     "model_name": "DescriptionStyleModel",
     "state": {
      "_model_module": "@jupyter-widgets/controls",
      "_model_module_version": "1.5.0",
      "_model_name": "DescriptionStyleModel",
      "_view_count": null,
      "_view_module": "@jupyter-widgets/base",
      "_view_module_version": "1.2.0",
      "_view_name": "StyleView",
      "description_width": ""
     }
    },
    "69828f4a101f4340916a4be141866904": {
     "model_module": "@jupyter-widgets/base",
     "model_name": "LayoutModel",
     "state": {
      "_model_module": "@jupyter-widgets/base",
      "_model_module_version": "1.2.0",
      "_model_name": "LayoutModel",
      "_view_count": null,
      "_view_module": "@jupyter-widgets/base",
      "_view_module_version": "1.2.0",
      "_view_name": "LayoutView",
      "align_content": null,
      "align_items": null,
      "align_self": null,
      "border": null,
      "bottom": null,
      "display": null,
      "flex": null,
      "flex_flow": null,
      "grid_area": null,
      "grid_auto_columns": null,
      "grid_auto_flow": null,
      "grid_auto_rows": null,
      "grid_column": null,
      "grid_gap": null,
      "grid_row": null,
      "grid_template_areas": null,
      "grid_template_columns": null,
      "grid_template_rows": null,
      "height": null,
      "justify_content": null,
      "justify_items": null,
      "left": null,
      "margin": null,
      "max_height": null,
      "max_width": null,
      "min_height": null,
      "min_width": null,
      "object_fit": null,
      "object_position": null,
      "order": null,
      "overflow": null,
      "overflow_x": null,
      "overflow_y": null,
      "padding": null,
      "right": null,
      "top": null,
      "visibility": null,
      "width": null
     }
    },
    "6a957c1c17474d8d89c27ddecf702fda": {
     "model_module": "@jupyter-widgets/controls",
     "model_name": "HTMLModel",
     "state": {
      "_dom_classes": [],
      "_model_module": "@jupyter-widgets/controls",
      "_model_module_version": "1.5.0",
      "_model_name": "HTMLModel",
      "_view_count": null,
      "_view_module": "@jupyter-widgets/controls",
      "_view_module_version": "1.5.0",
      "_view_name": "HTMLView",
      "description": "",
      "description_tooltip": null,
      "layout": "IPY_MODEL_91fcf0641fe3489ab96f3aaa40adf245",
      "placeholder": "​",
      "style": "IPY_MODEL_05f83d714f864a399083f0e34a812467",
      "value": " 1647/0 [00:00&lt;00:00, 14016.07 examples/s]"
     }
    },
    "6abfbe44a1bd4518b41f5f53f920e936": {
     "model_module": "@jupyter-widgets/base",
     "model_name": "LayoutModel",
     "state": {
      "_model_module": "@jupyter-widgets/base",
      "_model_module_version": "1.2.0",
      "_model_name": "LayoutModel",
      "_view_count": null,
      "_view_module": "@jupyter-widgets/base",
      "_view_module_version": "1.2.0",
      "_view_name": "LayoutView",
      "align_content": null,
      "align_items": null,
      "align_self": null,
      "border": null,
      "bottom": null,
      "display": null,
      "flex": null,
      "flex_flow": null,
      "grid_area": null,
      "grid_auto_columns": null,
      "grid_auto_flow": null,
      "grid_auto_rows": null,
      "grid_column": null,
      "grid_gap": null,
      "grid_row": null,
      "grid_template_areas": null,
      "grid_template_columns": null,
      "grid_template_rows": null,
      "height": null,
      "justify_content": null,
      "justify_items": null,
      "left": null,
      "margin": null,
      "max_height": null,
      "max_width": null,
      "min_height": null,
      "min_width": null,
      "object_fit": null,
      "object_position": null,
      "order": null,
      "overflow": null,
      "overflow_x": null,
      "overflow_y": null,
      "padding": null,
      "right": null,
      "top": null,
      "visibility": null,
      "width": null
     }
    },
    "6ba6d07674a34836be53cf173c2b61ca": {
     "model_module": "@jupyter-widgets/base",
     "model_name": "LayoutModel",
     "state": {
      "_model_module": "@jupyter-widgets/base",
      "_model_module_version": "1.2.0",
      "_model_name": "LayoutModel",
      "_view_count": null,
      "_view_module": "@jupyter-widgets/base",
      "_view_module_version": "1.2.0",
      "_view_name": "LayoutView",
      "align_content": null,
      "align_items": null,
      "align_self": null,
      "border": null,
      "bottom": null,
      "display": null,
      "flex": null,
      "flex_flow": null,
      "grid_area": null,
      "grid_auto_columns": null,
      "grid_auto_flow": null,
      "grid_auto_rows": null,
      "grid_column": null,
      "grid_gap": null,
      "grid_row": null,
      "grid_template_areas": null,
      "grid_template_columns": null,
      "grid_template_rows": null,
      "height": null,
      "justify_content": null,
      "justify_items": null,
      "left": null,
      "margin": null,
      "max_height": null,
      "max_width": null,
      "min_height": null,
      "min_width": null,
      "object_fit": null,
      "object_position": null,
      "order": null,
      "overflow": null,
      "overflow_x": null,
      "overflow_y": null,
      "padding": null,
      "right": null,
      "top": null,
      "visibility": null,
      "width": null
     }
    },
    "6c065aa34661469ca1efb4c5e90fe136": {
     "model_module": "@jupyter-widgets/controls",
     "model_name": "HBoxModel",
     "state": {
      "_dom_classes": [],
      "_model_module": "@jupyter-widgets/controls",
      "_model_module_version": "1.5.0",
      "_model_name": "HBoxModel",
      "_view_count": null,
      "_view_module": "@jupyter-widgets/controls",
      "_view_module_version": "1.5.0",
      "_view_name": "HBoxView",
      "box_style": "",
      "children": [
       "IPY_MODEL_0a9b58c98508420d8f8936189f064316",
       "IPY_MODEL_8dd5b08bb5bd4e608d04122424796ae7"
      ],
      "layout": "IPY_MODEL_540510088d3947f1b3cf6f4c983c1a53"
     }
    },
    "6d4a26d876fb4ac6b5948a09945bdc6b": {
     "model_module": "@jupyter-widgets/controls",
     "model_name": "DescriptionStyleModel",
     "state": {
      "_model_module": "@jupyter-widgets/controls",
      "_model_module_version": "1.5.0",
      "_model_name": "DescriptionStyleModel",
      "_view_count": null,
      "_view_module": "@jupyter-widgets/base",
      "_view_module_version": "1.2.0",
      "_view_name": "StyleView",
      "description_width": ""
     }
    },
    "6de66d6b7a73434cbdc59b2109bdf0a0": {
     "model_module": "@jupyter-widgets/base",
     "model_name": "LayoutModel",
     "state": {
      "_model_module": "@jupyter-widgets/base",
      "_model_module_version": "1.2.0",
      "_model_name": "LayoutModel",
      "_view_count": null,
      "_view_module": "@jupyter-widgets/base",
      "_view_module_version": "1.2.0",
      "_view_name": "LayoutView",
      "align_content": null,
      "align_items": null,
      "align_self": null,
      "border": null,
      "bottom": null,
      "display": null,
      "flex": null,
      "flex_flow": null,
      "grid_area": null,
      "grid_auto_columns": null,
      "grid_auto_flow": null,
      "grid_auto_rows": null,
      "grid_column": null,
      "grid_gap": null,
      "grid_row": null,
      "grid_template_areas": null,
      "grid_template_columns": null,
      "grid_template_rows": null,
      "height": null,
      "justify_content": null,
      "justify_items": null,
      "left": null,
      "margin": null,
      "max_height": null,
      "max_width": null,
      "min_height": null,
      "min_width": null,
      "object_fit": null,
      "object_position": null,
      "order": null,
      "overflow": null,
      "overflow_x": null,
      "overflow_y": null,
      "padding": null,
      "right": null,
      "top": null,
      "visibility": null,
      "width": null
     }
    },
    "6f60626242534f44a6381195e6eb6530": {
     "model_module": "@jupyter-widgets/controls",
     "model_name": "FloatProgressModel",
     "state": {
      "_dom_classes": [],
      "_model_module": "@jupyter-widgets/controls",
      "_model_module_version": "1.5.0",
      "_model_name": "FloatProgressModel",
      "_view_count": null,
      "_view_module": "@jupyter-widgets/controls",
      "_view_module_version": "1.5.0",
      "_view_name": "ProgressView",
      "bar_style": "success",
      "description": "#2: 100%",
      "description_tooltip": null,
      "layout": "IPY_MODEL_0ffcbedb8d4444508ac0c3c0b41ea8ac",
      "max": 52,
      "min": 0,
      "orientation": "horizontal",
      "style": "IPY_MODEL_5ab30242cd154ec0b560c23c0f178546",
      "value": 52
     }
    },
    "7040945accce4739a41746cc75bb7fce": {
     "model_module": "@jupyter-widgets/controls",
     "model_name": "HBoxModel",
     "state": {
      "_dom_classes": [],
      "_model_module": "@jupyter-widgets/controls",
      "_model_module_version": "1.5.0",
      "_model_name": "HBoxModel",
      "_view_count": null,
      "_view_module": "@jupyter-widgets/controls",
      "_view_module_version": "1.5.0",
      "_view_name": "HBoxView",
      "box_style": "",
      "children": [
       "IPY_MODEL_6f60626242534f44a6381195e6eb6530",
       "IPY_MODEL_9fee9d9dd1164d97a9109e942444c332"
      ],
      "layout": "IPY_MODEL_71011f0d2bc942ac8f9ea1d1fd30c78d"
     }
    },
    "704ea5e05fd744d998b76d6435992995": {
     "model_module": "@jupyter-widgets/controls",
     "model_name": "ProgressStyleModel",
     "state": {
      "_model_module": "@jupyter-widgets/controls",
      "_model_module_version": "1.5.0",
      "_model_name": "ProgressStyleModel",
      "_view_count": null,
      "_view_module": "@jupyter-widgets/base",
      "_view_module_version": "1.2.0",
      "_view_name": "StyleView",
      "bar_color": null,
      "description_width": "initial"
     }
    },
    "71011f0d2bc942ac8f9ea1d1fd30c78d": {
     "model_module": "@jupyter-widgets/base",
     "model_name": "LayoutModel",
     "state": {
      "_model_module": "@jupyter-widgets/base",
      "_model_module_version": "1.2.0",
      "_model_name": "LayoutModel",
      "_view_count": null,
      "_view_module": "@jupyter-widgets/base",
      "_view_module_version": "1.2.0",
      "_view_name": "LayoutView",
      "align_content": null,
      "align_items": null,
      "align_self": null,
      "border": null,
      "bottom": null,
      "display": null,
      "flex": null,
      "flex_flow": null,
      "grid_area": null,
      "grid_auto_columns": null,
      "grid_auto_flow": null,
      "grid_auto_rows": null,
      "grid_column": null,
      "grid_gap": null,
      "grid_row": null,
      "grid_template_areas": null,
      "grid_template_columns": null,
      "grid_template_rows": null,
      "height": null,
      "justify_content": null,
      "justify_items": null,
      "left": null,
      "margin": null,
      "max_height": null,
      "max_width": null,
      "min_height": null,
      "min_width": null,
      "object_fit": null,
      "object_position": null,
      "order": null,
      "overflow": null,
      "overflow_x": null,
      "overflow_y": null,
      "padding": null,
      "right": null,
      "top": null,
      "visibility": null,
      "width": null
     }
    },
    "71c059a0f3c246f3a40d55744331daaa": {
     "model_module": "@jupyter-widgets/controls",
     "model_name": "HTMLModel",
     "state": {
      "_dom_classes": [],
      "_model_module": "@jupyter-widgets/controls",
      "_model_module_version": "1.5.0",
      "_model_name": "HTMLModel",
      "_view_count": null,
      "_view_module": "@jupyter-widgets/controls",
      "_view_module_version": "1.5.0",
      "_view_name": "HTMLView",
      "description": "",
      "description_tooltip": null,
      "layout": "IPY_MODEL_430c3c079d0e4006b90e72df7986ffb0",
      "placeholder": "​",
      "style": "IPY_MODEL_cb5666eb8ebb4d1392e98d6b5af8761c",
      "value": " 325/0 [00:00&lt;00:00, 7071.04 examples/s]"
     }
    },
    "71ffdf6f26ba4381a8e671958e679f88": {
     "model_module": "@jupyter-widgets/controls",
     "model_name": "ProgressStyleModel",
     "state": {
      "_model_module": "@jupyter-widgets/controls",
      "_model_module_version": "1.5.0",
      "_model_name": "ProgressStyleModel",
      "_view_count": null,
      "_view_module": "@jupyter-widgets/base",
      "_view_module_version": "1.2.0",
      "_view_name": "StyleView",
      "bar_color": null,
      "description_width": "initial"
     }
    },
    "73940df84ffd4e0f96637342e9fd12b7": {
     "model_module": "@jupyter-widgets/base",
     "model_name": "LayoutModel",
     "state": {
      "_model_module": "@jupyter-widgets/base",
      "_model_module_version": "1.2.0",
      "_model_name": "LayoutModel",
      "_view_count": null,
      "_view_module": "@jupyter-widgets/base",
      "_view_module_version": "1.2.0",
      "_view_name": "LayoutView",
      "align_content": null,
      "align_items": null,
      "align_self": null,
      "border": null,
      "bottom": null,
      "display": null,
      "flex": null,
      "flex_flow": null,
      "grid_area": null,
      "grid_auto_columns": null,
      "grid_auto_flow": null,
      "grid_auto_rows": null,
      "grid_column": null,
      "grid_gap": null,
      "grid_row": null,
      "grid_template_areas": null,
      "grid_template_columns": null,
      "grid_template_rows": null,
      "height": null,
      "justify_content": null,
      "justify_items": null,
      "left": null,
      "margin": null,
      "max_height": null,
      "max_width": null,
      "min_height": null,
      "min_width": null,
      "object_fit": null,
      "object_position": null,
      "order": null,
      "overflow": null,
      "overflow_x": null,
      "overflow_y": null,
      "padding": null,
      "right": null,
      "top": null,
      "visibility": null,
      "width": null
     }
    },
    "73ecbfc3c5c5456bb42e19b8a34b1576": {
     "model_module": "@jupyter-widgets/base",
     "model_name": "LayoutModel",
     "state": {
      "_model_module": "@jupyter-widgets/base",
      "_model_module_version": "1.2.0",
      "_model_name": "LayoutModel",
      "_view_count": null,
      "_view_module": "@jupyter-widgets/base",
      "_view_module_version": "1.2.0",
      "_view_name": "LayoutView",
      "align_content": null,
      "align_items": null,
      "align_self": null,
      "border": null,
      "bottom": null,
      "display": null,
      "flex": null,
      "flex_flow": null,
      "grid_area": null,
      "grid_auto_columns": null,
      "grid_auto_flow": null,
      "grid_auto_rows": null,
      "grid_column": null,
      "grid_gap": null,
      "grid_row": null,
      "grid_template_areas": null,
      "grid_template_columns": null,
      "grid_template_rows": null,
      "height": null,
      "justify_content": null,
      "justify_items": null,
      "left": null,
      "margin": null,
      "max_height": null,
      "max_width": null,
      "min_height": null,
      "min_width": null,
      "object_fit": null,
      "object_position": null,
      "order": null,
      "overflow": null,
      "overflow_x": null,
      "overflow_y": null,
      "padding": null,
      "right": null,
      "top": null,
      "visibility": null,
      "width": null
     }
    },
    "751ae6b9e2da4b85be9600561485f1ac": {
     "model_module": "@jupyter-widgets/controls",
     "model_name": "DescriptionStyleModel",
     "state": {
      "_model_module": "@jupyter-widgets/controls",
      "_model_module_version": "1.5.0",
      "_model_name": "DescriptionStyleModel",
      "_view_count": null,
      "_view_module": "@jupyter-widgets/base",
      "_view_module_version": "1.2.0",
      "_view_name": "StyleView",
      "description_width": ""
     }
    },
    "757e7bd0e6c5410da0490d191b4e68c8": {
     "model_module": "@jupyter-widgets/controls",
     "model_name": "HTMLModel",
     "state": {
      "_dom_classes": [],
      "_model_module": "@jupyter-widgets/controls",
      "_model_module_version": "1.5.0",
      "_model_name": "HTMLModel",
      "_view_count": null,
      "_view_module": "@jupyter-widgets/controls",
      "_view_module_version": "1.5.0",
      "_view_name": "HTMLView",
      "description": "",
      "description_tooltip": null,
      "layout": "IPY_MODEL_9185f86719af476da41e3835e8f06f8d",
      "placeholder": "​",
      "style": "IPY_MODEL_0b795d4b68014de19bf9579c67b55ffb",
      "value": " 870/870 [05:35&lt;00:00,  2.59ex/s]"
     }
    },
    "75e00c38605f44cfb584067db1160349": {
     "model_module": "@jupyter-widgets/controls",
     "model_name": "FloatProgressModel",
     "state": {
      "_dom_classes": [],
      "_model_module": "@jupyter-widgets/controls",
      "_model_module_version": "1.5.0",
      "_model_name": "FloatProgressModel",
      "_view_count": null,
      "_view_module": "@jupyter-widgets/controls",
      "_view_module_version": "1.5.0",
      "_view_name": "ProgressView",
      "bar_style": "success",
      "description": "100%",
      "description_tooltip": null,
      "layout": "IPY_MODEL_73ecbfc3c5c5456bb42e19b8a34b1576",
      "max": 1,
      "min": 0,
      "orientation": "horizontal",
      "style": "IPY_MODEL_c01aca3229a24d41841be2b4a3a65bcc",
      "value": 1
     }
    },
    "768ab09956774f50a79b2493a8bf179b": {
     "model_module": "@jupyter-widgets/base",
     "model_name": "LayoutModel",
     "state": {
      "_model_module": "@jupyter-widgets/base",
      "_model_module_version": "1.2.0",
      "_model_name": "LayoutModel",
      "_view_count": null,
      "_view_module": "@jupyter-widgets/base",
      "_view_module_version": "1.2.0",
      "_view_name": "LayoutView",
      "align_content": null,
      "align_items": null,
      "align_self": null,
      "border": null,
      "bottom": null,
      "display": null,
      "flex": null,
      "flex_flow": null,
      "grid_area": null,
      "grid_auto_columns": null,
      "grid_auto_flow": null,
      "grid_auto_rows": null,
      "grid_column": null,
      "grid_gap": null,
      "grid_row": null,
      "grid_template_areas": null,
      "grid_template_columns": null,
      "grid_template_rows": null,
      "height": null,
      "justify_content": null,
      "justify_items": null,
      "left": null,
      "margin": null,
      "max_height": null,
      "max_width": null,
      "min_height": null,
      "min_width": null,
      "object_fit": null,
      "object_position": null,
      "order": null,
      "overflow": null,
      "overflow_x": null,
      "overflow_y": null,
      "padding": null,
      "right": null,
      "top": null,
      "visibility": null,
      "width": null
     }
    },
    "76d162d3ea0845cc837651a77a5a2d36": {
     "model_module": "@jupyter-widgets/controls",
     "model_name": "HBoxModel",
     "state": {
      "_dom_classes": [],
      "_model_module": "@jupyter-widgets/controls",
      "_model_module_version": "1.5.0",
      "_model_name": "HBoxModel",
      "_view_count": null,
      "_view_module": "@jupyter-widgets/controls",
      "_view_module_version": "1.5.0",
      "_view_name": "HBoxView",
      "box_style": "",
      "children": [
       "IPY_MODEL_f6b01ad0433a40178ef3ba5657bc1583",
       "IPY_MODEL_eed2ccc12daa4c71b080794a7a18f5cb"
      ],
      "layout": "IPY_MODEL_98c594f1e41e4b3fab10f0763bd93d75"
     }
    },
    "771959e46cb64b3ebafe931f96f5ff52": {
     "model_module": "@jupyter-widgets/controls",
     "model_name": "HBoxModel",
     "state": {
      "_dom_classes": [],
      "_model_module": "@jupyter-widgets/controls",
      "_model_module_version": "1.5.0",
      "_model_name": "HBoxModel",
      "_view_count": null,
      "_view_module": "@jupyter-widgets/controls",
      "_view_module_version": "1.5.0",
      "_view_name": "HBoxView",
      "box_style": "",
      "children": [
       "IPY_MODEL_f792530a76ee486688cbc2502dfae594",
       "IPY_MODEL_d69468d63dd74fdd807fe061b92aa84e"
      ],
      "layout": "IPY_MODEL_0e999af234bd4b63ad2937e61d08b693"
     }
    },
    "7916b06da182435a9cc1d13c73310500": {
     "model_module": "@jupyter-widgets/base",
     "model_name": "LayoutModel",
     "state": {
      "_model_module": "@jupyter-widgets/base",
      "_model_module_version": "1.2.0",
      "_model_name": "LayoutModel",
      "_view_count": null,
      "_view_module": "@jupyter-widgets/base",
      "_view_module_version": "1.2.0",
      "_view_name": "LayoutView",
      "align_content": null,
      "align_items": null,
      "align_self": null,
      "border": null,
      "bottom": null,
      "display": null,
      "flex": null,
      "flex_flow": null,
      "grid_area": null,
      "grid_auto_columns": null,
      "grid_auto_flow": null,
      "grid_auto_rows": null,
      "grid_column": null,
      "grid_gap": null,
      "grid_row": null,
      "grid_template_areas": null,
      "grid_template_columns": null,
      "grid_template_rows": null,
      "height": null,
      "justify_content": null,
      "justify_items": null,
      "left": null,
      "margin": null,
      "max_height": null,
      "max_width": null,
      "min_height": null,
      "min_width": null,
      "object_fit": null,
      "object_position": null,
      "order": null,
      "overflow": null,
      "overflow_x": null,
      "overflow_y": null,
      "padding": null,
      "right": null,
      "top": null,
      "visibility": null,
      "width": null
     }
    },
    "7aa70322bdfe46938b583a20003093d5": {
     "model_module": "@jupyter-widgets/controls",
     "model_name": "DescriptionStyleModel",
     "state": {
      "_model_module": "@jupyter-widgets/controls",
      "_model_module_version": "1.5.0",
      "_model_name": "DescriptionStyleModel",
      "_view_count": null,
      "_view_module": "@jupyter-widgets/base",
      "_view_module_version": "1.2.0",
      "_view_name": "StyleView",
      "description_width": ""
     }
    },
    "7b4cfd2b448643b8a4409dd612aef0d1": {
     "model_module": "@jupyter-widgets/base",
     "model_name": "LayoutModel",
     "state": {
      "_model_module": "@jupyter-widgets/base",
      "_model_module_version": "1.2.0",
      "_model_name": "LayoutModel",
      "_view_count": null,
      "_view_module": "@jupyter-widgets/base",
      "_view_module_version": "1.2.0",
      "_view_name": "LayoutView",
      "align_content": null,
      "align_items": null,
      "align_self": null,
      "border": null,
      "bottom": null,
      "display": null,
      "flex": null,
      "flex_flow": null,
      "grid_area": null,
      "grid_auto_columns": null,
      "grid_auto_flow": null,
      "grid_auto_rows": null,
      "grid_column": null,
      "grid_gap": null,
      "grid_row": null,
      "grid_template_areas": null,
      "grid_template_columns": null,
      "grid_template_rows": null,
      "height": null,
      "justify_content": null,
      "justify_items": null,
      "left": null,
      "margin": null,
      "max_height": null,
      "max_width": null,
      "min_height": null,
      "min_width": null,
      "object_fit": null,
      "object_position": null,
      "order": null,
      "overflow": null,
      "overflow_x": null,
      "overflow_y": null,
      "padding": null,
      "right": null,
      "top": null,
      "visibility": null,
      "width": null
     }
    },
    "7bf5b2b625764f63ad57a360c3fd0a61": {
     "model_module": "@jupyter-widgets/controls",
     "model_name": "DescriptionStyleModel",
     "state": {
      "_model_module": "@jupyter-widgets/controls",
      "_model_module_version": "1.5.0",
      "_model_name": "DescriptionStyleModel",
      "_view_count": null,
      "_view_module": "@jupyter-widgets/base",
      "_view_module_version": "1.2.0",
      "_view_name": "StyleView",
      "description_width": ""
     }
    },
    "7d62810674c8482abe46c60fc08884b4": {
     "model_module": "@jupyter-widgets/controls",
     "model_name": "ProgressStyleModel",
     "state": {
      "_model_module": "@jupyter-widgets/controls",
      "_model_module_version": "1.5.0",
      "_model_name": "ProgressStyleModel",
      "_view_count": null,
      "_view_module": "@jupyter-widgets/base",
      "_view_module_version": "1.2.0",
      "_view_name": "StyleView",
      "bar_color": null,
      "description_width": "initial"
     }
    },
    "7e50f8027fb74d669daae5e46082026c": {
     "model_module": "@jupyter-widgets/base",
     "model_name": "LayoutModel",
     "state": {
      "_model_module": "@jupyter-widgets/base",
      "_model_module_version": "1.2.0",
      "_model_name": "LayoutModel",
      "_view_count": null,
      "_view_module": "@jupyter-widgets/base",
      "_view_module_version": "1.2.0",
      "_view_name": "LayoutView",
      "align_content": null,
      "align_items": null,
      "align_self": null,
      "border": null,
      "bottom": null,
      "display": null,
      "flex": null,
      "flex_flow": null,
      "grid_area": null,
      "grid_auto_columns": null,
      "grid_auto_flow": null,
      "grid_auto_rows": null,
      "grid_column": null,
      "grid_gap": null,
      "grid_row": null,
      "grid_template_areas": null,
      "grid_template_columns": null,
      "grid_template_rows": null,
      "height": null,
      "justify_content": null,
      "justify_items": null,
      "left": null,
      "margin": null,
      "max_height": null,
      "max_width": null,
      "min_height": null,
      "min_width": null,
      "object_fit": null,
      "object_position": null,
      "order": null,
      "overflow": null,
      "overflow_x": null,
      "overflow_y": null,
      "padding": null,
      "right": null,
      "top": null,
      "visibility": null,
      "width": null
     }
    },
    "7edbecaccdd94ede8fddc0e1807e777e": {
     "model_module": "@jupyter-widgets/controls",
     "model_name": "FloatProgressModel",
     "state": {
      "_dom_classes": [],
      "_model_module": "@jupyter-widgets/controls",
      "_model_module_version": "1.5.0",
      "_model_name": "FloatProgressModel",
      "_view_count": null,
      "_view_module": "@jupyter-widgets/controls",
      "_view_module_version": "1.5.0",
      "_view_name": "ProgressView",
      "bar_style": "success",
      "description": "100%",
      "description_tooltip": null,
      "layout": "IPY_MODEL_3e3a022a9f304b0f9f7ef067fcee1e56",
      "max": 3478,
      "min": 0,
      "orientation": "horizontal",
      "style": "IPY_MODEL_b9c5c6dd54cc4dc5ad5a2bb69a24ab05",
      "value": 3478
     }
    },
    "7ef969e47c2d429a9848d5ab3f5bb2d9": {
     "model_module": "@jupyter-widgets/controls",
     "model_name": "HBoxModel",
     "state": {
      "_dom_classes": [],
      "_model_module": "@jupyter-widgets/controls",
      "_model_module_version": "1.5.0",
      "_model_name": "HBoxModel",
      "_view_count": null,
      "_view_module": "@jupyter-widgets/controls",
      "_view_module_version": "1.5.0",
      "_view_name": "HBoxView",
      "box_style": "",
      "children": [
       "IPY_MODEL_015c5690e1ea4281954c7efda1c80a6a",
       "IPY_MODEL_f4135dd72864445391f43f387635bfdc"
      ],
      "layout": "IPY_MODEL_fe62265afdc74026b7e9c5a50ef61d2c"
     }
    },
    "7f5203fde6b64bf7ad53d6ecd3041bfc": {
     "model_module": "@jupyter-widgets/controls",
     "model_name": "DescriptionStyleModel",
     "state": {
      "_model_module": "@jupyter-widgets/controls",
      "_model_module_version": "1.5.0",
      "_model_name": "DescriptionStyleModel",
      "_view_count": null,
      "_view_module": "@jupyter-widgets/base",
      "_view_module_version": "1.2.0",
      "_view_name": "StyleView",
      "description_width": ""
     }
    },
    "7f787df324514a8c915785e272a8af18": {
     "model_module": "@jupyter-widgets/controls",
     "model_name": "FloatProgressModel",
     "state": {
      "_dom_classes": [],
      "_model_module": "@jupyter-widgets/controls",
      "_model_module_version": "1.5.0",
      "_model_name": "FloatProgressModel",
      "_view_count": null,
      "_view_module": "@jupyter-widgets/controls",
      "_view_module_version": "1.5.0",
      "_view_name": "ProgressView",
      "bar_style": "info",
      "description": "",
      "description_tooltip": null,
      "layout": "IPY_MODEL_7916b06da182435a9cc1d13c73310500",
      "max": 1,
      "min": 0,
      "orientation": "horizontal",
      "style": "IPY_MODEL_71ffdf6f26ba4381a8e671958e679f88",
      "value": 1
     }
    },
    "80697300a4394b909f1c499ba80aeb13": {
     "model_module": "@jupyter-widgets/base",
     "model_name": "LayoutModel",
     "state": {
      "_model_module": "@jupyter-widgets/base",
      "_model_module_version": "1.2.0",
      "_model_name": "LayoutModel",
      "_view_count": null,
      "_view_module": "@jupyter-widgets/base",
      "_view_module_version": "1.2.0",
      "_view_name": "LayoutView",
      "align_content": null,
      "align_items": null,
      "align_self": null,
      "border": null,
      "bottom": null,
      "display": null,
      "flex": null,
      "flex_flow": null,
      "grid_area": null,
      "grid_auto_columns": null,
      "grid_auto_flow": null,
      "grid_auto_rows": null,
      "grid_column": null,
      "grid_gap": null,
      "grid_row": null,
      "grid_template_areas": null,
      "grid_template_columns": null,
      "grid_template_rows": null,
      "height": null,
      "justify_content": null,
      "justify_items": null,
      "left": null,
      "margin": null,
      "max_height": null,
      "max_width": null,
      "min_height": null,
      "min_width": null,
      "object_fit": null,
      "object_position": null,
      "order": null,
      "overflow": null,
      "overflow_x": null,
      "overflow_y": null,
      "padding": null,
      "right": null,
      "top": null,
      "visibility": null,
      "width": null
     }
    },
    "813fc95246034f5cb9e5198897b4ed42": {
     "model_module": "@jupyter-widgets/controls",
     "model_name": "DescriptionStyleModel",
     "state": {
      "_model_module": "@jupyter-widgets/controls",
      "_model_module_version": "1.5.0",
      "_model_name": "DescriptionStyleModel",
      "_view_count": null,
      "_view_module": "@jupyter-widgets/base",
      "_view_module_version": "1.2.0",
      "_view_name": "StyleView",
      "description_width": ""
     }
    },
    "82015055d32449b89346ea18e7474c4d": {
     "model_module": "@jupyter-widgets/controls",
     "model_name": "HBoxModel",
     "state": {
      "_dom_classes": [],
      "_model_module": "@jupyter-widgets/controls",
      "_model_module_version": "1.5.0",
      "_model_name": "HBoxModel",
      "_view_count": null,
      "_view_module": "@jupyter-widgets/controls",
      "_view_module_version": "1.5.0",
      "_view_name": "HBoxView",
      "box_style": "",
      "children": [
       "IPY_MODEL_f5f1f0865d7e4d8b810ccb9c3c4d2683",
       "IPY_MODEL_416badb151ee4660b53fdbc136e0c8fb"
      ],
      "layout": "IPY_MODEL_a170c0cb21cf425fbee97fd6d5584e2c"
     }
    },
    "824569c63ec445c08362659ca228dd2a": {
     "model_module": "@jupyter-widgets/controls",
     "model_name": "DescriptionStyleModel",
     "state": {
      "_model_module": "@jupyter-widgets/controls",
      "_model_module_version": "1.5.0",
      "_model_name": "DescriptionStyleModel",
      "_view_count": null,
      "_view_module": "@jupyter-widgets/base",
      "_view_module_version": "1.2.0",
      "_view_name": "StyleView",
      "description_width": ""
     }
    },
    "8292dafcd40745958d0f3c563bf6b9b0": {
     "model_module": "@jupyter-widgets/controls",
     "model_name": "ProgressStyleModel",
     "state": {
      "_model_module": "@jupyter-widgets/controls",
      "_model_module_version": "1.5.0",
      "_model_name": "ProgressStyleModel",
      "_view_count": null,
      "_view_module": "@jupyter-widgets/base",
      "_view_module_version": "1.2.0",
      "_view_name": "StyleView",
      "bar_color": null,
      "description_width": "initial"
     }
    },
    "83b51e16d88046c48dcd745cf09d2e56": {
     "model_module": "@jupyter-widgets/base",
     "model_name": "LayoutModel",
     "state": {
      "_model_module": "@jupyter-widgets/base",
      "_model_module_version": "1.2.0",
      "_model_name": "LayoutModel",
      "_view_count": null,
      "_view_module": "@jupyter-widgets/base",
      "_view_module_version": "1.2.0",
      "_view_name": "LayoutView",
      "align_content": null,
      "align_items": null,
      "align_self": null,
      "border": null,
      "bottom": null,
      "display": null,
      "flex": null,
      "flex_flow": null,
      "grid_area": null,
      "grid_auto_columns": null,
      "grid_auto_flow": null,
      "grid_auto_rows": null,
      "grid_column": null,
      "grid_gap": null,
      "grid_row": null,
      "grid_template_areas": null,
      "grid_template_columns": null,
      "grid_template_rows": null,
      "height": null,
      "justify_content": null,
      "justify_items": null,
      "left": null,
      "margin": null,
      "max_height": null,
      "max_width": null,
      "min_height": null,
      "min_width": null,
      "object_fit": null,
      "object_position": null,
      "order": null,
      "overflow": null,
      "overflow_x": null,
      "overflow_y": null,
      "padding": null,
      "right": null,
      "top": null,
      "visibility": null,
      "width": null
     }
    },
    "84e7f0001ebe458dad3c96e7e9a38cdc": {
     "model_module": "@jupyter-widgets/base",
     "model_name": "LayoutModel",
     "state": {
      "_model_module": "@jupyter-widgets/base",
      "_model_module_version": "1.2.0",
      "_model_name": "LayoutModel",
      "_view_count": null,
      "_view_module": "@jupyter-widgets/base",
      "_view_module_version": "1.2.0",
      "_view_name": "LayoutView",
      "align_content": null,
      "align_items": null,
      "align_self": null,
      "border": null,
      "bottom": null,
      "display": null,
      "flex": null,
      "flex_flow": null,
      "grid_area": null,
      "grid_auto_columns": null,
      "grid_auto_flow": null,
      "grid_auto_rows": null,
      "grid_column": null,
      "grid_gap": null,
      "grid_row": null,
      "grid_template_areas": null,
      "grid_template_columns": null,
      "grid_template_rows": null,
      "height": null,
      "justify_content": null,
      "justify_items": null,
      "left": null,
      "margin": null,
      "max_height": null,
      "max_width": null,
      "min_height": null,
      "min_width": null,
      "object_fit": null,
      "object_position": null,
      "order": null,
      "overflow": null,
      "overflow_x": null,
      "overflow_y": null,
      "padding": null,
      "right": null,
      "top": null,
      "visibility": null,
      "width": null
     }
    },
    "8701fb161cec47e89fc4d57b599ee7fe": {
     "model_module": "@jupyter-widgets/controls",
     "model_name": "HBoxModel",
     "state": {
      "_dom_classes": [],
      "_model_module": "@jupyter-widgets/controls",
      "_model_module_version": "1.5.0",
      "_model_name": "HBoxModel",
      "_view_count": null,
      "_view_module": "@jupyter-widgets/controls",
      "_view_module_version": "1.5.0",
      "_view_name": "HBoxView",
      "box_style": "",
      "children": [
       "IPY_MODEL_7f787df324514a8c915785e272a8af18",
       "IPY_MODEL_889da3e5ed2945849d3c8a6a75175747"
      ],
      "layout": "IPY_MODEL_1813458f75514f039ba0214597a09bb4"
     }
    },
    "889da3e5ed2945849d3c8a6a75175747": {
     "model_module": "@jupyter-widgets/controls",
     "model_name": "HTMLModel",
     "state": {
      "_dom_classes": [],
      "_model_module": "@jupyter-widgets/controls",
      "_model_module_version": "1.5.0",
      "_model_name": "HTMLModel",
      "_view_count": null,
      "_view_module": "@jupyter-widgets/controls",
      "_view_module_version": "1.5.0",
      "_view_name": "HTMLView",
      "description": "",
      "description_tooltip": null,
      "layout": "IPY_MODEL_2cd13e03a2ab45dc8570c8c739a613b4",
      "placeholder": "​",
      "style": "IPY_MODEL_59e0f5200068461cbfb256ad5479c4c8",
      "value": " 1647/0 [00:00&lt;00:00, 14767.90 examples/s]"
     }
    },
    "8ad3e4b211e34c048d0f48e36fdbfe48": {
     "model_module": "@jupyter-widgets/controls",
     "model_name": "DescriptionStyleModel",
     "state": {
      "_model_module": "@jupyter-widgets/controls",
      "_model_module_version": "1.5.0",
      "_model_name": "DescriptionStyleModel",
      "_view_count": null,
      "_view_module": "@jupyter-widgets/base",
      "_view_module_version": "1.2.0",
      "_view_name": "StyleView",
      "description_width": ""
     }
    },
    "8bb78a89ff81400791e3005098fdcb94": {
     "model_module": "@jupyter-widgets/base",
     "model_name": "LayoutModel",
     "state": {
      "_model_module": "@jupyter-widgets/base",
      "_model_module_version": "1.2.0",
      "_model_name": "LayoutModel",
      "_view_count": null,
      "_view_module": "@jupyter-widgets/base",
      "_view_module_version": "1.2.0",
      "_view_name": "LayoutView",
      "align_content": null,
      "align_items": null,
      "align_self": null,
      "border": null,
      "bottom": null,
      "display": null,
      "flex": null,
      "flex_flow": null,
      "grid_area": null,
      "grid_auto_columns": null,
      "grid_auto_flow": null,
      "grid_auto_rows": null,
      "grid_column": null,
      "grid_gap": null,
      "grid_row": null,
      "grid_template_areas": null,
      "grid_template_columns": null,
      "grid_template_rows": null,
      "height": null,
      "justify_content": null,
      "justify_items": null,
      "left": null,
      "margin": null,
      "max_height": null,
      "max_width": null,
      "min_height": null,
      "min_width": null,
      "object_fit": null,
      "object_position": null,
      "order": null,
      "overflow": null,
      "overflow_x": null,
      "overflow_y": null,
      "padding": null,
      "right": null,
      "top": null,
      "visibility": null,
      "width": null
     }
    },
    "8c07a528fc4a4e108b393ab117fe2e46": {
     "model_module": "@jupyter-widgets/controls",
     "model_name": "HTMLModel",
     "state": {
      "_dom_classes": [],
      "_model_module": "@jupyter-widgets/controls",
      "_model_module_version": "1.5.0",
      "_model_name": "HTMLModel",
      "_view_count": null,
      "_view_module": "@jupyter-widgets/controls",
      "_view_module_version": "1.5.0",
      "_view_name": "HTMLView",
      "description": "",
      "description_tooltip": null,
      "layout": "IPY_MODEL_8bb78a89ff81400791e3005098fdcb94",
      "placeholder": "​",
      "style": "IPY_MODEL_813fc95246034f5cb9e5198897b4ed42",
      "value": " 1/1 [00:00&lt;00:00, 13.94ba/s]"
     }
    },
    "8d409ca0372a48e2972ca1d8eee5ffa1": {
     "model_module": "@jupyter-widgets/controls",
     "model_name": "HTMLModel",
     "state": {
      "_dom_classes": [],
      "_model_module": "@jupyter-widgets/controls",
      "_model_module_version": "1.5.0",
      "_model_name": "HTMLModel",
      "_view_count": null,
      "_view_module": "@jupyter-widgets/controls",
      "_view_module_version": "1.5.0",
      "_view_name": "HTMLView",
      "description": "",
      "description_tooltip": null,
      "layout": "IPY_MODEL_b0479f03f96241ca959f6fe7bcbd1aba",
      "placeholder": "​",
      "style": "IPY_MODEL_d362345c05234c97a675c6bacdad0e92",
      "value": " 1647/1647 [01:20&lt;00:00, 20.38ex/s]"
     }
    },
    "8dd5b08bb5bd4e608d04122424796ae7": {
     "model_module": "@jupyter-widgets/controls",
     "model_name": "HTMLModel",
     "state": {
      "_dom_classes": [],
      "_model_module": "@jupyter-widgets/controls",
      "_model_module_version": "1.5.0",
      "_model_name": "HTMLModel",
      "_view_count": null,
      "_view_module": "@jupyter-widgets/controls",
      "_view_module_version": "1.5.0",
      "_view_name": "HTMLView",
      "description": "",
      "description_tooltip": null,
      "layout": "IPY_MODEL_9eb51a6ecf3f41578aa397a5c2a33673",
      "placeholder": "​",
      "style": "IPY_MODEL_2f18d89c684343b69c3f44ffbb9b42a0",
      "value": " 1726/0 [00:00&lt;00:00, 13986.88 examples/s]"
     }
    },
    "8dddd0245dcb4532917cbfa0181d2a00": {
     "model_module": "@jupyter-widgets/controls",
     "model_name": "FloatProgressModel",
     "state": {
      "_dom_classes": [],
      "_model_module": "@jupyter-widgets/controls",
      "_model_module_version": "1.5.0",
      "_model_name": "FloatProgressModel",
      "_view_count": null,
      "_view_module": "@jupyter-widgets/controls",
      "_view_module_version": "1.5.0",
      "_view_name": "ProgressView",
      "bar_style": "success",
      "description": "#2: 100%",
      "description_tooltip": null,
      "layout": "IPY_MODEL_b1d93a7521fa47b8a815445b5232da59",
      "max": 412,
      "min": 0,
      "orientation": "horizontal",
      "style": "IPY_MODEL_024989cea06f435894776b0a921164b2",
      "value": 412
     }
    },
    "8df9d19602cb4951b397c385458a11ef": {
     "model_module": "@jupyter-widgets/controls",
     "model_name": "DescriptionStyleModel",
     "state": {
      "_model_module": "@jupyter-widgets/controls",
      "_model_module_version": "1.5.0",
      "_model_name": "DescriptionStyleModel",
      "_view_count": null,
      "_view_module": "@jupyter-widgets/base",
      "_view_module_version": "1.2.0",
      "_view_name": "StyleView",
      "description_width": ""
     }
    },
    "8e1a85a4a6214a16b7431da23a301ada": {
     "model_module": "@jupyter-widgets/controls",
     "model_name": "FloatProgressModel",
     "state": {
      "_dom_classes": [],
      "_model_module": "@jupyter-widgets/controls",
      "_model_module_version": "1.5.0",
      "_model_name": "FloatProgressModel",
      "_view_count": null,
      "_view_module": "@jupyter-widgets/controls",
      "_view_module_version": "1.5.0",
      "_view_name": "ProgressView",
      "bar_style": "success",
      "description": "Downloading: ",
      "description_tooltip": null,
      "layout": "IPY_MODEL_d453bd4a35e54bfba20dac1fe86c60c1",
      "max": 1764,
      "min": 0,
      "orientation": "horizontal",
      "style": "IPY_MODEL_a3c04c75ec9743feb795f69e7c4dff4f",
      "value": 1764
     }
    },
    "8e63ba7f1fd24555bf11bc9dbe9c770b": {
     "model_module": "@jupyter-widgets/controls",
     "model_name": "HTMLModel",
     "state": {
      "_dom_classes": [],
      "_model_module": "@jupyter-widgets/controls",
      "_model_module_version": "1.5.0",
      "_model_name": "HTMLModel",
      "_view_count": null,
      "_view_module": "@jupyter-widgets/controls",
      "_view_module_version": "1.5.0",
      "_view_name": "HTMLView",
      "description": "",
      "description_tooltip": null,
      "layout": "IPY_MODEL_26e7bab0f3bf4797bfcef83dcace24f0",
      "placeholder": "​",
      "style": "IPY_MODEL_405b5de4ae854cf9896f63d15f2207dd",
      "value": " 52/52 [00:30&lt;00:00,  1.68ba/s]"
     }
    },
    "8f737725708c4097a8caaf4da6229636": {
     "model_module": "@jupyter-widgets/base",
     "model_name": "LayoutModel",
     "state": {
      "_model_module": "@jupyter-widgets/base",
      "_model_module_version": "1.2.0",
      "_model_name": "LayoutModel",
      "_view_count": null,
      "_view_module": "@jupyter-widgets/base",
      "_view_module_version": "1.2.0",
      "_view_name": "LayoutView",
      "align_content": null,
      "align_items": null,
      "align_self": null,
      "border": null,
      "bottom": null,
      "display": null,
      "flex": null,
      "flex_flow": null,
      "grid_area": null,
      "grid_auto_columns": null,
      "grid_auto_flow": null,
      "grid_auto_rows": null,
      "grid_column": null,
      "grid_gap": null,
      "grid_row": null,
      "grid_template_areas": null,
      "grid_template_columns": null,
      "grid_template_rows": null,
      "height": null,
      "justify_content": null,
      "justify_items": null,
      "left": null,
      "margin": null,
      "max_height": null,
      "max_width": null,
      "min_height": null,
      "min_width": null,
      "object_fit": null,
      "object_position": null,
      "order": null,
      "overflow": null,
      "overflow_x": null,
      "overflow_y": null,
      "padding": null,
      "right": null,
      "top": null,
      "visibility": null,
      "width": null
     }
    },
    "90b8bc59e26a46009e1d3763f86f227a": {
     "model_module": "@jupyter-widgets/controls",
     "model_name": "HBoxModel",
     "state": {
      "_dom_classes": [],
      "_model_module": "@jupyter-widgets/controls",
      "_model_module_version": "1.5.0",
      "_model_name": "HBoxModel",
      "_view_count": null,
      "_view_module": "@jupyter-widgets/controls",
      "_view_module_version": "1.5.0",
      "_view_name": "HBoxView",
      "box_style": "",
      "children": [
       "IPY_MODEL_98e7ab5f7ebf426fbb71a37bbad4c28f",
       "IPY_MODEL_e3b719c0ffcc4fd1b410ffb7f969b7a5"
      ],
      "layout": "IPY_MODEL_3e2cd59ac697495f8db14b894b783f95"
     }
    },
    "9185f86719af476da41e3835e8f06f8d": {
     "model_module": "@jupyter-widgets/base",
     "model_name": "LayoutModel",
     "state": {
      "_model_module": "@jupyter-widgets/base",
      "_model_module_version": "1.2.0",
      "_model_name": "LayoutModel",
      "_view_count": null,
      "_view_module": "@jupyter-widgets/base",
      "_view_module_version": "1.2.0",
      "_view_name": "LayoutView",
      "align_content": null,
      "align_items": null,
      "align_self": null,
      "border": null,
      "bottom": null,
      "display": null,
      "flex": null,
      "flex_flow": null,
      "grid_area": null,
      "grid_auto_columns": null,
      "grid_auto_flow": null,
      "grid_auto_rows": null,
      "grid_column": null,
      "grid_gap": null,
      "grid_row": null,
      "grid_template_areas": null,
      "grid_template_columns": null,
      "grid_template_rows": null,
      "height": null,
      "justify_content": null,
      "justify_items": null,
      "left": null,
      "margin": null,
      "max_height": null,
      "max_width": null,
      "min_height": null,
      "min_width": null,
      "object_fit": null,
      "object_position": null,
      "order": null,
      "overflow": null,
      "overflow_x": null,
      "overflow_y": null,
      "padding": null,
      "right": null,
      "top": null,
      "visibility": null,
      "width": null
     }
    },
    "91fcf0641fe3489ab96f3aaa40adf245": {
     "model_module": "@jupyter-widgets/base",
     "model_name": "LayoutModel",
     "state": {
      "_model_module": "@jupyter-widgets/base",
      "_model_module_version": "1.2.0",
      "_model_name": "LayoutModel",
      "_view_count": null,
      "_view_module": "@jupyter-widgets/base",
      "_view_module_version": "1.2.0",
      "_view_name": "LayoutView",
      "align_content": null,
      "align_items": null,
      "align_self": null,
      "border": null,
      "bottom": null,
      "display": null,
      "flex": null,
      "flex_flow": null,
      "grid_area": null,
      "grid_auto_columns": null,
      "grid_auto_flow": null,
      "grid_auto_rows": null,
      "grid_column": null,
      "grid_gap": null,
      "grid_row": null,
      "grid_template_areas": null,
      "grid_template_columns": null,
      "grid_template_rows": null,
      "height": null,
      "justify_content": null,
      "justify_items": null,
      "left": null,
      "margin": null,
      "max_height": null,
      "max_width": null,
      "min_height": null,
      "min_width": null,
      "object_fit": null,
      "object_position": null,
      "order": null,
      "overflow": null,
      "overflow_x": null,
      "overflow_y": null,
      "padding": null,
      "right": null,
      "top": null,
      "visibility": null,
      "width": null
     }
    },
    "923ed9e127524187ab8cfcac31164ba7": {
     "model_module": "@jupyter-widgets/base",
     "model_name": "LayoutModel",
     "state": {
      "_model_module": "@jupyter-widgets/base",
      "_model_module_version": "1.2.0",
      "_model_name": "LayoutModel",
      "_view_count": null,
      "_view_module": "@jupyter-widgets/base",
      "_view_module_version": "1.2.0",
      "_view_name": "LayoutView",
      "align_content": null,
      "align_items": null,
      "align_self": null,
      "border": null,
      "bottom": null,
      "display": null,
      "flex": null,
      "flex_flow": null,
      "grid_area": null,
      "grid_auto_columns": null,
      "grid_auto_flow": null,
      "grid_auto_rows": null,
      "grid_column": null,
      "grid_gap": null,
      "grid_row": null,
      "grid_template_areas": null,
      "grid_template_columns": null,
      "grid_template_rows": null,
      "height": null,
      "justify_content": null,
      "justify_items": null,
      "left": null,
      "margin": null,
      "max_height": null,
      "max_width": null,
      "min_height": null,
      "min_width": null,
      "object_fit": null,
      "object_position": null,
      "order": null,
      "overflow": null,
      "overflow_x": null,
      "overflow_y": null,
      "padding": null,
      "right": null,
      "top": null,
      "visibility": null,
      "width": null
     }
    },
    "929cde17b3484f3e9e8f8774bc43e374": {
     "model_module": "@jupyter-widgets/controls",
     "model_name": "ProgressStyleModel",
     "state": {
      "_model_module": "@jupyter-widgets/controls",
      "_model_module_version": "1.5.0",
      "_model_name": "ProgressStyleModel",
      "_view_count": null,
      "_view_module": "@jupyter-widgets/base",
      "_view_module_version": "1.2.0",
      "_view_name": "StyleView",
      "bar_color": null,
      "description_width": "initial"
     }
    },
    "92a35db69bbf4ad6af44c53aa3870be5": {
     "model_module": "@jupyter-widgets/controls",
     "model_name": "HBoxModel",
     "state": {
      "_dom_classes": [],
      "_model_module": "@jupyter-widgets/controls",
      "_model_module_version": "1.5.0",
      "_model_name": "HBoxModel",
      "_view_count": null,
      "_view_module": "@jupyter-widgets/controls",
      "_view_module_version": "1.5.0",
      "_view_name": "HBoxView",
      "box_style": "",
      "children": [
       "IPY_MODEL_b94e374d92c146009447c3827b977267",
       "IPY_MODEL_1f1faa7b986e475c9e6839b2e7b55c74"
      ],
      "layout": "IPY_MODEL_389e43e47a734193a507817ebad955f7"
     }
    },
    "93f191a48b3141e1889fd94870b6ac0e": {
     "model_module": "@jupyter-widgets/base",
     "model_name": "LayoutModel",
     "state": {
      "_model_module": "@jupyter-widgets/base",
      "_model_module_version": "1.2.0",
      "_model_name": "LayoutModel",
      "_view_count": null,
      "_view_module": "@jupyter-widgets/base",
      "_view_module_version": "1.2.0",
      "_view_name": "LayoutView",
      "align_content": null,
      "align_items": null,
      "align_self": null,
      "border": null,
      "bottom": null,
      "display": null,
      "flex": null,
      "flex_flow": null,
      "grid_area": null,
      "grid_auto_columns": null,
      "grid_auto_flow": null,
      "grid_auto_rows": null,
      "grid_column": null,
      "grid_gap": null,
      "grid_row": null,
      "grid_template_areas": null,
      "grid_template_columns": null,
      "grid_template_rows": null,
      "height": null,
      "justify_content": null,
      "justify_items": null,
      "left": null,
      "margin": null,
      "max_height": null,
      "max_width": null,
      "min_height": null,
      "min_width": null,
      "object_fit": null,
      "object_position": null,
      "order": null,
      "overflow": null,
      "overflow_x": null,
      "overflow_y": null,
      "padding": null,
      "right": null,
      "top": null,
      "visibility": null,
      "width": null
     }
    },
    "9532db4cdc5e4371a4a02055a4c67a08": {
     "model_module": "@jupyter-widgets/controls",
     "model_name": "DescriptionStyleModel",
     "state": {
      "_model_module": "@jupyter-widgets/controls",
      "_model_module_version": "1.5.0",
      "_model_name": "DescriptionStyleModel",
      "_view_count": null,
      "_view_module": "@jupyter-widgets/base",
      "_view_module_version": "1.2.0",
      "_view_name": "StyleView",
      "description_width": ""
     }
    },
    "969080b52ad44ee997829986d198c505": {
     "model_module": "@jupyter-widgets/controls",
     "model_name": "DescriptionStyleModel",
     "state": {
      "_model_module": "@jupyter-widgets/controls",
      "_model_module_version": "1.5.0",
      "_model_name": "DescriptionStyleModel",
      "_view_count": null,
      "_view_module": "@jupyter-widgets/base",
      "_view_module_version": "1.2.0",
      "_view_name": "StyleView",
      "description_width": ""
     }
    },
    "98c594f1e41e4b3fab10f0763bd93d75": {
     "model_module": "@jupyter-widgets/base",
     "model_name": "LayoutModel",
     "state": {
      "_model_module": "@jupyter-widgets/base",
      "_model_module_version": "1.2.0",
      "_model_name": "LayoutModel",
      "_view_count": null,
      "_view_module": "@jupyter-widgets/base",
      "_view_module_version": "1.2.0",
      "_view_name": "LayoutView",
      "align_content": null,
      "align_items": null,
      "align_self": null,
      "border": null,
      "bottom": null,
      "display": null,
      "flex": null,
      "flex_flow": null,
      "grid_area": null,
      "grid_auto_columns": null,
      "grid_auto_flow": null,
      "grid_auto_rows": null,
      "grid_column": null,
      "grid_gap": null,
      "grid_row": null,
      "grid_template_areas": null,
      "grid_template_columns": null,
      "grid_template_rows": null,
      "height": null,
      "justify_content": null,
      "justify_items": null,
      "left": null,
      "margin": null,
      "max_height": null,
      "max_width": null,
      "min_height": null,
      "min_width": null,
      "object_fit": null,
      "object_position": null,
      "order": null,
      "overflow": null,
      "overflow_x": null,
      "overflow_y": null,
      "padding": null,
      "right": null,
      "top": null,
      "visibility": null,
      "width": null
     }
    },
    "98e7ab5f7ebf426fbb71a37bbad4c28f": {
     "model_module": "@jupyter-widgets/controls",
     "model_name": "FloatProgressModel",
     "state": {
      "_dom_classes": [],
      "_model_module": "@jupyter-widgets/controls",
      "_model_module_version": "1.5.0",
      "_model_name": "FloatProgressModel",
      "_view_count": null,
      "_view_module": "@jupyter-widgets/controls",
      "_view_module_version": "1.5.0",
      "_view_name": "ProgressView",
      "bar_style": "info",
      "description": "",
      "description_tooltip": null,
      "layout": "IPY_MODEL_2f5406546970425282a881b5d2f7c248",
      "max": 1,
      "min": 0,
      "orientation": "horizontal",
      "style": "IPY_MODEL_4382726ef043441a9b1a4a647d84f242",
      "value": 1
     }
    },
    "998676d59f9c464e8463d65baad6448b": {
     "model_module": "@jupyter-widgets/controls",
     "model_name": "HTMLModel",
     "state": {
      "_dom_classes": [],
      "_model_module": "@jupyter-widgets/controls",
      "_model_module_version": "1.5.0",
      "_model_name": "HTMLModel",
      "_view_count": null,
      "_view_module": "@jupyter-widgets/controls",
      "_view_module_version": "1.5.0",
      "_view_name": "HTMLView",
      "description": "",
      "description_tooltip": null,
      "layout": "IPY_MODEL_7b4cfd2b448643b8a4409dd612aef0d1",
      "placeholder": "​",
      "style": "IPY_MODEL_7bf5b2b625764f63ad57a360c3fd0a61",
      "value": " 1647/1647 [00:45&lt;00:00, 36.39ex/s]"
     }
    },
    "99d5c44ea54b45ee9bd89380cb1ad189": {
     "model_module": "@jupyter-widgets/base",
     "model_name": "LayoutModel",
     "state": {
      "_model_module": "@jupyter-widgets/base",
      "_model_module_version": "1.2.0",
      "_model_name": "LayoutModel",
      "_view_count": null,
      "_view_module": "@jupyter-widgets/base",
      "_view_module_version": "1.2.0",
      "_view_name": "LayoutView",
      "align_content": null,
      "align_items": null,
      "align_self": null,
      "border": null,
      "bottom": null,
      "display": null,
      "flex": null,
      "flex_flow": null,
      "grid_area": null,
      "grid_auto_columns": null,
      "grid_auto_flow": null,
      "grid_auto_rows": null,
      "grid_column": null,
      "grid_gap": null,
      "grid_row": null,
      "grid_template_areas": null,
      "grid_template_columns": null,
      "grid_template_rows": null,
      "height": null,
      "justify_content": null,
      "justify_items": null,
      "left": null,
      "margin": null,
      "max_height": null,
      "max_width": null,
      "min_height": null,
      "min_width": null,
      "object_fit": null,
      "object_position": null,
      "order": null,
      "overflow": null,
      "overflow_x": null,
      "overflow_y": null,
      "padding": null,
      "right": null,
      "top": null,
      "visibility": null,
      "width": null
     }
    },
    "9eb51a6ecf3f41578aa397a5c2a33673": {
     "model_module": "@jupyter-widgets/base",
     "model_name": "LayoutModel",
     "state": {
      "_model_module": "@jupyter-widgets/base",
      "_model_module_version": "1.2.0",
      "_model_name": "LayoutModel",
      "_view_count": null,
      "_view_module": "@jupyter-widgets/base",
      "_view_module_version": "1.2.0",
      "_view_name": "LayoutView",
      "align_content": null,
      "align_items": null,
      "align_self": null,
      "border": null,
      "bottom": null,
      "display": null,
      "flex": null,
      "flex_flow": null,
      "grid_area": null,
      "grid_auto_columns": null,
      "grid_auto_flow": null,
      "grid_auto_rows": null,
      "grid_column": null,
      "grid_gap": null,
      "grid_row": null,
      "grid_template_areas": null,
      "grid_template_columns": null,
      "grid_template_rows": null,
      "height": null,
      "justify_content": null,
      "justify_items": null,
      "left": null,
      "margin": null,
      "max_height": null,
      "max_width": null,
      "min_height": null,
      "min_width": null,
      "object_fit": null,
      "object_position": null,
      "order": null,
      "overflow": null,
      "overflow_x": null,
      "overflow_y": null,
      "padding": null,
      "right": null,
      "top": null,
      "visibility": null,
      "width": null
     }
    },
    "9f79629ad6a94201acf3283862d1ae17": {
     "model_module": "@jupyter-widgets/controls",
     "model_name": "DescriptionStyleModel",
     "state": {
      "_model_module": "@jupyter-widgets/controls",
      "_model_module_version": "1.5.0",
      "_model_name": "DescriptionStyleModel",
      "_view_count": null,
      "_view_module": "@jupyter-widgets/base",
      "_view_module_version": "1.2.0",
      "_view_name": "StyleView",
      "description_width": ""
     }
    },
    "9fee9d9dd1164d97a9109e942444c332": {
     "model_module": "@jupyter-widgets/controls",
     "model_name": "HTMLModel",
     "state": {
      "_dom_classes": [],
      "_model_module": "@jupyter-widgets/controls",
      "_model_module_version": "1.5.0",
      "_model_name": "HTMLModel",
      "_view_count": null,
      "_view_module": "@jupyter-widgets/controls",
      "_view_module_version": "1.5.0",
      "_view_name": "HTMLView",
      "description": "",
      "description_tooltip": null,
      "layout": "IPY_MODEL_c126ea97019149848396e593cfab016f",
      "placeholder": "​",
      "style": "IPY_MODEL_f9efaa7678c2450f847ff2c2f21ff96e",
      "value": " 52/52 [00:31&lt;00:00,  1.66ba/s]"
     }
    },
    "a170c0cb21cf425fbee97fd6d5584e2c": {
     "model_module": "@jupyter-widgets/base",
     "model_name": "LayoutModel",
     "state": {
      "_model_module": "@jupyter-widgets/base",
      "_model_module_version": "1.2.0",
      "_model_name": "LayoutModel",
      "_view_count": null,
      "_view_module": "@jupyter-widgets/base",
      "_view_module_version": "1.2.0",
      "_view_name": "LayoutView",
      "align_content": null,
      "align_items": null,
      "align_self": null,
      "border": null,
      "bottom": null,
      "display": null,
      "flex": null,
      "flex_flow": null,
      "grid_area": null,
      "grid_auto_columns": null,
      "grid_auto_flow": null,
      "grid_auto_rows": null,
      "grid_column": null,
      "grid_gap": null,
      "grid_row": null,
      "grid_template_areas": null,
      "grid_template_columns": null,
      "grid_template_rows": null,
      "height": null,
      "justify_content": null,
      "justify_items": null,
      "left": null,
      "margin": null,
      "max_height": null,
      "max_width": null,
      "min_height": null,
      "min_width": null,
      "object_fit": null,
      "object_position": null,
      "order": null,
      "overflow": null,
      "overflow_x": null,
      "overflow_y": null,
      "padding": null,
      "right": null,
      "top": null,
      "visibility": null,
      "width": null
     }
    },
    "a34dae18d9994b848630d4e3d836e0cb": {
     "model_module": "@jupyter-widgets/base",
     "model_name": "LayoutModel",
     "state": {
      "_model_module": "@jupyter-widgets/base",
      "_model_module_version": "1.2.0",
      "_model_name": "LayoutModel",
      "_view_count": null,
      "_view_module": "@jupyter-widgets/base",
      "_view_module_version": "1.2.0",
      "_view_name": "LayoutView",
      "align_content": null,
      "align_items": null,
      "align_self": null,
      "border": null,
      "bottom": null,
      "display": null,
      "flex": null,
      "flex_flow": null,
      "grid_area": null,
      "grid_auto_columns": null,
      "grid_auto_flow": null,
      "grid_auto_rows": null,
      "grid_column": null,
      "grid_gap": null,
      "grid_row": null,
      "grid_template_areas": null,
      "grid_template_columns": null,
      "grid_template_rows": null,
      "height": null,
      "justify_content": null,
      "justify_items": null,
      "left": null,
      "margin": null,
      "max_height": null,
      "max_width": null,
      "min_height": null,
      "min_width": null,
      "object_fit": null,
      "object_position": null,
      "order": null,
      "overflow": null,
      "overflow_x": null,
      "overflow_y": null,
      "padding": null,
      "right": null,
      "top": null,
      "visibility": null,
      "width": null
     }
    },
    "a3c04c75ec9743feb795f69e7c4dff4f": {
     "model_module": "@jupyter-widgets/controls",
     "model_name": "ProgressStyleModel",
     "state": {
      "_model_module": "@jupyter-widgets/controls",
      "_model_module_version": "1.5.0",
      "_model_name": "ProgressStyleModel",
      "_view_count": null,
      "_view_module": "@jupyter-widgets/base",
      "_view_module_version": "1.2.0",
      "_view_name": "StyleView",
      "bar_color": null,
      "description_width": "initial"
     }
    },
    "a47f1ea64f894f0b8e6b277c31ae9f7d": {
     "model_module": "@jupyter-widgets/controls",
     "model_name": "ProgressStyleModel",
     "state": {
      "_model_module": "@jupyter-widgets/controls",
      "_model_module_version": "1.5.0",
      "_model_name": "ProgressStyleModel",
      "_view_count": null,
      "_view_module": "@jupyter-widgets/base",
      "_view_module_version": "1.2.0",
      "_view_name": "StyleView",
      "bar_color": null,
      "description_width": "initial"
     }
    },
    "a58c203a7cc54086aea45f2029821207": {
     "model_module": "@jupyter-widgets/controls",
     "model_name": "FloatProgressModel",
     "state": {
      "_dom_classes": [],
      "_model_module": "@jupyter-widgets/controls",
      "_model_module_version": "1.5.0",
      "_model_name": "FloatProgressModel",
      "_view_count": null,
      "_view_module": "@jupyter-widgets/controls",
      "_view_module_version": "1.5.0",
      "_view_name": "ProgressView",
      "bar_style": "success",
      "description": "100%",
      "description_tooltip": null,
      "layout": "IPY_MODEL_b1b6a4649fc34c9996f993c57671766b",
      "max": 1647,
      "min": 0,
      "orientation": "horizontal",
      "style": "IPY_MODEL_c8fdf261ac294093a355778a3a4aba3b",
      "value": 1647
     }
    },
    "a868dea9d9b047a4b853b390e138e4c1": {
     "model_module": "@jupyter-widgets/base",
     "model_name": "LayoutModel",
     "state": {
      "_model_module": "@jupyter-widgets/base",
      "_model_module_version": "1.2.0",
      "_model_name": "LayoutModel",
      "_view_count": null,
      "_view_module": "@jupyter-widgets/base",
      "_view_module_version": "1.2.0",
      "_view_name": "LayoutView",
      "align_content": null,
      "align_items": null,
      "align_self": null,
      "border": null,
      "bottom": null,
      "display": null,
      "flex": null,
      "flex_flow": null,
      "grid_area": null,
      "grid_auto_columns": null,
      "grid_auto_flow": null,
      "grid_auto_rows": null,
      "grid_column": null,
      "grid_gap": null,
      "grid_row": null,
      "grid_template_areas": null,
      "grid_template_columns": null,
      "grid_template_rows": null,
      "height": null,
      "justify_content": null,
      "justify_items": null,
      "left": null,
      "margin": null,
      "max_height": null,
      "max_width": null,
      "min_height": null,
      "min_width": null,
      "object_fit": null,
      "object_position": null,
      "order": null,
      "overflow": null,
      "overflow_x": null,
      "overflow_y": null,
      "padding": null,
      "right": null,
      "top": null,
      "visibility": null,
      "width": null
     }
    },
    "aafd4b2c56db43378c4627797665db17": {
     "model_module": "@jupyter-widgets/controls",
     "model_name": "HTMLModel",
     "state": {
      "_dom_classes": [],
      "_model_module": "@jupyter-widgets/controls",
      "_model_module_version": "1.5.0",
      "_model_name": "HTMLModel",
      "_view_count": null,
      "_view_module": "@jupyter-widgets/controls",
      "_view_module_version": "1.5.0",
      "_view_name": "HTMLView",
      "description": "",
      "description_tooltip": null,
      "layout": "IPY_MODEL_ad428686450f4ebdb50a0356b2e5a8c4",
      "placeholder": "​",
      "style": "IPY_MODEL_ccb720bf256e42f7b0251494ccb7741f",
      "value": " 1/1 [00:45&lt;00:00, 45.03s/ba]"
     }
    },
    "ab72c80dfd5e4ab19a183f4204486b59": {
     "model_module": "@jupyter-widgets/controls",
     "model_name": "DescriptionStyleModel",
     "state": {
      "_model_module": "@jupyter-widgets/controls",
      "_model_module_version": "1.5.0",
      "_model_name": "DescriptionStyleModel",
      "_view_count": null,
      "_view_module": "@jupyter-widgets/base",
      "_view_module_version": "1.2.0",
      "_view_name": "StyleView",
      "description_width": ""
     }
    },
    "ac35dca0845149a284b9867d9e607232": {
     "model_module": "@jupyter-widgets/controls",
     "model_name": "HBoxModel",
     "state": {
      "_dom_classes": [],
      "_model_module": "@jupyter-widgets/controls",
      "_model_module_version": "1.5.0",
      "_model_name": "HBoxModel",
      "_view_count": null,
      "_view_module": "@jupyter-widgets/controls",
      "_view_module_version": "1.5.0",
      "_view_name": "HBoxView",
      "box_style": "",
      "children": [
       "IPY_MODEL_5071a31d06f544a5b7340a4e863d8fdf",
       "IPY_MODEL_542027ba12f444d586e8072452badea0"
      ],
      "layout": "IPY_MODEL_b54bff6261964119bcb562c1a9f74ce6"
     }
    },
    "ad428686450f4ebdb50a0356b2e5a8c4": {
     "model_module": "@jupyter-widgets/base",
     "model_name": "LayoutModel",
     "state": {
      "_model_module": "@jupyter-widgets/base",
      "_model_module_version": "1.2.0",
      "_model_name": "LayoutModel",
      "_view_count": null,
      "_view_module": "@jupyter-widgets/base",
      "_view_module_version": "1.2.0",
      "_view_name": "LayoutView",
      "align_content": null,
      "align_items": null,
      "align_self": null,
      "border": null,
      "bottom": null,
      "display": null,
      "flex": null,
      "flex_flow": null,
      "grid_area": null,
      "grid_auto_columns": null,
      "grid_auto_flow": null,
      "grid_auto_rows": null,
      "grid_column": null,
      "grid_gap": null,
      "grid_row": null,
      "grid_template_areas": null,
      "grid_template_columns": null,
      "grid_template_rows": null,
      "height": null,
      "justify_content": null,
      "justify_items": null,
      "left": null,
      "margin": null,
      "max_height": null,
      "max_width": null,
      "min_height": null,
      "min_width": null,
      "object_fit": null,
      "object_position": null,
      "order": null,
      "overflow": null,
      "overflow_x": null,
      "overflow_y": null,
      "padding": null,
      "right": null,
      "top": null,
      "visibility": null,
      "width": null
     }
    },
    "af85713f677243d19cba9fe69a4a5f46": {
     "model_module": "@jupyter-widgets/base",
     "model_name": "LayoutModel",
     "state": {
      "_model_module": "@jupyter-widgets/base",
      "_model_module_version": "1.2.0",
      "_model_name": "LayoutModel",
      "_view_count": null,
      "_view_module": "@jupyter-widgets/base",
      "_view_module_version": "1.2.0",
      "_view_name": "LayoutView",
      "align_content": null,
      "align_items": null,
      "align_self": null,
      "border": null,
      "bottom": null,
      "display": null,
      "flex": null,
      "flex_flow": null,
      "grid_area": null,
      "grid_auto_columns": null,
      "grid_auto_flow": null,
      "grid_auto_rows": null,
      "grid_column": null,
      "grid_gap": null,
      "grid_row": null,
      "grid_template_areas": null,
      "grid_template_columns": null,
      "grid_template_rows": null,
      "height": null,
      "justify_content": null,
      "justify_items": null,
      "left": null,
      "margin": null,
      "max_height": null,
      "max_width": null,
      "min_height": null,
      "min_width": null,
      "object_fit": null,
      "object_position": null,
      "order": null,
      "overflow": null,
      "overflow_x": null,
      "overflow_y": null,
      "padding": null,
      "right": null,
      "top": null,
      "visibility": null,
      "width": null
     }
    },
    "b0479f03f96241ca959f6fe7bcbd1aba": {
     "model_module": "@jupyter-widgets/base",
     "model_name": "LayoutModel",
     "state": {
      "_model_module": "@jupyter-widgets/base",
      "_model_module_version": "1.2.0",
      "_model_name": "LayoutModel",
      "_view_count": null,
      "_view_module": "@jupyter-widgets/base",
      "_view_module_version": "1.2.0",
      "_view_name": "LayoutView",
      "align_content": null,
      "align_items": null,
      "align_self": null,
      "border": null,
      "bottom": null,
      "display": null,
      "flex": null,
      "flex_flow": null,
      "grid_area": null,
      "grid_auto_columns": null,
      "grid_auto_flow": null,
      "grid_auto_rows": null,
      "grid_column": null,
      "grid_gap": null,
      "grid_row": null,
      "grid_template_areas": null,
      "grid_template_columns": null,
      "grid_template_rows": null,
      "height": null,
      "justify_content": null,
      "justify_items": null,
      "left": null,
      "margin": null,
      "max_height": null,
      "max_width": null,
      "min_height": null,
      "min_width": null,
      "object_fit": null,
      "object_position": null,
      "order": null,
      "overflow": null,
      "overflow_x": null,
      "overflow_y": null,
      "padding": null,
      "right": null,
      "top": null,
      "visibility": null,
      "width": null
     }
    },
    "b054b00a32e64fc5988fbd2966ebbce6": {
     "model_module": "@jupyter-widgets/base",
     "model_name": "LayoutModel",
     "state": {
      "_model_module": "@jupyter-widgets/base",
      "_model_module_version": "1.2.0",
      "_model_name": "LayoutModel",
      "_view_count": null,
      "_view_module": "@jupyter-widgets/base",
      "_view_module_version": "1.2.0",
      "_view_name": "LayoutView",
      "align_content": null,
      "align_items": null,
      "align_self": null,
      "border": null,
      "bottom": null,
      "display": null,
      "flex": null,
      "flex_flow": null,
      "grid_area": null,
      "grid_auto_columns": null,
      "grid_auto_flow": null,
      "grid_auto_rows": null,
      "grid_column": null,
      "grid_gap": null,
      "grid_row": null,
      "grid_template_areas": null,
      "grid_template_columns": null,
      "grid_template_rows": null,
      "height": null,
      "justify_content": null,
      "justify_items": null,
      "left": null,
      "margin": null,
      "max_height": null,
      "max_width": null,
      "min_height": null,
      "min_width": null,
      "object_fit": null,
      "object_position": null,
      "order": null,
      "overflow": null,
      "overflow_x": null,
      "overflow_y": null,
      "padding": null,
      "right": null,
      "top": null,
      "visibility": null,
      "width": null
     }
    },
    "b0e3a36279d243ab9943149705c72c3e": {
     "model_module": "@jupyter-widgets/controls",
     "model_name": "FloatProgressModel",
     "state": {
      "_dom_classes": [],
      "_model_module": "@jupyter-widgets/controls",
      "_model_module_version": "1.5.0",
      "_model_name": "FloatProgressModel",
      "_view_count": null,
      "_view_module": "@jupyter-widgets/controls",
      "_view_module_version": "1.5.0",
      "_view_name": "ProgressView",
      "bar_style": "success",
      "description": "Downloading: ",
      "description_tooltip": null,
      "layout": "IPY_MODEL_a34dae18d9994b848630d4e3d836e0cb",
      "max": 5925,
      "min": 0,
      "orientation": "horizontal",
      "style": "IPY_MODEL_530f66ac087e4f8f979fcaa33941c60d",
      "value": 5925
     }
    },
    "b0f3a205ad4546188fc6e7e7cf96ab32": {
     "model_module": "@jupyter-widgets/controls",
     "model_name": "ProgressStyleModel",
     "state": {
      "_model_module": "@jupyter-widgets/controls",
      "_model_module_version": "1.5.0",
      "_model_name": "ProgressStyleModel",
      "_view_count": null,
      "_view_module": "@jupyter-widgets/base",
      "_view_module_version": "1.2.0",
      "_view_name": "StyleView",
      "bar_color": null,
      "description_width": "initial"
     }
    },
    "b177a8cb85a24b88ab6d56205b630f1d": {
     "model_module": "@jupyter-widgets/base",
     "model_name": "LayoutModel",
     "state": {
      "_model_module": "@jupyter-widgets/base",
      "_model_module_version": "1.2.0",
      "_model_name": "LayoutModel",
      "_view_count": null,
      "_view_module": "@jupyter-widgets/base",
      "_view_module_version": "1.2.0",
      "_view_name": "LayoutView",
      "align_content": null,
      "align_items": null,
      "align_self": null,
      "border": null,
      "bottom": null,
      "display": null,
      "flex": null,
      "flex_flow": null,
      "grid_area": null,
      "grid_auto_columns": null,
      "grid_auto_flow": null,
      "grid_auto_rows": null,
      "grid_column": null,
      "grid_gap": null,
      "grid_row": null,
      "grid_template_areas": null,
      "grid_template_columns": null,
      "grid_template_rows": null,
      "height": null,
      "justify_content": null,
      "justify_items": null,
      "left": null,
      "margin": null,
      "max_height": null,
      "max_width": null,
      "min_height": null,
      "min_width": null,
      "object_fit": null,
      "object_position": null,
      "order": null,
      "overflow": null,
      "overflow_x": null,
      "overflow_y": null,
      "padding": null,
      "right": null,
      "top": null,
      "visibility": null,
      "width": null
     }
    },
    "b1b6a4649fc34c9996f993c57671766b": {
     "model_module": "@jupyter-widgets/base",
     "model_name": "LayoutModel",
     "state": {
      "_model_module": "@jupyter-widgets/base",
      "_model_module_version": "1.2.0",
      "_model_name": "LayoutModel",
      "_view_count": null,
      "_view_module": "@jupyter-widgets/base",
      "_view_module_version": "1.2.0",
      "_view_name": "LayoutView",
      "align_content": null,
      "align_items": null,
      "align_self": null,
      "border": null,
      "bottom": null,
      "display": null,
      "flex": null,
      "flex_flow": null,
      "grid_area": null,
      "grid_auto_columns": null,
      "grid_auto_flow": null,
      "grid_auto_rows": null,
      "grid_column": null,
      "grid_gap": null,
      "grid_row": null,
      "grid_template_areas": null,
      "grid_template_columns": null,
      "grid_template_rows": null,
      "height": null,
      "justify_content": null,
      "justify_items": null,
      "left": null,
      "margin": null,
      "max_height": null,
      "max_width": null,
      "min_height": null,
      "min_width": null,
      "object_fit": null,
      "object_position": null,
      "order": null,
      "overflow": null,
      "overflow_x": null,
      "overflow_y": null,
      "padding": null,
      "right": null,
      "top": null,
      "visibility": null,
      "width": null
     }
    },
    "b1d93a7521fa47b8a815445b5232da59": {
     "model_module": "@jupyter-widgets/base",
     "model_name": "LayoutModel",
     "state": {
      "_model_module": "@jupyter-widgets/base",
      "_model_module_version": "1.2.0",
      "_model_name": "LayoutModel",
      "_view_count": null,
      "_view_module": "@jupyter-widgets/base",
      "_view_module_version": "1.2.0",
      "_view_name": "LayoutView",
      "align_content": null,
      "align_items": null,
      "align_self": null,
      "border": null,
      "bottom": null,
      "display": null,
      "flex": null,
      "flex_flow": null,
      "grid_area": null,
      "grid_auto_columns": null,
      "grid_auto_flow": null,
      "grid_auto_rows": null,
      "grid_column": null,
      "grid_gap": null,
      "grid_row": null,
      "grid_template_areas": null,
      "grid_template_columns": null,
      "grid_template_rows": null,
      "height": null,
      "justify_content": null,
      "justify_items": null,
      "left": null,
      "margin": null,
      "max_height": null,
      "max_width": null,
      "min_height": null,
      "min_width": null,
      "object_fit": null,
      "object_position": null,
      "order": null,
      "overflow": null,
      "overflow_x": null,
      "overflow_y": null,
      "padding": null,
      "right": null,
      "top": null,
      "visibility": null,
      "width": null
     }
    },
    "b2473405490e4556bf30c0cc81237aa5": {
     "model_module": "@jupyter-widgets/base",
     "model_name": "LayoutModel",
     "state": {
      "_model_module": "@jupyter-widgets/base",
      "_model_module_version": "1.2.0",
      "_model_name": "LayoutModel",
      "_view_count": null,
      "_view_module": "@jupyter-widgets/base",
      "_view_module_version": "1.2.0",
      "_view_name": "LayoutView",
      "align_content": null,
      "align_items": null,
      "align_self": null,
      "border": null,
      "bottom": null,
      "display": null,
      "flex": null,
      "flex_flow": null,
      "grid_area": null,
      "grid_auto_columns": null,
      "grid_auto_flow": null,
      "grid_auto_rows": null,
      "grid_column": null,
      "grid_gap": null,
      "grid_row": null,
      "grid_template_areas": null,
      "grid_template_columns": null,
      "grid_template_rows": null,
      "height": null,
      "justify_content": null,
      "justify_items": null,
      "left": null,
      "margin": null,
      "max_height": null,
      "max_width": null,
      "min_height": null,
      "min_width": null,
      "object_fit": null,
      "object_position": null,
      "order": null,
      "overflow": null,
      "overflow_x": null,
      "overflow_y": null,
      "padding": null,
      "right": null,
      "top": null,
      "visibility": null,
      "width": null
     }
    },
    "b320306eaf264ad9872d507a1a1cb2da": {
     "model_module": "@jupyter-widgets/base",
     "model_name": "LayoutModel",
     "state": {
      "_model_module": "@jupyter-widgets/base",
      "_model_module_version": "1.2.0",
      "_model_name": "LayoutModel",
      "_view_count": null,
      "_view_module": "@jupyter-widgets/base",
      "_view_module_version": "1.2.0",
      "_view_name": "LayoutView",
      "align_content": null,
      "align_items": null,
      "align_self": null,
      "border": null,
      "bottom": null,
      "display": null,
      "flex": null,
      "flex_flow": null,
      "grid_area": null,
      "grid_auto_columns": null,
      "grid_auto_flow": null,
      "grid_auto_rows": null,
      "grid_column": null,
      "grid_gap": null,
      "grid_row": null,
      "grid_template_areas": null,
      "grid_template_columns": null,
      "grid_template_rows": null,
      "height": null,
      "justify_content": null,
      "justify_items": null,
      "left": null,
      "margin": null,
      "max_height": null,
      "max_width": null,
      "min_height": null,
      "min_width": null,
      "object_fit": null,
      "object_position": null,
      "order": null,
      "overflow": null,
      "overflow_x": null,
      "overflow_y": null,
      "padding": null,
      "right": null,
      "top": null,
      "visibility": null,
      "width": null
     }
    },
    "b54bff6261964119bcb562c1a9f74ce6": {
     "model_module": "@jupyter-widgets/base",
     "model_name": "LayoutModel",
     "state": {
      "_model_module": "@jupyter-widgets/base",
      "_model_module_version": "1.2.0",
      "_model_name": "LayoutModel",
      "_view_count": null,
      "_view_module": "@jupyter-widgets/base",
      "_view_module_version": "1.2.0",
      "_view_name": "LayoutView",
      "align_content": null,
      "align_items": null,
      "align_self": null,
      "border": null,
      "bottom": null,
      "display": null,
      "flex": null,
      "flex_flow": null,
      "grid_area": null,
      "grid_auto_columns": null,
      "grid_auto_flow": null,
      "grid_auto_rows": null,
      "grid_column": null,
      "grid_gap": null,
      "grid_row": null,
      "grid_template_areas": null,
      "grid_template_columns": null,
      "grid_template_rows": null,
      "height": null,
      "justify_content": null,
      "justify_items": null,
      "left": null,
      "margin": null,
      "max_height": null,
      "max_width": null,
      "min_height": null,
      "min_width": null,
      "object_fit": null,
      "object_position": null,
      "order": null,
      "overflow": null,
      "overflow_x": null,
      "overflow_y": null,
      "padding": null,
      "right": null,
      "top": null,
      "visibility": null,
      "width": null
     }
    },
    "b6221b4c04e64c9da9eb9e11539bac89": {
     "model_module": "@jupyter-widgets/controls",
     "model_name": "HBoxModel",
     "state": {
      "_dom_classes": [],
      "_model_module": "@jupyter-widgets/controls",
      "_model_module_version": "1.5.0",
      "_model_name": "HBoxModel",
      "_view_count": null,
      "_view_module": "@jupyter-widgets/controls",
      "_view_module_version": "1.5.0",
      "_view_name": "HBoxView",
      "box_style": "",
      "children": [
       "IPY_MODEL_02d1f77324854fbca0df9384c57faac8",
       "IPY_MODEL_8e63ba7f1fd24555bf11bc9dbe9c770b"
      ],
      "layout": "IPY_MODEL_dc6862530f6e429ba61a169b4c95722c"
     }
    },
    "b78413dcc0584a0c8f71731a06aaa1b8": {
     "model_module": "@jupyter-widgets/base",
     "model_name": "LayoutModel",
     "state": {
      "_model_module": "@jupyter-widgets/base",
      "_model_module_version": "1.2.0",
      "_model_name": "LayoutModel",
      "_view_count": null,
      "_view_module": "@jupyter-widgets/base",
      "_view_module_version": "1.2.0",
      "_view_name": "LayoutView",
      "align_content": null,
      "align_items": null,
      "align_self": null,
      "border": null,
      "bottom": null,
      "display": null,
      "flex": null,
      "flex_flow": null,
      "grid_area": null,
      "grid_auto_columns": null,
      "grid_auto_flow": null,
      "grid_auto_rows": null,
      "grid_column": null,
      "grid_gap": null,
      "grid_row": null,
      "grid_template_areas": null,
      "grid_template_columns": null,
      "grid_template_rows": null,
      "height": null,
      "justify_content": null,
      "justify_items": null,
      "left": null,
      "margin": null,
      "max_height": null,
      "max_width": null,
      "min_height": null,
      "min_width": null,
      "object_fit": null,
      "object_position": null,
      "order": null,
      "overflow": null,
      "overflow_x": null,
      "overflow_y": null,
      "padding": null,
      "right": null,
      "top": null,
      "visibility": null,
      "width": null
     }
    },
    "b7c43fb5efdd4afbb82c81b923f2815a": {
     "model_module": "@jupyter-widgets/controls",
     "model_name": "HBoxModel",
     "state": {
      "_dom_classes": [],
      "_model_module": "@jupyter-widgets/controls",
      "_model_module_version": "1.5.0",
      "_model_name": "HBoxModel",
      "_view_count": null,
      "_view_module": "@jupyter-widgets/controls",
      "_view_module_version": "1.5.0",
      "_view_name": "HBoxView",
      "box_style": "",
      "children": [
       "IPY_MODEL_8dddd0245dcb4532917cbfa0181d2a00",
       "IPY_MODEL_3bdb4058f40f40e3a10e323325a64638"
      ],
      "layout": "IPY_MODEL_c0a661f20e7e4649a3c8c42a5fd01956"
     }
    },
    "b94e374d92c146009447c3827b977267": {
     "model_module": "@jupyter-widgets/controls",
     "model_name": "FloatProgressModel",
     "state": {
      "_dom_classes": [],
      "_model_module": "@jupyter-widgets/controls",
      "_model_module_version": "1.5.0",
      "_model_name": "FloatProgressModel",
      "_view_count": null,
      "_view_module": "@jupyter-widgets/controls",
      "_view_module_version": "1.5.0",
      "_view_name": "ProgressView",
      "bar_style": "success",
      "description": "100%",
      "description_tooltip": null,
      "layout": "IPY_MODEL_b177a8cb85a24b88ab6d56205b630f1d",
      "max": 3478,
      "min": 0,
      "orientation": "horizontal",
      "style": "IPY_MODEL_4ff7ccffc36a4a0f93031f5cdc3b718d",
      "value": 3478
     }
    },
    "b9c5c6dd54cc4dc5ad5a2bb69a24ab05": {
     "model_module": "@jupyter-widgets/controls",
     "model_name": "ProgressStyleModel",
     "state": {
      "_model_module": "@jupyter-widgets/controls",
      "_model_module_version": "1.5.0",
      "_model_name": "ProgressStyleModel",
      "_view_count": null,
      "_view_module": "@jupyter-widgets/base",
      "_view_module_version": "1.2.0",
      "_view_name": "StyleView",
      "bar_color": null,
      "description_width": "initial"
     }
    },
    "bc41384bbae04044b9780651c6b5a47c": {
     "model_module": "@jupyter-widgets/base",
     "model_name": "LayoutModel",
     "state": {
      "_model_module": "@jupyter-widgets/base",
      "_model_module_version": "1.2.0",
      "_model_name": "LayoutModel",
      "_view_count": null,
      "_view_module": "@jupyter-widgets/base",
      "_view_module_version": "1.2.0",
      "_view_name": "LayoutView",
      "align_content": null,
      "align_items": null,
      "align_self": null,
      "border": null,
      "bottom": null,
      "display": null,
      "flex": null,
      "flex_flow": null,
      "grid_area": null,
      "grid_auto_columns": null,
      "grid_auto_flow": null,
      "grid_auto_rows": null,
      "grid_column": null,
      "grid_gap": null,
      "grid_row": null,
      "grid_template_areas": null,
      "grid_template_columns": null,
      "grid_template_rows": null,
      "height": null,
      "justify_content": null,
      "justify_items": null,
      "left": null,
      "margin": null,
      "max_height": null,
      "max_width": null,
      "min_height": null,
      "min_width": null,
      "object_fit": null,
      "object_position": null,
      "order": null,
      "overflow": null,
      "overflow_x": null,
      "overflow_y": null,
      "padding": null,
      "right": null,
      "top": null,
      "visibility": null,
      "width": null
     }
    },
    "bd0958ea97b141b1aca367c71721c549": {
     "model_module": "@jupyter-widgets/controls",
     "model_name": "HBoxModel",
     "state": {
      "_dom_classes": [],
      "_model_module": "@jupyter-widgets/controls",
      "_model_module_version": "1.5.0",
      "_model_name": "HBoxModel",
      "_view_count": null,
      "_view_module": "@jupyter-widgets/controls",
      "_view_module_version": "1.5.0",
      "_view_name": "HBoxView",
      "box_style": "",
      "children": [
       "IPY_MODEL_d080668299ef42fabb8ab6fbcf329cea",
       "IPY_MODEL_aafd4b2c56db43378c4627797665db17"
      ],
      "layout": "IPY_MODEL_0354ab33471e4c34a0c1b3c062bcd6bb"
     }
    },
    "bd187486ac2548f2961cfcb63d852de1": {
     "model_module": "@jupyter-widgets/controls",
     "model_name": "FloatProgressModel",
     "state": {
      "_dom_classes": [],
      "_model_module": "@jupyter-widgets/controls",
      "_model_module_version": "1.5.0",
      "_model_name": "FloatProgressModel",
      "_view_count": null,
      "_view_module": "@jupyter-widgets/controls",
      "_view_module_version": "1.5.0",
      "_view_name": "ProgressView",
      "bar_style": "success",
      "description": "#1: 100%",
      "description_tooltip": null,
      "layout": "IPY_MODEL_58f3e8002f984594ac05c973aa78ef69",
      "max": 52,
      "min": 0,
      "orientation": "horizontal",
      "style": "IPY_MODEL_231c66f195d34f86b216805518f4bccd",
      "value": 52
     }
    },
    "bd3447291ce54812af10ac6245ea4328": {
     "model_module": "@jupyter-widgets/base",
     "model_name": "LayoutModel",
     "state": {
      "_model_module": "@jupyter-widgets/base",
      "_model_module_version": "1.2.0",
      "_model_name": "LayoutModel",
      "_view_count": null,
      "_view_module": "@jupyter-widgets/base",
      "_view_module_version": "1.2.0",
      "_view_name": "LayoutView",
      "align_content": null,
      "align_items": null,
      "align_self": null,
      "border": null,
      "bottom": null,
      "display": null,
      "flex": null,
      "flex_flow": null,
      "grid_area": null,
      "grid_auto_columns": null,
      "grid_auto_flow": null,
      "grid_auto_rows": null,
      "grid_column": null,
      "grid_gap": null,
      "grid_row": null,
      "grid_template_areas": null,
      "grid_template_columns": null,
      "grid_template_rows": null,
      "height": null,
      "justify_content": null,
      "justify_items": null,
      "left": null,
      "margin": null,
      "max_height": null,
      "max_width": null,
      "min_height": null,
      "min_width": null,
      "object_fit": null,
      "object_position": null,
      "order": null,
      "overflow": null,
      "overflow_x": null,
      "overflow_y": null,
      "padding": null,
      "right": null,
      "top": null,
      "visibility": null,
      "width": null
     }
    },
    "beca070c32124a119a08cb21c2ca95e5": {
     "model_module": "@jupyter-widgets/controls",
     "model_name": "ProgressStyleModel",
     "state": {
      "_model_module": "@jupyter-widgets/controls",
      "_model_module_version": "1.5.0",
      "_model_name": "ProgressStyleModel",
      "_view_count": null,
      "_view_module": "@jupyter-widgets/base",
      "_view_module_version": "1.2.0",
      "_view_name": "StyleView",
      "bar_color": null,
      "description_width": "initial"
     }
    },
    "bee0f50055eb4f738636142a10da0ddd": {
     "model_module": "@jupyter-widgets/base",
     "model_name": "LayoutModel",
     "state": {
      "_model_module": "@jupyter-widgets/base",
      "_model_module_version": "1.2.0",
      "_model_name": "LayoutModel",
      "_view_count": null,
      "_view_module": "@jupyter-widgets/base",
      "_view_module_version": "1.2.0",
      "_view_name": "LayoutView",
      "align_content": null,
      "align_items": null,
      "align_self": null,
      "border": null,
      "bottom": null,
      "display": null,
      "flex": null,
      "flex_flow": null,
      "grid_area": null,
      "grid_auto_columns": null,
      "grid_auto_flow": null,
      "grid_auto_rows": null,
      "grid_column": null,
      "grid_gap": null,
      "grid_row": null,
      "grid_template_areas": null,
      "grid_template_columns": null,
      "grid_template_rows": null,
      "height": null,
      "justify_content": null,
      "justify_items": null,
      "left": null,
      "margin": null,
      "max_height": null,
      "max_width": null,
      "min_height": null,
      "min_width": null,
      "object_fit": null,
      "object_position": null,
      "order": null,
      "overflow": null,
      "overflow_x": null,
      "overflow_y": null,
      "padding": null,
      "right": null,
      "top": null,
      "visibility": null,
      "width": null
     }
    },
    "bf9e57d81135412d9a9a2281f28bd52a": {
     "model_module": "@jupyter-widgets/controls",
     "model_name": "HBoxModel",
     "state": {
      "_dom_classes": [],
      "_model_module": "@jupyter-widgets/controls",
      "_model_module_version": "1.5.0",
      "_model_name": "HBoxModel",
      "_view_count": null,
      "_view_module": "@jupyter-widgets/controls",
      "_view_module_version": "1.5.0",
      "_view_name": "HBoxView",
      "box_style": "",
      "children": [
       "IPY_MODEL_579b6055028f473981ce789a0733a753",
       "IPY_MODEL_4fb7347e9ca542e6ab9003bf4db218e0"
      ],
      "layout": "IPY_MODEL_c41610c0baef412984f8661d96e08b7e"
     }
    },
    "c01aca3229a24d41841be2b4a3a65bcc": {
     "model_module": "@jupyter-widgets/controls",
     "model_name": "ProgressStyleModel",
     "state": {
      "_model_module": "@jupyter-widgets/controls",
      "_model_module_version": "1.5.0",
      "_model_name": "ProgressStyleModel",
      "_view_count": null,
      "_view_module": "@jupyter-widgets/base",
      "_view_module_version": "1.2.0",
      "_view_name": "StyleView",
      "bar_color": null,
      "description_width": "initial"
     }
    },
    "c0a661f20e7e4649a3c8c42a5fd01956": {
     "model_module": "@jupyter-widgets/base",
     "model_name": "LayoutModel",
     "state": {
      "_model_module": "@jupyter-widgets/base",
      "_model_module_version": "1.2.0",
      "_model_name": "LayoutModel",
      "_view_count": null,
      "_view_module": "@jupyter-widgets/base",
      "_view_module_version": "1.2.0",
      "_view_name": "LayoutView",
      "align_content": null,
      "align_items": null,
      "align_self": null,
      "border": null,
      "bottom": null,
      "display": null,
      "flex": null,
      "flex_flow": null,
      "grid_area": null,
      "grid_auto_columns": null,
      "grid_auto_flow": null,
      "grid_auto_rows": null,
      "grid_column": null,
      "grid_gap": null,
      "grid_row": null,
      "grid_template_areas": null,
      "grid_template_columns": null,
      "grid_template_rows": null,
      "height": null,
      "justify_content": null,
      "justify_items": null,
      "left": null,
      "margin": null,
      "max_height": null,
      "max_width": null,
      "min_height": null,
      "min_width": null,
      "object_fit": null,
      "object_position": null,
      "order": null,
      "overflow": null,
      "overflow_x": null,
      "overflow_y": null,
      "padding": null,
      "right": null,
      "top": null,
      "visibility": null,
      "width": null
     }
    },
    "c0e6b6e6395d4dbd827eb1c0de1ad21a": {
     "model_module": "@jupyter-widgets/base",
     "model_name": "LayoutModel",
     "state": {
      "_model_module": "@jupyter-widgets/base",
      "_model_module_version": "1.2.0",
      "_model_name": "LayoutModel",
      "_view_count": null,
      "_view_module": "@jupyter-widgets/base",
      "_view_module_version": "1.2.0",
      "_view_name": "LayoutView",
      "align_content": null,
      "align_items": null,
      "align_self": null,
      "border": null,
      "bottom": null,
      "display": null,
      "flex": null,
      "flex_flow": null,
      "grid_area": null,
      "grid_auto_columns": null,
      "grid_auto_flow": null,
      "grid_auto_rows": null,
      "grid_column": null,
      "grid_gap": null,
      "grid_row": null,
      "grid_template_areas": null,
      "grid_template_columns": null,
      "grid_template_rows": null,
      "height": null,
      "justify_content": null,
      "justify_items": null,
      "left": null,
      "margin": null,
      "max_height": null,
      "max_width": null,
      "min_height": null,
      "min_width": null,
      "object_fit": null,
      "object_position": null,
      "order": null,
      "overflow": null,
      "overflow_x": null,
      "overflow_y": null,
      "padding": null,
      "right": null,
      "top": null,
      "visibility": null,
      "width": null
     }
    },
    "c126ea97019149848396e593cfab016f": {
     "model_module": "@jupyter-widgets/base",
     "model_name": "LayoutModel",
     "state": {
      "_model_module": "@jupyter-widgets/base",
      "_model_module_version": "1.2.0",
      "_model_name": "LayoutModel",
      "_view_count": null,
      "_view_module": "@jupyter-widgets/base",
      "_view_module_version": "1.2.0",
      "_view_name": "LayoutView",
      "align_content": null,
      "align_items": null,
      "align_self": null,
      "border": null,
      "bottom": null,
      "display": null,
      "flex": null,
      "flex_flow": null,
      "grid_area": null,
      "grid_auto_columns": null,
      "grid_auto_flow": null,
      "grid_auto_rows": null,
      "grid_column": null,
      "grid_gap": null,
      "grid_row": null,
      "grid_template_areas": null,
      "grid_template_columns": null,
      "grid_template_rows": null,
      "height": null,
      "justify_content": null,
      "justify_items": null,
      "left": null,
      "margin": null,
      "max_height": null,
      "max_width": null,
      "min_height": null,
      "min_width": null,
      "object_fit": null,
      "object_position": null,
      "order": null,
      "overflow": null,
      "overflow_x": null,
      "overflow_y": null,
      "padding": null,
      "right": null,
      "top": null,
      "visibility": null,
      "width": null
     }
    },
    "c41610c0baef412984f8661d96e08b7e": {
     "model_module": "@jupyter-widgets/base",
     "model_name": "LayoutModel",
     "state": {
      "_model_module": "@jupyter-widgets/base",
      "_model_module_version": "1.2.0",
      "_model_name": "LayoutModel",
      "_view_count": null,
      "_view_module": "@jupyter-widgets/base",
      "_view_module_version": "1.2.0",
      "_view_name": "LayoutView",
      "align_content": null,
      "align_items": null,
      "align_self": null,
      "border": null,
      "bottom": null,
      "display": null,
      "flex": null,
      "flex_flow": null,
      "grid_area": null,
      "grid_auto_columns": null,
      "grid_auto_flow": null,
      "grid_auto_rows": null,
      "grid_column": null,
      "grid_gap": null,
      "grid_row": null,
      "grid_template_areas": null,
      "grid_template_columns": null,
      "grid_template_rows": null,
      "height": null,
      "justify_content": null,
      "justify_items": null,
      "left": null,
      "margin": null,
      "max_height": null,
      "max_width": null,
      "min_height": null,
      "min_width": null,
      "object_fit": null,
      "object_position": null,
      "order": null,
      "overflow": null,
      "overflow_x": null,
      "overflow_y": null,
      "padding": null,
      "right": null,
      "top": null,
      "visibility": null,
      "width": null
     }
    },
    "c546bca23ee248a1be7bd8ead3e82a8f": {
     "model_module": "@jupyter-widgets/controls",
     "model_name": "ProgressStyleModel",
     "state": {
      "_model_module": "@jupyter-widgets/controls",
      "_model_module_version": "1.5.0",
      "_model_name": "ProgressStyleModel",
      "_view_count": null,
      "_view_module": "@jupyter-widgets/base",
      "_view_module_version": "1.2.0",
      "_view_name": "StyleView",
      "bar_color": null,
      "description_width": "initial"
     }
    },
    "c8fdf261ac294093a355778a3a4aba3b": {
     "model_module": "@jupyter-widgets/controls",
     "model_name": "ProgressStyleModel",
     "state": {
      "_model_module": "@jupyter-widgets/controls",
      "_model_module_version": "1.5.0",
      "_model_name": "ProgressStyleModel",
      "_view_count": null,
      "_view_module": "@jupyter-widgets/base",
      "_view_module_version": "1.2.0",
      "_view_name": "StyleView",
      "bar_color": null,
      "description_width": "initial"
     }
    },
    "c9dc4421940241c59f1151aeabedc98b": {
     "model_module": "@jupyter-widgets/base",
     "model_name": "LayoutModel",
     "state": {
      "_model_module": "@jupyter-widgets/base",
      "_model_module_version": "1.2.0",
      "_model_name": "LayoutModel",
      "_view_count": null,
      "_view_module": "@jupyter-widgets/base",
      "_view_module_version": "1.2.0",
      "_view_name": "LayoutView",
      "align_content": null,
      "align_items": null,
      "align_self": null,
      "border": null,
      "bottom": null,
      "display": null,
      "flex": null,
      "flex_flow": null,
      "grid_area": null,
      "grid_auto_columns": null,
      "grid_auto_flow": null,
      "grid_auto_rows": null,
      "grid_column": null,
      "grid_gap": null,
      "grid_row": null,
      "grid_template_areas": null,
      "grid_template_columns": null,
      "grid_template_rows": null,
      "height": null,
      "justify_content": null,
      "justify_items": null,
      "left": null,
      "margin": null,
      "max_height": null,
      "max_width": null,
      "min_height": null,
      "min_width": null,
      "object_fit": null,
      "object_position": null,
      "order": null,
      "overflow": null,
      "overflow_x": null,
      "overflow_y": null,
      "padding": null,
      "right": null,
      "top": null,
      "visibility": null,
      "width": null
     }
    },
    "cb5666eb8ebb4d1392e98d6b5af8761c": {
     "model_module": "@jupyter-widgets/controls",
     "model_name": "DescriptionStyleModel",
     "state": {
      "_model_module": "@jupyter-widgets/controls",
      "_model_module_version": "1.5.0",
      "_model_name": "DescriptionStyleModel",
      "_view_count": null,
      "_view_module": "@jupyter-widgets/base",
      "_view_module_version": "1.2.0",
      "_view_name": "StyleView",
      "description_width": ""
     }
    },
    "cc9c1e00c2d34516b8fd9edff96bb0d8": {
     "model_module": "@jupyter-widgets/controls",
     "model_name": "HBoxModel",
     "state": {
      "_dom_classes": [],
      "_model_module": "@jupyter-widgets/controls",
      "_model_module_version": "1.5.0",
      "_model_name": "HBoxModel",
      "_view_count": null,
      "_view_module": "@jupyter-widgets/controls",
      "_view_module_version": "1.5.0",
      "_view_name": "HBoxView",
      "box_style": "",
      "children": [
       "IPY_MODEL_33c92b5afd1d4b6d88016aabfb434194",
       "IPY_MODEL_998676d59f9c464e8463d65baad6448b"
      ],
      "layout": "IPY_MODEL_6abfbe44a1bd4518b41f5f53f920e936"
     }
    },
    "ccb720bf256e42f7b0251494ccb7741f": {
     "model_module": "@jupyter-widgets/controls",
     "model_name": "DescriptionStyleModel",
     "state": {
      "_model_module": "@jupyter-widgets/controls",
      "_model_module_version": "1.5.0",
      "_model_name": "DescriptionStyleModel",
      "_view_count": null,
      "_view_module": "@jupyter-widgets/base",
      "_view_module_version": "1.2.0",
      "_view_name": "StyleView",
      "description_width": ""
     }
    },
    "ce337f50183942e6a74ca1b33735ade9": {
     "model_module": "@jupyter-widgets/controls",
     "model_name": "HTMLModel",
     "state": {
      "_dom_classes": [],
      "_model_module": "@jupyter-widgets/controls",
      "_model_module_version": "1.5.0",
      "_model_name": "HTMLModel",
      "_view_count": null,
      "_view_module": "@jupyter-widgets/controls",
      "_view_module_version": "1.5.0",
      "_view_name": "HTMLView",
      "description": "",
      "description_tooltip": null,
      "layout": "IPY_MODEL_e9a702f10538415b970ea1345804d72c",
      "placeholder": "​",
      "style": "IPY_MODEL_9532db4cdc5e4371a4a02055a4c67a08",
      "value": " 23.0k/? [00:00&lt;00:00, 72.2kB/s]"
     }
    },
    "ceb44ba4fdf34da19a52469acf1ce63f": {
     "model_module": "@jupyter-widgets/base",
     "model_name": "LayoutModel",
     "state": {
      "_model_module": "@jupyter-widgets/base",
      "_model_module_version": "1.2.0",
      "_model_name": "LayoutModel",
      "_view_count": null,
      "_view_module": "@jupyter-widgets/base",
      "_view_module_version": "1.2.0",
      "_view_name": "LayoutView",
      "align_content": null,
      "align_items": null,
      "align_self": null,
      "border": null,
      "bottom": null,
      "display": null,
      "flex": null,
      "flex_flow": null,
      "grid_area": null,
      "grid_auto_columns": null,
      "grid_auto_flow": null,
      "grid_auto_rows": null,
      "grid_column": null,
      "grid_gap": null,
      "grid_row": null,
      "grid_template_areas": null,
      "grid_template_columns": null,
      "grid_template_rows": null,
      "height": null,
      "justify_content": null,
      "justify_items": null,
      "left": null,
      "margin": null,
      "max_height": null,
      "max_width": null,
      "min_height": null,
      "min_width": null,
      "object_fit": null,
      "object_position": null,
      "order": null,
      "overflow": null,
      "overflow_x": null,
      "overflow_y": null,
      "padding": null,
      "right": null,
      "top": null,
      "visibility": null,
      "width": null
     }
    },
    "d080668299ef42fabb8ab6fbcf329cea": {
     "model_module": "@jupyter-widgets/controls",
     "model_name": "FloatProgressModel",
     "state": {
      "_dom_classes": [],
      "_model_module": "@jupyter-widgets/controls",
      "_model_module_version": "1.5.0",
      "_model_name": "FloatProgressModel",
      "_view_count": null,
      "_view_module": "@jupyter-widgets/controls",
      "_view_module_version": "1.5.0",
      "_view_name": "ProgressView",
      "bar_style": "success",
      "description": "100%",
      "description_tooltip": null,
      "layout": "IPY_MODEL_f972527479e74337a98f236ed018ae1d",
      "max": 1,
      "min": 0,
      "orientation": "horizontal",
      "style": "IPY_MODEL_b0f3a205ad4546188fc6e7e7cf96ab32",
      "value": 1
     }
    },
    "d35c15beeb33476894b07c3563f8facd": {
     "model_module": "@jupyter-widgets/controls",
     "model_name": "DescriptionStyleModel",
     "state": {
      "_model_module": "@jupyter-widgets/controls",
      "_model_module_version": "1.5.0",
      "_model_name": "DescriptionStyleModel",
      "_view_count": null,
      "_view_module": "@jupyter-widgets/base",
      "_view_module_version": "1.2.0",
      "_view_name": "StyleView",
      "description_width": ""
     }
    },
    "d362345c05234c97a675c6bacdad0e92": {
     "model_module": "@jupyter-widgets/controls",
     "model_name": "DescriptionStyleModel",
     "state": {
      "_model_module": "@jupyter-widgets/controls",
      "_model_module_version": "1.5.0",
      "_model_name": "DescriptionStyleModel",
      "_view_count": null,
      "_view_module": "@jupyter-widgets/base",
      "_view_module_version": "1.2.0",
      "_view_name": "StyleView",
      "description_width": ""
     }
    },
    "d453bd4a35e54bfba20dac1fe86c60c1": {
     "model_module": "@jupyter-widgets/base",
     "model_name": "LayoutModel",
     "state": {
      "_model_module": "@jupyter-widgets/base",
      "_model_module_version": "1.2.0",
      "_model_name": "LayoutModel",
      "_view_count": null,
      "_view_module": "@jupyter-widgets/base",
      "_view_module_version": "1.2.0",
      "_view_name": "LayoutView",
      "align_content": null,
      "align_items": null,
      "align_self": null,
      "border": null,
      "bottom": null,
      "display": null,
      "flex": null,
      "flex_flow": null,
      "grid_area": null,
      "grid_auto_columns": null,
      "grid_auto_flow": null,
      "grid_auto_rows": null,
      "grid_column": null,
      "grid_gap": null,
      "grid_row": null,
      "grid_template_areas": null,
      "grid_template_columns": null,
      "grid_template_rows": null,
      "height": null,
      "justify_content": null,
      "justify_items": null,
      "left": null,
      "margin": null,
      "max_height": null,
      "max_width": null,
      "min_height": null,
      "min_width": null,
      "object_fit": null,
      "object_position": null,
      "order": null,
      "overflow": null,
      "overflow_x": null,
      "overflow_y": null,
      "padding": null,
      "right": null,
      "top": null,
      "visibility": null,
      "width": null
     }
    },
    "d4a3f79644fc41848450ba29e6fdfc3d": {
     "model_module": "@jupyter-widgets/base",
     "model_name": "LayoutModel",
     "state": {
      "_model_module": "@jupyter-widgets/base",
      "_model_module_version": "1.2.0",
      "_model_name": "LayoutModel",
      "_view_count": null,
      "_view_module": "@jupyter-widgets/base",
      "_view_module_version": "1.2.0",
      "_view_name": "LayoutView",
      "align_content": null,
      "align_items": null,
      "align_self": null,
      "border": null,
      "bottom": null,
      "display": null,
      "flex": null,
      "flex_flow": null,
      "grid_area": null,
      "grid_auto_columns": null,
      "grid_auto_flow": null,
      "grid_auto_rows": null,
      "grid_column": null,
      "grid_gap": null,
      "grid_row": null,
      "grid_template_areas": null,
      "grid_template_columns": null,
      "grid_template_rows": null,
      "height": null,
      "justify_content": null,
      "justify_items": null,
      "left": null,
      "margin": null,
      "max_height": null,
      "max_width": null,
      "min_height": null,
      "min_width": null,
      "object_fit": null,
      "object_position": null,
      "order": null,
      "overflow": null,
      "overflow_x": null,
      "overflow_y": null,
      "padding": null,
      "right": null,
      "top": null,
      "visibility": null,
      "width": null
     }
    },
    "d5fb02debe4347e781543a996ce39be3": {
     "model_module": "@jupyter-widgets/controls",
     "model_name": "HBoxModel",
     "state": {
      "_dom_classes": [],
      "_model_module": "@jupyter-widgets/controls",
      "_model_module_version": "1.5.0",
      "_model_name": "HBoxModel",
      "_view_count": null,
      "_view_module": "@jupyter-widgets/controls",
      "_view_module_version": "1.5.0",
      "_view_name": "HBoxView",
      "box_style": "",
      "children": [
       "IPY_MODEL_8e1a85a4a6214a16b7431da23a301ada",
       "IPY_MODEL_57198e3250374e1fa64c5a4be255861e"
      ],
      "layout": "IPY_MODEL_da12267c52144292adb9896249d61a6a"
     }
    },
    "d649c0f9c1c24634a84b7ef697721ffa": {
     "model_module": "@jupyter-widgets/base",
     "model_name": "LayoutModel",
     "state": {
      "_model_module": "@jupyter-widgets/base",
      "_model_module_version": "1.2.0",
      "_model_name": "LayoutModel",
      "_view_count": null,
      "_view_module": "@jupyter-widgets/base",
      "_view_module_version": "1.2.0",
      "_view_name": "LayoutView",
      "align_content": null,
      "align_items": null,
      "align_self": null,
      "border": null,
      "bottom": null,
      "display": null,
      "flex": null,
      "flex_flow": null,
      "grid_area": null,
      "grid_auto_columns": null,
      "grid_auto_flow": null,
      "grid_auto_rows": null,
      "grid_column": null,
      "grid_gap": null,
      "grid_row": null,
      "grid_template_areas": null,
      "grid_template_columns": null,
      "grid_template_rows": null,
      "height": null,
      "justify_content": null,
      "justify_items": null,
      "left": null,
      "margin": null,
      "max_height": null,
      "max_width": null,
      "min_height": null,
      "min_width": null,
      "object_fit": null,
      "object_position": null,
      "order": null,
      "overflow": null,
      "overflow_x": null,
      "overflow_y": null,
      "padding": null,
      "right": null,
      "top": null,
      "visibility": null,
      "width": null
     }
    },
    "d69468d63dd74fdd807fe061b92aa84e": {
     "model_module": "@jupyter-widgets/controls",
     "model_name": "HTMLModel",
     "state": {
      "_dom_classes": [],
      "_model_module": "@jupyter-widgets/controls",
      "_model_module_version": "1.5.0",
      "_model_name": "HTMLModel",
      "_view_count": null,
      "_view_module": "@jupyter-widgets/controls",
      "_view_module_version": "1.5.0",
      "_view_name": "HTMLView",
      "description": "",
      "description_tooltip": null,
      "layout": "IPY_MODEL_84e7f0001ebe458dad3c96e7e9a38cdc",
      "placeholder": "​",
      "style": "IPY_MODEL_7f5203fde6b64bf7ad53d6ecd3041bfc",
      "value": " 869/869 [05:47&lt;00:00,  2.50ex/s]"
     }
    },
    "d7f27e9cf8a844349ca90393e0c49a03": {
     "model_module": "@jupyter-widgets/base",
     "model_name": "LayoutModel",
     "state": {
      "_model_module": "@jupyter-widgets/base",
      "_model_module_version": "1.2.0",
      "_model_name": "LayoutModel",
      "_view_count": null,
      "_view_module": "@jupyter-widgets/base",
      "_view_module_version": "1.2.0",
      "_view_name": "LayoutView",
      "align_content": null,
      "align_items": null,
      "align_self": null,
      "border": null,
      "bottom": null,
      "display": null,
      "flex": null,
      "flex_flow": null,
      "grid_area": null,
      "grid_auto_columns": null,
      "grid_auto_flow": null,
      "grid_auto_rows": null,
      "grid_column": null,
      "grid_gap": null,
      "grid_row": null,
      "grid_template_areas": null,
      "grid_template_columns": null,
      "grid_template_rows": null,
      "height": null,
      "justify_content": null,
      "justify_items": null,
      "left": null,
      "margin": null,
      "max_height": null,
      "max_width": null,
      "min_height": null,
      "min_width": null,
      "object_fit": null,
      "object_position": null,
      "order": null,
      "overflow": null,
      "overflow_x": null,
      "overflow_y": null,
      "padding": null,
      "right": null,
      "top": null,
      "visibility": null,
      "width": null
     }
    },
    "d96e01ad62c342cdb7d9b1eceb39afa3": {
     "model_module": "@jupyter-widgets/controls",
     "model_name": "HBoxModel",
     "state": {
      "_dom_classes": [],
      "_model_module": "@jupyter-widgets/controls",
      "_model_module_version": "1.5.0",
      "_model_name": "HBoxModel",
      "_view_count": null,
      "_view_module": "@jupyter-widgets/controls",
      "_view_module_version": "1.5.0",
      "_view_name": "HBoxView",
      "box_style": "",
      "children": [
       "IPY_MODEL_e6178f7b148c4bf39f2826f208e0cc64",
       "IPY_MODEL_f78ff14b9c8f46448ed1ecb3fe1f5e0b"
      ],
      "layout": "IPY_MODEL_e6ce9330460d4a0fb67cc493ca74ae96"
     }
    },
    "da12267c52144292adb9896249d61a6a": {
     "model_module": "@jupyter-widgets/base",
     "model_name": "LayoutModel",
     "state": {
      "_model_module": "@jupyter-widgets/base",
      "_model_module_version": "1.2.0",
      "_model_name": "LayoutModel",
      "_view_count": null,
      "_view_module": "@jupyter-widgets/base",
      "_view_module_version": "1.2.0",
      "_view_name": "LayoutView",
      "align_content": null,
      "align_items": null,
      "align_self": null,
      "border": null,
      "bottom": null,
      "display": null,
      "flex": null,
      "flex_flow": null,
      "grid_area": null,
      "grid_auto_columns": null,
      "grid_auto_flow": null,
      "grid_auto_rows": null,
      "grid_column": null,
      "grid_gap": null,
      "grid_row": null,
      "grid_template_areas": null,
      "grid_template_columns": null,
      "grid_template_rows": null,
      "height": null,
      "justify_content": null,
      "justify_items": null,
      "left": null,
      "margin": null,
      "max_height": null,
      "max_width": null,
      "min_height": null,
      "min_width": null,
      "object_fit": null,
      "object_position": null,
      "order": null,
      "overflow": null,
      "overflow_x": null,
      "overflow_y": null,
      "padding": null,
      "right": null,
      "top": null,
      "visibility": null,
      "width": null
     }
    },
    "da1ff50f8b9241108a325ada04224642": {
     "model_module": "@jupyter-widgets/controls",
     "model_name": "ProgressStyleModel",
     "state": {
      "_model_module": "@jupyter-widgets/controls",
      "_model_module_version": "1.5.0",
      "_model_name": "ProgressStyleModel",
      "_view_count": null,
      "_view_module": "@jupyter-widgets/base",
      "_view_module_version": "1.2.0",
      "_view_name": "StyleView",
      "bar_color": null,
      "description_width": "initial"
     }
    },
    "db71db50799c404aafa4a54de8b9b799": {
     "model_module": "@jupyter-widgets/base",
     "model_name": "LayoutModel",
     "state": {
      "_model_module": "@jupyter-widgets/base",
      "_model_module_version": "1.2.0",
      "_model_name": "LayoutModel",
      "_view_count": null,
      "_view_module": "@jupyter-widgets/base",
      "_view_module_version": "1.2.0",
      "_view_name": "LayoutView",
      "align_content": null,
      "align_items": null,
      "align_self": null,
      "border": null,
      "bottom": null,
      "display": null,
      "flex": null,
      "flex_flow": null,
      "grid_area": null,
      "grid_auto_columns": null,
      "grid_auto_flow": null,
      "grid_auto_rows": null,
      "grid_column": null,
      "grid_gap": null,
      "grid_row": null,
      "grid_template_areas": null,
      "grid_template_columns": null,
      "grid_template_rows": null,
      "height": null,
      "justify_content": null,
      "justify_items": null,
      "left": null,
      "margin": null,
      "max_height": null,
      "max_width": null,
      "min_height": null,
      "min_width": null,
      "object_fit": null,
      "object_position": null,
      "order": null,
      "overflow": null,
      "overflow_x": null,
      "overflow_y": null,
      "padding": null,
      "right": null,
      "top": null,
      "visibility": null,
      "width": null
     }
    },
    "dc6862530f6e429ba61a169b4c95722c": {
     "model_module": "@jupyter-widgets/base",
     "model_name": "LayoutModel",
     "state": {
      "_model_module": "@jupyter-widgets/base",
      "_model_module_version": "1.2.0",
      "_model_name": "LayoutModel",
      "_view_count": null,
      "_view_module": "@jupyter-widgets/base",
      "_view_module_version": "1.2.0",
      "_view_name": "LayoutView",
      "align_content": null,
      "align_items": null,
      "align_self": null,
      "border": null,
      "bottom": null,
      "display": null,
      "flex": null,
      "flex_flow": null,
      "grid_area": null,
      "grid_auto_columns": null,
      "grid_auto_flow": null,
      "grid_auto_rows": null,
      "grid_column": null,
      "grid_gap": null,
      "grid_row": null,
      "grid_template_areas": null,
      "grid_template_columns": null,
      "grid_template_rows": null,
      "height": null,
      "justify_content": null,
      "justify_items": null,
      "left": null,
      "margin": null,
      "max_height": null,
      "max_width": null,
      "min_height": null,
      "min_width": null,
      "object_fit": null,
      "object_position": null,
      "order": null,
      "overflow": null,
      "overflow_x": null,
      "overflow_y": null,
      "padding": null,
      "right": null,
      "top": null,
      "visibility": null,
      "width": null
     }
    },
    "dde7ae43ef954ef1b901c80f0a4e11fd": {
     "model_module": "@jupyter-widgets/base",
     "model_name": "LayoutModel",
     "state": {
      "_model_module": "@jupyter-widgets/base",
      "_model_module_version": "1.2.0",
      "_model_name": "LayoutModel",
      "_view_count": null,
      "_view_module": "@jupyter-widgets/base",
      "_view_module_version": "1.2.0",
      "_view_name": "LayoutView",
      "align_content": null,
      "align_items": null,
      "align_self": null,
      "border": null,
      "bottom": null,
      "display": null,
      "flex": null,
      "flex_flow": null,
      "grid_area": null,
      "grid_auto_columns": null,
      "grid_auto_flow": null,
      "grid_auto_rows": null,
      "grid_column": null,
      "grid_gap": null,
      "grid_row": null,
      "grid_template_areas": null,
      "grid_template_columns": null,
      "grid_template_rows": null,
      "height": null,
      "justify_content": null,
      "justify_items": null,
      "left": null,
      "margin": null,
      "max_height": null,
      "max_width": null,
      "min_height": null,
      "min_width": null,
      "object_fit": null,
      "object_position": null,
      "order": null,
      "overflow": null,
      "overflow_x": null,
      "overflow_y": null,
      "padding": null,
      "right": null,
      "top": null,
      "visibility": null,
      "width": null
     }
    },
    "dec796237765477ea904834d9a824b61": {
     "model_module": "@jupyter-widgets/base",
     "model_name": "LayoutModel",
     "state": {
      "_model_module": "@jupyter-widgets/base",
      "_model_module_version": "1.2.0",
      "_model_name": "LayoutModel",
      "_view_count": null,
      "_view_module": "@jupyter-widgets/base",
      "_view_module_version": "1.2.0",
      "_view_name": "LayoutView",
      "align_content": null,
      "align_items": null,
      "align_self": null,
      "border": null,
      "bottom": null,
      "display": null,
      "flex": null,
      "flex_flow": null,
      "grid_area": null,
      "grid_auto_columns": null,
      "grid_auto_flow": null,
      "grid_auto_rows": null,
      "grid_column": null,
      "grid_gap": null,
      "grid_row": null,
      "grid_template_areas": null,
      "grid_template_columns": null,
      "grid_template_rows": null,
      "height": null,
      "justify_content": null,
      "justify_items": null,
      "left": null,
      "margin": null,
      "max_height": null,
      "max_width": null,
      "min_height": null,
      "min_width": null,
      "object_fit": null,
      "object_position": null,
      "order": null,
      "overflow": null,
      "overflow_x": null,
      "overflow_y": null,
      "padding": null,
      "right": null,
      "top": null,
      "visibility": null,
      "width": null
     }
    },
    "def702d8f8354fa4999587a5c68d0034": {
     "model_module": "@jupyter-widgets/controls",
     "model_name": "HBoxModel",
     "state": {
      "_dom_classes": [],
      "_model_module": "@jupyter-widgets/controls",
      "_model_module_version": "1.5.0",
      "_model_name": "HBoxModel",
      "_view_count": null,
      "_view_module": "@jupyter-widgets/controls",
      "_view_module_version": "1.5.0",
      "_view_name": "HBoxView",
      "box_style": "",
      "children": [
       "IPY_MODEL_edf36819322e4f9fa227a11592fef429",
       "IPY_MODEL_ce337f50183942e6a74ca1b33735ade9"
      ],
      "layout": "IPY_MODEL_2fd148d5587b4139919b0158f9dad71e"
     }
    },
    "e273548a15aa4d4994132b317adb66fc": {
     "model_module": "@jupyter-widgets/controls",
     "model_name": "FloatProgressModel",
     "state": {
      "_dom_classes": [],
      "_model_module": "@jupyter-widgets/controls",
      "_model_module_version": "1.5.0",
      "_model_name": "FloatProgressModel",
      "_view_count": null,
      "_view_module": "@jupyter-widgets/controls",
      "_view_module_version": "1.5.0",
      "_view_name": "ProgressView",
      "bar_style": "success",
      "description": "#0: 100%",
      "description_tooltip": null,
      "layout": "IPY_MODEL_80697300a4394b909f1c499ba80aeb13",
      "max": 52,
      "min": 0,
      "orientation": "horizontal",
      "style": "IPY_MODEL_7d62810674c8482abe46c60fc08884b4",
      "value": 52
     }
    },
    "e3b719c0ffcc4fd1b410ffb7f969b7a5": {
     "model_module": "@jupyter-widgets/controls",
     "model_name": "HTMLModel",
     "state": {
      "_dom_classes": [],
      "_model_module": "@jupyter-widgets/controls",
      "_model_module_version": "1.5.0",
      "_model_name": "HTMLModel",
      "_view_count": null,
      "_view_module": "@jupyter-widgets/controls",
      "_view_module_version": "1.5.0",
      "_view_name": "HTMLView",
      "description": "",
      "description_tooltip": null,
      "layout": "IPY_MODEL_c9dc4421940241c59f1151aeabedc98b",
      "placeholder": "​",
      "style": "IPY_MODEL_19e263785ea343ba99ee2127d9b83d1d",
      "value": " 1831/0 [00:04&lt;00:00,  4.82s/ examples]"
     }
    },
    "e51b5fd9d5a6416d986fac1526d1666f": {
     "model_module": "@jupyter-widgets/base",
     "model_name": "LayoutModel",
     "state": {
      "_model_module": "@jupyter-widgets/base",
      "_model_module_version": "1.2.0",
      "_model_name": "LayoutModel",
      "_view_count": null,
      "_view_module": "@jupyter-widgets/base",
      "_view_module_version": "1.2.0",
      "_view_name": "LayoutView",
      "align_content": null,
      "align_items": null,
      "align_self": null,
      "border": null,
      "bottom": null,
      "display": null,
      "flex": null,
      "flex_flow": null,
      "grid_area": null,
      "grid_auto_columns": null,
      "grid_auto_flow": null,
      "grid_auto_rows": null,
      "grid_column": null,
      "grid_gap": null,
      "grid_row": null,
      "grid_template_areas": null,
      "grid_template_columns": null,
      "grid_template_rows": null,
      "height": null,
      "justify_content": null,
      "justify_items": null,
      "left": null,
      "margin": null,
      "max_height": null,
      "max_width": null,
      "min_height": null,
      "min_width": null,
      "object_fit": null,
      "object_position": null,
      "order": null,
      "overflow": null,
      "overflow_x": null,
      "overflow_y": null,
      "padding": null,
      "right": null,
      "top": null,
      "visibility": null,
      "width": null
     }
    },
    "e6178f7b148c4bf39f2826f208e0cc64": {
     "model_module": "@jupyter-widgets/controls",
     "model_name": "FloatProgressModel",
     "state": {
      "_dom_classes": [],
      "_model_module": "@jupyter-widgets/controls",
      "_model_module_version": "1.5.0",
      "_model_name": "FloatProgressModel",
      "_view_count": null,
      "_view_module": "@jupyter-widgets/controls",
      "_view_module_version": "1.5.0",
      "_view_name": "ProgressView",
      "bar_style": "success",
      "description": "#0: 100%",
      "description_tooltip": null,
      "layout": "IPY_MODEL_6ba6d07674a34836be53cf173c2b61ca",
      "max": 412,
      "min": 0,
      "orientation": "horizontal",
      "style": "IPY_MODEL_929cde17b3484f3e9e8f8774bc43e374",
      "value": 412
     }
    },
    "e6ce9330460d4a0fb67cc493ca74ae96": {
     "model_module": "@jupyter-widgets/base",
     "model_name": "LayoutModel",
     "state": {
      "_model_module": "@jupyter-widgets/base",
      "_model_module_version": "1.2.0",
      "_model_name": "LayoutModel",
      "_view_count": null,
      "_view_module": "@jupyter-widgets/base",
      "_view_module_version": "1.2.0",
      "_view_name": "LayoutView",
      "align_content": null,
      "align_items": null,
      "align_self": null,
      "border": null,
      "bottom": null,
      "display": null,
      "flex": null,
      "flex_flow": null,
      "grid_area": null,
      "grid_auto_columns": null,
      "grid_auto_flow": null,
      "grid_auto_rows": null,
      "grid_column": null,
      "grid_gap": null,
      "grid_row": null,
      "grid_template_areas": null,
      "grid_template_columns": null,
      "grid_template_rows": null,
      "height": null,
      "justify_content": null,
      "justify_items": null,
      "left": null,
      "margin": null,
      "max_height": null,
      "max_width": null,
      "min_height": null,
      "min_width": null,
      "object_fit": null,
      "object_position": null,
      "order": null,
      "overflow": null,
      "overflow_x": null,
      "overflow_y": null,
      "padding": null,
      "right": null,
      "top": null,
      "visibility": null,
      "width": null
     }
    },
    "e9a702f10538415b970ea1345804d72c": {
     "model_module": "@jupyter-widgets/base",
     "model_name": "LayoutModel",
     "state": {
      "_model_module": "@jupyter-widgets/base",
      "_model_module_version": "1.2.0",
      "_model_name": "LayoutModel",
      "_view_count": null,
      "_view_module": "@jupyter-widgets/base",
      "_view_module_version": "1.2.0",
      "_view_name": "LayoutView",
      "align_content": null,
      "align_items": null,
      "align_self": null,
      "border": null,
      "bottom": null,
      "display": null,
      "flex": null,
      "flex_flow": null,
      "grid_area": null,
      "grid_auto_columns": null,
      "grid_auto_flow": null,
      "grid_auto_rows": null,
      "grid_column": null,
      "grid_gap": null,
      "grid_row": null,
      "grid_template_areas": null,
      "grid_template_columns": null,
      "grid_template_rows": null,
      "height": null,
      "justify_content": null,
      "justify_items": null,
      "left": null,
      "margin": null,
      "max_height": null,
      "max_width": null,
      "min_height": null,
      "min_width": null,
      "object_fit": null,
      "object_position": null,
      "order": null,
      "overflow": null,
      "overflow_x": null,
      "overflow_y": null,
      "padding": null,
      "right": null,
      "top": null,
      "visibility": null,
      "width": null
     }
    },
    "ec36a94ee2574ac8b227ccaefdee5520": {
     "model_module": "@jupyter-widgets/controls",
     "model_name": "DescriptionStyleModel",
     "state": {
      "_model_module": "@jupyter-widgets/controls",
      "_model_module_version": "1.5.0",
      "_model_name": "DescriptionStyleModel",
      "_view_count": null,
      "_view_module": "@jupyter-widgets/base",
      "_view_module_version": "1.2.0",
      "_view_name": "StyleView",
      "description_width": ""
     }
    },
    "edf36819322e4f9fa227a11592fef429": {
     "model_module": "@jupyter-widgets/controls",
     "model_name": "FloatProgressModel",
     "state": {
      "_dom_classes": [],
      "_model_module": "@jupyter-widgets/controls",
      "_model_module_version": "1.5.0",
      "_model_name": "FloatProgressModel",
      "_view_count": null,
      "_view_module": "@jupyter-widgets/controls",
      "_view_module_version": "1.5.0",
      "_view_name": "ProgressView",
      "bar_style": "success",
      "description": "Downloading: ",
      "description_tooltip": null,
      "layout": "IPY_MODEL_93f191a48b3141e1889fd94870b6ac0e",
      "max": 4662,
      "min": 0,
      "orientation": "horizontal",
      "style": "IPY_MODEL_8292dafcd40745958d0f3c563bf6b9b0",
      "value": 4662
     }
    },
    "ee641bbf54a7499597713c517baa81bb": {
     "model_module": "@jupyter-widgets/controls",
     "model_name": "HBoxModel",
     "state": {
      "_dom_classes": [],
      "_model_module": "@jupyter-widgets/controls",
      "_model_module_version": "1.5.0",
      "_model_name": "HBoxModel",
      "_view_count": null,
      "_view_module": "@jupyter-widgets/controls",
      "_view_module_version": "1.5.0",
      "_view_name": "HBoxView",
      "box_style": "",
      "children": [
       "IPY_MODEL_4f8957dc035d4c1a9e8630fc8ab8cd10",
       "IPY_MODEL_757e7bd0e6c5410da0490d191b4e68c8"
      ],
      "layout": "IPY_MODEL_3d929b9e2518402b81a71757ffb753d2"
     }
    },
    "eed2ccc12daa4c71b080794a7a18f5cb": {
     "model_module": "@jupyter-widgets/controls",
     "model_name": "HTMLModel",
     "state": {
      "_dom_classes": [],
      "_model_module": "@jupyter-widgets/controls",
      "_model_module_version": "1.5.0",
      "_model_name": "HTMLModel",
      "_view_count": null,
      "_view_module": "@jupyter-widgets/controls",
      "_view_module_version": "1.5.0",
      "_view_name": "HTMLView",
      "description": "",
      "description_tooltip": null,
      "layout": "IPY_MODEL_f18eddbd3d994ddc88f37e02d754c206",
      "placeholder": "​",
      "style": "IPY_MODEL_20347ed29fdc4c0a96da28c09aacf44d",
      "value": " 870/870 [05:39&lt;00:00,  2.45ex/s]"
     }
    },
    "f18eddbd3d994ddc88f37e02d754c206": {
     "model_module": "@jupyter-widgets/base",
     "model_name": "LayoutModel",
     "state": {
      "_model_module": "@jupyter-widgets/base",
      "_model_module_version": "1.2.0",
      "_model_name": "LayoutModel",
      "_view_count": null,
      "_view_module": "@jupyter-widgets/base",
      "_view_module_version": "1.2.0",
      "_view_name": "LayoutView",
      "align_content": null,
      "align_items": null,
      "align_self": null,
      "border": null,
      "bottom": null,
      "display": null,
      "flex": null,
      "flex_flow": null,
      "grid_area": null,
      "grid_auto_columns": null,
      "grid_auto_flow": null,
      "grid_auto_rows": null,
      "grid_column": null,
      "grid_gap": null,
      "grid_row": null,
      "grid_template_areas": null,
      "grid_template_columns": null,
      "grid_template_rows": null,
      "height": null,
      "justify_content": null,
      "justify_items": null,
      "left": null,
      "margin": null,
      "max_height": null,
      "max_width": null,
      "min_height": null,
      "min_width": null,
      "object_fit": null,
      "object_position": null,
      "order": null,
      "overflow": null,
      "overflow_x": null,
      "overflow_y": null,
      "padding": null,
      "right": null,
      "top": null,
      "visibility": null,
      "width": null
     }
    },
    "f203c54e7e054d97aa4d1097f320f611": {
     "model_module": "@jupyter-widgets/controls",
     "model_name": "FloatProgressModel",
     "state": {
      "_dom_classes": [],
      "_model_module": "@jupyter-widgets/controls",
      "_model_module_version": "1.5.0",
      "_model_name": "FloatProgressModel",
      "_view_count": null,
      "_view_module": "@jupyter-widgets/controls",
      "_view_module_version": "1.5.0",
      "_view_name": "ProgressView",
      "bar_style": "success",
      "description": "#3: 100%",
      "description_tooltip": null,
      "layout": "IPY_MODEL_0cd1932178c945d48604ffd299e65d2c",
      "max": 411,
      "min": 0,
      "orientation": "horizontal",
      "style": "IPY_MODEL_3ec3285e9f3e4a5abcefabb7f140f4a3",
      "value": 411
     }
    },
    "f3905820a42c499fba04af9c1ad19705": {
     "model_module": "@jupyter-widgets/controls",
     "model_name": "FloatProgressModel",
     "state": {
      "_dom_classes": [],
      "_model_module": "@jupyter-widgets/controls",
      "_model_module_version": "1.5.0",
      "_model_name": "FloatProgressModel",
      "_view_count": null,
      "_view_module": "@jupyter-widgets/controls",
      "_view_module_version": "1.5.0",
      "_view_name": "ProgressView",
      "bar_style": "success",
      "description": "#2: 100%",
      "description_tooltip": null,
      "layout": "IPY_MODEL_fc9504846f424542a7feb932964f1f5b",
      "max": 869,
      "min": 0,
      "orientation": "horizontal",
      "style": "IPY_MODEL_4c0ad31e73234e46aac0a297ec18bdeb",
      "value": 869
     }
    },
    "f3adb92e618743cca3299e3e7b6e369f": {
     "model_module": "@jupyter-widgets/controls",
     "model_name": "HBoxModel",
     "state": {
      "_dom_classes": [],
      "_model_module": "@jupyter-widgets/controls",
      "_model_module_version": "1.5.0",
      "_model_name": "HBoxModel",
      "_view_count": null,
      "_view_module": "@jupyter-widgets/controls",
      "_view_module_version": "1.5.0",
      "_view_name": "HBoxView",
      "box_style": "",
      "children": [
       "IPY_MODEL_b0e3a36279d243ab9943149705c72c3e",
       "IPY_MODEL_12696cc03f464a63a411efb2b5e5ac3b"
      ],
      "layout": "IPY_MODEL_83b51e16d88046c48dcd745cf09d2e56"
     }
    },
    "f4135dd72864445391f43f387635bfdc": {
     "model_module": "@jupyter-widgets/controls",
     "model_name": "HTMLModel",
     "state": {
      "_dom_classes": [],
      "_model_module": "@jupyter-widgets/controls",
      "_model_module_version": "1.5.0",
      "_model_name": "HTMLModel",
      "_view_count": null,
      "_view_module": "@jupyter-widgets/controls",
      "_view_module_version": "1.5.0",
      "_view_name": "HTMLView",
      "description": "",
      "description_tooltip": null,
      "layout": "IPY_MODEL_923ed9e127524187ab8cfcac31164ba7",
      "placeholder": "​",
      "style": "IPY_MODEL_8df9d19602cb4951b397c385458a11ef",
      "value": " 109/109 [00:56&lt;00:00,  1.93ba/s]"
     }
    },
    "f57d087016124ebeb073fd7428dcb68b": {
     "model_module": "@jupyter-widgets/base",
     "model_name": "LayoutModel",
     "state": {
      "_model_module": "@jupyter-widgets/base",
      "_model_module_version": "1.2.0",
      "_model_name": "LayoutModel",
      "_view_count": null,
      "_view_module": "@jupyter-widgets/base",
      "_view_module_version": "1.2.0",
      "_view_name": "LayoutView",
      "align_content": null,
      "align_items": null,
      "align_self": null,
      "border": null,
      "bottom": null,
      "display": null,
      "flex": null,
      "flex_flow": null,
      "grid_area": null,
      "grid_auto_columns": null,
      "grid_auto_flow": null,
      "grid_auto_rows": null,
      "grid_column": null,
      "grid_gap": null,
      "grid_row": null,
      "grid_template_areas": null,
      "grid_template_columns": null,
      "grid_template_rows": null,
      "height": null,
      "justify_content": null,
      "justify_items": null,
      "left": null,
      "margin": null,
      "max_height": null,
      "max_width": null,
      "min_height": null,
      "min_width": null,
      "object_fit": null,
      "object_position": null,
      "order": null,
      "overflow": null,
      "overflow_x": null,
      "overflow_y": null,
      "padding": null,
      "right": null,
      "top": null,
      "visibility": null,
      "width": null
     }
    },
    "f5f1f0865d7e4d8b810ccb9c3c4d2683": {
     "model_module": "@jupyter-widgets/controls",
     "model_name": "FloatProgressModel",
     "state": {
      "_dom_classes": [],
      "_model_module": "@jupyter-widgets/controls",
      "_model_module_version": "1.5.0",
      "_model_name": "FloatProgressModel",
      "_view_count": null,
      "_view_module": "@jupyter-widgets/controls",
      "_view_module_version": "1.5.0",
      "_view_name": "ProgressView",
      "bar_style": "success",
      "description": "#1: 100%",
      "description_tooltip": null,
      "layout": "IPY_MODEL_e51b5fd9d5a6416d986fac1526d1666f",
      "max": 412,
      "min": 0,
      "orientation": "horizontal",
      "style": "IPY_MODEL_a47f1ea64f894f0b8e6b277c31ae9f7d",
      "value": 412
     }
    },
    "f6930dd5519d4dfda64c597def220a30": {
     "model_module": "@jupyter-widgets/controls",
     "model_name": "HTMLModel",
     "state": {
      "_dom_classes": [],
      "_model_module": "@jupyter-widgets/controls",
      "_model_module_version": "1.5.0",
      "_model_name": "HTMLModel",
      "_view_count": null,
      "_view_module": "@jupyter-widgets/controls",
      "_view_module_version": "1.5.0",
      "_view_name": "HTMLView",
      "description": "",
      "description_tooltip": null,
      "layout": "IPY_MODEL_56ad6231a0a04228be29ceecbc6b7c0e",
      "placeholder": "​",
      "style": "IPY_MODEL_ab72c80dfd5e4ab19a183f4204486b59",
      "value": " 52/52 [00:31&lt;00:00,  1.63ba/s]"
     }
    },
    "f6b01ad0433a40178ef3ba5657bc1583": {
     "model_module": "@jupyter-widgets/controls",
     "model_name": "FloatProgressModel",
     "state": {
      "_dom_classes": [],
      "_model_module": "@jupyter-widgets/controls",
      "_model_module_version": "1.5.0",
      "_model_name": "FloatProgressModel",
      "_view_count": null,
      "_view_module": "@jupyter-widgets/controls",
      "_view_module_version": "1.5.0",
      "_view_name": "ProgressView",
      "bar_style": "success",
      "description": "#0: 100%",
      "description_tooltip": null,
      "layout": "IPY_MODEL_69828f4a101f4340916a4be141866904",
      "max": 870,
      "min": 0,
      "orientation": "horizontal",
      "style": "IPY_MODEL_beca070c32124a119a08cb21c2ca95e5",
      "value": 870
     }
    },
    "f78ff14b9c8f46448ed1ecb3fe1f5e0b": {
     "model_module": "@jupyter-widgets/controls",
     "model_name": "HTMLModel",
     "state": {
      "_dom_classes": [],
      "_model_module": "@jupyter-widgets/controls",
      "_model_module_version": "1.5.0",
      "_model_name": "HTMLModel",
      "_view_count": null,
      "_view_module": "@jupyter-widgets/controls",
      "_view_module_version": "1.5.0",
      "_view_name": "HTMLView",
      "description": "",
      "description_tooltip": null,
      "layout": "IPY_MODEL_b054b00a32e64fc5988fbd2966ebbce6",
      "placeholder": "​",
      "style": "IPY_MODEL_5a5bc8b4a1c644dea08a60128d888d10",
      "value": " 412/412 [03:06&lt;00:00,  2.20ex/s]"
     }
    },
    "f792530a76ee486688cbc2502dfae594": {
     "model_module": "@jupyter-widgets/controls",
     "model_name": "FloatProgressModel",
     "state": {
      "_dom_classes": [],
      "_model_module": "@jupyter-widgets/controls",
      "_model_module_version": "1.5.0",
      "_model_name": "FloatProgressModel",
      "_view_count": null,
      "_view_module": "@jupyter-widgets/controls",
      "_view_module_version": "1.5.0",
      "_view_name": "ProgressView",
      "bar_style": "success",
      "description": "#3: 100%",
      "description_tooltip": null,
      "layout": "IPY_MODEL_7e50f8027fb74d669daae5e46082026c",
      "max": 869,
      "min": 0,
      "orientation": "horizontal",
      "style": "IPY_MODEL_1261590ef796493798f7068ea0547b74",
      "value": 869
     }
    },
    "f972527479e74337a98f236ed018ae1d": {
     "model_module": "@jupyter-widgets/base",
     "model_name": "LayoutModel",
     "state": {
      "_model_module": "@jupyter-widgets/base",
      "_model_module_version": "1.2.0",
      "_model_name": "LayoutModel",
      "_view_count": null,
      "_view_module": "@jupyter-widgets/base",
      "_view_module_version": "1.2.0",
      "_view_name": "LayoutView",
      "align_content": null,
      "align_items": null,
      "align_self": null,
      "border": null,
      "bottom": null,
      "display": null,
      "flex": null,
      "flex_flow": null,
      "grid_area": null,
      "grid_auto_columns": null,
      "grid_auto_flow": null,
      "grid_auto_rows": null,
      "grid_column": null,
      "grid_gap": null,
      "grid_row": null,
      "grid_template_areas": null,
      "grid_template_columns": null,
      "grid_template_rows": null,
      "height": null,
      "justify_content": null,
      "justify_items": null,
      "left": null,
      "margin": null,
      "max_height": null,
      "max_width": null,
      "min_height": null,
      "min_width": null,
      "object_fit": null,
      "object_position": null,
      "order": null,
      "overflow": null,
      "overflow_x": null,
      "overflow_y": null,
      "padding": null,
      "right": null,
      "top": null,
      "visibility": null,
      "width": null
     }
    },
    "f9efaa7678c2450f847ff2c2f21ff96e": {
     "model_module": "@jupyter-widgets/controls",
     "model_name": "DescriptionStyleModel",
     "state": {
      "_model_module": "@jupyter-widgets/controls",
      "_model_module_version": "1.5.0",
      "_model_name": "DescriptionStyleModel",
      "_view_count": null,
      "_view_module": "@jupyter-widgets/base",
      "_view_module_version": "1.2.0",
      "_view_name": "StyleView",
      "description_width": ""
     }
    },
    "fa7926bbe77e48b3a0648b45f5d2dc7a": {
     "model_module": "@jupyter-widgets/controls",
     "model_name": "ProgressStyleModel",
     "state": {
      "_model_module": "@jupyter-widgets/controls",
      "_model_module_version": "1.5.0",
      "_model_name": "ProgressStyleModel",
      "_view_count": null,
      "_view_module": "@jupyter-widgets/base",
      "_view_module_version": "1.2.0",
      "_view_name": "StyleView",
      "bar_color": null,
      "description_width": "initial"
     }
    },
    "fc9504846f424542a7feb932964f1f5b": {
     "model_module": "@jupyter-widgets/base",
     "model_name": "LayoutModel",
     "state": {
      "_model_module": "@jupyter-widgets/base",
      "_model_module_version": "1.2.0",
      "_model_name": "LayoutModel",
      "_view_count": null,
      "_view_module": "@jupyter-widgets/base",
      "_view_module_version": "1.2.0",
      "_view_name": "LayoutView",
      "align_content": null,
      "align_items": null,
      "align_self": null,
      "border": null,
      "bottom": null,
      "display": null,
      "flex": null,
      "flex_flow": null,
      "grid_area": null,
      "grid_auto_columns": null,
      "grid_auto_flow": null,
      "grid_auto_rows": null,
      "grid_column": null,
      "grid_gap": null,
      "grid_row": null,
      "grid_template_areas": null,
      "grid_template_columns": null,
      "grid_template_rows": null,
      "height": null,
      "justify_content": null,
      "justify_items": null,
      "left": null,
      "margin": null,
      "max_height": null,
      "max_width": null,
      "min_height": null,
      "min_width": null,
      "object_fit": null,
      "object_position": null,
      "order": null,
      "overflow": null,
      "overflow_x": null,
      "overflow_y": null,
      "padding": null,
      "right": null,
      "top": null,
      "visibility": null,
      "width": null
     }
    },
    "fe62265afdc74026b7e9c5a50ef61d2c": {
     "model_module": "@jupyter-widgets/base",
     "model_name": "LayoutModel",
     "state": {
      "_model_module": "@jupyter-widgets/base",
      "_model_module_version": "1.2.0",
      "_model_name": "LayoutModel",
      "_view_count": null,
      "_view_module": "@jupyter-widgets/base",
      "_view_module_version": "1.2.0",
      "_view_name": "LayoutView",
      "align_content": null,
      "align_items": null,
      "align_self": null,
      "border": null,
      "bottom": null,
      "display": null,
      "flex": null,
      "flex_flow": null,
      "grid_area": null,
      "grid_auto_columns": null,
      "grid_auto_flow": null,
      "grid_auto_rows": null,
      "grid_column": null,
      "grid_gap": null,
      "grid_row": null,
      "grid_template_areas": null,
      "grid_template_columns": null,
      "grid_template_rows": null,
      "height": null,
      "justify_content": null,
      "justify_items": null,
      "left": null,
      "margin": null,
      "max_height": null,
      "max_width": null,
      "min_height": null,
      "min_width": null,
      "object_fit": null,
      "object_position": null,
      "order": null,
      "overflow": null,
      "overflow_x": null,
      "overflow_y": null,
      "padding": null,
      "right": null,
      "top": null,
      "visibility": null,
      "width": null
     }
    }
   }
  }
 },
 "nbformat": 4,
 "nbformat_minor": 4
}
