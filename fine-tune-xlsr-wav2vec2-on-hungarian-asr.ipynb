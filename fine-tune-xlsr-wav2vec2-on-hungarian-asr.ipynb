{
 "cells": [
  {
   "cell_type": "markdown",
   "metadata": {
    "id": "LBSYoWbi-45k"
   },
   "source": [
    "# **Fine-tuning XLSR-Wav2Vec2 for Multi-Lingual ASR with 🤗 Transformers**"
   ]
  },
  {
   "cell_type": "markdown",
   "metadata": {},
   "source": [
    "## Pre-configuration"
   ]
  },
  {
   "cell_type": "code",
   "execution_count": 1,
   "metadata": {},
   "outputs": [],
   "source": [
    "from ipywidgets import widgets"
   ]
  },
  {
   "cell_type": "code",
   "execution_count": 2,
   "metadata": {},
   "outputs": [],
   "source": [
    "import os"
   ]
  },
  {
   "cell_type": "code",
   "execution_count": 3,
   "metadata": {},
   "outputs": [],
   "source": [
    "language_code = 'hu'\n",
    "language_name = 'hu'\n",
    "base_model = \"facebook/wav2vec2-large-xlsr-53\"\n",
    "pretrain_model = f\"gchhablani/wav2vec2-large-xlsr-{language_name}\"\n",
    "\n",
    "# data_dir = f\"/workspace/data/{language_code}\"\n",
    "output_models_dir = f\"/workspace/output_models/{language_code}/wav2vec2-large-xlsr-{language_name}\""
   ]
  },
  {
   "cell_type": "code",
   "execution_count": null,
   "metadata": {},
   "outputs": [],
   "source": [
    "### Wandb configuration\n",
    "#!wandb login \n",
    "display(\"For wandb login please visit https://wandb.ai/authorize\")\n",
    "\n",
    "wandb_login = widgets.Text(description=\"Token :\")\n",
    "wandb_button = widgets.Button(description=\"Validate\")\n",
    "\n",
    "def handle_wb_submit(sender):\n",
    "    token = wandb_login.value\n",
    "    os.system(f\"wandb login {token}\")\n",
    "    \n",
    "if 'WANDB_API_KEY' not in os.environ:\n",
    "    display(wandb_login)\n",
    "    display(wandb_button)\n",
    "    wandb_button.on_click(handle_wb_submit)\n",
    "    \n",
    "\n",
    "\n",
    "\n",
    "\n",
    "    \n",
    "    \n"
   ]
  },
  {
   "cell_type": "code",
   "execution_count": null,
   "metadata": {},
   "outputs": [],
   "source": [
    "# optional c\n",
    "!wandb login"
   ]
  },
  {
   "cell_type": "markdown",
   "metadata": {},
   "source": [
    "## Presentation"
   ]
  },
  {
   "cell_type": "markdown",
   "metadata": {
    "id": "V7YOT2mnUiea"
   },
   "source": [
    "Wav2Vec2 is a pretrained model for Automatic Speech Recognition (ASR) and was released in [September 2020](https://ai.facebook.com/blog/wav2vec-20-learning-the-structure-of-speech-from-raw-audio/) by Alexei Baevski, Michael Auli, and Alex Conneau.  Soon after the superior performance of Wav2Vec2 was demonstrated on the English ASR dataset LibriSpeech, *Facebook AI* presented XLSR-Wav2Vec2 (click [here](https://arxiv.org/abs/2006.13979)). XLSR stands for *cross-lingual  speech representations* and refers to XLSR-Wav2Vec2`s ability to learn speech representations that are useful across multiple languages.\n",
    "\n",
    "Similar to Wav2Vec2, XLSR-Wav2Vec2 learns powerful speech representations from hundreds of thousands of hours of speech in more than 50 languages of unlabeled speech. Similar, to [BERT's masked language modeling](http://jalammar.github.io/illustrated-bert/), the model learns contextualized speech representations by randomly masking feature vectors before passing them to a transformer network.\n",
    "\n",
    "![wav2vec2_structure](https://raw.githubusercontent.com/patrickvonplaten/scientific_images/master/xlsr_wav2vec2.png)\n",
    "\n",
    "The authors show for the first time that massively pretraining an ASR model on cross-lingual unlabeled speech data, followed by language-specific fine-tuning on very little labeled data achieves state-of-the-art results. See Table 1-5 of the official [paper](https://arxiv.org/pdf/2006.13979.pdf)."
   ]
  },
  {
   "cell_type": "markdown",
   "metadata": {
    "id": "nT_QrfWtsxIz"
   },
   "source": [
    "In this notebook, we will give an in-detail explanation of how XLSR-Wav2Vec2's pretrained checkpoint can be fine-tuned on a low-resource ASR dataset of any language. Note that in this notebook, we will fine-tune XLSR-Wav2Vec2 without making use of a language model. It is much simpler and more efficient to use XLSR-Wav2Vec2 without a language model, but better results can be achieved by including a language model. \n",
    "\n",
    "For demonstration purposes, we fine-tune the [wav2vec2-large-xlsr-53](https://huggingface.co/facebook/wav2vec2-large-xlsr-53) on the low resource Turkish ASR dataset of [Common Voice](https://huggingface.co/datasets/common_voice) that contains just ~6h of validated training data."
   ]
  },
  {
   "cell_type": "markdown",
   "metadata": {
    "id": "Gx9OdDYrCtQ1"
   },
   "source": [
    "XLSR-Wav2Vec2 is fine-tuned using Connectionist Temporal Classification (CTC), which is an algorithm that is used to train neural networks for sequence-to-sequence problems and mainly in Automatic Speech Recognition and handwriting recognition. \n",
    "\n",
    "I highly recommend reading the blog post [Sequence Modeling with CTC (2017)](https://distill.pub/2017/ctc/) very well-written blog post by Awni Hannun."
   ]
  },
  {
   "cell_type": "markdown",
   "metadata": {
    "id": "e335hPmdtASZ"
   },
   "source": [
    "Before we start, let's install both `datasets` and `transformers` from master. Also, we need the `torchaudio` and `librosa` package to load audio files and the `jiwer` to evaluate our fine-tuned model using the [word error rate (WER)](https://huggingface.co/metrics/wer) metric ${}^1$."
   ]
  },
  {
   "cell_type": "markdown",
   "metadata": {
    "id": "Mn9swf6EQ9Vd"
   },
   "source": [
    "\n",
    "\n",
    "\n",
    "---\n",
    "\n",
    "${}^1$ In the [paper](https://arxiv.org/pdf/2006.13979.pdf), the model was evaluated using the phoneme error rate (PER), but by far the most common metric in ASR is the word error rate (WER). To keep this notebook as general as possible we decided to evaluate the model using WER."
   ]
  },
  {
   "cell_type": "markdown",
   "metadata": {
    "id": "0mW-C1Nt-j7k"
   },
   "source": [
    "## Prepare Data, Tokenizer, Feature Extractor"
   ]
  },
  {
   "cell_type": "markdown",
   "metadata": {
    "id": "BeBosnY9BH3e"
   },
   "source": [
    "ASR models transcribe speech to text, which means that we both need a feature extractor that processes the speech signal to the model's input format, *e.g.* a feature vector, and a tokenizer that processes the model's output format to text. \n",
    "\n",
    "In 🤗 Transformers, the XLSR-Wav2Vec2 model is thus accompanied by both a tokenizer, called [Wav2Vec2CTCTokenizer](https://huggingface.co/transformers/master/model_doc/wav2vec2.html#wav2vec2ctctokenizer), and a feature extractor, called [Wav2Vec2FeatureExtractor](https://huggingface.co/transformers/master/model_doc/wav2vec2.html#wav2vec2featureextractor).\n",
    "\n",
    "Let's start by creating the tokenizer responsible for decoding the model's predictions."
   ]
  },
  {
   "cell_type": "markdown",
   "metadata": {
    "id": "sEXEWEJGQPqD"
   },
   "source": [
    "### Create Wav2Vec2CTCTokenizer"
   ]
  },
  {
   "cell_type": "markdown",
   "metadata": {
    "id": "tWmMikuNEKl_"
   },
   "source": [
    "The [pretrained Wav2Vec2 checkpoint]( ) maps the speech signal to a sequence of context representations as illustrated in the figure above. A fine-tuned XLSR-Wav2Vec2 checkpoint needs to map this sequence of context representations to its corresponding transcription so that a linear layer has to be added on top of the transformer block (shown in yellow). This linear layer is used to classifies each context representation to a token class analogous how, *e.g.*, after pretraining a linear layer is added on top of BERT's embeddings for further classification - *cf.* with *\"BERT\"* section of this [blog post](https://huggingface.co/blog/warm-starting-encoder-decoder).\n",
    "\n",
    "The output size of this layer corresponds to the number of tokens in the vocabulary, which does **not** depend on XLSR-Wav2Vec2's pretraining task, but only on the labeled dataset used for fine-tuning. So in the first step, we will take a look at Common Voice and define a vocabulary based on the dataset's transcriptions."
   ]
  },
  {
   "cell_type": "markdown",
   "metadata": {
    "id": "idBczw8mWzgt"
   },
   "source": [
    "First, let's go to [Common Voice](https://commonvoice.mozilla.org/en/datasets) and pick a language to fine-tune XLSR-Wav2Vec2 on. For this notebook, we will use Turkish. \n",
    "\n",
    "For each language-specific dataset, you can find a language code corresponding to your chosen language. On [Common Voice](https://commonvoice.mozilla.org/en/datasets), look for the field \"Version\". The language code then corresponds to the prefix before the underscore. For Turkish, *e.g.* the language code is `\"tr\"`.\n",
    "\n",
    "Great, now we can use 🤗 Datasets' simple API to download the data. The dataset name will be `\"common_voice\"`, the config name corresponds to the language code - `\"tr\"` in our case."
   ]
  },
  {
   "cell_type": "markdown",
   "metadata": {
    "id": "bee4g9rpLxll"
   },
   "source": [
    "Common Voice has many different splits including `invalidated`, which refers to data that was not rated as \"clean enough\" to be considered useful. In this notebook, we will only make use of the splits `\"train\"`, `\"validation\"` and `\"test\"`. \n",
    "\n",
    "Because the Turkish dataset is so small, we will merge both the validation and training data into a training dataset and simply use the test data for validation."
   ]
  },
  {
   "cell_type": "code",
   "execution_count": 4,
   "metadata": {
    "colab": {
     "base_uri": "https://localhost:8080/",
     "height": 227,
     "referenced_widgets": [
      "def702d8f8354fa4999587a5c68d0034",
      "2fd148d5587b4139919b0158f9dad71e",
      "edf36819322e4f9fa227a11592fef429",
      "ce337f50183942e6a74ca1b33735ade9",
      "8292dafcd40745958d0f3c563bf6b9b0",
      "93f191a48b3141e1889fd94870b6ac0e",
      "9532db4cdc5e4371a4a02055a4c67a08",
      "e9a702f10538415b970ea1345804d72c",
      "f3adb92e618743cca3299e3e7b6e369f",
      "83b51e16d88046c48dcd745cf09d2e56",
      "b0e3a36279d243ab9943149705c72c3e",
      "12696cc03f464a63a411efb2b5e5ac3b",
      "530f66ac087e4f8f979fcaa33941c60d",
      "a34dae18d9994b848630d4e3d836e0cb",
      "68a3178fe7a54e838e798ff28ff9aa0b",
      "ceb44ba4fdf34da19a52469acf1ce63f",
      "90b8bc59e26a46009e1d3763f86f227a",
      "3e2cd59ac697495f8db14b894b783f95",
      "98e7ab5f7ebf426fbb71a37bbad4c28f",
      "e3b719c0ffcc4fd1b410ffb7f969b7a5",
      "4382726ef043441a9b1a4a647d84f242",
      "2f5406546970425282a881b5d2f7c248",
      "19e263785ea343ba99ee2127d9b83d1d",
      "c9dc4421940241c59f1151aeabedc98b",
      "8701fb161cec47e89fc4d57b599ee7fe",
      "1813458f75514f039ba0214597a09bb4",
      "7f787df324514a8c915785e272a8af18",
      "889da3e5ed2945849d3c8a6a75175747",
      "71ffdf6f26ba4381a8e671958e679f88",
      "7916b06da182435a9cc1d13c73310500",
      "59e0f5200068461cbfb256ad5479c4c8",
      "2cd13e03a2ab45dc8570c8c739a613b4",
      "089428f56e66419f85ea149d9d102454",
      "d649c0f9c1c24634a84b7ef697721ffa",
      "4db5037af3f64a3a8a8a1203018a80ff",
      "6a957c1c17474d8d89c27ddecf702fda",
      "2a6e1185a6a247f5acba8111824ad36b",
      "c0e6b6e6395d4dbd827eb1c0de1ad21a",
      "05f83d714f864a399083f0e34a812467",
      "91fcf0641fe3489ab96f3aaa40adf245",
      "25ba4f4c8b9c44af9885b3903a9261fd",
      "dde7ae43ef954ef1b901c80f0a4e11fd",
      "03b33c17734d49e28c4636dddd6e833d",
      "71c059a0f3c246f3a40d55744331daaa",
      "da1ff50f8b9241108a325ada04224642",
      "bee0f50055eb4f738636142a10da0ddd",
      "cb5666eb8ebb4d1392e98d6b5af8761c",
      "430c3c079d0e4006b90e72df7986ffb0",
      "6c065aa34661469ca1efb4c5e90fe136",
      "540510088d3947f1b3cf6f4c983c1a53",
      "0a9b58c98508420d8f8936189f064316",
      "8dd5b08bb5bd4e608d04122424796ae7",
      "c546bca23ee248a1be7bd8ead3e82a8f",
      "af85713f677243d19cba9fe69a4a5f46",
      "2f18d89c684343b69c3f44ffbb9b42a0",
      "9eb51a6ecf3f41578aa397a5c2a33673"
     ]
    },
    "id": "2MMXcWFFgCXU",
    "outputId": "dc239772-da3b-4ef0-d029-f161f0625fff"
   },
   "outputs": [
    {
     "name": "stderr",
     "output_type": "stream",
     "text": [
      "Reusing dataset common_voice (/workspace/.cache/huggingface/datasets/common_voice/hu/6.1.0/0041e06ab061b91d0a23234a2221e87970a19cf3a81b20901474cffffeb7869f)\n",
      "Reusing dataset common_voice (/workspace/.cache/huggingface/datasets/common_voice/hu/6.1.0/0041e06ab061b91d0a23234a2221e87970a19cf3a81b20901474cffffeb7869f)\n"
     ]
    }
   ],
   "source": [
    "from datasets import load_dataset, load_metric\n",
    "\n",
    "common_voice_train = load_dataset(\"common_voice\", language_code, split=\"train+validation\")\n",
    "common_voice_test = load_dataset(\"common_voice\", language_code, split=\"test\")"
   ]
  },
  {
   "cell_type": "markdown",
   "metadata": {
    "id": "ri5y5N_HMANq"
   },
   "source": [
    "Many ASR datasets only provide the target text, `'sentence'` for each audio file `'path'`. Common Voice actually provides much more information about each audio file, such as the `'accent'`, etc. However, we want to keep the notebook as general as possible, so that we will only consider the transcribed text for fine-tuning.\n",
    "\n"
   ]
  },
  {
   "cell_type": "code",
   "execution_count": 5,
   "metadata": {
    "id": "kbyq6lDgQc2a"
   },
   "outputs": [],
   "source": [
    "common_voice_train = common_voice_train.remove_columns([\"accent\", \"age\", \"client_id\", \"down_votes\", \"gender\", \"locale\", \"segment\", \"up_votes\"])\n",
    "common_voice_test = common_voice_test.remove_columns([\"accent\", \"age\", \"client_id\", \"down_votes\", \"gender\", \"locale\", \"segment\", \"up_votes\"])"
   ]
  },
  {
   "cell_type": "markdown",
   "metadata": {
    "id": "Go9Hq4e4NDT9"
   },
   "source": [
    "Let's write a short function to display some random samples of the dataset and run it a couple of times to get a feeling for the transcriptions."
   ]
  },
  {
   "cell_type": "code",
   "execution_count": 6,
   "metadata": {
    "id": "72737oog2F6U"
   },
   "outputs": [],
   "source": [
    "from datasets import ClassLabel\n",
    "import random\n",
    "import pandas as pd\n",
    "from IPython.display import display, HTML\n",
    "\n",
    "def show_random_elements(dataset, num_examples=10):\n",
    "    assert num_examples <= len(dataset), \"Can't pick more elements than there are in the dataset.\"\n",
    "    picks = []\n",
    "    for _ in range(num_examples):\n",
    "        pick = random.randint(0, len(dataset)-1)\n",
    "        while pick in picks:\n",
    "            pick = random.randint(0, len(dataset)-1)\n",
    "        picks.append(pick)\n",
    "    \n",
    "    df = pd.DataFrame(dataset[picks])\n",
    "    display(HTML(df.to_html()))"
   ]
  },
  {
   "cell_type": "code",
   "execution_count": 7,
   "metadata": {
    "colab": {
     "base_uri": "https://localhost:8080/",
     "height": 669
    },
    "id": "K_JUmf3G3b9S",
    "outputId": "a8fe6d21-b0ce-4d5b-e3a2-abe08ae551f7"
   },
   "outputs": [
    {
     "data": {
      "text/html": [
       "<table border=\"1\" class=\"dataframe\">\n",
       "  <thead>\n",
       "    <tr style=\"text-align: right;\">\n",
       "      <th></th>\n",
       "      <th>sentence</th>\n",
       "    </tr>\n",
       "  </thead>\n",
       "  <tbody>\n",
       "    <tr>\n",
       "      <th>0</th>\n",
       "      <td>Nem hívlak meg a temetésemre.</td>\n",
       "    </tr>\n",
       "    <tr>\n",
       "      <th>1</th>\n",
       "      <td>A munkád is itt van, amin dolgozol.</td>\n",
       "    </tr>\n",
       "    <tr>\n",
       "      <th>2</th>\n",
       "      <td>Ezek valóban szokatlan események.</td>\n",
       "    </tr>\n",
       "    <tr>\n",
       "      <th>3</th>\n",
       "      <td>Megtudták hamarosan.</td>\n",
       "    </tr>\n",
       "    <tr>\n",
       "      <th>4</th>\n",
       "      <td>Ítélkezzék fölötte a nép!</td>\n",
       "    </tr>\n",
       "    <tr>\n",
       "      <th>5</th>\n",
       "      <td>Hej, de pompás hideg van!</td>\n",
       "    </tr>\n",
       "    <tr>\n",
       "      <th>6</th>\n",
       "      <td>Ajtócsapás lentről.</td>\n",
       "    </tr>\n",
       "    <tr>\n",
       "      <th>7</th>\n",
       "      <td>Nem látnak ki a keretrendszerek erdejéből.</td>\n",
       "    </tr>\n",
       "    <tr>\n",
       "      <th>8</th>\n",
       "      <td>Tehát te ismered Diamant Oktávot, a gengsztert?</td>\n",
       "    </tr>\n",
       "    <tr>\n",
       "      <th>9</th>\n",
       "      <td>Az óra járásával ellentétesen, mert összegubancolódik a mellszőröm.</td>\n",
       "    </tr>\n",
       "    <tr>\n",
       "      <th>10</th>\n",
       "      <td>Van valami oka, hogy a publikus előnézet nincs bekapcsolva ehhez a szobához?</td>\n",
       "    </tr>\n",
       "    <tr>\n",
       "      <th>11</th>\n",
       "      <td>Így tett minden éjjel.</td>\n",
       "    </tr>\n",
       "    <tr>\n",
       "      <th>12</th>\n",
       "      <td>Igenis, ő ordított a legjobban, és vaktában lövöldözött.</td>\n",
       "    </tr>\n",
       "    <tr>\n",
       "      <th>13</th>\n",
       "      <td>A felügyelő most már valamivel lassabban és bizonytalanabbul kacsázott vissza.</td>\n",
       "    </tr>\n",
       "    <tr>\n",
       "      <th>14</th>\n",
       "      <td>Meglepetésében tette le a lábát.</td>\n",
       "    </tr>\n",
       "    <tr>\n",
       "      <th>15</th>\n",
       "      <td>Csak egy közhely volt, vagy egy utalás?</td>\n",
       "    </tr>\n",
       "    <tr>\n",
       "      <th>16</th>\n",
       "      <td>Felvonta a tatvitorlát és nyomban utána a fővitorlát is.</td>\n",
       "    </tr>\n",
       "    <tr>\n",
       "      <th>17</th>\n",
       "      <td>Nem csak az enyémet javítom, hanem mindenkiét.</td>\n",
       "    </tr>\n",
       "    <tr>\n",
       "      <th>18</th>\n",
       "      <td>Már a gyerekek is kinőttek a meséből.</td>\n",
       "    </tr>\n",
       "    <tr>\n",
       "      <th>19</th>\n",
       "      <td>Mind hamuvá vált, senki sem olvashatja már őket.</td>\n",
       "    </tr>\n",
       "  </tbody>\n",
       "</table>"
      ],
      "text/plain": [
       "<IPython.core.display.HTML object>"
      ]
     },
     "metadata": {},
     "output_type": "display_data"
    }
   ],
   "source": [
    "show_random_elements(common_voice_train.remove_columns([\"path\"]), num_examples=20)"
   ]
  },
  {
   "cell_type": "markdown",
   "metadata": {
    "id": "fowcOllGNNju"
   },
   "source": [
    "Alright! The transcriptions look fairly clean. Having translated the transcribed sentences (I'm sadly not a native speaker in Turkish), it seems that the language corresponds more to written text than noisy dialogue. This makes sense taking into account that [Common Voice](https://huggingface.co/datasets/common_voice) is a crowd-sourced read speech corpus."
   ]
  },
  {
   "cell_type": "markdown",
   "metadata": {
    "id": "vq7OR50LN49m"
   },
   "source": [
    "We can see that the transcriptions contain some special characters, such as `,.?!;:`. Without a language model, it is much harder to classify speech chunks to such special characters because they don't really correspond to a characteristic sound unit. *E.g.*, the letter `\"s\"` has a more or less clear sound, whereas the special character `\".\"` does not.\n",
    "Also in order to understand the meaning of a speech signal, it is usually not necessary to include special characters in the transcription.\n",
    "\n",
    "In addition, we normalize the text to only have lower case letters and append a word separator token at the end."
   ]
  },
  {
   "cell_type": "code",
   "execution_count": 15,
   "metadata": {
    "id": "svKzVJ_hQGK6"
   },
   "outputs": [],
   "source": [
    "import re\n",
    "chars_to_ignore_regex = '[\\,\\?\\.\\!\\-\\;\\:\\\"\\“\\%\\‘\\”\\�\\–\\…]'\n",
    "\n",
    "def remove_special_characters(batch):\n",
    "    batch[\"sentence\"] = re.sub(chars_to_ignore_regex, '', batch[\"sentence\"]).lower() + \" \"\n",
    "    return batch"
   ]
  },
  {
   "cell_type": "code",
   "execution_count": 16,
   "metadata": {
    "colab": {
     "base_uri": "https://localhost:8080/",
     "height": 117,
     "referenced_widgets": [
      "92a35db69bbf4ad6af44c53aa3870be5",
      "389e43e47a734193a507817ebad955f7",
      "b94e374d92c146009447c3827b977267",
      "1f1faa7b986e475c9e6839b2e7b55c74",
      "4ff7ccffc36a4a0f93031f5cdc3b718d",
      "b177a8cb85a24b88ab6d56205b630f1d",
      "2ca2f397c4ef405bba27ae2b1415cada",
      "b320306eaf264ad9872d507a1a1cb2da",
      "cc9c1e00c2d34516b8fd9edff96bb0d8",
      "6abfbe44a1bd4518b41f5f53f920e936",
      "33c92b5afd1d4b6d88016aabfb434194",
      "998676d59f9c464e8463d65baad6448b",
      "45f0a2f361da4608bc8314a27657a56c",
      "3dc9ea77b842455a91f00e9ca9f41948",
      "7bf5b2b625764f63ad57a360c3fd0a61",
      "7b4cfd2b448643b8a4409dd612aef0d1"
     ]
    },
    "id": "XIHocAuTQbBR",
    "outputId": "cc1a70b2-7b4d-410b-f997-1f1c47c3c9e5"
   },
   "outputs": [
    {
     "data": {
      "application/vnd.jupyter.widget-view+json": {
       "model_id": "bac0f952fbe24e908ad9a7fd17512911",
       "version_major": 2,
       "version_minor": 0
      },
      "text/plain": [
       "HBox(children=(FloatProgress(value=0.0, max=4782.0), HTML(value='')))"
      ]
     },
     "metadata": {},
     "output_type": "display_data"
    },
    {
     "name": "stdout",
     "output_type": "stream",
     "text": [
      "\n"
     ]
    },
    {
     "data": {
      "application/vnd.jupyter.widget-view+json": {
       "model_id": "a59391bafa1b435d967b82a5848cdcf6",
       "version_major": 2,
       "version_minor": 0
      },
      "text/plain": [
       "HBox(children=(FloatProgress(value=0.0, max=1649.0), HTML(value='')))"
      ]
     },
     "metadata": {},
     "output_type": "display_data"
    },
    {
     "name": "stdout",
     "output_type": "stream",
     "text": [
      "\n"
     ]
    }
   ],
   "source": [
    "common_voice_train = common_voice_train.map(remove_special_characters)\n",
    "common_voice_test = common_voice_test.map(remove_special_characters)"
   ]
  },
  {
   "cell_type": "code",
   "execution_count": 17,
   "metadata": {
    "colab": {
     "base_uri": "https://localhost:8080/",
     "height": 359
    },
    "id": "RBDRAAYxRE6n",
    "outputId": "c3a72eaa-8ddc-4283-ccb8-52e50215b84d"
   },
   "outputs": [
    {
     "data": {
      "text/html": [
       "<table border=\"1\" class=\"dataframe\">\n",
       "  <thead>\n",
       "    <tr style=\"text-align: right;\">\n",
       "      <th></th>\n",
       "      <th>sentence</th>\n",
       "    </tr>\n",
       "  </thead>\n",
       "  <tbody>\n",
       "    <tr>\n",
       "      <th>0</th>\n",
       "      <td>errefelé nincs semmiféle áramlat</td>\n",
       "    </tr>\n",
       "    <tr>\n",
       "      <th>1</th>\n",
       "      <td>de semmi közöm a vendégek szeszélyeihez</td>\n",
       "    </tr>\n",
       "    <tr>\n",
       "      <th>2</th>\n",
       "      <td>nálunk nem lehet</td>\n",
       "    </tr>\n",
       "    <tr>\n",
       "      <th>3</th>\n",
       "      <td>csak már meggyújtanák a gyertyáimat</td>\n",
       "    </tr>\n",
       "    <tr>\n",
       "      <th>4</th>\n",
       "      <td>bobby sem tudta</td>\n",
       "    </tr>\n",
       "    <tr>\n",
       "      <th>5</th>\n",
       "      <td>jó szerszám fele munka</td>\n",
       "    </tr>\n",
       "    <tr>\n",
       "      <th>6</th>\n",
       "      <td>mi tudjuk</td>\n",
       "    </tr>\n",
       "    <tr>\n",
       "      <th>7</th>\n",
       "      <td>hallottam akkorát sóhajtott mint egy kárhozott lélek aztán imádkozott</td>\n",
       "    </tr>\n",
       "    <tr>\n",
       "      <th>8</th>\n",
       "      <td>tudja mit adok magának egy kis pénzt</td>\n",
       "    </tr>\n",
       "    <tr>\n",
       "      <th>9</th>\n",
       "      <td>azzal tovább feszített a csatorna alján és elmélkedett</td>\n",
       "    </tr>\n",
       "  </tbody>\n",
       "</table>"
      ],
      "text/plain": [
       "<IPython.core.display.HTML object>"
      ]
     },
     "metadata": {},
     "output_type": "display_data"
    }
   ],
   "source": [
    "show_random_elements(common_voice_train.remove_columns([\"path\"]))"
   ]
  },
  {
   "cell_type": "markdown",
   "metadata": {
    "id": "jwfaptH5RJwA"
   },
   "source": [
    "Good! This looks better. We have removed most special characters from transcriptions and normalized them to lower-case only.\n",
    "\n",
    "In CTC, it is common to classify speech chunks into letters, so we will do the same here. \n",
    "Let's extract all distinct letters of the training and test data and build our vocabulary from this set of letters.\n",
    "\n",
    "We write a mapping function that concatenates all transcriptions into one long transcription and then transforms the string into a set of chars. \n",
    "It is important to pass the argument `batched=True` to the `map(...)` function so that the mapping function has access to all transcriptions at once."
   ]
  },
  {
   "cell_type": "code",
   "execution_count": 18,
   "metadata": {
    "id": "LwCshNbbeRZR"
   },
   "outputs": [],
   "source": [
    "def extract_all_chars(batch):\n",
    "  all_text = \" \".join(batch[\"sentence\"])\n",
    "  vocab = list(set(all_text))\n",
    "  return {\"vocab\": [vocab], \"all_text\": [all_text]}"
   ]
  },
  {
   "cell_type": "code",
   "execution_count": 19,
   "metadata": {
    "colab": {
     "base_uri": "https://localhost:8080/",
     "height": 117,
     "referenced_widgets": [
      "304e9130c12f4110941bfbd3db49a28c",
      "5e6bae23461b4378b6e5fc890fe6bc97",
      "75e00c38605f44cfb584067db1160349",
      "8c07a528fc4a4e108b393ab117fe2e46",
      "c01aca3229a24d41841be2b4a3a65bcc",
      "73ecbfc3c5c5456bb42e19b8a34b1576",
      "813fc95246034f5cb9e5198897b4ed42",
      "8bb78a89ff81400791e3005098fdcb94",
      "bd0958ea97b141b1aca367c71721c549",
      "0354ab33471e4c34a0c1b3c062bcd6bb",
      "d080668299ef42fabb8ab6fbcf329cea",
      "aafd4b2c56db43378c4627797665db17",
      "b0f3a205ad4546188fc6e7e7cf96ab32",
      "f972527479e74337a98f236ed018ae1d",
      "ccb720bf256e42f7b0251494ccb7741f",
      "ad428686450f4ebdb50a0356b2e5a8c4"
     ]
    },
    "id": "_m6uUjjcfbjH",
    "outputId": "75a1a23f-a9c7-4c8b-8777-dad120a9aa9a"
   },
   "outputs": [
    {
     "data": {
      "application/vnd.jupyter.widget-view+json": {
       "model_id": "2c4f6a1ab61f46219f59eb8dbaa1e2d0",
       "version_major": 2,
       "version_minor": 0
      },
      "text/plain": [
       "HBox(children=(FloatProgress(value=0.0, max=1.0), HTML(value='')))"
      ]
     },
     "metadata": {},
     "output_type": "display_data"
    },
    {
     "name": "stdout",
     "output_type": "stream",
     "text": [
      "\n"
     ]
    },
    {
     "data": {
      "application/vnd.jupyter.widget-view+json": {
       "model_id": "4f69fa7dffa44cb3b17a6ce5ac9f418d",
       "version_major": 2,
       "version_minor": 0
      },
      "text/plain": [
       "HBox(children=(FloatProgress(value=0.0, max=1.0), HTML(value='')))"
      ]
     },
     "metadata": {},
     "output_type": "display_data"
    },
    {
     "name": "stdout",
     "output_type": "stream",
     "text": [
      "\n"
     ]
    }
   ],
   "source": [
    "vocab_train = common_voice_train.map(extract_all_chars, batched=True, batch_size=-1, keep_in_memory=True, remove_columns=common_voice_train.column_names)\n",
    "vocab_test = common_voice_test.map(extract_all_chars, batched=True, batch_size=-1, keep_in_memory=True, remove_columns=common_voice_test.column_names)"
   ]
  },
  {
   "cell_type": "markdown",
   "metadata": {
    "id": "7oVgE8RZSJNP"
   },
   "source": [
    "Now, we create the union of all distinct letters in the training dataset and test dataset and convert the resulting list into an enumerated dictionary."
   ]
  },
  {
   "cell_type": "code",
   "execution_count": 20,
   "metadata": {
    "id": "aQfneNsmlJI0"
   },
   "outputs": [],
   "source": [
    "vocab_list = list(set(vocab_train[\"vocab\"][0]) | set(vocab_test[\"vocab\"][0]))"
   ]
  },
  {
   "cell_type": "code",
   "execution_count": 21,
   "metadata": {
    "colab": {
     "base_uri": "https://localhost:8080/"
    },
    "id": "_0kRndSvqaKk",
    "outputId": "29f5d23f-75b1-44d0-9975-87f9ec4c0aa5"
   },
   "outputs": [
    {
     "data": {
      "text/plain": [
       "{'b': 0,\n",
       " 'l': 1,\n",
       " 'n': 2,\n",
       " 'ö': 3,\n",
       " 'w': 4,\n",
       " 'a': 5,\n",
       " 'g': 6,\n",
       " 'ú': 7,\n",
       " ' ': 8,\n",
       " 'v': 9,\n",
       " 'i': 10,\n",
       " 'á': 11,\n",
       " 'ő': 12,\n",
       " 't': 13,\n",
       " 'f': 14,\n",
       " 'p': 15,\n",
       " 'ű': 16,\n",
       " 'é': 17,\n",
       " 'o': 18,\n",
       " 'y': 19,\n",
       " 'c': 20,\n",
       " 'r': 21,\n",
       " 'u': 22,\n",
       " 'x': 23,\n",
       " 'e': 24,\n",
       " 'ü': 25,\n",
       " 'q': 26,\n",
       " 'ó': 27,\n",
       " 'j': 28,\n",
       " 'm': 29,\n",
       " 'h': 30,\n",
       " 'z': 31,\n",
       " 's': 32,\n",
       " 'd': 33,\n",
       " 'í': 34,\n",
       " 'k': 35}"
      ]
     },
     "execution_count": 21,
     "metadata": {},
     "output_type": "execute_result"
    }
   ],
   "source": [
    "vocab_dict = {v: k for k, v in enumerate(vocab_list)}\n",
    "vocab_dict"
   ]
  },
  {
   "cell_type": "markdown",
   "metadata": {
    "id": "JOSzbvs9SXT1"
   },
   "source": [
    "Cool, we see that all letters of the alphabet occur in the dataset (which is not really surprising) and we also extracted the special characters `\" \"` and `'`. Note that we did not exclude those special characters because: \n",
    "\n",
    "- The model has to learn to predict when a word is finished or else the model prediction would always be a sequence of chars which would make it impossible to separate words from each other.\n",
    "- From the transcriptions above it seems that words that include an apostrophe, such as `maktouf'un` do exist in Turkish, so I decided to keep the apostrophe in the dataset. This might be a wrong assumption though.\n",
    "\n",
    "One should always keep in mind that the data-preprocessing is a very important step before training your model. E.g., we don't want our model to differentiate between `a` and `A` just because we forgot to normalize the data. The difference between `a` and `A` does not depend on the \"sound\" of the letter at all, but more on grammatical rules - *e.g.* use a capitalized letter at the beginning of the sentence. So it is sensible to remove the difference between capitalized and non-capitalized letters so that the model has an easier time learning to transcribe speech. \n",
    "\n",
    "It is always advantageous to get help from a native speaker of the language you would like to transcribe to verify whether the assumptions you made are sensible, *e.g.* I should have made sure that keeping `'`, but removing other special characters is a sensible choice for Turkish. "
   ]
  },
  {
   "cell_type": "markdown",
   "metadata": {
    "id": "b1fBRCn-TRaO"
   },
   "source": [
    "To make it clearer that `\" \"` has its own token class, we give it a more visible character `|`. In addition, we also add an \"unknown\" token so that the model can later deal with characters not encountered in Common Voice's training set. \n",
    "\n",
    "Finally, we also add a padding token that corresponds to CTC's \"*blank token*\". The \"blank token\" is a core component of the CTC algorithm. For more information, please take a look at the \"Alignment\" section [here](https://distill.pub/2017/ctc/)."
   ]
  },
  {
   "cell_type": "code",
   "execution_count": 22,
   "metadata": {
    "id": "npbIbBoLgaFX"
   },
   "outputs": [],
   "source": [
    "vocab_dict[\"|\"] = vocab_dict[\" \"]\n",
    "del vocab_dict[\" \"]"
   ]
  },
  {
   "cell_type": "code",
   "execution_count": 23,
   "metadata": {
    "colab": {
     "base_uri": "https://localhost:8080/"
    },
    "id": "znF0bNunsjbl",
    "outputId": "6dd50862-f4c5-4a05-87a7-da03d157e30e"
   },
   "outputs": [
    {
     "data": {
      "text/plain": [
       "38"
      ]
     },
     "execution_count": 23,
     "metadata": {},
     "output_type": "execute_result"
    }
   ],
   "source": [
    "vocab_dict[\"[UNK]\"] = len(vocab_dict)\n",
    "vocab_dict[\"[PAD]\"] = len(vocab_dict)\n",
    "len(vocab_dict)"
   ]
  },
  {
   "cell_type": "markdown",
   "metadata": {
    "id": "SFPGfet8U5sL"
   },
   "source": [
    "Cool, now our vocabulary is complete and consists of 39 tokens, which means that the linear layer that we will add on top of the pretrained XLSR-Wav2Vec2 checkpoint will have an output dimension of 39."
   ]
  },
  {
   "cell_type": "markdown",
   "metadata": {
    "id": "1CujRgBNVRaD"
   },
   "source": [
    "Let's now save the vocabulary as a json file."
   ]
  },
  {
   "cell_type": "code",
   "execution_count": 24,
   "metadata": {
    "id": "ehyUoh9vk191"
   },
   "outputs": [],
   "source": [
    "import json\n",
    "with open('vocab.json', 'w') as vocab_file:\n",
    "    json.dump(vocab_dict, vocab_file)"
   ]
  },
  {
   "cell_type": "markdown",
   "metadata": {
    "id": "SHJDaKlIVVim"
   },
   "source": [
    "In a final step, we use the json file to instantiate an object of the `Wav2Vec2CTCTokenizer` class."
   ]
  },
  {
   "cell_type": "code",
   "execution_count": 25,
   "metadata": {
    "id": "xriFGEWQkO4M"
   },
   "outputs": [],
   "source": [
    "from transformers import Wav2Vec2CTCTokenizer\n",
    "\n",
    "tokenizer = Wav2Vec2CTCTokenizer(\"./vocab.json\", unk_token=\"[UNK]\", pad_token=\"[PAD]\", word_delimiter_token=\"|\")"
   ]
  },
  {
   "cell_type": "markdown",
   "metadata": {
    "id": "KvL12DrNV4cx"
   },
   "source": [
    "Next, we will create the feature extractor."
   ]
  },
  {
   "cell_type": "markdown",
   "metadata": {
    "id": "mYcIiR2FQ96i"
   },
   "source": [
    "### Create XLSR-Wav2Vec2 Feature Extractor"
   ]
  },
  {
   "cell_type": "markdown",
   "metadata": {
    "id": "Y6mDEyW719rx"
   },
   "source": [
    "Speech is a continuous signal and to be treated by computers, it first has to be discretized, which is usually called **sampling**. The sampling rate hereby plays an important role in that it defines how many data points of the speech signal are measured per second. Therefore, sampling with a higher sampling rate results in a better approximation of the *real* speech signal but also necessitates more values per second.\n",
    "\n",
    "A pretrained checkpoint expects its input data to have been sampled more or less from the same distribution as the data it was trained on. The same speech signals sampled at two different rates have a very different distribution, *e.g.*, doubling the sampling rate results in data points being twice as long. Thus, \n",
    "before fine-tuning a pretrained checkpoint of an ASR model, it is crucial to verify that the sampling rate of the data that was used to pretrain the model matches the sampling rate of the dataset used to fine-tune the model.\n",
    "\n",
    "XLSR-Wav2Vec2 was pretrained on the audio data of [Babel](https://huggingface.co/datasets/librispeech_asr), \n",
    "[Multilingual LibriSpeech (MLS)](https://ai.facebook.com/blog/a-new-open-data-set-for-multilingual-speech-research/), and [Common Voice](https://huggingface.co/datasets/common_voice). Most of those datasets were sampled at 16kHz, so that Common Voice, sampled at 48kHz, has to be downsampled to 16kHz for training. Therefore, we will have to downsample our fine-tuning data to 16kHz in the following.\n",
    "\n"
   ]
  },
  {
   "cell_type": "markdown",
   "metadata": {
    "id": "KuUbPW7oV-B5"
   },
   "source": [
    "A XLSR-Wav2Vec2 feature extractor object requires the following parameters to be instantiated:\n",
    "\n",
    "- `feature_size`: Speech models take a sequence of feature vectors as an input. While the length of this sequence obviously varies, the feature size should not. In the case of Wav2Vec2, the feature size is 1 because the model was trained on the raw speech signal ${}^2$.\n",
    "- `sampling_rate`: The sampling rate at which the model is trained on.\n",
    "- `padding_value`: For batched inference, shorter inputs need to be padded with a specific value\n",
    "- `do_normalize`: Whether the input should be *zero-mean-unit-variance* normalized or not. Usually, speech models perform better when normalizing the input\n",
    "- `return_attention_mask`: Whether the model should make use of an `attention_mask` for batched inference. In general, XLSR-Wav2Vec2 models should **always** make use of the `attention_mask`."
   ]
  },
  {
   "cell_type": "code",
   "execution_count": 26,
   "metadata": {
    "id": "kAR0-2KLkopp"
   },
   "outputs": [],
   "source": [
    "from transformers import Wav2Vec2FeatureExtractor\n",
    "\n",
    "feature_extractor = Wav2Vec2FeatureExtractor(feature_size=1, sampling_rate=16000, padding_value=0.0, do_normalize=True, return_attention_mask=True)"
   ]
  },
  {
   "cell_type": "markdown",
   "metadata": {
    "id": "qUETetgqYC3W"
   },
   "source": [
    "Great, XLSR-Wav2Vec2's feature extraction pipeline is thereby fully defined!\n",
    "\n",
    "To make the usage of XLSR-Wav2Vec2 as user-friendly as possible, the feature extractor and tokenizer are *wrapped* into a single `Wav2Vec2Processor` class so that one only needs a `model` and `processor` object."
   ]
  },
  {
   "cell_type": "code",
   "execution_count": 27,
   "metadata": {
    "id": "KYZtoW-tlZgl"
   },
   "outputs": [],
   "source": [
    "from transformers import Wav2Vec2Processor\n",
    "\n",
    "processor = Wav2Vec2Processor(feature_extractor=feature_extractor, tokenizer=tokenizer)"
   ]
  },
  {
   "cell_type": "markdown",
   "metadata": {
    "id": "fTfFDSS0YfMN"
   },
   "source": [
    "If one wants to re-use the just created processor and the fine-tuned model of this notebook, one can mount his/her google drive to the notebook and save all relevant files there. To do so, please uncomment the following lines. \n",
    "\n",
    "We will give the fine-tuned model the name `\"wav2vec2-large-xlsr-turkish-demo\"`."
   ]
  },
  {
   "cell_type": "code",
   "execution_count": null,
   "metadata": {
    "colab": {
     "base_uri": "https://localhost:8080/"
    },
    "id": "yq7Bzuzz4zjQ",
    "outputId": "419faa94-b24f-4044-877a-ce511978c97d"
   },
   "outputs": [],
   "source": []
  },
  {
   "cell_type": "code",
   "execution_count": 28,
   "metadata": {
    "id": "Par9rpypPsml"
   },
   "outputs": [],
   "source": [
    "processor.save_pretrained(output_models_dir)"
   ]
  },
  {
   "cell_type": "markdown",
   "metadata": {
    "id": "DrKnYuvDIoOO"
   },
   "source": [
    "Next, we can prepare the dataset."
   ]
  },
  {
   "cell_type": "markdown",
   "metadata": {
    "id": "YFmShnl7RE35"
   },
   "source": [
    "### Preprocess Data\n",
    "\n",
    "So far, we have not looked at the actual values of the speech signal but just kept the path to its file in the dataset. `XLSR-Wav2Vec2` expects the audio file in the format of a 1-dimensional array, so in the first step, let's load all audio files into the dataset object.\n",
    "\n",
    "Let's first check the serialization format of the downloaded audio files by looking at the first training sample."
   ]
  },
  {
   "cell_type": "code",
   "execution_count": 29,
   "metadata": {
    "colab": {
     "base_uri": "https://localhost:8080/"
    },
    "id": "TTCS7W6XJ9BG",
    "outputId": "9c3b8cc0-3bcd-43fe-87ca-2825239b365a"
   },
   "outputs": [
    {
     "data": {
      "text/plain": [
       "{'path': '/workspace/.cache/huggingface/datasets/downloads/extracted/cf2366b0d0d76ba054b4e3b3e25b075610358cb9fd923cacb3faed8598be0e44/cv-corpus-6.1-2020-12-11/hu/clips/common_voice_hu_23629267.mp3',\n",
       " 'sentence': 'amikor visszatért ezerfélét mesélt  '}"
      ]
     },
     "execution_count": 29,
     "metadata": {},
     "output_type": "execute_result"
    }
   ],
   "source": [
    "common_voice_train[0]"
   ]
  },
  {
   "cell_type": "markdown",
   "metadata": {
    "id": "wSBIGEiaKHMn"
   },
   "source": [
    "Alright, the audio file is saved in the `.mp3` format. The `.mp3` format is usually not the easiest format to deal with. We found that the [`torchaudio`](https://pytorch.org/audio/stable/index.html) library works best for reading in `.mp3` data. \n",
    "\n",
    "An audio file usually stores both its values and the sampling rate with which the speech signal was digitalized. We want to store both in the dataset and write a `map(...)` function accordingly."
   ]
  },
  {
   "cell_type": "code",
   "execution_count": 30,
   "metadata": {
    "id": "al9Luo4LPpwJ"
   },
   "outputs": [
    {
     "name": "stderr",
     "output_type": "stream",
     "text": [
      "/opt/conda/lib/python3.7/site-packages/torchaudio/backend/utils.py:54: UserWarning: \"sox\" backend is being deprecated. The default backend will be changed to \"sox_io\" backend in 0.8.0 and \"sox\" backend will be removed in 0.9.0. Please migrate to \"sox_io\" backend. Please refer to https://github.com/pytorch/audio/issues/903 for the detail.\n",
      "  '\"sox\" backend is being deprecated. '\n"
     ]
    }
   ],
   "source": [
    "import torchaudio\n",
    "\n",
    "def speech_file_to_array_fn(batch):\n",
    "    speech_array, sampling_rate = torchaudio.load(batch[\"path\"])\n",
    "    batch[\"speech\"] = speech_array[0].numpy()\n",
    "    batch[\"sampling_rate\"] = sampling_rate\n",
    "    batch[\"target_text\"] = batch[\"sentence\"]\n",
    "    return batch"
   ]
  },
  {
   "cell_type": "code",
   "execution_count": 31,
   "metadata": {
    "colab": {
     "base_uri": "https://localhost:8080/",
     "height": 117,
     "referenced_widgets": [
      "348ef54c80b2449f8a3bc950cccd62cc",
      "b78413dcc0584a0c8f71731a06aaa1b8",
      "7edbecaccdd94ede8fddc0e1807e777e",
      "5e3aad95e52f4be2bd670d1345398f1b",
      "b9c5c6dd54cc4dc5ad5a2bb69a24ab05",
      "3e3a022a9f304b0f9f7ef067fcee1e56",
      "7aa70322bdfe46938b583a20003093d5",
      "99d5c44ea54b45ee9bd89380cb1ad189",
      "5f48f54986924e418aa4ac22aa54b714",
      "db71db50799c404aafa4a54de8b9b799",
      "a58c203a7cc54086aea45f2029821207",
      "8d409ca0372a48e2972ca1d8eee5ffa1",
      "c8fdf261ac294093a355778a3a4aba3b",
      "b1b6a4649fc34c9996f993c57671766b",
      "d362345c05234c97a675c6bacdad0e92",
      "b0479f03f96241ca959f6fe7bcbd1aba"
     ]
    },
    "id": "afeicUeWlrRL",
    "outputId": "d5e4d41a-61d6-4094-eba9-a5bbed02cedc"
   },
   "outputs": [
    {
     "data": {
      "application/vnd.jupyter.widget-view+json": {
       "model_id": "bd02678924ba4e7ea3b4bb9257b2dc39",
       "version_major": 2,
       "version_minor": 0
      },
      "text/plain": [
       "HBox(children=(FloatProgress(value=0.0, max=4782.0), HTML(value='')))"
      ]
     },
     "metadata": {},
     "output_type": "display_data"
    },
    {
     "name": "stdout",
     "output_type": "stream",
     "text": [
      "\n"
     ]
    },
    {
     "data": {
      "application/vnd.jupyter.widget-view+json": {
       "model_id": "342ed8953acb4db399d059c9116057f4",
       "version_major": 2,
       "version_minor": 0
      },
      "text/plain": [
       "HBox(children=(FloatProgress(value=0.0, max=1649.0), HTML(value='')))"
      ]
     },
     "metadata": {},
     "output_type": "display_data"
    },
    {
     "name": "stdout",
     "output_type": "stream",
     "text": [
      "\n"
     ]
    }
   ],
   "source": [
    "common_voice_train = common_voice_train.map(speech_file_to_array_fn, remove_columns=common_voice_train.column_names)\n",
    "common_voice_test = common_voice_test.map(speech_file_to_array_fn, remove_columns=common_voice_test.column_names)"
   ]
  },
  {
   "cell_type": "markdown",
   "metadata": {
    "id": "ki5sXmzucc9Q"
   },
   "source": [
    "Great, now we've successfully read in all the audio files, but since we know that Common Voice is sampled at 48kHz, we need to resample the audio files to 16kHz. \n",
    "\n",
    "Let's make use of the [`librosa`](https://github.com/librosa/librosa) library to downsample the data."
   ]
  },
  {
   "cell_type": "code",
   "execution_count": 32,
   "metadata": {
    "id": "6Y6AK3Z-kHwP"
   },
   "outputs": [],
   "source": [
    "import librosa\n",
    "import numpy as np\n",
    "\n",
    "def resample(batch):\n",
    "    batch[\"speech\"] = librosa.resample(np.asarray(batch[\"speech\"]), 48_000, 16_000)\n",
    "    batch[\"sampling_rate\"] = 16_000\n",
    "    return batch"
   ]
  },
  {
   "cell_type": "code",
   "execution_count": 33,
   "metadata": {
    "colab": {
     "base_uri": "https://localhost:8080/",
     "height": 453,
     "referenced_widgets": [
      "ee641bbf54a7499597713c517baa81bb",
      "3d929b9e2518402b81a71757ffb753d2",
      "4f8957dc035d4c1a9e8630fc8ab8cd10",
      "757e7bd0e6c5410da0490d191b4e68c8",
      "596aea0362924c7db583203268dd5a3e",
      "47a6c3c427614f21a6dab1c048e5dd37",
      "0b795d4b68014de19bf9579c67b55ffb",
      "9185f86719af476da41e3835e8f06f8d",
      "771959e46cb64b3ebafe931f96f5ff52",
      "0e999af234bd4b63ad2937e61d08b693",
      "f792530a76ee486688cbc2502dfae594",
      "d69468d63dd74fdd807fe061b92aa84e",
      "1261590ef796493798f7068ea0547b74",
      "7e50f8027fb74d669daae5e46082026c",
      "7f5203fde6b64bf7ad53d6ecd3041bfc",
      "84e7f0001ebe458dad3c96e7e9a38cdc",
      "24ea17ae8ab14e8a871e5e115c3f4c06",
      "f57d087016124ebeb073fd7428dcb68b",
      "f3905820a42c499fba04af9c1ad19705",
      "4e1a725fd90b45e280b8b0028ba65250",
      "4c0ad31e73234e46aac0a297ec18bdeb",
      "fc9504846f424542a7feb932964f1f5b",
      "9f79629ad6a94201acf3283862d1ae17",
      "491fd969d61a478f8e85ffcd3e1a3e20",
      "76d162d3ea0845cc837651a77a5a2d36",
      "98c594f1e41e4b3fab10f0763bd93d75",
      "f6b01ad0433a40178ef3ba5657bc1583",
      "eed2ccc12daa4c71b080794a7a18f5cb",
      "beca070c32124a119a08cb21c2ca95e5",
      "69828f4a101f4340916a4be141866904",
      "20347ed29fdc4c0a96da28c09aacf44d",
      "f18eddbd3d994ddc88f37e02d754c206",
      "b7c43fb5efdd4afbb82c81b923f2815a",
      "c0a661f20e7e4649a3c8c42a5fd01956",
      "8dddd0245dcb4532917cbfa0181d2a00",
      "3bdb4058f40f40e3a10e323325a64638",
      "024989cea06f435894776b0a921164b2",
      "b1d93a7521fa47b8a815445b5232da59",
      "751ae6b9e2da4b85be9600561485f1ac",
      "d7f27e9cf8a844349ca90393e0c49a03",
      "82015055d32449b89346ea18e7474c4d",
      "a170c0cb21cf425fbee97fd6d5584e2c",
      "f5f1f0865d7e4d8b810ccb9c3c4d2683",
      "416badb151ee4660b53fdbc136e0c8fb",
      "a47f1ea64f894f0b8e6b277c31ae9f7d",
      "e51b5fd9d5a6416d986fac1526d1666f",
      "824569c63ec445c08362659ca228dd2a",
      "0f3756509e3b405d87936f599b153de2",
      "d96e01ad62c342cdb7d9b1eceb39afa3",
      "e6ce9330460d4a0fb67cc493ca74ae96",
      "e6178f7b148c4bf39f2826f208e0cc64",
      "f78ff14b9c8f46448ed1ecb3fe1f5e0b",
      "929cde17b3484f3e9e8f8774bc43e374",
      "6ba6d07674a34836be53cf173c2b61ca",
      "5a5bc8b4a1c644dea08a60128d888d10",
      "b054b00a32e64fc5988fbd2966ebbce6",
      "5ccd12253fff448f9c15c9b03c70a408",
      "330226a977694de1bd88c0aa3789be47",
      "f203c54e7e054d97aa4d1097f320f611",
      "6266a4019e124aff877bb55f21740180",
      "3ec3285e9f3e4a5abcefabb7f140f4a3",
      "0cd1932178c945d48604ffd299e65d2c",
      "8ad3e4b211e34c048d0f48e36fdbfe48",
      "55071fc1b7484620803aeba453e9af72"
     ]
    },
    "id": "Ws8DyIL_kjwT",
    "outputId": "6176aea2-5986-4da0-a2ad-6ef5e2c85493"
   },
   "outputs": [
    {
     "name": "stdout",
     "output_type": "stream",
     "text": [
      "    "
     ]
    },
    {
     "data": {
      "application/vnd.jupyter.widget-view+json": {
       "model_id": "0ffa395519134cd6b478a50909301c61",
       "version_major": 2,
       "version_minor": 0
      },
      "text/plain": [
       "HBox(children=(FloatProgress(value=0.0, description='#1', max=1196.0, style=ProgressStyle(description_width='i…"
      ]
     },
     "metadata": {},
     "output_type": "display_data"
    },
    {
     "data": {
      "application/vnd.jupyter.widget-view+json": {
       "model_id": "ae8f9b25acc942078001023060280052",
       "version_major": 2,
       "version_minor": 0
      },
      "text/plain": [
       "HBox(children=(FloatProgress(value=0.0, description='#3', max=1195.0, style=ProgressStyle(description_width='i…"
      ]
     },
     "metadata": {},
     "output_type": "display_data"
    },
    {
     "data": {
      "application/vnd.jupyter.widget-view+json": {
       "model_id": "8cae037042ca4c029f104fc417d36d7d",
       "version_major": 2,
       "version_minor": 0
      },
      "text/plain": [
       "HBox(children=(FloatProgress(value=0.0, description='#2', max=1195.0, style=ProgressStyle(description_width='i…"
      ]
     },
     "metadata": {},
     "output_type": "display_data"
    },
    {
     "data": {
      "application/vnd.jupyter.widget-view+json": {
       "model_id": "53c5f98ea43c436e8ad0fedb32c33d06",
       "version_major": 2,
       "version_minor": 0
      },
      "text/plain": [
       "HBox(children=(FloatProgress(value=0.0, description='#0', max=1196.0, style=ProgressStyle(description_width='i…"
      ]
     },
     "metadata": {},
     "output_type": "display_data"
    },
    {
     "name": "stdout",
     "output_type": "stream",
     "text": [
      "\n",
      "\n",
      "\n",
      "\n",
      "    "
     ]
    },
    {
     "data": {
      "application/vnd.jupyter.widget-view+json": {
       "model_id": "7e6eed3fa0c648b6adce1567209a90fe",
       "version_major": 2,
       "version_minor": 0
      },
      "text/plain": [
       "HBox(children=(FloatProgress(value=0.0, description='#0', max=413.0, style=ProgressStyle(description_width='in…"
      ]
     },
     "metadata": {},
     "output_type": "display_data"
    },
    {
     "data": {
      "application/vnd.jupyter.widget-view+json": {
       "model_id": "730411a328794463a9ac91a129df4502",
       "version_major": 2,
       "version_minor": 0
      },
      "text/plain": [
       "HBox(children=(FloatProgress(value=0.0, description='#1', max=412.0, style=ProgressStyle(description_width='in…"
      ]
     },
     "metadata": {},
     "output_type": "display_data"
    },
    {
     "data": {
      "application/vnd.jupyter.widget-view+json": {
       "model_id": "65088a6767dd4c0a8fe5a83a08936dd6",
       "version_major": 2,
       "version_minor": 0
      },
      "text/plain": [
       "HBox(children=(FloatProgress(value=0.0, description='#3', max=412.0, style=ProgressStyle(description_width='in…"
      ]
     },
     "metadata": {},
     "output_type": "display_data"
    },
    {
     "data": {
      "application/vnd.jupyter.widget-view+json": {
       "model_id": "b639ee7d3fe248f58c48ccfe031865ea",
       "version_major": 2,
       "version_minor": 0
      },
      "text/plain": [
       "HBox(children=(FloatProgress(value=0.0, description='#2', max=412.0, style=ProgressStyle(description_width='in…"
      ]
     },
     "metadata": {},
     "output_type": "display_data"
    },
    {
     "name": "stdout",
     "output_type": "stream",
     "text": [
      "\n",
      "\n",
      "\n",
      "\n"
     ]
    }
   ],
   "source": [
    "common_voice_train = common_voice_train.map(resample, num_proc=4)\n",
    "common_voice_test = common_voice_test.map(resample, num_proc=4)"
   ]
  },
  {
   "cell_type": "markdown",
   "metadata": {
    "id": "SOckzFd4Mbzq"
   },
   "source": [
    "This seemed to have worked! Let's listen to a couple of audio files to better understand the dataset and verify that the audio was correctly loaded. \n",
    "\n",
    "**Note**: *You can click the following cell a couple of times to listen to different speech samples.*"
   ]
  },
  {
   "cell_type": "code",
   "execution_count": 34,
   "metadata": {
    "colab": {
     "base_uri": "https://localhost:8080/",
     "height": 74
    },
    "id": "dueM6U7Ev0OA",
    "outputId": "1a3e579d-213e-4c7a-b2ec-9a7725d95afc"
   },
   "outputs": [
    {
     "data": {
      "text/html": [
       "\n",
       "                <audio  controls=\"controls\" autoplay=\"autoplay\">\n",
       "                    <source src=\"data:audio/wav;base64,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\" type=\"audio/wav\" />\n",
       "                    Your browser does not support the audio element.\n",
       "                </audio>\n",
       "              "
      ],
      "text/plain": [
       "<IPython.lib.display.Audio object>"
      ]
     },
     "execution_count": 34,
     "metadata": {},
     "output_type": "execute_result"
    }
   ],
   "source": [
    "import IPython.display as ipd\n",
    "import numpy as np\n",
    "import random\n",
    "\n",
    "rand_int = random.randint(0, len(common_voice_train)-1)\n",
    "\n",
    "ipd.Audio(data=np.asarray(common_voice_train[rand_int][\"speech\"]), autoplay=True, rate=16000)"
   ]
  },
  {
   "cell_type": "markdown",
   "metadata": {
    "id": "1MaL9J2dNVtG"
   },
   "source": [
    "It can be heard, that the speakers change along with their speaking rate, accent, and background environment, etc. Overall, the recordings sound acceptably clear though, which is to be expected from a crowd-sourced read speech corpus.\n",
    "\n",
    "Let's do a final check that the data is correctly prepared, by printing the shape of the speech input, its transcription, and the corresponding sampling rate.\n",
    "\n",
    "**Note**: *You can click the following cell a couple of times to verify multiple samples.*"
   ]
  },
  {
   "cell_type": "code",
   "execution_count": 35,
   "metadata": {
    "colab": {
     "base_uri": "https://localhost:8080/"
    },
    "id": "1Po2g7YPuRTx",
    "outputId": "96b0b82c-a5df-4ae6-d17b-9c7d4f710b42"
   },
   "outputs": [
    {
     "name": "stdout",
     "output_type": "stream",
     "text": [
      "Target text: ilyenkor télidőben az a legnagyobb kincs a világon  \n",
      "Input array shape: (79104,)\n",
      "Sampling rate: 16000\n"
     ]
    }
   ],
   "source": [
    "rand_int = random.randint(0, len(common_voice_train)-1)\n",
    "\n",
    "print(\"Target text:\", common_voice_train[rand_int][\"target_text\"])\n",
    "print(\"Input array shape:\", np.asarray(common_voice_train[rand_int][\"speech\"]).shape)\n",
    "print(\"Sampling rate:\", common_voice_train[rand_int][\"sampling_rate\"])"
   ]
  },
  {
   "cell_type": "markdown",
   "metadata": {
    "id": "M9teZcSwOBJ4"
   },
   "source": [
    "Good! Everything looks fine - the data is a 1-dimensional array, the sampling rate always corresponds to 16kHz, and the target text is normalized."
   ]
  },
  {
   "cell_type": "markdown",
   "metadata": {
    "id": "k3Pbn5WvOYZF"
   },
   "source": [
    "Finally, we can process the dataset to the format expected by the model for training. We will again make use of the `map(...)` function.\n",
    "\n",
    "First, we check that the data samples have the same sampling rate of 16kHz.\n",
    "Second, we extract the `input_values` from the loaded audio file. In our case, this includes only normalization, but for other speech models, this step could correspond to extracting, *e.g.* [Log-Mel features](https://en.wikipedia.org/wiki/Mel-frequency_cepstrum). \n",
    "Third, we encode the transcriptions to label ids.\n",
    "\n",
    "**Note**: This mapping function is a good example of how the `Wav2Vec2Processor` class should be used. In \"normal\" context, calling `processor(...)` is redirected to `Wav2Vec2FeatureExtractor`'s call method. When wrapping the processor into the `as_target_processor` context, however, the same method is redirected to `Wav2Vec2CTCTokenizer`'s call method.\n",
    "For more information please check the [docs](https://huggingface.co/transformers/master/model_doc/wav2vec2.html#transformers.Wav2Vec2Processor.__call__)."
   ]
  },
  {
   "cell_type": "code",
   "execution_count": 36,
   "metadata": {
    "id": "eJY7I0XAwe9p"
   },
   "outputs": [],
   "source": [
    "def prepare_dataset(batch):\n",
    "    # check that all files have the correct sampling rate\n",
    "    assert (\n",
    "        len(set(batch[\"sampling_rate\"])) == 1\n",
    "    ), f\"Make sure all inputs have the same sampling rate of {processor.feature_extractor.sampling_rate}.\"\n",
    "\n",
    "    batch[\"input_values\"] = processor(batch[\"speech\"], sampling_rate=batch[\"sampling_rate\"][0]).input_values\n",
    "    \n",
    "    with processor.as_target_processor():\n",
    "        batch[\"labels\"] = processor(batch[\"target_text\"]).input_ids\n",
    "    return batch"
   ]
  },
  {
   "cell_type": "code",
   "execution_count": 37,
   "metadata": {
    "colab": {
     "base_uri": "https://localhost:8080/",
     "height": 509,
     "referenced_widgets": [
      "4797f1acd9924b4e97f12f964c83078c",
      "73940df84ffd4e0f96637342e9fd12b7",
      "5370c0f2d54b45c0a89f11fb5b70cd4b",
      "018c1f8e198e4df4b480e609bd1be602",
      "fa7926bbe77e48b3a0648b45f5d2dc7a",
      "020bdb330b0d40f5b89697ff37025f69",
      "d35c15beeb33476894b07c3563f8facd",
      "768ab09956774f50a79b2493a8bf179b",
      "7ef969e47c2d429a9848d5ab3f5bb2d9",
      "fe62265afdc74026b7e9c5a50ef61d2c",
      "015c5690e1ea4281954c7efda1c80a6a",
      "f4135dd72864445391f43f387635bfdc",
      "2f727c76652944e3892dd584bea11af2",
      "dec796237765477ea904834d9a824b61",
      "8df9d19602cb4951b397c385458a11ef",
      "923ed9e127524187ab8cfcac31164ba7",
      "bf9e57d81135412d9a9a2281f28bd52a",
      "c41610c0baef412984f8661d96e08b7e",
      "579b6055028f473981ce789a0733a753",
      "4fb7347e9ca542e6ab9003bf4db218e0",
      "3133b378b9294a759c8dfb786ed8f815",
      "6de66d6b7a73434cbdc59b2109bdf0a0",
      "6d4a26d876fb4ac6b5948a09945bdc6b",
      "0987aac282af415da2fbc9dc1b4d5069",
      "ac35dca0845149a284b9867d9e607232",
      "b54bff6261964119bcb562c1a9f74ce6",
      "5071a31d06f544a5b7340a4e863d8fdf",
      "542027ba12f444d586e8072452badea0",
      "49defa4284554baf85f32de242b22709",
      "b2473405490e4556bf30c0cc81237aa5",
      "02bdb06c176145feaa842b97ae58609c",
      "bc41384bbae04044b9780651c6b5a47c",
      "7040945accce4739a41746cc75bb7fce",
      "71011f0d2bc942ac8f9ea1d1fd30c78d",
      "6f60626242534f44a6381195e6eb6530",
      "9fee9d9dd1164d97a9109e942444c332",
      "5ab30242cd154ec0b560c23c0f178546",
      "0ffcbedb8d4444508ac0c3c0b41ea8ac",
      "f9efaa7678c2450f847ff2c2f21ff96e",
      "c126ea97019149848396e593cfab016f",
      "0f99011a13754ed99f3c51a478b0e793",
      "4abe2731ec624729b401d60a392cae63",
      "bd187486ac2548f2961cfcb63d852de1",
      "3f780f0aa8834fc189b292e0474e2ffa",
      "231c66f195d34f86b216805518f4bccd",
      "58f3e8002f984594ac05c973aa78ef69",
      "ec36a94ee2574ac8b227ccaefdee5520",
      "a868dea9d9b047a4b853b390e138e4c1",
      "6462bd9561e24abb98fce6ce4675d810",
      "bd3447291ce54812af10ac6245ea4328",
      "e273548a15aa4d4994132b317adb66fc",
      "f6930dd5519d4dfda64c597def220a30",
      "7d62810674c8482abe46c60fc08884b4",
      "80697300a4394b909f1c499ba80aeb13",
      "ab72c80dfd5e4ab19a183f4204486b59",
      "56ad6231a0a04228be29ceecbc6b7c0e",
      "b6221b4c04e64c9da9eb9e11539bac89",
      "dc6862530f6e429ba61a169b4c95722c",
      "02d1f77324854fbca0df9384c57faac8",
      "8e63ba7f1fd24555bf11bc9dbe9c770b",
      "704ea5e05fd744d998b76d6435992995",
      "d4a3f79644fc41848450ba29e6fdfc3d",
      "405b5de4ae854cf9896f63d15f2207dd",
      "26e7bab0f3bf4797bfcef83dcace24f0"
     ]
    },
    "id": "-np9xYK-wl8q",
    "outputId": "6155b5f0-a5a2-4e20-d0e2-0b3a60c13f98"
   },
   "outputs": [
    {
     "name": "stdout",
     "output_type": "stream",
     "text": [
      "   "
     ]
    },
    {
     "data": {
      "application/vnd.jupyter.widget-view+json": {
       "model_id": "c04baa5e8438498e80eb0a4924ac20e2",
       "version_major": 2,
       "version_minor": 0
      },
      "text/plain": [
       "HBox(children=(FloatProgress(value=0.0, description='#3', max=150.0, style=ProgressStyle(description_width='in…"
      ]
     },
     "metadata": {},
     "output_type": "display_data"
    },
    {
     "name": "stdout",
     "output_type": "stream",
     "text": [
      " "
     ]
    },
    {
     "data": {
      "application/vnd.jupyter.widget-view+json": {
       "model_id": "264f61af804e4f59a2bbdc86c0b6b2bb",
       "version_major": 2,
       "version_minor": 0
      },
      "text/plain": [
       "HBox(children=(FloatProgress(value=0.0, description='#1', max=150.0, style=ProgressStyle(description_width='in…"
      ]
     },
     "metadata": {},
     "output_type": "display_data"
    },
    {
     "data": {
      "application/vnd.jupyter.widget-view+json": {
       "model_id": "27689e926408495ab6bc70bdb1a45496",
       "version_major": 2,
       "version_minor": 0
      },
      "text/plain": [
       "HBox(children=(FloatProgress(value=0.0, description='#2', max=150.0, style=ProgressStyle(description_width='in…"
      ]
     },
     "metadata": {},
     "output_type": "display_data"
    },
    {
     "data": {
      "application/vnd.jupyter.widget-view+json": {
       "model_id": "56295ca1865e4f0ca9b55477d59289c4",
       "version_major": 2,
       "version_minor": 0
      },
      "text/plain": [
       "HBox(children=(FloatProgress(value=0.0, description='#0', max=150.0, style=ProgressStyle(description_width='in…"
      ]
     },
     "metadata": {},
     "output_type": "display_data"
    },
    {
     "name": "stdout",
     "output_type": "stream",
     "text": [
      "\n",
      "\n",
      "\n",
      "\n",
      "    "
     ]
    },
    {
     "data": {
      "application/vnd.jupyter.widget-view+json": {
       "model_id": "b659095aeba348fc8c5541314abe6634",
       "version_major": 2,
       "version_minor": 0
      },
      "text/plain": [
       "HBox(children=(FloatProgress(value=0.0, description='#3', max=52.0, style=ProgressStyle(description_width='ini…"
      ]
     },
     "metadata": {},
     "output_type": "display_data"
    },
    {
     "data": {
      "application/vnd.jupyter.widget-view+json": {
       "model_id": "55f0d8d9f5024cea92f007fadb9d61df",
       "version_major": 2,
       "version_minor": 0
      },
      "text/plain": [
       "HBox(children=(FloatProgress(value=0.0, description='#2', max=52.0, style=ProgressStyle(description_width='ini…"
      ]
     },
     "metadata": {},
     "output_type": "display_data"
    },
    {
     "data": {
      "application/vnd.jupyter.widget-view+json": {
       "model_id": "272b1e53f755430b8d1d95b89a036ef8",
       "version_major": 2,
       "version_minor": 0
      },
      "text/plain": [
       "HBox(children=(FloatProgress(value=0.0, description='#0', max=52.0, style=ProgressStyle(description_width='ini…"
      ]
     },
     "metadata": {},
     "output_type": "display_data"
    },
    {
     "data": {
      "application/vnd.jupyter.widget-view+json": {
       "model_id": "6b488e1a9feb4be69d2f95fa1aee1fb0",
       "version_major": 2,
       "version_minor": 0
      },
      "text/plain": [
       "HBox(children=(FloatProgress(value=0.0, description='#1', max=52.0, style=ProgressStyle(description_width='ini…"
      ]
     },
     "metadata": {},
     "output_type": "display_data"
    },
    {
     "name": "stdout",
     "output_type": "stream",
     "text": [
      "\n",
      "\n",
      "\n",
      "\n"
     ]
    }
   ],
   "source": [
    "common_voice_train = common_voice_train.map(prepare_dataset, remove_columns=common_voice_train.column_names, batch_size=8, num_proc=4, batched=True)\n",
    "common_voice_test = common_voice_test.map(prepare_dataset, remove_columns=common_voice_test.column_names, batch_size=8, num_proc=4, batched=True)"
   ]
  },
  {
   "cell_type": "markdown",
   "metadata": {
    "id": "gYlQkKVoRUos"
   },
   "source": [
    "## Training\n",
    "\n",
    "The data is processed so that we are ready to start setting up the training pipeline. We will make use of 🤗's [Trainer](https://huggingface.co/transformers/master/main_classes/trainer.html?highlight=trainer) for which we essentially need to do the following:\n",
    "\n",
    "- Define a data collator. In contrast to most NLP models, XLSR-Wav2Vec2 has a much larger input length than output length. *E.g.*, a sample of input length 50000 has an output length of no more than 100. Given the large input sizes, it is much more efficient to pad the training batches dynamically meaning that all training samples should only be padded to the longest sample in their batch and not the overall longest sample. Therefore, fine-tuning XLSR-Wav2Vec2 requires a special padding data collator, which we will define below\n",
    "\n",
    "- Evaluation metric. During training, the model should be evaluated on the word error rate. We should define a `compute_metrics` function accordingly\n",
    "\n",
    "- Load a pretrained checkpoint. We need to load a pretrained checkpoint and configure it correctly for training.\n",
    "\n",
    "- Define the training configuration.\n",
    "\n",
    "After having fine-tuned the model, we will correctly evaluate it on the test data and verify that it has indeed learned to correctly transcribe speech."
   ]
  },
  {
   "cell_type": "markdown",
   "metadata": {
    "id": "Slk403unUS91"
   },
   "source": [
    "### Set-up Trainer\n",
    "\n",
    "Let's start by defining the data collator. The code for the data collator was copied from [this example](https://github.com/huggingface/transformers/blob/9a06b6b11bdfc42eea08fa91d0c737d1863c99e3/examples/research_projects/wav2vec2/run_asr.py#L81).\n",
    "\n",
    "Without going into too many details, in contrast to the common data collators, this data collator treats the `input_values` and `labels` differently and thus applies to separate padding functions on them (again making use of XLSR-Wav2Vec2's context manager). This is necessary because in speech input and output are of different modalities meaning that they should not be treated by the same padding function.\n",
    "Analogous to the common data collators, the padding tokens in the labels with `-100` so that those tokens are **not** taken into account when computing the loss."
   ]
  },
  {
   "cell_type": "code",
   "execution_count": 38,
   "metadata": {
    "id": "tborvC9hx88e"
   },
   "outputs": [],
   "source": [
    "import torch\n",
    "\n",
    "from dataclasses import dataclass, field\n",
    "from typing import Any, Dict, List, Optional, Union\n",
    "\n",
    "@dataclass\n",
    "class DataCollatorCTCWithPadding:\n",
    "    \"\"\"\n",
    "    Data collator that will dynamically pad the inputs received.\n",
    "    Args:\n",
    "        processor (:class:`~transformers.Wav2Vec2Processor`)\n",
    "            The processor used for proccessing the data.\n",
    "        padding (:obj:`bool`, :obj:`str` or :class:`~transformers.tokenization_utils_base.PaddingStrategy`, `optional`, defaults to :obj:`True`):\n",
    "            Select a strategy to pad the returned sequences (according to the model's padding side and padding index)\n",
    "            among:\n",
    "            * :obj:`True` or :obj:`'longest'`: Pad to the longest sequence in the batch (or no padding if only a single\n",
    "              sequence if provided).\n",
    "            * :obj:`'max_length'`: Pad to a maximum length specified with the argument :obj:`max_length` or to the\n",
    "              maximum acceptable input length for the model if that argument is not provided.\n",
    "            * :obj:`False` or :obj:`'do_not_pad'` (default): No padding (i.e., can output a batch with sequences of\n",
    "              different lengths).\n",
    "        max_length (:obj:`int`, `optional`):\n",
    "            Maximum length of the ``input_values`` of the returned list and optionally padding length (see above).\n",
    "        max_length_labels (:obj:`int`, `optional`):\n",
    "            Maximum length of the ``labels`` returned list and optionally padding length (see above).\n",
    "        pad_to_multiple_of (:obj:`int`, `optional`):\n",
    "            If set will pad the sequence to a multiple of the provided value.\n",
    "            This is especially useful to enable the use of Tensor Cores on NVIDIA hardware with compute capability >=\n",
    "            7.5 (Volta).\n",
    "    \"\"\"\n",
    "\n",
    "    processor: Wav2Vec2Processor\n",
    "    padding: Union[bool, str] = True\n",
    "    max_length: Optional[int] = None\n",
    "    max_length_labels: Optional[int] = None\n",
    "    pad_to_multiple_of: Optional[int] = None\n",
    "    pad_to_multiple_of_labels: Optional[int] = None\n",
    "\n",
    "    def __call__(self, features: List[Dict[str, Union[List[int], torch.Tensor]]]) -> Dict[str, torch.Tensor]:\n",
    "        # split inputs and labels since they have to be of different lenghts and need\n",
    "        # different padding methods\n",
    "        input_features = [{\"input_values\": feature[\"input_values\"]} for feature in features]\n",
    "        label_features = [{\"input_ids\": feature[\"labels\"]} for feature in features]\n",
    "\n",
    "        batch = self.processor.pad(\n",
    "            input_features,\n",
    "            padding=self.padding,\n",
    "            max_length=self.max_length,\n",
    "            pad_to_multiple_of=self.pad_to_multiple_of,\n",
    "            return_tensors=\"pt\",\n",
    "        )\n",
    "        with self.processor.as_target_processor():\n",
    "            labels_batch = self.processor.pad(\n",
    "                label_features,\n",
    "                padding=self.padding,\n",
    "                max_length=self.max_length_labels,\n",
    "                pad_to_multiple_of=self.pad_to_multiple_of_labels,\n",
    "                return_tensors=\"pt\",\n",
    "            )\n",
    "\n",
    "        # replace padding with -100 to ignore loss correctly\n",
    "        labels = labels_batch[\"input_ids\"].masked_fill(labels_batch.attention_mask.ne(1), -100)\n",
    "\n",
    "        batch[\"labels\"] = labels\n",
    "\n",
    "        return batch"
   ]
  },
  {
   "cell_type": "code",
   "execution_count": 39,
   "metadata": {
    "id": "lbQf5GuZyQ4_"
   },
   "outputs": [],
   "source": [
    "data_collator = DataCollatorCTCWithPadding(processor=processor, padding=True)"
   ]
  },
  {
   "cell_type": "markdown",
   "metadata": {
    "id": "xO-Zdj-5cxXp"
   },
   "source": [
    "Next, the evaluation metric is defined. As mentioned earlier, the \n",
    "predominant metric in ASR is the word error rate (WER), hence we will use it in this notebook as well."
   ]
  },
  {
   "cell_type": "code",
   "execution_count": 40,
   "metadata": {
    "colab": {
     "base_uri": "https://localhost:8080/",
     "height": 67,
     "referenced_widgets": [
      "d5fb02debe4347e781543a996ce39be3",
      "da12267c52144292adb9896249d61a6a",
      "8e1a85a4a6214a16b7431da23a301ada",
      "57198e3250374e1fa64c5a4be255861e",
      "a3c04c75ec9743feb795f69e7c4dff4f",
      "d453bd4a35e54bfba20dac1fe86c60c1",
      "969080b52ad44ee997829986d198c505",
      "8f737725708c4097a8caaf4da6229636"
     ]
    },
    "id": "9Xsux2gmyXso",
    "outputId": "58e0e6f5-6131-4147-bccb-6c42223833db"
   },
   "outputs": [],
   "source": [
    "wer_metric = load_metric(\"wer\")"
   ]
  },
  {
   "cell_type": "markdown",
   "metadata": {
    "id": "E1qZU5p-deqB"
   },
   "source": [
    "The model will return a sequence of logit vectors:\n",
    "$\\mathbf{y}_1, \\ldots, \\mathbf{y}_m$ with $\\mathbf{y}_1 = f_{\\theta}(x_1, \\ldots, x_n)[0]$ and $n >> m$.\n",
    "\n",
    "A logit vector $\\mathbf{y}_1$ contains the log-odds for each word in the vocabulary we defined earlier, thus $\\text{len}(\\mathbf{y}_i) =$ `config.vocab_size`. We are interested in the most likely prediction of the model and thus take the `argmax(...)` of the logits. Also, we transform the encoded labels back to the original string by replacing `-100` with the `pad_token_id` and decoding the ids while making sure that consecutive tokens are **not** grouped to the same token in CTC style ${}^1$."
   ]
  },
  {
   "cell_type": "code",
   "execution_count": 41,
   "metadata": {
    "id": "1XZ-kjweyTy_"
   },
   "outputs": [],
   "source": [
    "def compute_metrics(pred):\n",
    "    pred_logits = pred.predictions\n",
    "    pred_ids = np.argmax(pred_logits, axis=-1)\n",
    "\n",
    "    pred.label_ids[pred.label_ids == -100] = processor.tokenizer.pad_token_id\n",
    "\n",
    "    pred_str = processor.batch_decode(pred_ids)\n",
    "    # we do not want to group tokens when computing the metrics\n",
    "    label_str = processor.batch_decode(pred.label_ids, group_tokens=False)\n",
    "\n",
    "    wer = wer_metric.compute(predictions=pred_str, references=label_str)\n",
    "\n",
    "    return {\"wer\": wer}"
   ]
  },
  {
   "cell_type": "markdown",
   "metadata": {
    "id": "Xmgrx4bRwLIH"
   },
   "source": [
    "Now, we can load the pretrained `XLSR-Wav2Vec2` checkpoint. The tokenizer's `pad_token_id` must be to define the model's `pad_token_id` or in the case of `Wav2Vec2ForCTC` also CTC's *blank token* ${}^2$. To save GPU memory, we enable PyTorch's [gradient checkpointing](https://pytorch.org/docs/stable/checkpoint.html) and also set the loss reduction to \"*mean*\".\n",
    "\n",
    "Because the dataset is quite small (~6h of training data) and because Common Voice is quite noisy, fine-tuning Facebook's [wav2vec2-large-xlsr-53 checkpoint](https://huggingface.co/facebook/wav2vec2-large-xlsr-53) seems to require some hyper-parameter tuning. Therefore, I had to play around a bit with different values for dropout, [SpecAugment](https://arxiv.org/abs/1904.08779)'s masking dropout rate, layer dropout, and the learning rate until training seemed to be stable enough. \n",
    "\n",
    "**Note**: When using this notebook to train XLSR-Wav2Vec2 on another language of Common Voice those hyper-parameter settings might not work very well. Feel free to adapt those depending on your use case. "
   ]
  },
  {
   "cell_type": "code",
   "execution_count": 49,
   "metadata": {
    "colab": {
     "base_uri": "https://localhost:8080/"
    },
    "id": "e7cqAWIayn6w",
    "outputId": "0a5ab559-6c38-47c6-b4f5-64480ed1df65"
   },
   "outputs": [
    {
     "name": "stderr",
     "output_type": "stream",
     "text": [
      "Some weights of Wav2Vec2ForCTC were not initialized from the model checkpoint at facebook/wav2vec2-large-xlsr-53 and are newly initialized: ['lm_head.weight', 'lm_head.bias']\n",
      "You should probably TRAIN this model on a down-stream task to be able to use it for predictions and inference.\n"
     ]
    }
   ],
   "source": [
    "from transformers import Wav2Vec2ForCTC\n",
    "\n",
    "model = Wav2Vec2ForCTC.from_pretrained(\n",
    "    \"facebook/wav2vec2-large-xlsr-53\", \n",
    "    attention_dropout=0.1,\n",
    "    hidden_dropout=0.1,\n",
    "    feat_proj_dropout=0.0,\n",
    "    mask_time_prob=0.05,\n",
    "    layerdrop=0.1,\n",
    "    gradient_checkpointing=True, \n",
    "    ctc_loss_reduction=\"mean\", \n",
    "    pad_token_id=processor.tokenizer.pad_token_id,\n",
    "    vocab_size=len(processor.tokenizer)\n",
    ")"
   ]
  },
  {
   "cell_type": "markdown",
   "metadata": {
    "id": "1DwR3XLSzGDD"
   },
   "source": [
    "The first component of XLSR-Wav2Vec2 consists of a stack of CNN layers that are used to extract acoustically meaningful - but contextually independent - features from the raw speech signal. This part of the model has already been sufficiently trained during pretraining and as stated in the [paper](https://arxiv.org/pdf/2006.13979.pdf) does not need to be fine-tuned anymore. \n",
    "Thus, we can set the `requires_grad` to `False` for all parameters of the *feature extraction* part."
   ]
  },
  {
   "cell_type": "code",
   "execution_count": 50,
   "metadata": {
    "id": "oGI8zObtZ3V0"
   },
   "outputs": [],
   "source": [
    "model.freeze_feature_extractor()"
   ]
  },
  {
   "cell_type": "markdown",
   "metadata": {
    "id": "lD4aGhQM0K-D"
   },
   "source": [
    "In a final step, we define all parameters related to training. \n",
    "To give more explanation on some of the parameters:\n",
    "- `group_by_length` makes training more efficient by grouping training samples of similar input length into one batch. This can significantly speed up training time by heavily reducing the overall number of useless padding tokens that are passed through the model\n",
    "- `learning_rate` and `weight_decay` were heuristically tuned until fine-tuning has become stable. Note that those parameters strongly depend on the Common Voice dataset and might be suboptimal for other speech datasets.\n",
    "\n",
    "For more explanations on other parameters, one can take a look at the [docs](https://huggingface.co/transformers/master/main_classes/trainer.html?highlight=trainer#trainingarguments).\n",
    "\n",
    "**Note**: If one wants to save the trained models in his/her google drive the commented-out `output_dir` can be used instead."
   ]
  },
  {
   "cell_type": "code",
   "execution_count": 51,
   "metadata": {
    "id": "KbeKSV7uzGPP"
   },
   "outputs": [],
   "source": [
    "from transformers import TrainingArguments\n",
    "\n",
    "training_args = TrainingArguments(\n",
    "  output_dir=output_models_dir,\n",
    "  group_by_length=True,\n",
    "  per_device_train_batch_size=32,\n",
    "  per_device_eval_batch_size=32,\n",
    "  gradient_accumulation_steps=2,\n",
    "  evaluation_strategy=\"steps\",\n",
    "  num_train_epochs=40,\n",
    "  fp16=True,\n",
    "  save_steps=500,\n",
    "  eval_steps=500,\n",
    "  logging_steps=500,\n",
    "  learning_rate=4e-4,\n",
    "  warmup_steps=int(0.1*3000),\n",
    "  save_total_limit=2,\n",
    ")"
   ]
  },
  {
   "cell_type": "markdown",
   "metadata": {
    "id": "OsW-WZcL1ZtN"
   },
   "source": [
    "Now, all instances can be passed to Trainer and we are ready to start training!"
   ]
  },
  {
   "cell_type": "code",
   "execution_count": 52,
   "metadata": {
    "id": "rY7vBmFCPFgC"
   },
   "outputs": [
    {
     "name": "stderr",
     "output_type": "stream",
     "text": [
      "W&B installed but not logged in. Run `wandb login` or set the WANDB_API_KEY env variable.\n"
     ]
    }
   ],
   "source": [
    "from transformers import Trainer\n",
    "\n",
    "trainer = Trainer(\n",
    "    model=model,\n",
    "    data_collator=data_collator,\n",
    "    args=training_args,\n",
    "    compute_metrics=compute_metrics,\n",
    "    train_dataset=common_voice_train,\n",
    "    eval_dataset=common_voice_test,\n",
    "    tokenizer=processor.feature_extractor,\n",
    ")"
   ]
  },
  {
   "cell_type": "markdown",
   "metadata": {
    "id": "UoXBx1JAA0DX"
   },
   "source": [
    "\n",
    "\n",
    "---\n",
    "\n",
    "${}^1$ To allow models to become independent of the speaker rate, in CTC, consecutive tokens that are identical are simply grouped as a single token. However, the encoded labels should not be grouped when decoding since they don't correspond to the predicted tokens of the model, which is why the `group_tokens=False` parameter has to be passed. If we wouldn't pass this parameter a word like `\"hello\"` would incorrectly be encoded, and decoded as `\"helo\"`.\n",
    "\n",
    "${}^2$ The blank token allows the model to predict a word, such as `\"hello\"` by forcing it to insert the blank token between the two l's. A CTC-conform prediction of `\"hello\"` of our model would be `[PAD] [PAD] \"h\" \"e\" \"e\" \"l\" \"l\" [PAD] \"l\" \"o\" \"o\" [PAD]`."
   ]
  },
  {
   "cell_type": "markdown",
   "metadata": {
    "id": "rpvZHM1xReIW"
   },
   "source": [
    "### Training"
   ]
  },
  {
   "cell_type": "markdown",
   "metadata": {
    "id": "j-3oKSzZ1hGq"
   },
   "source": [
    "Training will take between 180 and 240 minutes depending on the GPU allocated to this notebook. While the trained model yields somewhat satisfying results on *Common Voice*'s test data of Turkish, it is by no means an optimally fine-tuned model. The purpose of this notebook is to demonstrate how XLSR-Wav2Vec2's [checkpoint](https://huggingface.co/facebook/wav2vec2-large-xlsr-53) can be fine-tuned on a low-resource ASR dataset.\n",
    "\n",
    "In case you want to use this google colab to fine-tune your model, you should make sure that your training doesn't stop due to inactivity. A simple hack to prevent this is to paste the following code into the console of this tab (*right mouse click -> inspect -> Console tab and insert code*)."
   ]
  },
  {
   "cell_type": "markdown",
   "metadata": {
    "id": "VYYAvgkW4P0m"
   },
   "source": [
    "```javascript\n",
    "function ConnectButton(){\n",
    "    console.log(\"Connect pushed\"); \n",
    "    document.querySelector(\"#top-toolbar > colab-connect-button\").shadowRoot.querySelector(\"#connect\").click() \n",
    "}\n",
    "setInterval(ConnectButton,60000);\n",
    "```"
   ]
  },
  {
   "cell_type": "code",
   "execution_count": 53,
   "metadata": {
    "colab": {
     "base_uri": "https://localhost:8080/",
     "height": 348
    },
    "id": "_UEjJqGsQw24",
    "outputId": "2e23b190-ca76-48ad-8117-376d1d7c058e"
   },
   "outputs": [
    {
     "data": {
      "text/html": [
       "\n",
       "    <div>\n",
       "        <style>\n",
       "            /* Turns off some styling */\n",
       "            progress {\n",
       "                /* gets rid of default border in Firefox and Opera. */\n",
       "                border: none;\n",
       "                /* Needs to be in here for Safari polyfill so background images work as expected. */\n",
       "                background-size: auto;\n",
       "            }\n",
       "        </style>\n",
       "      \n",
       "      <progress value='3000' max='3000' style='width:300px; height:20px; vertical-align: middle;'></progress>\n",
       "      [3000/3000 5:35:30, Epoch 40/40]\n",
       "    </div>\n",
       "    <table border=\"1\" class=\"dataframe\">\n",
       "  <thead>\n",
       "    <tr style=\"text-align: left;\">\n",
       "      <th>Step</th>\n",
       "      <th>Training Loss</th>\n",
       "      <th>Validation Loss</th>\n",
       "      <th>Wer</th>\n",
       "      <th>Runtime</th>\n",
       "      <th>Samples Per Second</th>\n",
       "    </tr>\n",
       "  </thead>\n",
       "  <tbody>\n",
       "    <tr>\n",
       "      <td>500</td>\n",
       "      <td>4.063300</td>\n",
       "      <td>0.691220</td>\n",
       "      <td>0.808876</td>\n",
       "      <td>155.929300</td>\n",
       "      <td>10.575000</td>\n",
       "    </tr>\n",
       "    <tr>\n",
       "      <td>1000</td>\n",
       "      <td>0.259400</td>\n",
       "      <td>0.625902</td>\n",
       "      <td>0.676795</td>\n",
       "      <td>156.099400</td>\n",
       "      <td>10.564000</td>\n",
       "    </tr>\n",
       "    <tr>\n",
       "      <td>1500</td>\n",
       "      <td>0.102500</td>\n",
       "      <td>0.700112</td>\n",
       "      <td>0.641043</td>\n",
       "      <td>155.673000</td>\n",
       "      <td>10.593000</td>\n",
       "    </tr>\n",
       "    <tr>\n",
       "      <td>2000</td>\n",
       "      <td>0.060300</td>\n",
       "      <td>0.739646</td>\n",
       "      <td>0.616985</td>\n",
       "      <td>156.107000</td>\n",
       "      <td>10.563000</td>\n",
       "    </tr>\n",
       "    <tr>\n",
       "      <td>2500</td>\n",
       "      <td>0.047500</td>\n",
       "      <td>0.739017</td>\n",
       "      <td>0.605195</td>\n",
       "      <td>155.793100</td>\n",
       "      <td>10.585000</td>\n",
       "    </tr>\n",
       "    <tr>\n",
       "      <td>3000</td>\n",
       "      <td>0.039000</td>\n",
       "      <td>0.714199</td>\n",
       "      <td>0.593501</td>\n",
       "      <td>155.813600</td>\n",
       "      <td>10.583000</td>\n",
       "    </tr>\n",
       "  </tbody>\n",
       "</table><p>"
      ],
      "text/plain": [
       "<IPython.core.display.HTML object>"
      ]
     },
     "metadata": {},
     "output_type": "display_data"
    },
    {
     "data": {
      "text/plain": [
       "TrainOutput(global_step=3000, training_loss=0.762003345489502, metrics={'train_runtime': 20143.5098, 'train_samples_per_second': 0.149, 'total_flos': 2.626453472256317e+19, 'epoch': 40.0, 'init_mem_cpu_alloc_delta': 104475361, 'init_mem_gpu_alloc_delta': 1264954368, 'init_mem_cpu_peaked_delta': 123794349, 'init_mem_gpu_peaked_delta': 0, 'train_mem_cpu_alloc_delta': 606087, 'train_mem_gpu_alloc_delta': 3787636736, 'train_mem_cpu_peaked_delta': 234761744, 'train_mem_gpu_peaked_delta': 7851913728})"
      ]
     },
     "execution_count": 53,
     "metadata": {},
     "output_type": "execute_result"
    }
   ],
   "source": [
    "trainer.train()"
   ]
  },
  {
   "cell_type": "code",
   "execution_count": 54,
   "metadata": {},
   "outputs": [],
   "source": [
    "trainer.save_model(f'/workspace/output_models/{language_code}/wav2vec2-large-xlsr-{language_code}/final')"
   ]
  },
  {
   "cell_type": "markdown",
   "metadata": {
    "id": "RHIVc44_fY2N"
   },
   "source": [
    "The training loss goes down and we can see that the WER on the test set also improves nicely. Because this notebook is just for demonstration purposes, we can stop here.\n",
    "\n",
    "The resulting model of this notebook has been saved to [`patrickvonplaten/wav2vec2-large-xlsr-turkish-demo`](https://huggingface.co/patrickvonplaten/wav2vec2-large-xlsr-turkish-demo)\n",
    "\n",
    "As a final check, let's load the model and verify that it indeed has learned to transcribe Turkish speech.\n",
    "\n",
    "Let's first load the pretrained checkpoint."
   ]
  },
  {
   "cell_type": "code",
   "execution_count": null,
   "metadata": {
    "colab": {
     "base_uri": "https://localhost:8080/"
    },
    "id": "J8E8pxJ9hgZS",
    "outputId": "5d137935-475d-4dbf-d833-d26780311e18"
   },
   "outputs": [],
   "source": [
    "model = Wav2Vec2ForCTC.from_pretrained(pretrain_model).to(\"cuda\")\n",
    "processor = Wav2Vec2Processor.from_pretrained(pretrain_model)"
   ]
  },
  {
   "cell_type": "markdown",
   "metadata": {
    "id": "QsfGCQYSvY8C"
   },
   "source": [
    "Now, we will just take the first example of the test set, run it through the model and take the `argmax(...)` of the logits to retrieve the predicted token ids."
   ]
  },
  {
   "cell_type": "code",
   "execution_count": null,
   "metadata": {
    "colab": {
     "base_uri": "https://localhost:8080/"
    },
    "id": "EA6fxk-jiHby",
    "outputId": "8b91a977-2559-4adc-8298-b4ad6b7ff196"
   },
   "outputs": [],
   "source": [
    "input_dict = processor(common_voice_test[\"input_values\"][0], return_tensors=\"pt\", padding=True)\n",
    "\n",
    "logits = model(input_dict.input_values.to(\"cuda\")).logits\n",
    "\n",
    "pred_ids = torch.argmax(logits, dim=-1)[0]"
   ]
  },
  {
   "cell_type": "markdown",
   "metadata": {
    "id": "1JDyVCMDvlYd"
   },
   "source": [
    "We adapted `common_voice_test` quite a bit so that the dataset instance does not contain the original sentence label anymore. Thus, we re-use the original dataset to get the label of the first example."
   ]
  },
  {
   "cell_type": "code",
   "execution_count": null,
   "metadata": {
    "colab": {
     "base_uri": "https://localhost:8080/"
    },
    "id": "8dPE2GRIgtx-",
    "outputId": "a211d1ee-d850-481d-8bac-dc46c3efa561"
   },
   "outputs": [],
   "source": [
    "common_voice_test_transcription = load_dataset(\"common_voice\", language_code, data_dir=data_dir, split=\"test\")"
   ]
  },
  {
   "cell_type": "markdown",
   "metadata": {
    "id": "ApS3MmN4v5P7"
   },
   "source": [
    "Finally, we can decode the example."
   ]
  },
  {
   "cell_type": "code",
   "execution_count": null,
   "metadata": {
    "colab": {
     "base_uri": "https://localhost:8080/"
    },
    "id": "Phqxa1O1jMDk",
    "outputId": "60d48c9f-f745-45ac-9105-446dc71025ca"
   },
   "outputs": [],
   "source": [
    "print(\"Prediction:\")\n",
    "print(processor.decode(pred_ids))\n",
    "\n",
    "print(\"\\nReference:\")\n",
    "print(common_voice_test_transcription[\"sentence\"][0].lower())\n"
   ]
  },
  {
   "cell_type": "markdown",
   "metadata": {
    "id": "4n_8vhzUv7aw"
   },
   "source": [
    "Alright! The transcription can definitely be recognized from our prediction, but it is far from being perfect. Training the model a bit longer, spending more time on the data preprocessing, and especially using a language model for decoding would certainly improve the model's overall performance. \n",
    "\n",
    "For a demonstration model on a low-resource language, the results are acceptable, however 🤗."
   ]
  }
 ],
 "metadata": {
  "accelerator": "GPU",
  "colab": {
   "collapsed_sections": [],
   "include_colab_link": true,
   "machine_shape": "hm",
   "name": "Fine-Tune XLSR-Wav2Vec2 on Turkish ASR with 🤗 Transformers.ipynb",
   "provenance": []
  },
  "kernelspec": {
   "display_name": "Python 3",
   "language": "python",
   "name": "python3"
  },
  "language_info": {
   "codemirror_mode": {
    "name": "ipython",
    "version": 3
   },
   "file_extension": ".py",
   "mimetype": "text/x-python",
   "name": "python",
   "nbconvert_exporter": "python",
   "pygments_lexer": "ipython3",
   "version": "3.7.6"
  },
  "widgets": {
   "application/vnd.jupyter.widget-state+json": {
    "015c5690e1ea4281954c7efda1c80a6a": {
     "model_module": "@jupyter-widgets/controls",
     "model_name": "FloatProgressModel",
     "state": {
      "_dom_classes": [],
      "_model_module": "@jupyter-widgets/controls",
      "_model_module_version": "1.5.0",
      "_model_name": "FloatProgressModel",
      "_view_count": null,
      "_view_module": "@jupyter-widgets/controls",
      "_view_module_version": "1.5.0",
      "_view_name": "ProgressView",
      "bar_style": "success",
      "description": "#1: 100%",
      "description_tooltip": null,
      "layout": "IPY_MODEL_dec796237765477ea904834d9a824b61",
      "max": 109,
      "min": 0,
      "orientation": "horizontal",
      "style": "IPY_MODEL_2f727c76652944e3892dd584bea11af2",
      "value": 109
     }
    },
    "018c1f8e198e4df4b480e609bd1be602": {
     "model_module": "@jupyter-widgets/controls",
     "model_name": "HTMLModel",
     "state": {
      "_dom_classes": [],
      "_model_module": "@jupyter-widgets/controls",
      "_model_module_version": "1.5.0",
      "_model_name": "HTMLModel",
      "_view_count": null,
      "_view_module": "@jupyter-widgets/controls",
      "_view_module_version": "1.5.0",
      "_view_name": "HTMLView",
      "description": "",
      "description_tooltip": null,
      "layout": "IPY_MODEL_768ab09956774f50a79b2493a8bf179b",
      "placeholder": "​",
      "style": "IPY_MODEL_d35c15beeb33476894b07c3563f8facd",
      "value": " 109/109 [00:56&lt;00:00,  1.92ba/s]"
     }
    },
    "020bdb330b0d40f5b89697ff37025f69": {
     "model_module": "@jupyter-widgets/base",
     "model_name": "LayoutModel",
     "state": {
      "_model_module": "@jupyter-widgets/base",
      "_model_module_version": "1.2.0",
      "_model_name": "LayoutModel",
      "_view_count": null,
      "_view_module": "@jupyter-widgets/base",
      "_view_module_version": "1.2.0",
      "_view_name": "LayoutView",
      "align_content": null,
      "align_items": null,
      "align_self": null,
      "border": null,
      "bottom": null,
      "display": null,
      "flex": null,
      "flex_flow": null,
      "grid_area": null,
      "grid_auto_columns": null,
      "grid_auto_flow": null,
      "grid_auto_rows": null,
      "grid_column": null,
      "grid_gap": null,
      "grid_row": null,
      "grid_template_areas": null,
      "grid_template_columns": null,
      "grid_template_rows": null,
      "height": null,
      "justify_content": null,
      "justify_items": null,
      "left": null,
      "margin": null,
      "max_height": null,
      "max_width": null,
      "min_height": null,
      "min_width": null,
      "object_fit": null,
      "object_position": null,
      "order": null,
      "overflow": null,
      "overflow_x": null,
      "overflow_y": null,
      "padding": null,
      "right": null,
      "top": null,
      "visibility": null,
      "width": null
     }
    },
    "024989cea06f435894776b0a921164b2": {
     "model_module": "@jupyter-widgets/controls",
     "model_name": "ProgressStyleModel",
     "state": {
      "_model_module": "@jupyter-widgets/controls",
      "_model_module_version": "1.5.0",
      "_model_name": "ProgressStyleModel",
      "_view_count": null,
      "_view_module": "@jupyter-widgets/base",
      "_view_module_version": "1.2.0",
      "_view_name": "StyleView",
      "bar_color": null,
      "description_width": "initial"
     }
    },
    "02bdb06c176145feaa842b97ae58609c": {
     "model_module": "@jupyter-widgets/controls",
     "model_name": "DescriptionStyleModel",
     "state": {
      "_model_module": "@jupyter-widgets/controls",
      "_model_module_version": "1.5.0",
      "_model_name": "DescriptionStyleModel",
      "_view_count": null,
      "_view_module": "@jupyter-widgets/base",
      "_view_module_version": "1.2.0",
      "_view_name": "StyleView",
      "description_width": ""
     }
    },
    "02d1f77324854fbca0df9384c57faac8": {
     "model_module": "@jupyter-widgets/controls",
     "model_name": "FloatProgressModel",
     "state": {
      "_dom_classes": [],
      "_model_module": "@jupyter-widgets/controls",
      "_model_module_version": "1.5.0",
      "_model_name": "FloatProgressModel",
      "_view_count": null,
      "_view_module": "@jupyter-widgets/controls",
      "_view_module_version": "1.5.0",
      "_view_name": "ProgressView",
      "bar_style": "success",
      "description": "#3: 100%",
      "description_tooltip": null,
      "layout": "IPY_MODEL_d4a3f79644fc41848450ba29e6fdfc3d",
      "max": 52,
      "min": 0,
      "orientation": "horizontal",
      "style": "IPY_MODEL_704ea5e05fd744d998b76d6435992995",
      "value": 52
     }
    },
    "0354ab33471e4c34a0c1b3c062bcd6bb": {
     "model_module": "@jupyter-widgets/base",
     "model_name": "LayoutModel",
     "state": {
      "_model_module": "@jupyter-widgets/base",
      "_model_module_version": "1.2.0",
      "_model_name": "LayoutModel",
      "_view_count": null,
      "_view_module": "@jupyter-widgets/base",
      "_view_module_version": "1.2.0",
      "_view_name": "LayoutView",
      "align_content": null,
      "align_items": null,
      "align_self": null,
      "border": null,
      "bottom": null,
      "display": null,
      "flex": null,
      "flex_flow": null,
      "grid_area": null,
      "grid_auto_columns": null,
      "grid_auto_flow": null,
      "grid_auto_rows": null,
      "grid_column": null,
      "grid_gap": null,
      "grid_row": null,
      "grid_template_areas": null,
      "grid_template_columns": null,
      "grid_template_rows": null,
      "height": null,
      "justify_content": null,
      "justify_items": null,
      "left": null,
      "margin": null,
      "max_height": null,
      "max_width": null,
      "min_height": null,
      "min_width": null,
      "object_fit": null,
      "object_position": null,
      "order": null,
      "overflow": null,
      "overflow_x": null,
      "overflow_y": null,
      "padding": null,
      "right": null,
      "top": null,
      "visibility": null,
      "width": null
     }
    },
    "03b33c17734d49e28c4636dddd6e833d": {
     "model_module": "@jupyter-widgets/controls",
     "model_name": "FloatProgressModel",
     "state": {
      "_dom_classes": [],
      "_model_module": "@jupyter-widgets/controls",
      "_model_module_version": "1.5.0",
      "_model_name": "FloatProgressModel",
      "_view_count": null,
      "_view_module": "@jupyter-widgets/controls",
      "_view_module_version": "1.5.0",
      "_view_name": "ProgressView",
      "bar_style": "info",
      "description": "",
      "description_tooltip": null,
      "layout": "IPY_MODEL_bee0f50055eb4f738636142a10da0ddd",
      "max": 1,
      "min": 0,
      "orientation": "horizontal",
      "style": "IPY_MODEL_da1ff50f8b9241108a325ada04224642",
      "value": 1
     }
    },
    "05f83d714f864a399083f0e34a812467": {
     "model_module": "@jupyter-widgets/controls",
     "model_name": "DescriptionStyleModel",
     "state": {
      "_model_module": "@jupyter-widgets/controls",
      "_model_module_version": "1.5.0",
      "_model_name": "DescriptionStyleModel",
      "_view_count": null,
      "_view_module": "@jupyter-widgets/base",
      "_view_module_version": "1.2.0",
      "_view_name": "StyleView",
      "description_width": ""
     }
    },
    "089428f56e66419f85ea149d9d102454": {
     "model_module": "@jupyter-widgets/controls",
     "model_name": "HBoxModel",
     "state": {
      "_dom_classes": [],
      "_model_module": "@jupyter-widgets/controls",
      "_model_module_version": "1.5.0",
      "_model_name": "HBoxModel",
      "_view_count": null,
      "_view_module": "@jupyter-widgets/controls",
      "_view_module_version": "1.5.0",
      "_view_name": "HBoxView",
      "box_style": "",
      "children": [
       "IPY_MODEL_4db5037af3f64a3a8a8a1203018a80ff",
       "IPY_MODEL_6a957c1c17474d8d89c27ddecf702fda"
      ],
      "layout": "IPY_MODEL_d649c0f9c1c24634a84b7ef697721ffa"
     }
    },
    "0987aac282af415da2fbc9dc1b4d5069": {
     "model_module": "@jupyter-widgets/base",
     "model_name": "LayoutModel",
     "state": {
      "_model_module": "@jupyter-widgets/base",
      "_model_module_version": "1.2.0",
      "_model_name": "LayoutModel",
      "_view_count": null,
      "_view_module": "@jupyter-widgets/base",
      "_view_module_version": "1.2.0",
      "_view_name": "LayoutView",
      "align_content": null,
      "align_items": null,
      "align_self": null,
      "border": null,
      "bottom": null,
      "display": null,
      "flex": null,
      "flex_flow": null,
      "grid_area": null,
      "grid_auto_columns": null,
      "grid_auto_flow": null,
      "grid_auto_rows": null,
      "grid_column": null,
      "grid_gap": null,
      "grid_row": null,
      "grid_template_areas": null,
      "grid_template_columns": null,
      "grid_template_rows": null,
      "height": null,
      "justify_content": null,
      "justify_items": null,
      "left": null,
      "margin": null,
      "max_height": null,
      "max_width": null,
      "min_height": null,
      "min_width": null,
      "object_fit": null,
      "object_position": null,
      "order": null,
      "overflow": null,
      "overflow_x": null,
      "overflow_y": null,
      "padding": null,
      "right": null,
      "top": null,
      "visibility": null,
      "width": null
     }
    },
    "0a9b58c98508420d8f8936189f064316": {
     "model_module": "@jupyter-widgets/controls",
     "model_name": "FloatProgressModel",
     "state": {
      "_dom_classes": [],
      "_model_module": "@jupyter-widgets/controls",
      "_model_module_version": "1.5.0",
      "_model_name": "FloatProgressModel",
      "_view_count": null,
      "_view_module": "@jupyter-widgets/controls",
      "_view_module_version": "1.5.0",
      "_view_name": "ProgressView",
      "bar_style": "info",
      "description": "",
      "description_tooltip": null,
      "layout": "IPY_MODEL_af85713f677243d19cba9fe69a4a5f46",
      "max": 1,
      "min": 0,
      "orientation": "horizontal",
      "style": "IPY_MODEL_c546bca23ee248a1be7bd8ead3e82a8f",
      "value": 1
     }
    },
    "0b795d4b68014de19bf9579c67b55ffb": {
     "model_module": "@jupyter-widgets/controls",
     "model_name": "DescriptionStyleModel",
     "state": {
      "_model_module": "@jupyter-widgets/controls",
      "_model_module_version": "1.5.0",
      "_model_name": "DescriptionStyleModel",
      "_view_count": null,
      "_view_module": "@jupyter-widgets/base",
      "_view_module_version": "1.2.0",
      "_view_name": "StyleView",
      "description_width": ""
     }
    },
    "0cd1932178c945d48604ffd299e65d2c": {
     "model_module": "@jupyter-widgets/base",
     "model_name": "LayoutModel",
     "state": {
      "_model_module": "@jupyter-widgets/base",
      "_model_module_version": "1.2.0",
      "_model_name": "LayoutModel",
      "_view_count": null,
      "_view_module": "@jupyter-widgets/base",
      "_view_module_version": "1.2.0",
      "_view_name": "LayoutView",
      "align_content": null,
      "align_items": null,
      "align_self": null,
      "border": null,
      "bottom": null,
      "display": null,
      "flex": null,
      "flex_flow": null,
      "grid_area": null,
      "grid_auto_columns": null,
      "grid_auto_flow": null,
      "grid_auto_rows": null,
      "grid_column": null,
      "grid_gap": null,
      "grid_row": null,
      "grid_template_areas": null,
      "grid_template_columns": null,
      "grid_template_rows": null,
      "height": null,
      "justify_content": null,
      "justify_items": null,
      "left": null,
      "margin": null,
      "max_height": null,
      "max_width": null,
      "min_height": null,
      "min_width": null,
      "object_fit": null,
      "object_position": null,
      "order": null,
      "overflow": null,
      "overflow_x": null,
      "overflow_y": null,
      "padding": null,
      "right": null,
      "top": null,
      "visibility": null,
      "width": null
     }
    },
    "0e999af234bd4b63ad2937e61d08b693": {
     "model_module": "@jupyter-widgets/base",
     "model_name": "LayoutModel",
     "state": {
      "_model_module": "@jupyter-widgets/base",
      "_model_module_version": "1.2.0",
      "_model_name": "LayoutModel",
      "_view_count": null,
      "_view_module": "@jupyter-widgets/base",
      "_view_module_version": "1.2.0",
      "_view_name": "LayoutView",
      "align_content": null,
      "align_items": null,
      "align_self": null,
      "border": null,
      "bottom": null,
      "display": null,
      "flex": null,
      "flex_flow": null,
      "grid_area": null,
      "grid_auto_columns": null,
      "grid_auto_flow": null,
      "grid_auto_rows": null,
      "grid_column": null,
      "grid_gap": null,
      "grid_row": null,
      "grid_template_areas": null,
      "grid_template_columns": null,
      "grid_template_rows": null,
      "height": null,
      "justify_content": null,
      "justify_items": null,
      "left": null,
      "margin": null,
      "max_height": null,
      "max_width": null,
      "min_height": null,
      "min_width": null,
      "object_fit": null,
      "object_position": null,
      "order": null,
      "overflow": null,
      "overflow_x": null,
      "overflow_y": null,
      "padding": null,
      "right": null,
      "top": null,
      "visibility": null,
      "width": null
     }
    },
    "0f3756509e3b405d87936f599b153de2": {
     "model_module": "@jupyter-widgets/base",
     "model_name": "LayoutModel",
     "state": {
      "_model_module": "@jupyter-widgets/base",
      "_model_module_version": "1.2.0",
      "_model_name": "LayoutModel",
      "_view_count": null,
      "_view_module": "@jupyter-widgets/base",
      "_view_module_version": "1.2.0",
      "_view_name": "LayoutView",
      "align_content": null,
      "align_items": null,
      "align_self": null,
      "border": null,
      "bottom": null,
      "display": null,
      "flex": null,
      "flex_flow": null,
      "grid_area": null,
      "grid_auto_columns": null,
      "grid_auto_flow": null,
      "grid_auto_rows": null,
      "grid_column": null,
      "grid_gap": null,
      "grid_row": null,
      "grid_template_areas": null,
      "grid_template_columns": null,
      "grid_template_rows": null,
      "height": null,
      "justify_content": null,
      "justify_items": null,
      "left": null,
      "margin": null,
      "max_height": null,
      "max_width": null,
      "min_height": null,
      "min_width": null,
      "object_fit": null,
      "object_position": null,
      "order": null,
      "overflow": null,
      "overflow_x": null,
      "overflow_y": null,
      "padding": null,
      "right": null,
      "top": null,
      "visibility": null,
      "width": null
     }
    },
    "0f99011a13754ed99f3c51a478b0e793": {
     "model_module": "@jupyter-widgets/controls",
     "model_name": "HBoxModel",
     "state": {
      "_dom_classes": [],
      "_model_module": "@jupyter-widgets/controls",
      "_model_module_version": "1.5.0",
      "_model_name": "HBoxModel",
      "_view_count": null,
      "_view_module": "@jupyter-widgets/controls",
      "_view_module_version": "1.5.0",
      "_view_name": "HBoxView",
      "box_style": "",
      "children": [
       "IPY_MODEL_bd187486ac2548f2961cfcb63d852de1",
       "IPY_MODEL_3f780f0aa8834fc189b292e0474e2ffa"
      ],
      "layout": "IPY_MODEL_4abe2731ec624729b401d60a392cae63"
     }
    },
    "0ffcbedb8d4444508ac0c3c0b41ea8ac": {
     "model_module": "@jupyter-widgets/base",
     "model_name": "LayoutModel",
     "state": {
      "_model_module": "@jupyter-widgets/base",
      "_model_module_version": "1.2.0",
      "_model_name": "LayoutModel",
      "_view_count": null,
      "_view_module": "@jupyter-widgets/base",
      "_view_module_version": "1.2.0",
      "_view_name": "LayoutView",
      "align_content": null,
      "align_items": null,
      "align_self": null,
      "border": null,
      "bottom": null,
      "display": null,
      "flex": null,
      "flex_flow": null,
      "grid_area": null,
      "grid_auto_columns": null,
      "grid_auto_flow": null,
      "grid_auto_rows": null,
      "grid_column": null,
      "grid_gap": null,
      "grid_row": null,
      "grid_template_areas": null,
      "grid_template_columns": null,
      "grid_template_rows": null,
      "height": null,
      "justify_content": null,
      "justify_items": null,
      "left": null,
      "margin": null,
      "max_height": null,
      "max_width": null,
      "min_height": null,
      "min_width": null,
      "object_fit": null,
      "object_position": null,
      "order": null,
      "overflow": null,
      "overflow_x": null,
      "overflow_y": null,
      "padding": null,
      "right": null,
      "top": null,
      "visibility": null,
      "width": null
     }
    },
    "1261590ef796493798f7068ea0547b74": {
     "model_module": "@jupyter-widgets/controls",
     "model_name": "ProgressStyleModel",
     "state": {
      "_model_module": "@jupyter-widgets/controls",
      "_model_module_version": "1.5.0",
      "_model_name": "ProgressStyleModel",
      "_view_count": null,
      "_view_module": "@jupyter-widgets/base",
      "_view_module_version": "1.2.0",
      "_view_name": "StyleView",
      "bar_color": null,
      "description_width": "initial"
     }
    },
    "12696cc03f464a63a411efb2b5e5ac3b": {
     "model_module": "@jupyter-widgets/controls",
     "model_name": "HTMLModel",
     "state": {
      "_dom_classes": [],
      "_model_module": "@jupyter-widgets/controls",
      "_model_module_version": "1.5.0",
      "_model_name": "HTMLModel",
      "_view_count": null,
      "_view_module": "@jupyter-widgets/controls",
      "_view_module_version": "1.5.0",
      "_view_name": "HTMLView",
      "description": "",
      "description_tooltip": null,
      "layout": "IPY_MODEL_ceb44ba4fdf34da19a52469acf1ce63f",
      "placeholder": "​",
      "style": "IPY_MODEL_68a3178fe7a54e838e798ff28ff9aa0b",
      "value": " 139k/? [00:00&lt;00:00, 2.38MB/s]"
     }
    },
    "1813458f75514f039ba0214597a09bb4": {
     "model_module": "@jupyter-widgets/base",
     "model_name": "LayoutModel",
     "state": {
      "_model_module": "@jupyter-widgets/base",
      "_model_module_version": "1.2.0",
      "_model_name": "LayoutModel",
      "_view_count": null,
      "_view_module": "@jupyter-widgets/base",
      "_view_module_version": "1.2.0",
      "_view_name": "LayoutView",
      "align_content": null,
      "align_items": null,
      "align_self": null,
      "border": null,
      "bottom": null,
      "display": null,
      "flex": null,
      "flex_flow": null,
      "grid_area": null,
      "grid_auto_columns": null,
      "grid_auto_flow": null,
      "grid_auto_rows": null,
      "grid_column": null,
      "grid_gap": null,
      "grid_row": null,
      "grid_template_areas": null,
      "grid_template_columns": null,
      "grid_template_rows": null,
      "height": null,
      "justify_content": null,
      "justify_items": null,
      "left": null,
      "margin": null,
      "max_height": null,
      "max_width": null,
      "min_height": null,
      "min_width": null,
      "object_fit": null,
      "object_position": null,
      "order": null,
      "overflow": null,
      "overflow_x": null,
      "overflow_y": null,
      "padding": null,
      "right": null,
      "top": null,
      "visibility": null,
      "width": null
     }
    },
    "19e263785ea343ba99ee2127d9b83d1d": {
     "model_module": "@jupyter-widgets/controls",
     "model_name": "DescriptionStyleModel",
     "state": {
      "_model_module": "@jupyter-widgets/controls",
      "_model_module_version": "1.5.0",
      "_model_name": "DescriptionStyleModel",
      "_view_count": null,
      "_view_module": "@jupyter-widgets/base",
      "_view_module_version": "1.2.0",
      "_view_name": "StyleView",
      "description_width": ""
     }
    },
    "1f1faa7b986e475c9e6839b2e7b55c74": {
     "model_module": "@jupyter-widgets/controls",
     "model_name": "HTMLModel",
     "state": {
      "_dom_classes": [],
      "_model_module": "@jupyter-widgets/controls",
      "_model_module_version": "1.5.0",
      "_model_name": "HTMLModel",
      "_view_count": null,
      "_view_module": "@jupyter-widgets/controls",
      "_view_module_version": "1.5.0",
      "_view_name": "HTMLView",
      "description": "",
      "description_tooltip": null,
      "layout": "IPY_MODEL_b320306eaf264ad9872d507a1a1cb2da",
      "placeholder": "​",
      "style": "IPY_MODEL_2ca2f397c4ef405bba27ae2b1415cada",
      "value": " 3478/3478 [03:59&lt;00:00, 14.53ex/s]"
     }
    },
    "20347ed29fdc4c0a96da28c09aacf44d": {
     "model_module": "@jupyter-widgets/controls",
     "model_name": "DescriptionStyleModel",
     "state": {
      "_model_module": "@jupyter-widgets/controls",
      "_model_module_version": "1.5.0",
      "_model_name": "DescriptionStyleModel",
      "_view_count": null,
      "_view_module": "@jupyter-widgets/base",
      "_view_module_version": "1.2.0",
      "_view_name": "StyleView",
      "description_width": ""
     }
    },
    "231c66f195d34f86b216805518f4bccd": {
     "model_module": "@jupyter-widgets/controls",
     "model_name": "ProgressStyleModel",
     "state": {
      "_model_module": "@jupyter-widgets/controls",
      "_model_module_version": "1.5.0",
      "_model_name": "ProgressStyleModel",
      "_view_count": null,
      "_view_module": "@jupyter-widgets/base",
      "_view_module_version": "1.2.0",
      "_view_name": "StyleView",
      "bar_color": null,
      "description_width": "initial"
     }
    },
    "24ea17ae8ab14e8a871e5e115c3f4c06": {
     "model_module": "@jupyter-widgets/controls",
     "model_name": "HBoxModel",
     "state": {
      "_dom_classes": [],
      "_model_module": "@jupyter-widgets/controls",
      "_model_module_version": "1.5.0",
      "_model_name": "HBoxModel",
      "_view_count": null,
      "_view_module": "@jupyter-widgets/controls",
      "_view_module_version": "1.5.0",
      "_view_name": "HBoxView",
      "box_style": "",
      "children": [
       "IPY_MODEL_f3905820a42c499fba04af9c1ad19705",
       "IPY_MODEL_4e1a725fd90b45e280b8b0028ba65250"
      ],
      "layout": "IPY_MODEL_f57d087016124ebeb073fd7428dcb68b"
     }
    },
    "25ba4f4c8b9c44af9885b3903a9261fd": {
     "model_module": "@jupyter-widgets/controls",
     "model_name": "HBoxModel",
     "state": {
      "_dom_classes": [],
      "_model_module": "@jupyter-widgets/controls",
      "_model_module_version": "1.5.0",
      "_model_name": "HBoxModel",
      "_view_count": null,
      "_view_module": "@jupyter-widgets/controls",
      "_view_module_version": "1.5.0",
      "_view_name": "HBoxView",
      "box_style": "",
      "children": [
       "IPY_MODEL_03b33c17734d49e28c4636dddd6e833d",
       "IPY_MODEL_71c059a0f3c246f3a40d55744331daaa"
      ],
      "layout": "IPY_MODEL_dde7ae43ef954ef1b901c80f0a4e11fd"
     }
    },
    "26e7bab0f3bf4797bfcef83dcace24f0": {
     "model_module": "@jupyter-widgets/base",
     "model_name": "LayoutModel",
     "state": {
      "_model_module": "@jupyter-widgets/base",
      "_model_module_version": "1.2.0",
      "_model_name": "LayoutModel",
      "_view_count": null,
      "_view_module": "@jupyter-widgets/base",
      "_view_module_version": "1.2.0",
      "_view_name": "LayoutView",
      "align_content": null,
      "align_items": null,
      "align_self": null,
      "border": null,
      "bottom": null,
      "display": null,
      "flex": null,
      "flex_flow": null,
      "grid_area": null,
      "grid_auto_columns": null,
      "grid_auto_flow": null,
      "grid_auto_rows": null,
      "grid_column": null,
      "grid_gap": null,
      "grid_row": null,
      "grid_template_areas": null,
      "grid_template_columns": null,
      "grid_template_rows": null,
      "height": null,
      "justify_content": null,
      "justify_items": null,
      "left": null,
      "margin": null,
      "max_height": null,
      "max_width": null,
      "min_height": null,
      "min_width": null,
      "object_fit": null,
      "object_position": null,
      "order": null,
      "overflow": null,
      "overflow_x": null,
      "overflow_y": null,
      "padding": null,
      "right": null,
      "top": null,
      "visibility": null,
      "width": null
     }
    },
    "2a6e1185a6a247f5acba8111824ad36b": {
     "model_module": "@jupyter-widgets/controls",
     "model_name": "ProgressStyleModel",
     "state": {
      "_model_module": "@jupyter-widgets/controls",
      "_model_module_version": "1.5.0",
      "_model_name": "ProgressStyleModel",
      "_view_count": null,
      "_view_module": "@jupyter-widgets/base",
      "_view_module_version": "1.2.0",
      "_view_name": "StyleView",
      "bar_color": null,
      "description_width": "initial"
     }
    },
    "2ca2f397c4ef405bba27ae2b1415cada": {
     "model_module": "@jupyter-widgets/controls",
     "model_name": "DescriptionStyleModel",
     "state": {
      "_model_module": "@jupyter-widgets/controls",
      "_model_module_version": "1.5.0",
      "_model_name": "DescriptionStyleModel",
      "_view_count": null,
      "_view_module": "@jupyter-widgets/base",
      "_view_module_version": "1.2.0",
      "_view_name": "StyleView",
      "description_width": ""
     }
    },
    "2cd13e03a2ab45dc8570c8c739a613b4": {
     "model_module": "@jupyter-widgets/base",
     "model_name": "LayoutModel",
     "state": {
      "_model_module": "@jupyter-widgets/base",
      "_model_module_version": "1.2.0",
      "_model_name": "LayoutModel",
      "_view_count": null,
      "_view_module": "@jupyter-widgets/base",
      "_view_module_version": "1.2.0",
      "_view_name": "LayoutView",
      "align_content": null,
      "align_items": null,
      "align_self": null,
      "border": null,
      "bottom": null,
      "display": null,
      "flex": null,
      "flex_flow": null,
      "grid_area": null,
      "grid_auto_columns": null,
      "grid_auto_flow": null,
      "grid_auto_rows": null,
      "grid_column": null,
      "grid_gap": null,
      "grid_row": null,
      "grid_template_areas": null,
      "grid_template_columns": null,
      "grid_template_rows": null,
      "height": null,
      "justify_content": null,
      "justify_items": null,
      "left": null,
      "margin": null,
      "max_height": null,
      "max_width": null,
      "min_height": null,
      "min_width": null,
      "object_fit": null,
      "object_position": null,
      "order": null,
      "overflow": null,
      "overflow_x": null,
      "overflow_y": null,
      "padding": null,
      "right": null,
      "top": null,
      "visibility": null,
      "width": null
     }
    },
    "2f18d89c684343b69c3f44ffbb9b42a0": {
     "model_module": "@jupyter-widgets/controls",
     "model_name": "DescriptionStyleModel",
     "state": {
      "_model_module": "@jupyter-widgets/controls",
      "_model_module_version": "1.5.0",
      "_model_name": "DescriptionStyleModel",
      "_view_count": null,
      "_view_module": "@jupyter-widgets/base",
      "_view_module_version": "1.2.0",
      "_view_name": "StyleView",
      "description_width": ""
     }
    },
    "2f5406546970425282a881b5d2f7c248": {
     "model_module": "@jupyter-widgets/base",
     "model_name": "LayoutModel",
     "state": {
      "_model_module": "@jupyter-widgets/base",
      "_model_module_version": "1.2.0",
      "_model_name": "LayoutModel",
      "_view_count": null,
      "_view_module": "@jupyter-widgets/base",
      "_view_module_version": "1.2.0",
      "_view_name": "LayoutView",
      "align_content": null,
      "align_items": null,
      "align_self": null,
      "border": null,
      "bottom": null,
      "display": null,
      "flex": null,
      "flex_flow": null,
      "grid_area": null,
      "grid_auto_columns": null,
      "grid_auto_flow": null,
      "grid_auto_rows": null,
      "grid_column": null,
      "grid_gap": null,
      "grid_row": null,
      "grid_template_areas": null,
      "grid_template_columns": null,
      "grid_template_rows": null,
      "height": null,
      "justify_content": null,
      "justify_items": null,
      "left": null,
      "margin": null,
      "max_height": null,
      "max_width": null,
      "min_height": null,
      "min_width": null,
      "object_fit": null,
      "object_position": null,
      "order": null,
      "overflow": null,
      "overflow_x": null,
      "overflow_y": null,
      "padding": null,
      "right": null,
      "top": null,
      "visibility": null,
      "width": null
     }
    },
    "2f727c76652944e3892dd584bea11af2": {
     "model_module": "@jupyter-widgets/controls",
     "model_name": "ProgressStyleModel",
     "state": {
      "_model_module": "@jupyter-widgets/controls",
      "_model_module_version": "1.5.0",
      "_model_name": "ProgressStyleModel",
      "_view_count": null,
      "_view_module": "@jupyter-widgets/base",
      "_view_module_version": "1.2.0",
      "_view_name": "StyleView",
      "bar_color": null,
      "description_width": "initial"
     }
    },
    "2fd148d5587b4139919b0158f9dad71e": {
     "model_module": "@jupyter-widgets/base",
     "model_name": "LayoutModel",
     "state": {
      "_model_module": "@jupyter-widgets/base",
      "_model_module_version": "1.2.0",
      "_model_name": "LayoutModel",
      "_view_count": null,
      "_view_module": "@jupyter-widgets/base",
      "_view_module_version": "1.2.0",
      "_view_name": "LayoutView",
      "align_content": null,
      "align_items": null,
      "align_self": null,
      "border": null,
      "bottom": null,
      "display": null,
      "flex": null,
      "flex_flow": null,
      "grid_area": null,
      "grid_auto_columns": null,
      "grid_auto_flow": null,
      "grid_auto_rows": null,
      "grid_column": null,
      "grid_gap": null,
      "grid_row": null,
      "grid_template_areas": null,
      "grid_template_columns": null,
      "grid_template_rows": null,
      "height": null,
      "justify_content": null,
      "justify_items": null,
      "left": null,
      "margin": null,
      "max_height": null,
      "max_width": null,
      "min_height": null,
      "min_width": null,
      "object_fit": null,
      "object_position": null,
      "order": null,
      "overflow": null,
      "overflow_x": null,
      "overflow_y": null,
      "padding": null,
      "right": null,
      "top": null,
      "visibility": null,
      "width": null
     }
    },
    "304e9130c12f4110941bfbd3db49a28c": {
     "model_module": "@jupyter-widgets/controls",
     "model_name": "HBoxModel",
     "state": {
      "_dom_classes": [],
      "_model_module": "@jupyter-widgets/controls",
      "_model_module_version": "1.5.0",
      "_model_name": "HBoxModel",
      "_view_count": null,
      "_view_module": "@jupyter-widgets/controls",
      "_view_module_version": "1.5.0",
      "_view_name": "HBoxView",
      "box_style": "",
      "children": [
       "IPY_MODEL_75e00c38605f44cfb584067db1160349",
       "IPY_MODEL_8c07a528fc4a4e108b393ab117fe2e46"
      ],
      "layout": "IPY_MODEL_5e6bae23461b4378b6e5fc890fe6bc97"
     }
    },
    "3133b378b9294a759c8dfb786ed8f815": {
     "model_module": "@jupyter-widgets/controls",
     "model_name": "ProgressStyleModel",
     "state": {
      "_model_module": "@jupyter-widgets/controls",
      "_model_module_version": "1.5.0",
      "_model_name": "ProgressStyleModel",
      "_view_count": null,
      "_view_module": "@jupyter-widgets/base",
      "_view_module_version": "1.2.0",
      "_view_name": "StyleView",
      "bar_color": null,
      "description_width": "initial"
     }
    },
    "330226a977694de1bd88c0aa3789be47": {
     "model_module": "@jupyter-widgets/base",
     "model_name": "LayoutModel",
     "state": {
      "_model_module": "@jupyter-widgets/base",
      "_model_module_version": "1.2.0",
      "_model_name": "LayoutModel",
      "_view_count": null,
      "_view_module": "@jupyter-widgets/base",
      "_view_module_version": "1.2.0",
      "_view_name": "LayoutView",
      "align_content": null,
      "align_items": null,
      "align_self": null,
      "border": null,
      "bottom": null,
      "display": null,
      "flex": null,
      "flex_flow": null,
      "grid_area": null,
      "grid_auto_columns": null,
      "grid_auto_flow": null,
      "grid_auto_rows": null,
      "grid_column": null,
      "grid_gap": null,
      "grid_row": null,
      "grid_template_areas": null,
      "grid_template_columns": null,
      "grid_template_rows": null,
      "height": null,
      "justify_content": null,
      "justify_items": null,
      "left": null,
      "margin": null,
      "max_height": null,
      "max_width": null,
      "min_height": null,
      "min_width": null,
      "object_fit": null,
      "object_position": null,
      "order": null,
      "overflow": null,
      "overflow_x": null,
      "overflow_y": null,
      "padding": null,
      "right": null,
      "top": null,
      "visibility": null,
      "width": null
     }
    },
    "33c92b5afd1d4b6d88016aabfb434194": {
     "model_module": "@jupyter-widgets/controls",
     "model_name": "FloatProgressModel",
     "state": {
      "_dom_classes": [],
      "_model_module": "@jupyter-widgets/controls",
      "_model_module_version": "1.5.0",
      "_model_name": "FloatProgressModel",
      "_view_count": null,
      "_view_module": "@jupyter-widgets/controls",
      "_view_module_version": "1.5.0",
      "_view_name": "ProgressView",
      "bar_style": "success",
      "description": "100%",
      "description_tooltip": null,
      "layout": "IPY_MODEL_3dc9ea77b842455a91f00e9ca9f41948",
      "max": 1647,
      "min": 0,
      "orientation": "horizontal",
      "style": "IPY_MODEL_45f0a2f361da4608bc8314a27657a56c",
      "value": 1647
     }
    },
    "348ef54c80b2449f8a3bc950cccd62cc": {
     "model_module": "@jupyter-widgets/controls",
     "model_name": "HBoxModel",
     "state": {
      "_dom_classes": [],
      "_model_module": "@jupyter-widgets/controls",
      "_model_module_version": "1.5.0",
      "_model_name": "HBoxModel",
      "_view_count": null,
      "_view_module": "@jupyter-widgets/controls",
      "_view_module_version": "1.5.0",
      "_view_name": "HBoxView",
      "box_style": "",
      "children": [
       "IPY_MODEL_7edbecaccdd94ede8fddc0e1807e777e",
       "IPY_MODEL_5e3aad95e52f4be2bd670d1345398f1b"
      ],
      "layout": "IPY_MODEL_b78413dcc0584a0c8f71731a06aaa1b8"
     }
    },
    "389e43e47a734193a507817ebad955f7": {
     "model_module": "@jupyter-widgets/base",
     "model_name": "LayoutModel",
     "state": {
      "_model_module": "@jupyter-widgets/base",
      "_model_module_version": "1.2.0",
      "_model_name": "LayoutModel",
      "_view_count": null,
      "_view_module": "@jupyter-widgets/base",
      "_view_module_version": "1.2.0",
      "_view_name": "LayoutView",
      "align_content": null,
      "align_items": null,
      "align_self": null,
      "border": null,
      "bottom": null,
      "display": null,
      "flex": null,
      "flex_flow": null,
      "grid_area": null,
      "grid_auto_columns": null,
      "grid_auto_flow": null,
      "grid_auto_rows": null,
      "grid_column": null,
      "grid_gap": null,
      "grid_row": null,
      "grid_template_areas": null,
      "grid_template_columns": null,
      "grid_template_rows": null,
      "height": null,
      "justify_content": null,
      "justify_items": null,
      "left": null,
      "margin": null,
      "max_height": null,
      "max_width": null,
      "min_height": null,
      "min_width": null,
      "object_fit": null,
      "object_position": null,
      "order": null,
      "overflow": null,
      "overflow_x": null,
      "overflow_y": null,
      "padding": null,
      "right": null,
      "top": null,
      "visibility": null,
      "width": null
     }
    },
    "3bdb4058f40f40e3a10e323325a64638": {
     "model_module": "@jupyter-widgets/controls",
     "model_name": "HTMLModel",
     "state": {
      "_dom_classes": [],
      "_model_module": "@jupyter-widgets/controls",
      "_model_module_version": "1.5.0",
      "_model_name": "HTMLModel",
      "_view_count": null,
      "_view_module": "@jupyter-widgets/controls",
      "_view_module_version": "1.5.0",
      "_view_name": "HTMLView",
      "description": "",
      "description_tooltip": null,
      "layout": "IPY_MODEL_d7f27e9cf8a844349ca90393e0c49a03",
      "placeholder": "​",
      "style": "IPY_MODEL_751ae6b9e2da4b85be9600561485f1ac",
      "value": " 412/412 [03:04&lt;00:00,  2.23ex/s]"
     }
    },
    "3d929b9e2518402b81a71757ffb753d2": {
     "model_module": "@jupyter-widgets/base",
     "model_name": "LayoutModel",
     "state": {
      "_model_module": "@jupyter-widgets/base",
      "_model_module_version": "1.2.0",
      "_model_name": "LayoutModel",
      "_view_count": null,
      "_view_module": "@jupyter-widgets/base",
      "_view_module_version": "1.2.0",
      "_view_name": "LayoutView",
      "align_content": null,
      "align_items": null,
      "align_self": null,
      "border": null,
      "bottom": null,
      "display": null,
      "flex": null,
      "flex_flow": null,
      "grid_area": null,
      "grid_auto_columns": null,
      "grid_auto_flow": null,
      "grid_auto_rows": null,
      "grid_column": null,
      "grid_gap": null,
      "grid_row": null,
      "grid_template_areas": null,
      "grid_template_columns": null,
      "grid_template_rows": null,
      "height": null,
      "justify_content": null,
      "justify_items": null,
      "left": null,
      "margin": null,
      "max_height": null,
      "max_width": null,
      "min_height": null,
      "min_width": null,
      "object_fit": null,
      "object_position": null,
      "order": null,
      "overflow": null,
      "overflow_x": null,
      "overflow_y": null,
      "padding": null,
      "right": null,
      "top": null,
      "visibility": null,
      "width": null
     }
    },
    "3dc9ea77b842455a91f00e9ca9f41948": {
     "model_module": "@jupyter-widgets/base",
     "model_name": "LayoutModel",
     "state": {
      "_model_module": "@jupyter-widgets/base",
      "_model_module_version": "1.2.0",
      "_model_name": "LayoutModel",
      "_view_count": null,
      "_view_module": "@jupyter-widgets/base",
      "_view_module_version": "1.2.0",
      "_view_name": "LayoutView",
      "align_content": null,
      "align_items": null,
      "align_self": null,
      "border": null,
      "bottom": null,
      "display": null,
      "flex": null,
      "flex_flow": null,
      "grid_area": null,
      "grid_auto_columns": null,
      "grid_auto_flow": null,
      "grid_auto_rows": null,
      "grid_column": null,
      "grid_gap": null,
      "grid_row": null,
      "grid_template_areas": null,
      "grid_template_columns": null,
      "grid_template_rows": null,
      "height": null,
      "justify_content": null,
      "justify_items": null,
      "left": null,
      "margin": null,
      "max_height": null,
      "max_width": null,
      "min_height": null,
      "min_width": null,
      "object_fit": null,
      "object_position": null,
      "order": null,
      "overflow": null,
      "overflow_x": null,
      "overflow_y": null,
      "padding": null,
      "right": null,
      "top": null,
      "visibility": null,
      "width": null
     }
    },
    "3e2cd59ac697495f8db14b894b783f95": {
     "model_module": "@jupyter-widgets/base",
     "model_name": "LayoutModel",
     "state": {
      "_model_module": "@jupyter-widgets/base",
      "_model_module_version": "1.2.0",
      "_model_name": "LayoutModel",
      "_view_count": null,
      "_view_module": "@jupyter-widgets/base",
      "_view_module_version": "1.2.0",
      "_view_name": "LayoutView",
      "align_content": null,
      "align_items": null,
      "align_self": null,
      "border": null,
      "bottom": null,
      "display": null,
      "flex": null,
      "flex_flow": null,
      "grid_area": null,
      "grid_auto_columns": null,
      "grid_auto_flow": null,
      "grid_auto_rows": null,
      "grid_column": null,
      "grid_gap": null,
      "grid_row": null,
      "grid_template_areas": null,
      "grid_template_columns": null,
      "grid_template_rows": null,
      "height": null,
      "justify_content": null,
      "justify_items": null,
      "left": null,
      "margin": null,
      "max_height": null,
      "max_width": null,
      "min_height": null,
      "min_width": null,
      "object_fit": null,
      "object_position": null,
      "order": null,
      "overflow": null,
      "overflow_x": null,
      "overflow_y": null,
      "padding": null,
      "right": null,
      "top": null,
      "visibility": null,
      "width": null
     }
    },
    "3e3a022a9f304b0f9f7ef067fcee1e56": {
     "model_module": "@jupyter-widgets/base",
     "model_name": "LayoutModel",
     "state": {
      "_model_module": "@jupyter-widgets/base",
      "_model_module_version": "1.2.0",
      "_model_name": "LayoutModel",
      "_view_count": null,
      "_view_module": "@jupyter-widgets/base",
      "_view_module_version": "1.2.0",
      "_view_name": "LayoutView",
      "align_content": null,
      "align_items": null,
      "align_self": null,
      "border": null,
      "bottom": null,
      "display": null,
      "flex": null,
      "flex_flow": null,
      "grid_area": null,
      "grid_auto_columns": null,
      "grid_auto_flow": null,
      "grid_auto_rows": null,
      "grid_column": null,
      "grid_gap": null,
      "grid_row": null,
      "grid_template_areas": null,
      "grid_template_columns": null,
      "grid_template_rows": null,
      "height": null,
      "justify_content": null,
      "justify_items": null,
      "left": null,
      "margin": null,
      "max_height": null,
      "max_width": null,
      "min_height": null,
      "min_width": null,
      "object_fit": null,
      "object_position": null,
      "order": null,
      "overflow": null,
      "overflow_x": null,
      "overflow_y": null,
      "padding": null,
      "right": null,
      "top": null,
      "visibility": null,
      "width": null
     }
    },
    "3ec3285e9f3e4a5abcefabb7f140f4a3": {
     "model_module": "@jupyter-widgets/controls",
     "model_name": "ProgressStyleModel",
     "state": {
      "_model_module": "@jupyter-widgets/controls",
      "_model_module_version": "1.5.0",
      "_model_name": "ProgressStyleModel",
      "_view_count": null,
      "_view_module": "@jupyter-widgets/base",
      "_view_module_version": "1.2.0",
      "_view_name": "StyleView",
      "bar_color": null,
      "description_width": "initial"
     }
    },
    "3f780f0aa8834fc189b292e0474e2ffa": {
     "model_module": "@jupyter-widgets/controls",
     "model_name": "HTMLModel",
     "state": {
      "_dom_classes": [],
      "_model_module": "@jupyter-widgets/controls",
      "_model_module_version": "1.5.0",
      "_model_name": "HTMLModel",
      "_view_count": null,
      "_view_module": "@jupyter-widgets/controls",
      "_view_module_version": "1.5.0",
      "_view_name": "HTMLView",
      "description": "",
      "description_tooltip": null,
      "layout": "IPY_MODEL_a868dea9d9b047a4b853b390e138e4c1",
      "placeholder": "​",
      "style": "IPY_MODEL_ec36a94ee2574ac8b227ccaefdee5520",
      "value": " 52/52 [00:31&lt;00:00,  1.67ba/s]"
     }
    },
    "405b5de4ae854cf9896f63d15f2207dd": {
     "model_module": "@jupyter-widgets/controls",
     "model_name": "DescriptionStyleModel",
     "state": {
      "_model_module": "@jupyter-widgets/controls",
      "_model_module_version": "1.5.0",
      "_model_name": "DescriptionStyleModel",
      "_view_count": null,
      "_view_module": "@jupyter-widgets/base",
      "_view_module_version": "1.2.0",
      "_view_name": "StyleView",
      "description_width": ""
     }
    },
    "416badb151ee4660b53fdbc136e0c8fb": {
     "model_module": "@jupyter-widgets/controls",
     "model_name": "HTMLModel",
     "state": {
      "_dom_classes": [],
      "_model_module": "@jupyter-widgets/controls",
      "_model_module_version": "1.5.0",
      "_model_name": "HTMLModel",
      "_view_count": null,
      "_view_module": "@jupyter-widgets/controls",
      "_view_module_version": "1.5.0",
      "_view_name": "HTMLView",
      "description": "",
      "description_tooltip": null,
      "layout": "IPY_MODEL_0f3756509e3b405d87936f599b153de2",
      "placeholder": "​",
      "style": "IPY_MODEL_824569c63ec445c08362659ca228dd2a",
      "value": " 412/412 [03:01&lt;00:00,  2.28ex/s]"
     }
    },
    "430c3c079d0e4006b90e72df7986ffb0": {
     "model_module": "@jupyter-widgets/base",
     "model_name": "LayoutModel",
     "state": {
      "_model_module": "@jupyter-widgets/base",
      "_model_module_version": "1.2.0",
      "_model_name": "LayoutModel",
      "_view_count": null,
      "_view_module": "@jupyter-widgets/base",
      "_view_module_version": "1.2.0",
      "_view_name": "LayoutView",
      "align_content": null,
      "align_items": null,
      "align_self": null,
      "border": null,
      "bottom": null,
      "display": null,
      "flex": null,
      "flex_flow": null,
      "grid_area": null,
      "grid_auto_columns": null,
      "grid_auto_flow": null,
      "grid_auto_rows": null,
      "grid_column": null,
      "grid_gap": null,
      "grid_row": null,
      "grid_template_areas": null,
      "grid_template_columns": null,
      "grid_template_rows": null,
      "height": null,
      "justify_content": null,
      "justify_items": null,
      "left": null,
      "margin": null,
      "max_height": null,
      "max_width": null,
      "min_height": null,
      "min_width": null,
      "object_fit": null,
      "object_position": null,
      "order": null,
      "overflow": null,
      "overflow_x": null,
      "overflow_y": null,
      "padding": null,
      "right": null,
      "top": null,
      "visibility": null,
      "width": null
     }
    },
    "4382726ef043441a9b1a4a647d84f242": {
     "model_module": "@jupyter-widgets/controls",
     "model_name": "ProgressStyleModel",
     "state": {
      "_model_module": "@jupyter-widgets/controls",
      "_model_module_version": "1.5.0",
      "_model_name": "ProgressStyleModel",
      "_view_count": null,
      "_view_module": "@jupyter-widgets/base",
      "_view_module_version": "1.2.0",
      "_view_name": "StyleView",
      "bar_color": null,
      "description_width": "initial"
     }
    },
    "45f0a2f361da4608bc8314a27657a56c": {
     "model_module": "@jupyter-widgets/controls",
     "model_name": "ProgressStyleModel",
     "state": {
      "_model_module": "@jupyter-widgets/controls",
      "_model_module_version": "1.5.0",
      "_model_name": "ProgressStyleModel",
      "_view_count": null,
      "_view_module": "@jupyter-widgets/base",
      "_view_module_version": "1.2.0",
      "_view_name": "StyleView",
      "bar_color": null,
      "description_width": "initial"
     }
    },
    "4797f1acd9924b4e97f12f964c83078c": {
     "model_module": "@jupyter-widgets/controls",
     "model_name": "HBoxModel",
     "state": {
      "_dom_classes": [],
      "_model_module": "@jupyter-widgets/controls",
      "_model_module_version": "1.5.0",
      "_model_name": "HBoxModel",
      "_view_count": null,
      "_view_module": "@jupyter-widgets/controls",
      "_view_module_version": "1.5.0",
      "_view_name": "HBoxView",
      "box_style": "",
      "children": [
       "IPY_MODEL_5370c0f2d54b45c0a89f11fb5b70cd4b",
       "IPY_MODEL_018c1f8e198e4df4b480e609bd1be602"
      ],
      "layout": "IPY_MODEL_73940df84ffd4e0f96637342e9fd12b7"
     }
    },
    "47a6c3c427614f21a6dab1c048e5dd37": {
     "model_module": "@jupyter-widgets/base",
     "model_name": "LayoutModel",
     "state": {
      "_model_module": "@jupyter-widgets/base",
      "_model_module_version": "1.2.0",
      "_model_name": "LayoutModel",
      "_view_count": null,
      "_view_module": "@jupyter-widgets/base",
      "_view_module_version": "1.2.0",
      "_view_name": "LayoutView",
      "align_content": null,
      "align_items": null,
      "align_self": null,
      "border": null,
      "bottom": null,
      "display": null,
      "flex": null,
      "flex_flow": null,
      "grid_area": null,
      "grid_auto_columns": null,
      "grid_auto_flow": null,
      "grid_auto_rows": null,
      "grid_column": null,
      "grid_gap": null,
      "grid_row": null,
      "grid_template_areas": null,
      "grid_template_columns": null,
      "grid_template_rows": null,
      "height": null,
      "justify_content": null,
      "justify_items": null,
      "left": null,
      "margin": null,
      "max_height": null,
      "max_width": null,
      "min_height": null,
      "min_width": null,
      "object_fit": null,
      "object_position": null,
      "order": null,
      "overflow": null,
      "overflow_x": null,
      "overflow_y": null,
      "padding": null,
      "right": null,
      "top": null,
      "visibility": null,
      "width": null
     }
    },
    "491fd969d61a478f8e85ffcd3e1a3e20": {
     "model_module": "@jupyter-widgets/base",
     "model_name": "LayoutModel",
     "state": {
      "_model_module": "@jupyter-widgets/base",
      "_model_module_version": "1.2.0",
      "_model_name": "LayoutModel",
      "_view_count": null,
      "_view_module": "@jupyter-widgets/base",
      "_view_module_version": "1.2.0",
      "_view_name": "LayoutView",
      "align_content": null,
      "align_items": null,
      "align_self": null,
      "border": null,
      "bottom": null,
      "display": null,
      "flex": null,
      "flex_flow": null,
      "grid_area": null,
      "grid_auto_columns": null,
      "grid_auto_flow": null,
      "grid_auto_rows": null,
      "grid_column": null,
      "grid_gap": null,
      "grid_row": null,
      "grid_template_areas": null,
      "grid_template_columns": null,
      "grid_template_rows": null,
      "height": null,
      "justify_content": null,
      "justify_items": null,
      "left": null,
      "margin": null,
      "max_height": null,
      "max_width": null,
      "min_height": null,
      "min_width": null,
      "object_fit": null,
      "object_position": null,
      "order": null,
      "overflow": null,
      "overflow_x": null,
      "overflow_y": null,
      "padding": null,
      "right": null,
      "top": null,
      "visibility": null,
      "width": null
     }
    },
    "49defa4284554baf85f32de242b22709": {
     "model_module": "@jupyter-widgets/controls",
     "model_name": "ProgressStyleModel",
     "state": {
      "_model_module": "@jupyter-widgets/controls",
      "_model_module_version": "1.5.0",
      "_model_name": "ProgressStyleModel",
      "_view_count": null,
      "_view_module": "@jupyter-widgets/base",
      "_view_module_version": "1.2.0",
      "_view_name": "StyleView",
      "bar_color": null,
      "description_width": "initial"
     }
    },
    "4abe2731ec624729b401d60a392cae63": {
     "model_module": "@jupyter-widgets/base",
     "model_name": "LayoutModel",
     "state": {
      "_model_module": "@jupyter-widgets/base",
      "_model_module_version": "1.2.0",
      "_model_name": "LayoutModel",
      "_view_count": null,
      "_view_module": "@jupyter-widgets/base",
      "_view_module_version": "1.2.0",
      "_view_name": "LayoutView",
      "align_content": null,
      "align_items": null,
      "align_self": null,
      "border": null,
      "bottom": null,
      "display": null,
      "flex": null,
      "flex_flow": null,
      "grid_area": null,
      "grid_auto_columns": null,
      "grid_auto_flow": null,
      "grid_auto_rows": null,
      "grid_column": null,
      "grid_gap": null,
      "grid_row": null,
      "grid_template_areas": null,
      "grid_template_columns": null,
      "grid_template_rows": null,
      "height": null,
      "justify_content": null,
      "justify_items": null,
      "left": null,
      "margin": null,
      "max_height": null,
      "max_width": null,
      "min_height": null,
      "min_width": null,
      "object_fit": null,
      "object_position": null,
      "order": null,
      "overflow": null,
      "overflow_x": null,
      "overflow_y": null,
      "padding": null,
      "right": null,
      "top": null,
      "visibility": null,
      "width": null
     }
    },
    "4c0ad31e73234e46aac0a297ec18bdeb": {
     "model_module": "@jupyter-widgets/controls",
     "model_name": "ProgressStyleModel",
     "state": {
      "_model_module": "@jupyter-widgets/controls",
      "_model_module_version": "1.5.0",
      "_model_name": "ProgressStyleModel",
      "_view_count": null,
      "_view_module": "@jupyter-widgets/base",
      "_view_module_version": "1.2.0",
      "_view_name": "StyleView",
      "bar_color": null,
      "description_width": "initial"
     }
    },
    "4db5037af3f64a3a8a8a1203018a80ff": {
     "model_module": "@jupyter-widgets/controls",
     "model_name": "FloatProgressModel",
     "state": {
      "_dom_classes": [],
      "_model_module": "@jupyter-widgets/controls",
      "_model_module_version": "1.5.0",
      "_model_name": "FloatProgressModel",
      "_view_count": null,
      "_view_module": "@jupyter-widgets/controls",
      "_view_module_version": "1.5.0",
      "_view_name": "ProgressView",
      "bar_style": "info",
      "description": "",
      "description_tooltip": null,
      "layout": "IPY_MODEL_c0e6b6e6395d4dbd827eb1c0de1ad21a",
      "max": 1,
      "min": 0,
      "orientation": "horizontal",
      "style": "IPY_MODEL_2a6e1185a6a247f5acba8111824ad36b",
      "value": 1
     }
    },
    "4e1a725fd90b45e280b8b0028ba65250": {
     "model_module": "@jupyter-widgets/controls",
     "model_name": "HTMLModel",
     "state": {
      "_dom_classes": [],
      "_model_module": "@jupyter-widgets/controls",
      "_model_module_version": "1.5.0",
      "_model_name": "HTMLModel",
      "_view_count": null,
      "_view_module": "@jupyter-widgets/controls",
      "_view_module_version": "1.5.0",
      "_view_name": "HTMLView",
      "description": "",
      "description_tooltip": null,
      "layout": "IPY_MODEL_491fd969d61a478f8e85ffcd3e1a3e20",
      "placeholder": "​",
      "style": "IPY_MODEL_9f79629ad6a94201acf3283862d1ae17",
      "value": " 869/869 [05:48&lt;00:00,  2.49ex/s]"
     }
    },
    "4f8957dc035d4c1a9e8630fc8ab8cd10": {
     "model_module": "@jupyter-widgets/controls",
     "model_name": "FloatProgressModel",
     "state": {
      "_dom_classes": [],
      "_model_module": "@jupyter-widgets/controls",
      "_model_module_version": "1.5.0",
      "_model_name": "FloatProgressModel",
      "_view_count": null,
      "_view_module": "@jupyter-widgets/controls",
      "_view_module_version": "1.5.0",
      "_view_name": "ProgressView",
      "bar_style": "success",
      "description": "#1: 100%",
      "description_tooltip": null,
      "layout": "IPY_MODEL_47a6c3c427614f21a6dab1c048e5dd37",
      "max": 870,
      "min": 0,
      "orientation": "horizontal",
      "style": "IPY_MODEL_596aea0362924c7db583203268dd5a3e",
      "value": 870
     }
    },
    "4fb7347e9ca542e6ab9003bf4db218e0": {
     "model_module": "@jupyter-widgets/controls",
     "model_name": "HTMLModel",
     "state": {
      "_dom_classes": [],
      "_model_module": "@jupyter-widgets/controls",
      "_model_module_version": "1.5.0",
      "_model_name": "HTMLModel",
      "_view_count": null,
      "_view_module": "@jupyter-widgets/controls",
      "_view_module_version": "1.5.0",
      "_view_name": "HTMLView",
      "description": "",
      "description_tooltip": null,
      "layout": "IPY_MODEL_0987aac282af415da2fbc9dc1b4d5069",
      "placeholder": "​",
      "style": "IPY_MODEL_6d4a26d876fb4ac6b5948a09945bdc6b",
      "value": " 109/109 [00:58&lt;00:00,  1.88ba/s]"
     }
    },
    "4ff7ccffc36a4a0f93031f5cdc3b718d": {
     "model_module": "@jupyter-widgets/controls",
     "model_name": "ProgressStyleModel",
     "state": {
      "_model_module": "@jupyter-widgets/controls",
      "_model_module_version": "1.5.0",
      "_model_name": "ProgressStyleModel",
      "_view_count": null,
      "_view_module": "@jupyter-widgets/base",
      "_view_module_version": "1.2.0",
      "_view_name": "StyleView",
      "bar_color": null,
      "description_width": "initial"
     }
    },
    "5071a31d06f544a5b7340a4e863d8fdf": {
     "model_module": "@jupyter-widgets/controls",
     "model_name": "FloatProgressModel",
     "state": {
      "_dom_classes": [],
      "_model_module": "@jupyter-widgets/controls",
      "_model_module_version": "1.5.0",
      "_model_name": "FloatProgressModel",
      "_view_count": null,
      "_view_module": "@jupyter-widgets/controls",
      "_view_module_version": "1.5.0",
      "_view_name": "ProgressView",
      "bar_style": "success",
      "description": "#3: 100%",
      "description_tooltip": null,
      "layout": "IPY_MODEL_b2473405490e4556bf30c0cc81237aa5",
      "max": 109,
      "min": 0,
      "orientation": "horizontal",
      "style": "IPY_MODEL_49defa4284554baf85f32de242b22709",
      "value": 109
     }
    },
    "530f66ac087e4f8f979fcaa33941c60d": {
     "model_module": "@jupyter-widgets/controls",
     "model_name": "ProgressStyleModel",
     "state": {
      "_model_module": "@jupyter-widgets/controls",
      "_model_module_version": "1.5.0",
      "_model_name": "ProgressStyleModel",
      "_view_count": null,
      "_view_module": "@jupyter-widgets/base",
      "_view_module_version": "1.2.0",
      "_view_name": "StyleView",
      "bar_color": null,
      "description_width": "initial"
     }
    },
    "5370c0f2d54b45c0a89f11fb5b70cd4b": {
     "model_module": "@jupyter-widgets/controls",
     "model_name": "FloatProgressModel",
     "state": {
      "_dom_classes": [],
      "_model_module": "@jupyter-widgets/controls",
      "_model_module_version": "1.5.0",
      "_model_name": "FloatProgressModel",
      "_view_count": null,
      "_view_module": "@jupyter-widgets/controls",
      "_view_module_version": "1.5.0",
      "_view_name": "ProgressView",
      "bar_style": "success",
      "description": "#0: 100%",
      "description_tooltip": null,
      "layout": "IPY_MODEL_020bdb330b0d40f5b89697ff37025f69",
      "max": 109,
      "min": 0,
      "orientation": "horizontal",
      "style": "IPY_MODEL_fa7926bbe77e48b3a0648b45f5d2dc7a",
      "value": 109
     }
    },
    "540510088d3947f1b3cf6f4c983c1a53": {
     "model_module": "@jupyter-widgets/base",
     "model_name": "LayoutModel",
     "state": {
      "_model_module": "@jupyter-widgets/base",
      "_model_module_version": "1.2.0",
      "_model_name": "LayoutModel",
      "_view_count": null,
      "_view_module": "@jupyter-widgets/base",
      "_view_module_version": "1.2.0",
      "_view_name": "LayoutView",
      "align_content": null,
      "align_items": null,
      "align_self": null,
      "border": null,
      "bottom": null,
      "display": null,
      "flex": null,
      "flex_flow": null,
      "grid_area": null,
      "grid_auto_columns": null,
      "grid_auto_flow": null,
      "grid_auto_rows": null,
      "grid_column": null,
      "grid_gap": null,
      "grid_row": null,
      "grid_template_areas": null,
      "grid_template_columns": null,
      "grid_template_rows": null,
      "height": null,
      "justify_content": null,
      "justify_items": null,
      "left": null,
      "margin": null,
      "max_height": null,
      "max_width": null,
      "min_height": null,
      "min_width": null,
      "object_fit": null,
      "object_position": null,
      "order": null,
      "overflow": null,
      "overflow_x": null,
      "overflow_y": null,
      "padding": null,
      "right": null,
      "top": null,
      "visibility": null,
      "width": null
     }
    },
    "542027ba12f444d586e8072452badea0": {
     "model_module": "@jupyter-widgets/controls",
     "model_name": "HTMLModel",
     "state": {
      "_dom_classes": [],
      "_model_module": "@jupyter-widgets/controls",
      "_model_module_version": "1.5.0",
      "_model_name": "HTMLModel",
      "_view_count": null,
      "_view_module": "@jupyter-widgets/controls",
      "_view_module_version": "1.5.0",
      "_view_name": "HTMLView",
      "description": "",
      "description_tooltip": null,
      "layout": "IPY_MODEL_bc41384bbae04044b9780651c6b5a47c",
      "placeholder": "​",
      "style": "IPY_MODEL_02bdb06c176145feaa842b97ae58609c",
      "value": " 109/109 [00:58&lt;00:00,  1.88ba/s]"
     }
    },
    "55071fc1b7484620803aeba453e9af72": {
     "model_module": "@jupyter-widgets/base",
     "model_name": "LayoutModel",
     "state": {
      "_model_module": "@jupyter-widgets/base",
      "_model_module_version": "1.2.0",
      "_model_name": "LayoutModel",
      "_view_count": null,
      "_view_module": "@jupyter-widgets/base",
      "_view_module_version": "1.2.0",
      "_view_name": "LayoutView",
      "align_content": null,
      "align_items": null,
      "align_self": null,
      "border": null,
      "bottom": null,
      "display": null,
      "flex": null,
      "flex_flow": null,
      "grid_area": null,
      "grid_auto_columns": null,
      "grid_auto_flow": null,
      "grid_auto_rows": null,
      "grid_column": null,
      "grid_gap": null,
      "grid_row": null,
      "grid_template_areas": null,
      "grid_template_columns": null,
      "grid_template_rows": null,
      "height": null,
      "justify_content": null,
      "justify_items": null,
      "left": null,
      "margin": null,
      "max_height": null,
      "max_width": null,
      "min_height": null,
      "min_width": null,
      "object_fit": null,
      "object_position": null,
      "order": null,
      "overflow": null,
      "overflow_x": null,
      "overflow_y": null,
      "padding": null,
      "right": null,
      "top": null,
      "visibility": null,
      "width": null
     }
    },
    "56ad6231a0a04228be29ceecbc6b7c0e": {
     "model_module": "@jupyter-widgets/base",
     "model_name": "LayoutModel",
     "state": {
      "_model_module": "@jupyter-widgets/base",
      "_model_module_version": "1.2.0",
      "_model_name": "LayoutModel",
      "_view_count": null,
      "_view_module": "@jupyter-widgets/base",
      "_view_module_version": "1.2.0",
      "_view_name": "LayoutView",
      "align_content": null,
      "align_items": null,
      "align_self": null,
      "border": null,
      "bottom": null,
      "display": null,
      "flex": null,
      "flex_flow": null,
      "grid_area": null,
      "grid_auto_columns": null,
      "grid_auto_flow": null,
      "grid_auto_rows": null,
      "grid_column": null,
      "grid_gap": null,
      "grid_row": null,
      "grid_template_areas": null,
      "grid_template_columns": null,
      "grid_template_rows": null,
      "height": null,
      "justify_content": null,
      "justify_items": null,
      "left": null,
      "margin": null,
      "max_height": null,
      "max_width": null,
      "min_height": null,
      "min_width": null,
      "object_fit": null,
      "object_position": null,
      "order": null,
      "overflow": null,
      "overflow_x": null,
      "overflow_y": null,
      "padding": null,
      "right": null,
      "top": null,
      "visibility": null,
      "width": null
     }
    },
    "57198e3250374e1fa64c5a4be255861e": {
     "model_module": "@jupyter-widgets/controls",
     "model_name": "HTMLModel",
     "state": {
      "_dom_classes": [],
      "_model_module": "@jupyter-widgets/controls",
      "_model_module_version": "1.5.0",
      "_model_name": "HTMLModel",
      "_view_count": null,
      "_view_module": "@jupyter-widgets/controls",
      "_view_module_version": "1.5.0",
      "_view_name": "HTMLView",
      "description": "",
      "description_tooltip": null,
      "layout": "IPY_MODEL_8f737725708c4097a8caaf4da6229636",
      "placeholder": "​",
      "style": "IPY_MODEL_969080b52ad44ee997829986d198c505",
      "value": " 3.90k/? [00:00&lt;00:00, 23.0kB/s]"
     }
    },
    "579b6055028f473981ce789a0733a753": {
     "model_module": "@jupyter-widgets/controls",
     "model_name": "FloatProgressModel",
     "state": {
      "_dom_classes": [],
      "_model_module": "@jupyter-widgets/controls",
      "_model_module_version": "1.5.0",
      "_model_name": "FloatProgressModel",
      "_view_count": null,
      "_view_module": "@jupyter-widgets/controls",
      "_view_module_version": "1.5.0",
      "_view_name": "ProgressView",
      "bar_style": "success",
      "description": "#2: 100%",
      "description_tooltip": null,
      "layout": "IPY_MODEL_6de66d6b7a73434cbdc59b2109bdf0a0",
      "max": 109,
      "min": 0,
      "orientation": "horizontal",
      "style": "IPY_MODEL_3133b378b9294a759c8dfb786ed8f815",
      "value": 109
     }
    },
    "58f3e8002f984594ac05c973aa78ef69": {
     "model_module": "@jupyter-widgets/base",
     "model_name": "LayoutModel",
     "state": {
      "_model_module": "@jupyter-widgets/base",
      "_model_module_version": "1.2.0",
      "_model_name": "LayoutModel",
      "_view_count": null,
      "_view_module": "@jupyter-widgets/base",
      "_view_module_version": "1.2.0",
      "_view_name": "LayoutView",
      "align_content": null,
      "align_items": null,
      "align_self": null,
      "border": null,
      "bottom": null,
      "display": null,
      "flex": null,
      "flex_flow": null,
      "grid_area": null,
      "grid_auto_columns": null,
      "grid_auto_flow": null,
      "grid_auto_rows": null,
      "grid_column": null,
      "grid_gap": null,
      "grid_row": null,
      "grid_template_areas": null,
      "grid_template_columns": null,
      "grid_template_rows": null,
      "height": null,
      "justify_content": null,
      "justify_items": null,
      "left": null,
      "margin": null,
      "max_height": null,
      "max_width": null,
      "min_height": null,
      "min_width": null,
      "object_fit": null,
      "object_position": null,
      "order": null,
      "overflow": null,
      "overflow_x": null,
      "overflow_y": null,
      "padding": null,
      "right": null,
      "top": null,
      "visibility": null,
      "width": null
     }
    },
    "596aea0362924c7db583203268dd5a3e": {
     "model_module": "@jupyter-widgets/controls",
     "model_name": "ProgressStyleModel",
     "state": {
      "_model_module": "@jupyter-widgets/controls",
      "_model_module_version": "1.5.0",
      "_model_name": "ProgressStyleModel",
      "_view_count": null,
      "_view_module": "@jupyter-widgets/base",
      "_view_module_version": "1.2.0",
      "_view_name": "StyleView",
      "bar_color": null,
      "description_width": "initial"
     }
    },
    "59e0f5200068461cbfb256ad5479c4c8": {
     "model_module": "@jupyter-widgets/controls",
     "model_name": "DescriptionStyleModel",
     "state": {
      "_model_module": "@jupyter-widgets/controls",
      "_model_module_version": "1.5.0",
      "_model_name": "DescriptionStyleModel",
      "_view_count": null,
      "_view_module": "@jupyter-widgets/base",
      "_view_module_version": "1.2.0",
      "_view_name": "StyleView",
      "description_width": ""
     }
    },
    "5a5bc8b4a1c644dea08a60128d888d10": {
     "model_module": "@jupyter-widgets/controls",
     "model_name": "DescriptionStyleModel",
     "state": {
      "_model_module": "@jupyter-widgets/controls",
      "_model_module_version": "1.5.0",
      "_model_name": "DescriptionStyleModel",
      "_view_count": null,
      "_view_module": "@jupyter-widgets/base",
      "_view_module_version": "1.2.0",
      "_view_name": "StyleView",
      "description_width": ""
     }
    },
    "5ab30242cd154ec0b560c23c0f178546": {
     "model_module": "@jupyter-widgets/controls",
     "model_name": "ProgressStyleModel",
     "state": {
      "_model_module": "@jupyter-widgets/controls",
      "_model_module_version": "1.5.0",
      "_model_name": "ProgressStyleModel",
      "_view_count": null,
      "_view_module": "@jupyter-widgets/base",
      "_view_module_version": "1.2.0",
      "_view_name": "StyleView",
      "bar_color": null,
      "description_width": "initial"
     }
    },
    "5ccd12253fff448f9c15c9b03c70a408": {
     "model_module": "@jupyter-widgets/controls",
     "model_name": "HBoxModel",
     "state": {
      "_dom_classes": [],
      "_model_module": "@jupyter-widgets/controls",
      "_model_module_version": "1.5.0",
      "_model_name": "HBoxModel",
      "_view_count": null,
      "_view_module": "@jupyter-widgets/controls",
      "_view_module_version": "1.5.0",
      "_view_name": "HBoxView",
      "box_style": "",
      "children": [
       "IPY_MODEL_f203c54e7e054d97aa4d1097f320f611",
       "IPY_MODEL_6266a4019e124aff877bb55f21740180"
      ],
      "layout": "IPY_MODEL_330226a977694de1bd88c0aa3789be47"
     }
    },
    "5e3aad95e52f4be2bd670d1345398f1b": {
     "model_module": "@jupyter-widgets/controls",
     "model_name": "HTMLModel",
     "state": {
      "_dom_classes": [],
      "_model_module": "@jupyter-widgets/controls",
      "_model_module_version": "1.5.0",
      "_model_name": "HTMLModel",
      "_view_count": null,
      "_view_module": "@jupyter-widgets/controls",
      "_view_module_version": "1.5.0",
      "_view_name": "HTMLView",
      "description": "",
      "description_tooltip": null,
      "layout": "IPY_MODEL_99d5c44ea54b45ee9bd89380cb1ad189",
      "placeholder": "​",
      "style": "IPY_MODEL_7aa70322bdfe46938b583a20003093d5",
      "value": " 3478/3478 [03:16&lt;00:00, 17.67ex/s]"
     }
    },
    "5e6bae23461b4378b6e5fc890fe6bc97": {
     "model_module": "@jupyter-widgets/base",
     "model_name": "LayoutModel",
     "state": {
      "_model_module": "@jupyter-widgets/base",
      "_model_module_version": "1.2.0",
      "_model_name": "LayoutModel",
      "_view_count": null,
      "_view_module": "@jupyter-widgets/base",
      "_view_module_version": "1.2.0",
      "_view_name": "LayoutView",
      "align_content": null,
      "align_items": null,
      "align_self": null,
      "border": null,
      "bottom": null,
      "display": null,
      "flex": null,
      "flex_flow": null,
      "grid_area": null,
      "grid_auto_columns": null,
      "grid_auto_flow": null,
      "grid_auto_rows": null,
      "grid_column": null,
      "grid_gap": null,
      "grid_row": null,
      "grid_template_areas": null,
      "grid_template_columns": null,
      "grid_template_rows": null,
      "height": null,
      "justify_content": null,
      "justify_items": null,
      "left": null,
      "margin": null,
      "max_height": null,
      "max_width": null,
      "min_height": null,
      "min_width": null,
      "object_fit": null,
      "object_position": null,
      "order": null,
      "overflow": null,
      "overflow_x": null,
      "overflow_y": null,
      "padding": null,
      "right": null,
      "top": null,
      "visibility": null,
      "width": null
     }
    },
    "5f48f54986924e418aa4ac22aa54b714": {
     "model_module": "@jupyter-widgets/controls",
     "model_name": "HBoxModel",
     "state": {
      "_dom_classes": [],
      "_model_module": "@jupyter-widgets/controls",
      "_model_module_version": "1.5.0",
      "_model_name": "HBoxModel",
      "_view_count": null,
      "_view_module": "@jupyter-widgets/controls",
      "_view_module_version": "1.5.0",
      "_view_name": "HBoxView",
      "box_style": "",
      "children": [
       "IPY_MODEL_a58c203a7cc54086aea45f2029821207",
       "IPY_MODEL_8d409ca0372a48e2972ca1d8eee5ffa1"
      ],
      "layout": "IPY_MODEL_db71db50799c404aafa4a54de8b9b799"
     }
    },
    "6266a4019e124aff877bb55f21740180": {
     "model_module": "@jupyter-widgets/controls",
     "model_name": "HTMLModel",
     "state": {
      "_dom_classes": [],
      "_model_module": "@jupyter-widgets/controls",
      "_model_module_version": "1.5.0",
      "_model_name": "HTMLModel",
      "_view_count": null,
      "_view_module": "@jupyter-widgets/controls",
      "_view_module_version": "1.5.0",
      "_view_name": "HTMLView",
      "description": "",
      "description_tooltip": null,
      "layout": "IPY_MODEL_55071fc1b7484620803aeba453e9af72",
      "placeholder": "​",
      "style": "IPY_MODEL_8ad3e4b211e34c048d0f48e36fdbfe48",
      "value": " 411/411 [02:58&lt;00:00,  2.30ex/s]"
     }
    },
    "6462bd9561e24abb98fce6ce4675d810": {
     "model_module": "@jupyter-widgets/controls",
     "model_name": "HBoxModel",
     "state": {
      "_dom_classes": [],
      "_model_module": "@jupyter-widgets/controls",
      "_model_module_version": "1.5.0",
      "_model_name": "HBoxModel",
      "_view_count": null,
      "_view_module": "@jupyter-widgets/controls",
      "_view_module_version": "1.5.0",
      "_view_name": "HBoxView",
      "box_style": "",
      "children": [
       "IPY_MODEL_e273548a15aa4d4994132b317adb66fc",
       "IPY_MODEL_f6930dd5519d4dfda64c597def220a30"
      ],
      "layout": "IPY_MODEL_bd3447291ce54812af10ac6245ea4328"
     }
    },
    "68a3178fe7a54e838e798ff28ff9aa0b": {
     "model_module": "@jupyter-widgets/controls",
     "model_name": "DescriptionStyleModel",
     "state": {
      "_model_module": "@jupyter-widgets/controls",
      "_model_module_version": "1.5.0",
      "_model_name": "DescriptionStyleModel",
      "_view_count": null,
      "_view_module": "@jupyter-widgets/base",
      "_view_module_version": "1.2.0",
      "_view_name": "StyleView",
      "description_width": ""
     }
    },
    "69828f4a101f4340916a4be141866904": {
     "model_module": "@jupyter-widgets/base",
     "model_name": "LayoutModel",
     "state": {
      "_model_module": "@jupyter-widgets/base",
      "_model_module_version": "1.2.0",
      "_model_name": "LayoutModel",
      "_view_count": null,
      "_view_module": "@jupyter-widgets/base",
      "_view_module_version": "1.2.0",
      "_view_name": "LayoutView",
      "align_content": null,
      "align_items": null,
      "align_self": null,
      "border": null,
      "bottom": null,
      "display": null,
      "flex": null,
      "flex_flow": null,
      "grid_area": null,
      "grid_auto_columns": null,
      "grid_auto_flow": null,
      "grid_auto_rows": null,
      "grid_column": null,
      "grid_gap": null,
      "grid_row": null,
      "grid_template_areas": null,
      "grid_template_columns": null,
      "grid_template_rows": null,
      "height": null,
      "justify_content": null,
      "justify_items": null,
      "left": null,
      "margin": null,
      "max_height": null,
      "max_width": null,
      "min_height": null,
      "min_width": null,
      "object_fit": null,
      "object_position": null,
      "order": null,
      "overflow": null,
      "overflow_x": null,
      "overflow_y": null,
      "padding": null,
      "right": null,
      "top": null,
      "visibility": null,
      "width": null
     }
    },
    "6a957c1c17474d8d89c27ddecf702fda": {
     "model_module": "@jupyter-widgets/controls",
     "model_name": "HTMLModel",
     "state": {
      "_dom_classes": [],
      "_model_module": "@jupyter-widgets/controls",
      "_model_module_version": "1.5.0",
      "_model_name": "HTMLModel",
      "_view_count": null,
      "_view_module": "@jupyter-widgets/controls",
      "_view_module_version": "1.5.0",
      "_view_name": "HTMLView",
      "description": "",
      "description_tooltip": null,
      "layout": "IPY_MODEL_91fcf0641fe3489ab96f3aaa40adf245",
      "placeholder": "​",
      "style": "IPY_MODEL_05f83d714f864a399083f0e34a812467",
      "value": " 1647/0 [00:00&lt;00:00, 14016.07 examples/s]"
     }
    },
    "6abfbe44a1bd4518b41f5f53f920e936": {
     "model_module": "@jupyter-widgets/base",
     "model_name": "LayoutModel",
     "state": {
      "_model_module": "@jupyter-widgets/base",
      "_model_module_version": "1.2.0",
      "_model_name": "LayoutModel",
      "_view_count": null,
      "_view_module": "@jupyter-widgets/base",
      "_view_module_version": "1.2.0",
      "_view_name": "LayoutView",
      "align_content": null,
      "align_items": null,
      "align_self": null,
      "border": null,
      "bottom": null,
      "display": null,
      "flex": null,
      "flex_flow": null,
      "grid_area": null,
      "grid_auto_columns": null,
      "grid_auto_flow": null,
      "grid_auto_rows": null,
      "grid_column": null,
      "grid_gap": null,
      "grid_row": null,
      "grid_template_areas": null,
      "grid_template_columns": null,
      "grid_template_rows": null,
      "height": null,
      "justify_content": null,
      "justify_items": null,
      "left": null,
      "margin": null,
      "max_height": null,
      "max_width": null,
      "min_height": null,
      "min_width": null,
      "object_fit": null,
      "object_position": null,
      "order": null,
      "overflow": null,
      "overflow_x": null,
      "overflow_y": null,
      "padding": null,
      "right": null,
      "top": null,
      "visibility": null,
      "width": null
     }
    },
    "6ba6d07674a34836be53cf173c2b61ca": {
     "model_module": "@jupyter-widgets/base",
     "model_name": "LayoutModel",
     "state": {
      "_model_module": "@jupyter-widgets/base",
      "_model_module_version": "1.2.0",
      "_model_name": "LayoutModel",
      "_view_count": null,
      "_view_module": "@jupyter-widgets/base",
      "_view_module_version": "1.2.0",
      "_view_name": "LayoutView",
      "align_content": null,
      "align_items": null,
      "align_self": null,
      "border": null,
      "bottom": null,
      "display": null,
      "flex": null,
      "flex_flow": null,
      "grid_area": null,
      "grid_auto_columns": null,
      "grid_auto_flow": null,
      "grid_auto_rows": null,
      "grid_column": null,
      "grid_gap": null,
      "grid_row": null,
      "grid_template_areas": null,
      "grid_template_columns": null,
      "grid_template_rows": null,
      "height": null,
      "justify_content": null,
      "justify_items": null,
      "left": null,
      "margin": null,
      "max_height": null,
      "max_width": null,
      "min_height": null,
      "min_width": null,
      "object_fit": null,
      "object_position": null,
      "order": null,
      "overflow": null,
      "overflow_x": null,
      "overflow_y": null,
      "padding": null,
      "right": null,
      "top": null,
      "visibility": null,
      "width": null
     }
    },
    "6c065aa34661469ca1efb4c5e90fe136": {
     "model_module": "@jupyter-widgets/controls",
     "model_name": "HBoxModel",
     "state": {
      "_dom_classes": [],
      "_model_module": "@jupyter-widgets/controls",
      "_model_module_version": "1.5.0",
      "_model_name": "HBoxModel",
      "_view_count": null,
      "_view_module": "@jupyter-widgets/controls",
      "_view_module_version": "1.5.0",
      "_view_name": "HBoxView",
      "box_style": "",
      "children": [
       "IPY_MODEL_0a9b58c98508420d8f8936189f064316",
       "IPY_MODEL_8dd5b08bb5bd4e608d04122424796ae7"
      ],
      "layout": "IPY_MODEL_540510088d3947f1b3cf6f4c983c1a53"
     }
    },
    "6d4a26d876fb4ac6b5948a09945bdc6b": {
     "model_module": "@jupyter-widgets/controls",
     "model_name": "DescriptionStyleModel",
     "state": {
      "_model_module": "@jupyter-widgets/controls",
      "_model_module_version": "1.5.0",
      "_model_name": "DescriptionStyleModel",
      "_view_count": null,
      "_view_module": "@jupyter-widgets/base",
      "_view_module_version": "1.2.0",
      "_view_name": "StyleView",
      "description_width": ""
     }
    },
    "6de66d6b7a73434cbdc59b2109bdf0a0": {
     "model_module": "@jupyter-widgets/base",
     "model_name": "LayoutModel",
     "state": {
      "_model_module": "@jupyter-widgets/base",
      "_model_module_version": "1.2.0",
      "_model_name": "LayoutModel",
      "_view_count": null,
      "_view_module": "@jupyter-widgets/base",
      "_view_module_version": "1.2.0",
      "_view_name": "LayoutView",
      "align_content": null,
      "align_items": null,
      "align_self": null,
      "border": null,
      "bottom": null,
      "display": null,
      "flex": null,
      "flex_flow": null,
      "grid_area": null,
      "grid_auto_columns": null,
      "grid_auto_flow": null,
      "grid_auto_rows": null,
      "grid_column": null,
      "grid_gap": null,
      "grid_row": null,
      "grid_template_areas": null,
      "grid_template_columns": null,
      "grid_template_rows": null,
      "height": null,
      "justify_content": null,
      "justify_items": null,
      "left": null,
      "margin": null,
      "max_height": null,
      "max_width": null,
      "min_height": null,
      "min_width": null,
      "object_fit": null,
      "object_position": null,
      "order": null,
      "overflow": null,
      "overflow_x": null,
      "overflow_y": null,
      "padding": null,
      "right": null,
      "top": null,
      "visibility": null,
      "width": null
     }
    },
    "6f60626242534f44a6381195e6eb6530": {
     "model_module": "@jupyter-widgets/controls",
     "model_name": "FloatProgressModel",
     "state": {
      "_dom_classes": [],
      "_model_module": "@jupyter-widgets/controls",
      "_model_module_version": "1.5.0",
      "_model_name": "FloatProgressModel",
      "_view_count": null,
      "_view_module": "@jupyter-widgets/controls",
      "_view_module_version": "1.5.0",
      "_view_name": "ProgressView",
      "bar_style": "success",
      "description": "#2: 100%",
      "description_tooltip": null,
      "layout": "IPY_MODEL_0ffcbedb8d4444508ac0c3c0b41ea8ac",
      "max": 52,
      "min": 0,
      "orientation": "horizontal",
      "style": "IPY_MODEL_5ab30242cd154ec0b560c23c0f178546",
      "value": 52
     }
    },
    "7040945accce4739a41746cc75bb7fce": {
     "model_module": "@jupyter-widgets/controls",
     "model_name": "HBoxModel",
     "state": {
      "_dom_classes": [],
      "_model_module": "@jupyter-widgets/controls",
      "_model_module_version": "1.5.0",
      "_model_name": "HBoxModel",
      "_view_count": null,
      "_view_module": "@jupyter-widgets/controls",
      "_view_module_version": "1.5.0",
      "_view_name": "HBoxView",
      "box_style": "",
      "children": [
       "IPY_MODEL_6f60626242534f44a6381195e6eb6530",
       "IPY_MODEL_9fee9d9dd1164d97a9109e942444c332"
      ],
      "layout": "IPY_MODEL_71011f0d2bc942ac8f9ea1d1fd30c78d"
     }
    },
    "704ea5e05fd744d998b76d6435992995": {
     "model_module": "@jupyter-widgets/controls",
     "model_name": "ProgressStyleModel",
     "state": {
      "_model_module": "@jupyter-widgets/controls",
      "_model_module_version": "1.5.0",
      "_model_name": "ProgressStyleModel",
      "_view_count": null,
      "_view_module": "@jupyter-widgets/base",
      "_view_module_version": "1.2.0",
      "_view_name": "StyleView",
      "bar_color": null,
      "description_width": "initial"
     }
    },
    "71011f0d2bc942ac8f9ea1d1fd30c78d": {
     "model_module": "@jupyter-widgets/base",
     "model_name": "LayoutModel",
     "state": {
      "_model_module": "@jupyter-widgets/base",
      "_model_module_version": "1.2.0",
      "_model_name": "LayoutModel",
      "_view_count": null,
      "_view_module": "@jupyter-widgets/base",
      "_view_module_version": "1.2.0",
      "_view_name": "LayoutView",
      "align_content": null,
      "align_items": null,
      "align_self": null,
      "border": null,
      "bottom": null,
      "display": null,
      "flex": null,
      "flex_flow": null,
      "grid_area": null,
      "grid_auto_columns": null,
      "grid_auto_flow": null,
      "grid_auto_rows": null,
      "grid_column": null,
      "grid_gap": null,
      "grid_row": null,
      "grid_template_areas": null,
      "grid_template_columns": null,
      "grid_template_rows": null,
      "height": null,
      "justify_content": null,
      "justify_items": null,
      "left": null,
      "margin": null,
      "max_height": null,
      "max_width": null,
      "min_height": null,
      "min_width": null,
      "object_fit": null,
      "object_position": null,
      "order": null,
      "overflow": null,
      "overflow_x": null,
      "overflow_y": null,
      "padding": null,
      "right": null,
      "top": null,
      "visibility": null,
      "width": null
     }
    },
    "71c059a0f3c246f3a40d55744331daaa": {
     "model_module": "@jupyter-widgets/controls",
     "model_name": "HTMLModel",
     "state": {
      "_dom_classes": [],
      "_model_module": "@jupyter-widgets/controls",
      "_model_module_version": "1.5.0",
      "_model_name": "HTMLModel",
      "_view_count": null,
      "_view_module": "@jupyter-widgets/controls",
      "_view_module_version": "1.5.0",
      "_view_name": "HTMLView",
      "description": "",
      "description_tooltip": null,
      "layout": "IPY_MODEL_430c3c079d0e4006b90e72df7986ffb0",
      "placeholder": "​",
      "style": "IPY_MODEL_cb5666eb8ebb4d1392e98d6b5af8761c",
      "value": " 325/0 [00:00&lt;00:00, 7071.04 examples/s]"
     }
    },
    "71ffdf6f26ba4381a8e671958e679f88": {
     "model_module": "@jupyter-widgets/controls",
     "model_name": "ProgressStyleModel",
     "state": {
      "_model_module": "@jupyter-widgets/controls",
      "_model_module_version": "1.5.0",
      "_model_name": "ProgressStyleModel",
      "_view_count": null,
      "_view_module": "@jupyter-widgets/base",
      "_view_module_version": "1.2.0",
      "_view_name": "StyleView",
      "bar_color": null,
      "description_width": "initial"
     }
    },
    "73940df84ffd4e0f96637342e9fd12b7": {
     "model_module": "@jupyter-widgets/base",
     "model_name": "LayoutModel",
     "state": {
      "_model_module": "@jupyter-widgets/base",
      "_model_module_version": "1.2.0",
      "_model_name": "LayoutModel",
      "_view_count": null,
      "_view_module": "@jupyter-widgets/base",
      "_view_module_version": "1.2.0",
      "_view_name": "LayoutView",
      "align_content": null,
      "align_items": null,
      "align_self": null,
      "border": null,
      "bottom": null,
      "display": null,
      "flex": null,
      "flex_flow": null,
      "grid_area": null,
      "grid_auto_columns": null,
      "grid_auto_flow": null,
      "grid_auto_rows": null,
      "grid_column": null,
      "grid_gap": null,
      "grid_row": null,
      "grid_template_areas": null,
      "grid_template_columns": null,
      "grid_template_rows": null,
      "height": null,
      "justify_content": null,
      "justify_items": null,
      "left": null,
      "margin": null,
      "max_height": null,
      "max_width": null,
      "min_height": null,
      "min_width": null,
      "object_fit": null,
      "object_position": null,
      "order": null,
      "overflow": null,
      "overflow_x": null,
      "overflow_y": null,
      "padding": null,
      "right": null,
      "top": null,
      "visibility": null,
      "width": null
     }
    },
    "73ecbfc3c5c5456bb42e19b8a34b1576": {
     "model_module": "@jupyter-widgets/base",
     "model_name": "LayoutModel",
     "state": {
      "_model_module": "@jupyter-widgets/base",
      "_model_module_version": "1.2.0",
      "_model_name": "LayoutModel",
      "_view_count": null,
      "_view_module": "@jupyter-widgets/base",
      "_view_module_version": "1.2.0",
      "_view_name": "LayoutView",
      "align_content": null,
      "align_items": null,
      "align_self": null,
      "border": null,
      "bottom": null,
      "display": null,
      "flex": null,
      "flex_flow": null,
      "grid_area": null,
      "grid_auto_columns": null,
      "grid_auto_flow": null,
      "grid_auto_rows": null,
      "grid_column": null,
      "grid_gap": null,
      "grid_row": null,
      "grid_template_areas": null,
      "grid_template_columns": null,
      "grid_template_rows": null,
      "height": null,
      "justify_content": null,
      "justify_items": null,
      "left": null,
      "margin": null,
      "max_height": null,
      "max_width": null,
      "min_height": null,
      "min_width": null,
      "object_fit": null,
      "object_position": null,
      "order": null,
      "overflow": null,
      "overflow_x": null,
      "overflow_y": null,
      "padding": null,
      "right": null,
      "top": null,
      "visibility": null,
      "width": null
     }
    },
    "751ae6b9e2da4b85be9600561485f1ac": {
     "model_module": "@jupyter-widgets/controls",
     "model_name": "DescriptionStyleModel",
     "state": {
      "_model_module": "@jupyter-widgets/controls",
      "_model_module_version": "1.5.0",
      "_model_name": "DescriptionStyleModel",
      "_view_count": null,
      "_view_module": "@jupyter-widgets/base",
      "_view_module_version": "1.2.0",
      "_view_name": "StyleView",
      "description_width": ""
     }
    },
    "757e7bd0e6c5410da0490d191b4e68c8": {
     "model_module": "@jupyter-widgets/controls",
     "model_name": "HTMLModel",
     "state": {
      "_dom_classes": [],
      "_model_module": "@jupyter-widgets/controls",
      "_model_module_version": "1.5.0",
      "_model_name": "HTMLModel",
      "_view_count": null,
      "_view_module": "@jupyter-widgets/controls",
      "_view_module_version": "1.5.0",
      "_view_name": "HTMLView",
      "description": "",
      "description_tooltip": null,
      "layout": "IPY_MODEL_9185f86719af476da41e3835e8f06f8d",
      "placeholder": "​",
      "style": "IPY_MODEL_0b795d4b68014de19bf9579c67b55ffb",
      "value": " 870/870 [05:35&lt;00:00,  2.59ex/s]"
     }
    },
    "75e00c38605f44cfb584067db1160349": {
     "model_module": "@jupyter-widgets/controls",
     "model_name": "FloatProgressModel",
     "state": {
      "_dom_classes": [],
      "_model_module": "@jupyter-widgets/controls",
      "_model_module_version": "1.5.0",
      "_model_name": "FloatProgressModel",
      "_view_count": null,
      "_view_module": "@jupyter-widgets/controls",
      "_view_module_version": "1.5.0",
      "_view_name": "ProgressView",
      "bar_style": "success",
      "description": "100%",
      "description_tooltip": null,
      "layout": "IPY_MODEL_73ecbfc3c5c5456bb42e19b8a34b1576",
      "max": 1,
      "min": 0,
      "orientation": "horizontal",
      "style": "IPY_MODEL_c01aca3229a24d41841be2b4a3a65bcc",
      "value": 1
     }
    },
    "768ab09956774f50a79b2493a8bf179b": {
     "model_module": "@jupyter-widgets/base",
     "model_name": "LayoutModel",
     "state": {
      "_model_module": "@jupyter-widgets/base",
      "_model_module_version": "1.2.0",
      "_model_name": "LayoutModel",
      "_view_count": null,
      "_view_module": "@jupyter-widgets/base",
      "_view_module_version": "1.2.0",
      "_view_name": "LayoutView",
      "align_content": null,
      "align_items": null,
      "align_self": null,
      "border": null,
      "bottom": null,
      "display": null,
      "flex": null,
      "flex_flow": null,
      "grid_area": null,
      "grid_auto_columns": null,
      "grid_auto_flow": null,
      "grid_auto_rows": null,
      "grid_column": null,
      "grid_gap": null,
      "grid_row": null,
      "grid_template_areas": null,
      "grid_template_columns": null,
      "grid_template_rows": null,
      "height": null,
      "justify_content": null,
      "justify_items": null,
      "left": null,
      "margin": null,
      "max_height": null,
      "max_width": null,
      "min_height": null,
      "min_width": null,
      "object_fit": null,
      "object_position": null,
      "order": null,
      "overflow": null,
      "overflow_x": null,
      "overflow_y": null,
      "padding": null,
      "right": null,
      "top": null,
      "visibility": null,
      "width": null
     }
    },
    "76d162d3ea0845cc837651a77a5a2d36": {
     "model_module": "@jupyter-widgets/controls",
     "model_name": "HBoxModel",
     "state": {
      "_dom_classes": [],
      "_model_module": "@jupyter-widgets/controls",
      "_model_module_version": "1.5.0",
      "_model_name": "HBoxModel",
      "_view_count": null,
      "_view_module": "@jupyter-widgets/controls",
      "_view_module_version": "1.5.0",
      "_view_name": "HBoxView",
      "box_style": "",
      "children": [
       "IPY_MODEL_f6b01ad0433a40178ef3ba5657bc1583",
       "IPY_MODEL_eed2ccc12daa4c71b080794a7a18f5cb"
      ],
      "layout": "IPY_MODEL_98c594f1e41e4b3fab10f0763bd93d75"
     }
    },
    "771959e46cb64b3ebafe931f96f5ff52": {
     "model_module": "@jupyter-widgets/controls",
     "model_name": "HBoxModel",
     "state": {
      "_dom_classes": [],
      "_model_module": "@jupyter-widgets/controls",
      "_model_module_version": "1.5.0",
      "_model_name": "HBoxModel",
      "_view_count": null,
      "_view_module": "@jupyter-widgets/controls",
      "_view_module_version": "1.5.0",
      "_view_name": "HBoxView",
      "box_style": "",
      "children": [
       "IPY_MODEL_f792530a76ee486688cbc2502dfae594",
       "IPY_MODEL_d69468d63dd74fdd807fe061b92aa84e"
      ],
      "layout": "IPY_MODEL_0e999af234bd4b63ad2937e61d08b693"
     }
    },
    "7916b06da182435a9cc1d13c73310500": {
     "model_module": "@jupyter-widgets/base",
     "model_name": "LayoutModel",
     "state": {
      "_model_module": "@jupyter-widgets/base",
      "_model_module_version": "1.2.0",
      "_model_name": "LayoutModel",
      "_view_count": null,
      "_view_module": "@jupyter-widgets/base",
      "_view_module_version": "1.2.0",
      "_view_name": "LayoutView",
      "align_content": null,
      "align_items": null,
      "align_self": null,
      "border": null,
      "bottom": null,
      "display": null,
      "flex": null,
      "flex_flow": null,
      "grid_area": null,
      "grid_auto_columns": null,
      "grid_auto_flow": null,
      "grid_auto_rows": null,
      "grid_column": null,
      "grid_gap": null,
      "grid_row": null,
      "grid_template_areas": null,
      "grid_template_columns": null,
      "grid_template_rows": null,
      "height": null,
      "justify_content": null,
      "justify_items": null,
      "left": null,
      "margin": null,
      "max_height": null,
      "max_width": null,
      "min_height": null,
      "min_width": null,
      "object_fit": null,
      "object_position": null,
      "order": null,
      "overflow": null,
      "overflow_x": null,
      "overflow_y": null,
      "padding": null,
      "right": null,
      "top": null,
      "visibility": null,
      "width": null
     }
    },
    "7aa70322bdfe46938b583a20003093d5": {
     "model_module": "@jupyter-widgets/controls",
     "model_name": "DescriptionStyleModel",
     "state": {
      "_model_module": "@jupyter-widgets/controls",
      "_model_module_version": "1.5.0",
      "_model_name": "DescriptionStyleModel",
      "_view_count": null,
      "_view_module": "@jupyter-widgets/base",
      "_view_module_version": "1.2.0",
      "_view_name": "StyleView",
      "description_width": ""
     }
    },
    "7b4cfd2b448643b8a4409dd612aef0d1": {
     "model_module": "@jupyter-widgets/base",
     "model_name": "LayoutModel",
     "state": {
      "_model_module": "@jupyter-widgets/base",
      "_model_module_version": "1.2.0",
      "_model_name": "LayoutModel",
      "_view_count": null,
      "_view_module": "@jupyter-widgets/base",
      "_view_module_version": "1.2.0",
      "_view_name": "LayoutView",
      "align_content": null,
      "align_items": null,
      "align_self": null,
      "border": null,
      "bottom": null,
      "display": null,
      "flex": null,
      "flex_flow": null,
      "grid_area": null,
      "grid_auto_columns": null,
      "grid_auto_flow": null,
      "grid_auto_rows": null,
      "grid_column": null,
      "grid_gap": null,
      "grid_row": null,
      "grid_template_areas": null,
      "grid_template_columns": null,
      "grid_template_rows": null,
      "height": null,
      "justify_content": null,
      "justify_items": null,
      "left": null,
      "margin": null,
      "max_height": null,
      "max_width": null,
      "min_height": null,
      "min_width": null,
      "object_fit": null,
      "object_position": null,
      "order": null,
      "overflow": null,
      "overflow_x": null,
      "overflow_y": null,
      "padding": null,
      "right": null,
      "top": null,
      "visibility": null,
      "width": null
     }
    },
    "7bf5b2b625764f63ad57a360c3fd0a61": {
     "model_module": "@jupyter-widgets/controls",
     "model_name": "DescriptionStyleModel",
     "state": {
      "_model_module": "@jupyter-widgets/controls",
      "_model_module_version": "1.5.0",
      "_model_name": "DescriptionStyleModel",
      "_view_count": null,
      "_view_module": "@jupyter-widgets/base",
      "_view_module_version": "1.2.0",
      "_view_name": "StyleView",
      "description_width": ""
     }
    },
    "7d62810674c8482abe46c60fc08884b4": {
     "model_module": "@jupyter-widgets/controls",
     "model_name": "ProgressStyleModel",
     "state": {
      "_model_module": "@jupyter-widgets/controls",
      "_model_module_version": "1.5.0",
      "_model_name": "ProgressStyleModel",
      "_view_count": null,
      "_view_module": "@jupyter-widgets/base",
      "_view_module_version": "1.2.0",
      "_view_name": "StyleView",
      "bar_color": null,
      "description_width": "initial"
     }
    },
    "7e50f8027fb74d669daae5e46082026c": {
     "model_module": "@jupyter-widgets/base",
     "model_name": "LayoutModel",
     "state": {
      "_model_module": "@jupyter-widgets/base",
      "_model_module_version": "1.2.0",
      "_model_name": "LayoutModel",
      "_view_count": null,
      "_view_module": "@jupyter-widgets/base",
      "_view_module_version": "1.2.0",
      "_view_name": "LayoutView",
      "align_content": null,
      "align_items": null,
      "align_self": null,
      "border": null,
      "bottom": null,
      "display": null,
      "flex": null,
      "flex_flow": null,
      "grid_area": null,
      "grid_auto_columns": null,
      "grid_auto_flow": null,
      "grid_auto_rows": null,
      "grid_column": null,
      "grid_gap": null,
      "grid_row": null,
      "grid_template_areas": null,
      "grid_template_columns": null,
      "grid_template_rows": null,
      "height": null,
      "justify_content": null,
      "justify_items": null,
      "left": null,
      "margin": null,
      "max_height": null,
      "max_width": null,
      "min_height": null,
      "min_width": null,
      "object_fit": null,
      "object_position": null,
      "order": null,
      "overflow": null,
      "overflow_x": null,
      "overflow_y": null,
      "padding": null,
      "right": null,
      "top": null,
      "visibility": null,
      "width": null
     }
    },
    "7edbecaccdd94ede8fddc0e1807e777e": {
     "model_module": "@jupyter-widgets/controls",
     "model_name": "FloatProgressModel",
     "state": {
      "_dom_classes": [],
      "_model_module": "@jupyter-widgets/controls",
      "_model_module_version": "1.5.0",
      "_model_name": "FloatProgressModel",
      "_view_count": null,
      "_view_module": "@jupyter-widgets/controls",
      "_view_module_version": "1.5.0",
      "_view_name": "ProgressView",
      "bar_style": "success",
      "description": "100%",
      "description_tooltip": null,
      "layout": "IPY_MODEL_3e3a022a9f304b0f9f7ef067fcee1e56",
      "max": 3478,
      "min": 0,
      "orientation": "horizontal",
      "style": "IPY_MODEL_b9c5c6dd54cc4dc5ad5a2bb69a24ab05",
      "value": 3478
     }
    },
    "7ef969e47c2d429a9848d5ab3f5bb2d9": {
     "model_module": "@jupyter-widgets/controls",
     "model_name": "HBoxModel",
     "state": {
      "_dom_classes": [],
      "_model_module": "@jupyter-widgets/controls",
      "_model_module_version": "1.5.0",
      "_model_name": "HBoxModel",
      "_view_count": null,
      "_view_module": "@jupyter-widgets/controls",
      "_view_module_version": "1.5.0",
      "_view_name": "HBoxView",
      "box_style": "",
      "children": [
       "IPY_MODEL_015c5690e1ea4281954c7efda1c80a6a",
       "IPY_MODEL_f4135dd72864445391f43f387635bfdc"
      ],
      "layout": "IPY_MODEL_fe62265afdc74026b7e9c5a50ef61d2c"
     }
    },
    "7f5203fde6b64bf7ad53d6ecd3041bfc": {
     "model_module": "@jupyter-widgets/controls",
     "model_name": "DescriptionStyleModel",
     "state": {
      "_model_module": "@jupyter-widgets/controls",
      "_model_module_version": "1.5.0",
      "_model_name": "DescriptionStyleModel",
      "_view_count": null,
      "_view_module": "@jupyter-widgets/base",
      "_view_module_version": "1.2.0",
      "_view_name": "StyleView",
      "description_width": ""
     }
    },
    "7f787df324514a8c915785e272a8af18": {
     "model_module": "@jupyter-widgets/controls",
     "model_name": "FloatProgressModel",
     "state": {
      "_dom_classes": [],
      "_model_module": "@jupyter-widgets/controls",
      "_model_module_version": "1.5.0",
      "_model_name": "FloatProgressModel",
      "_view_count": null,
      "_view_module": "@jupyter-widgets/controls",
      "_view_module_version": "1.5.0",
      "_view_name": "ProgressView",
      "bar_style": "info",
      "description": "",
      "description_tooltip": null,
      "layout": "IPY_MODEL_7916b06da182435a9cc1d13c73310500",
      "max": 1,
      "min": 0,
      "orientation": "horizontal",
      "style": "IPY_MODEL_71ffdf6f26ba4381a8e671958e679f88",
      "value": 1
     }
    },
    "80697300a4394b909f1c499ba80aeb13": {
     "model_module": "@jupyter-widgets/base",
     "model_name": "LayoutModel",
     "state": {
      "_model_module": "@jupyter-widgets/base",
      "_model_module_version": "1.2.0",
      "_model_name": "LayoutModel",
      "_view_count": null,
      "_view_module": "@jupyter-widgets/base",
      "_view_module_version": "1.2.0",
      "_view_name": "LayoutView",
      "align_content": null,
      "align_items": null,
      "align_self": null,
      "border": null,
      "bottom": null,
      "display": null,
      "flex": null,
      "flex_flow": null,
      "grid_area": null,
      "grid_auto_columns": null,
      "grid_auto_flow": null,
      "grid_auto_rows": null,
      "grid_column": null,
      "grid_gap": null,
      "grid_row": null,
      "grid_template_areas": null,
      "grid_template_columns": null,
      "grid_template_rows": null,
      "height": null,
      "justify_content": null,
      "justify_items": null,
      "left": null,
      "margin": null,
      "max_height": null,
      "max_width": null,
      "min_height": null,
      "min_width": null,
      "object_fit": null,
      "object_position": null,
      "order": null,
      "overflow": null,
      "overflow_x": null,
      "overflow_y": null,
      "padding": null,
      "right": null,
      "top": null,
      "visibility": null,
      "width": null
     }
    },
    "813fc95246034f5cb9e5198897b4ed42": {
     "model_module": "@jupyter-widgets/controls",
     "model_name": "DescriptionStyleModel",
     "state": {
      "_model_module": "@jupyter-widgets/controls",
      "_model_module_version": "1.5.0",
      "_model_name": "DescriptionStyleModel",
      "_view_count": null,
      "_view_module": "@jupyter-widgets/base",
      "_view_module_version": "1.2.0",
      "_view_name": "StyleView",
      "description_width": ""
     }
    },
    "82015055d32449b89346ea18e7474c4d": {
     "model_module": "@jupyter-widgets/controls",
     "model_name": "HBoxModel",
     "state": {
      "_dom_classes": [],
      "_model_module": "@jupyter-widgets/controls",
      "_model_module_version": "1.5.0",
      "_model_name": "HBoxModel",
      "_view_count": null,
      "_view_module": "@jupyter-widgets/controls",
      "_view_module_version": "1.5.0",
      "_view_name": "HBoxView",
      "box_style": "",
      "children": [
       "IPY_MODEL_f5f1f0865d7e4d8b810ccb9c3c4d2683",
       "IPY_MODEL_416badb151ee4660b53fdbc136e0c8fb"
      ],
      "layout": "IPY_MODEL_a170c0cb21cf425fbee97fd6d5584e2c"
     }
    },
    "824569c63ec445c08362659ca228dd2a": {
     "model_module": "@jupyter-widgets/controls",
     "model_name": "DescriptionStyleModel",
     "state": {
      "_model_module": "@jupyter-widgets/controls",
      "_model_module_version": "1.5.0",
      "_model_name": "DescriptionStyleModel",
      "_view_count": null,
      "_view_module": "@jupyter-widgets/base",
      "_view_module_version": "1.2.0",
      "_view_name": "StyleView",
      "description_width": ""
     }
    },
    "8292dafcd40745958d0f3c563bf6b9b0": {
     "model_module": "@jupyter-widgets/controls",
     "model_name": "ProgressStyleModel",
     "state": {
      "_model_module": "@jupyter-widgets/controls",
      "_model_module_version": "1.5.0",
      "_model_name": "ProgressStyleModel",
      "_view_count": null,
      "_view_module": "@jupyter-widgets/base",
      "_view_module_version": "1.2.0",
      "_view_name": "StyleView",
      "bar_color": null,
      "description_width": "initial"
     }
    },
    "83b51e16d88046c48dcd745cf09d2e56": {
     "model_module": "@jupyter-widgets/base",
     "model_name": "LayoutModel",
     "state": {
      "_model_module": "@jupyter-widgets/base",
      "_model_module_version": "1.2.0",
      "_model_name": "LayoutModel",
      "_view_count": null,
      "_view_module": "@jupyter-widgets/base",
      "_view_module_version": "1.2.0",
      "_view_name": "LayoutView",
      "align_content": null,
      "align_items": null,
      "align_self": null,
      "border": null,
      "bottom": null,
      "display": null,
      "flex": null,
      "flex_flow": null,
      "grid_area": null,
      "grid_auto_columns": null,
      "grid_auto_flow": null,
      "grid_auto_rows": null,
      "grid_column": null,
      "grid_gap": null,
      "grid_row": null,
      "grid_template_areas": null,
      "grid_template_columns": null,
      "grid_template_rows": null,
      "height": null,
      "justify_content": null,
      "justify_items": null,
      "left": null,
      "margin": null,
      "max_height": null,
      "max_width": null,
      "min_height": null,
      "min_width": null,
      "object_fit": null,
      "object_position": null,
      "order": null,
      "overflow": null,
      "overflow_x": null,
      "overflow_y": null,
      "padding": null,
      "right": null,
      "top": null,
      "visibility": null,
      "width": null
     }
    },
    "84e7f0001ebe458dad3c96e7e9a38cdc": {
     "model_module": "@jupyter-widgets/base",
     "model_name": "LayoutModel",
     "state": {
      "_model_module": "@jupyter-widgets/base",
      "_model_module_version": "1.2.0",
      "_model_name": "LayoutModel",
      "_view_count": null,
      "_view_module": "@jupyter-widgets/base",
      "_view_module_version": "1.2.0",
      "_view_name": "LayoutView",
      "align_content": null,
      "align_items": null,
      "align_self": null,
      "border": null,
      "bottom": null,
      "display": null,
      "flex": null,
      "flex_flow": null,
      "grid_area": null,
      "grid_auto_columns": null,
      "grid_auto_flow": null,
      "grid_auto_rows": null,
      "grid_column": null,
      "grid_gap": null,
      "grid_row": null,
      "grid_template_areas": null,
      "grid_template_columns": null,
      "grid_template_rows": null,
      "height": null,
      "justify_content": null,
      "justify_items": null,
      "left": null,
      "margin": null,
      "max_height": null,
      "max_width": null,
      "min_height": null,
      "min_width": null,
      "object_fit": null,
      "object_position": null,
      "order": null,
      "overflow": null,
      "overflow_x": null,
      "overflow_y": null,
      "padding": null,
      "right": null,
      "top": null,
      "visibility": null,
      "width": null
     }
    },
    "8701fb161cec47e89fc4d57b599ee7fe": {
     "model_module": "@jupyter-widgets/controls",
     "model_name": "HBoxModel",
     "state": {
      "_dom_classes": [],
      "_model_module": "@jupyter-widgets/controls",
      "_model_module_version": "1.5.0",
      "_model_name": "HBoxModel",
      "_view_count": null,
      "_view_module": "@jupyter-widgets/controls",
      "_view_module_version": "1.5.0",
      "_view_name": "HBoxView",
      "box_style": "",
      "children": [
       "IPY_MODEL_7f787df324514a8c915785e272a8af18",
       "IPY_MODEL_889da3e5ed2945849d3c8a6a75175747"
      ],
      "layout": "IPY_MODEL_1813458f75514f039ba0214597a09bb4"
     }
    },
    "889da3e5ed2945849d3c8a6a75175747": {
     "model_module": "@jupyter-widgets/controls",
     "model_name": "HTMLModel",
     "state": {
      "_dom_classes": [],
      "_model_module": "@jupyter-widgets/controls",
      "_model_module_version": "1.5.0",
      "_model_name": "HTMLModel",
      "_view_count": null,
      "_view_module": "@jupyter-widgets/controls",
      "_view_module_version": "1.5.0",
      "_view_name": "HTMLView",
      "description": "",
      "description_tooltip": null,
      "layout": "IPY_MODEL_2cd13e03a2ab45dc8570c8c739a613b4",
      "placeholder": "​",
      "style": "IPY_MODEL_59e0f5200068461cbfb256ad5479c4c8",
      "value": " 1647/0 [00:00&lt;00:00, 14767.90 examples/s]"
     }
    },
    "8ad3e4b211e34c048d0f48e36fdbfe48": {
     "model_module": "@jupyter-widgets/controls",
     "model_name": "DescriptionStyleModel",
     "state": {
      "_model_module": "@jupyter-widgets/controls",
      "_model_module_version": "1.5.0",
      "_model_name": "DescriptionStyleModel",
      "_view_count": null,
      "_view_module": "@jupyter-widgets/base",
      "_view_module_version": "1.2.0",
      "_view_name": "StyleView",
      "description_width": ""
     }
    },
    "8bb78a89ff81400791e3005098fdcb94": {
     "model_module": "@jupyter-widgets/base",
     "model_name": "LayoutModel",
     "state": {
      "_model_module": "@jupyter-widgets/base",
      "_model_module_version": "1.2.0",
      "_model_name": "LayoutModel",
      "_view_count": null,
      "_view_module": "@jupyter-widgets/base",
      "_view_module_version": "1.2.0",
      "_view_name": "LayoutView",
      "align_content": null,
      "align_items": null,
      "align_self": null,
      "border": null,
      "bottom": null,
      "display": null,
      "flex": null,
      "flex_flow": null,
      "grid_area": null,
      "grid_auto_columns": null,
      "grid_auto_flow": null,
      "grid_auto_rows": null,
      "grid_column": null,
      "grid_gap": null,
      "grid_row": null,
      "grid_template_areas": null,
      "grid_template_columns": null,
      "grid_template_rows": null,
      "height": null,
      "justify_content": null,
      "justify_items": null,
      "left": null,
      "margin": null,
      "max_height": null,
      "max_width": null,
      "min_height": null,
      "min_width": null,
      "object_fit": null,
      "object_position": null,
      "order": null,
      "overflow": null,
      "overflow_x": null,
      "overflow_y": null,
      "padding": null,
      "right": null,
      "top": null,
      "visibility": null,
      "width": null
     }
    },
    "8c07a528fc4a4e108b393ab117fe2e46": {
     "model_module": "@jupyter-widgets/controls",
     "model_name": "HTMLModel",
     "state": {
      "_dom_classes": [],
      "_model_module": "@jupyter-widgets/controls",
      "_model_module_version": "1.5.0",
      "_model_name": "HTMLModel",
      "_view_count": null,
      "_view_module": "@jupyter-widgets/controls",
      "_view_module_version": "1.5.0",
      "_view_name": "HTMLView",
      "description": "",
      "description_tooltip": null,
      "layout": "IPY_MODEL_8bb78a89ff81400791e3005098fdcb94",
      "placeholder": "​",
      "style": "IPY_MODEL_813fc95246034f5cb9e5198897b4ed42",
      "value": " 1/1 [00:00&lt;00:00, 13.94ba/s]"
     }
    },
    "8d409ca0372a48e2972ca1d8eee5ffa1": {
     "model_module": "@jupyter-widgets/controls",
     "model_name": "HTMLModel",
     "state": {
      "_dom_classes": [],
      "_model_module": "@jupyter-widgets/controls",
      "_model_module_version": "1.5.0",
      "_model_name": "HTMLModel",
      "_view_count": null,
      "_view_module": "@jupyter-widgets/controls",
      "_view_module_version": "1.5.0",
      "_view_name": "HTMLView",
      "description": "",
      "description_tooltip": null,
      "layout": "IPY_MODEL_b0479f03f96241ca959f6fe7bcbd1aba",
      "placeholder": "​",
      "style": "IPY_MODEL_d362345c05234c97a675c6bacdad0e92",
      "value": " 1647/1647 [01:20&lt;00:00, 20.38ex/s]"
     }
    },
    "8dd5b08bb5bd4e608d04122424796ae7": {
     "model_module": "@jupyter-widgets/controls",
     "model_name": "HTMLModel",
     "state": {
      "_dom_classes": [],
      "_model_module": "@jupyter-widgets/controls",
      "_model_module_version": "1.5.0",
      "_model_name": "HTMLModel",
      "_view_count": null,
      "_view_module": "@jupyter-widgets/controls",
      "_view_module_version": "1.5.0",
      "_view_name": "HTMLView",
      "description": "",
      "description_tooltip": null,
      "layout": "IPY_MODEL_9eb51a6ecf3f41578aa397a5c2a33673",
      "placeholder": "​",
      "style": "IPY_MODEL_2f18d89c684343b69c3f44ffbb9b42a0",
      "value": " 1726/0 [00:00&lt;00:00, 13986.88 examples/s]"
     }
    },
    "8dddd0245dcb4532917cbfa0181d2a00": {
     "model_module": "@jupyter-widgets/controls",
     "model_name": "FloatProgressModel",
     "state": {
      "_dom_classes": [],
      "_model_module": "@jupyter-widgets/controls",
      "_model_module_version": "1.5.0",
      "_model_name": "FloatProgressModel",
      "_view_count": null,
      "_view_module": "@jupyter-widgets/controls",
      "_view_module_version": "1.5.0",
      "_view_name": "ProgressView",
      "bar_style": "success",
      "description": "#2: 100%",
      "description_tooltip": null,
      "layout": "IPY_MODEL_b1d93a7521fa47b8a815445b5232da59",
      "max": 412,
      "min": 0,
      "orientation": "horizontal",
      "style": "IPY_MODEL_024989cea06f435894776b0a921164b2",
      "value": 412
     }
    },
    "8df9d19602cb4951b397c385458a11ef": {
     "model_module": "@jupyter-widgets/controls",
     "model_name": "DescriptionStyleModel",
     "state": {
      "_model_module": "@jupyter-widgets/controls",
      "_model_module_version": "1.5.0",
      "_model_name": "DescriptionStyleModel",
      "_view_count": null,
      "_view_module": "@jupyter-widgets/base",
      "_view_module_version": "1.2.0",
      "_view_name": "StyleView",
      "description_width": ""
     }
    },
    "8e1a85a4a6214a16b7431da23a301ada": {
     "model_module": "@jupyter-widgets/controls",
     "model_name": "FloatProgressModel",
     "state": {
      "_dom_classes": [],
      "_model_module": "@jupyter-widgets/controls",
      "_model_module_version": "1.5.0",
      "_model_name": "FloatProgressModel",
      "_view_count": null,
      "_view_module": "@jupyter-widgets/controls",
      "_view_module_version": "1.5.0",
      "_view_name": "ProgressView",
      "bar_style": "success",
      "description": "Downloading: ",
      "description_tooltip": null,
      "layout": "IPY_MODEL_d453bd4a35e54bfba20dac1fe86c60c1",
      "max": 1764,
      "min": 0,
      "orientation": "horizontal",
      "style": "IPY_MODEL_a3c04c75ec9743feb795f69e7c4dff4f",
      "value": 1764
     }
    },
    "8e63ba7f1fd24555bf11bc9dbe9c770b": {
     "model_module": "@jupyter-widgets/controls",
     "model_name": "HTMLModel",
     "state": {
      "_dom_classes": [],
      "_model_module": "@jupyter-widgets/controls",
      "_model_module_version": "1.5.0",
      "_model_name": "HTMLModel",
      "_view_count": null,
      "_view_module": "@jupyter-widgets/controls",
      "_view_module_version": "1.5.0",
      "_view_name": "HTMLView",
      "description": "",
      "description_tooltip": null,
      "layout": "IPY_MODEL_26e7bab0f3bf4797bfcef83dcace24f0",
      "placeholder": "​",
      "style": "IPY_MODEL_405b5de4ae854cf9896f63d15f2207dd",
      "value": " 52/52 [00:30&lt;00:00,  1.68ba/s]"
     }
    },
    "8f737725708c4097a8caaf4da6229636": {
     "model_module": "@jupyter-widgets/base",
     "model_name": "LayoutModel",
     "state": {
      "_model_module": "@jupyter-widgets/base",
      "_model_module_version": "1.2.0",
      "_model_name": "LayoutModel",
      "_view_count": null,
      "_view_module": "@jupyter-widgets/base",
      "_view_module_version": "1.2.0",
      "_view_name": "LayoutView",
      "align_content": null,
      "align_items": null,
      "align_self": null,
      "border": null,
      "bottom": null,
      "display": null,
      "flex": null,
      "flex_flow": null,
      "grid_area": null,
      "grid_auto_columns": null,
      "grid_auto_flow": null,
      "grid_auto_rows": null,
      "grid_column": null,
      "grid_gap": null,
      "grid_row": null,
      "grid_template_areas": null,
      "grid_template_columns": null,
      "grid_template_rows": null,
      "height": null,
      "justify_content": null,
      "justify_items": null,
      "left": null,
      "margin": null,
      "max_height": null,
      "max_width": null,
      "min_height": null,
      "min_width": null,
      "object_fit": null,
      "object_position": null,
      "order": null,
      "overflow": null,
      "overflow_x": null,
      "overflow_y": null,
      "padding": null,
      "right": null,
      "top": null,
      "visibility": null,
      "width": null
     }
    },
    "90b8bc59e26a46009e1d3763f86f227a": {
     "model_module": "@jupyter-widgets/controls",
     "model_name": "HBoxModel",
     "state": {
      "_dom_classes": [],
      "_model_module": "@jupyter-widgets/controls",
      "_model_module_version": "1.5.0",
      "_model_name": "HBoxModel",
      "_view_count": null,
      "_view_module": "@jupyter-widgets/controls",
      "_view_module_version": "1.5.0",
      "_view_name": "HBoxView",
      "box_style": "",
      "children": [
       "IPY_MODEL_98e7ab5f7ebf426fbb71a37bbad4c28f",
       "IPY_MODEL_e3b719c0ffcc4fd1b410ffb7f969b7a5"
      ],
      "layout": "IPY_MODEL_3e2cd59ac697495f8db14b894b783f95"
     }
    },
    "9185f86719af476da41e3835e8f06f8d": {
     "model_module": "@jupyter-widgets/base",
     "model_name": "LayoutModel",
     "state": {
      "_model_module": "@jupyter-widgets/base",
      "_model_module_version": "1.2.0",
      "_model_name": "LayoutModel",
      "_view_count": null,
      "_view_module": "@jupyter-widgets/base",
      "_view_module_version": "1.2.0",
      "_view_name": "LayoutView",
      "align_content": null,
      "align_items": null,
      "align_self": null,
      "border": null,
      "bottom": null,
      "display": null,
      "flex": null,
      "flex_flow": null,
      "grid_area": null,
      "grid_auto_columns": null,
      "grid_auto_flow": null,
      "grid_auto_rows": null,
      "grid_column": null,
      "grid_gap": null,
      "grid_row": null,
      "grid_template_areas": null,
      "grid_template_columns": null,
      "grid_template_rows": null,
      "height": null,
      "justify_content": null,
      "justify_items": null,
      "left": null,
      "margin": null,
      "max_height": null,
      "max_width": null,
      "min_height": null,
      "min_width": null,
      "object_fit": null,
      "object_position": null,
      "order": null,
      "overflow": null,
      "overflow_x": null,
      "overflow_y": null,
      "padding": null,
      "right": null,
      "top": null,
      "visibility": null,
      "width": null
     }
    },
    "91fcf0641fe3489ab96f3aaa40adf245": {
     "model_module": "@jupyter-widgets/base",
     "model_name": "LayoutModel",
     "state": {
      "_model_module": "@jupyter-widgets/base",
      "_model_module_version": "1.2.0",
      "_model_name": "LayoutModel",
      "_view_count": null,
      "_view_module": "@jupyter-widgets/base",
      "_view_module_version": "1.2.0",
      "_view_name": "LayoutView",
      "align_content": null,
      "align_items": null,
      "align_self": null,
      "border": null,
      "bottom": null,
      "display": null,
      "flex": null,
      "flex_flow": null,
      "grid_area": null,
      "grid_auto_columns": null,
      "grid_auto_flow": null,
      "grid_auto_rows": null,
      "grid_column": null,
      "grid_gap": null,
      "grid_row": null,
      "grid_template_areas": null,
      "grid_template_columns": null,
      "grid_template_rows": null,
      "height": null,
      "justify_content": null,
      "justify_items": null,
      "left": null,
      "margin": null,
      "max_height": null,
      "max_width": null,
      "min_height": null,
      "min_width": null,
      "object_fit": null,
      "object_position": null,
      "order": null,
      "overflow": null,
      "overflow_x": null,
      "overflow_y": null,
      "padding": null,
      "right": null,
      "top": null,
      "visibility": null,
      "width": null
     }
    },
    "923ed9e127524187ab8cfcac31164ba7": {
     "model_module": "@jupyter-widgets/base",
     "model_name": "LayoutModel",
     "state": {
      "_model_module": "@jupyter-widgets/base",
      "_model_module_version": "1.2.0",
      "_model_name": "LayoutModel",
      "_view_count": null,
      "_view_module": "@jupyter-widgets/base",
      "_view_module_version": "1.2.0",
      "_view_name": "LayoutView",
      "align_content": null,
      "align_items": null,
      "align_self": null,
      "border": null,
      "bottom": null,
      "display": null,
      "flex": null,
      "flex_flow": null,
      "grid_area": null,
      "grid_auto_columns": null,
      "grid_auto_flow": null,
      "grid_auto_rows": null,
      "grid_column": null,
      "grid_gap": null,
      "grid_row": null,
      "grid_template_areas": null,
      "grid_template_columns": null,
      "grid_template_rows": null,
      "height": null,
      "justify_content": null,
      "justify_items": null,
      "left": null,
      "margin": null,
      "max_height": null,
      "max_width": null,
      "min_height": null,
      "min_width": null,
      "object_fit": null,
      "object_position": null,
      "order": null,
      "overflow": null,
      "overflow_x": null,
      "overflow_y": null,
      "padding": null,
      "right": null,
      "top": null,
      "visibility": null,
      "width": null
     }
    },
    "929cde17b3484f3e9e8f8774bc43e374": {
     "model_module": "@jupyter-widgets/controls",
     "model_name": "ProgressStyleModel",
     "state": {
      "_model_module": "@jupyter-widgets/controls",
      "_model_module_version": "1.5.0",
      "_model_name": "ProgressStyleModel",
      "_view_count": null,
      "_view_module": "@jupyter-widgets/base",
      "_view_module_version": "1.2.0",
      "_view_name": "StyleView",
      "bar_color": null,
      "description_width": "initial"
     }
    },
    "92a35db69bbf4ad6af44c53aa3870be5": {
     "model_module": "@jupyter-widgets/controls",
     "model_name": "HBoxModel",
     "state": {
      "_dom_classes": [],
      "_model_module": "@jupyter-widgets/controls",
      "_model_module_version": "1.5.0",
      "_model_name": "HBoxModel",
      "_view_count": null,
      "_view_module": "@jupyter-widgets/controls",
      "_view_module_version": "1.5.0",
      "_view_name": "HBoxView",
      "box_style": "",
      "children": [
       "IPY_MODEL_b94e374d92c146009447c3827b977267",
       "IPY_MODEL_1f1faa7b986e475c9e6839b2e7b55c74"
      ],
      "layout": "IPY_MODEL_389e43e47a734193a507817ebad955f7"
     }
    },
    "93f191a48b3141e1889fd94870b6ac0e": {
     "model_module": "@jupyter-widgets/base",
     "model_name": "LayoutModel",
     "state": {
      "_model_module": "@jupyter-widgets/base",
      "_model_module_version": "1.2.0",
      "_model_name": "LayoutModel",
      "_view_count": null,
      "_view_module": "@jupyter-widgets/base",
      "_view_module_version": "1.2.0",
      "_view_name": "LayoutView",
      "align_content": null,
      "align_items": null,
      "align_self": null,
      "border": null,
      "bottom": null,
      "display": null,
      "flex": null,
      "flex_flow": null,
      "grid_area": null,
      "grid_auto_columns": null,
      "grid_auto_flow": null,
      "grid_auto_rows": null,
      "grid_column": null,
      "grid_gap": null,
      "grid_row": null,
      "grid_template_areas": null,
      "grid_template_columns": null,
      "grid_template_rows": null,
      "height": null,
      "justify_content": null,
      "justify_items": null,
      "left": null,
      "margin": null,
      "max_height": null,
      "max_width": null,
      "min_height": null,
      "min_width": null,
      "object_fit": null,
      "object_position": null,
      "order": null,
      "overflow": null,
      "overflow_x": null,
      "overflow_y": null,
      "padding": null,
      "right": null,
      "top": null,
      "visibility": null,
      "width": null
     }
    },
    "9532db4cdc5e4371a4a02055a4c67a08": {
     "model_module": "@jupyter-widgets/controls",
     "model_name": "DescriptionStyleModel",
     "state": {
      "_model_module": "@jupyter-widgets/controls",
      "_model_module_version": "1.5.0",
      "_model_name": "DescriptionStyleModel",
      "_view_count": null,
      "_view_module": "@jupyter-widgets/base",
      "_view_module_version": "1.2.0",
      "_view_name": "StyleView",
      "description_width": ""
     }
    },
    "969080b52ad44ee997829986d198c505": {
     "model_module": "@jupyter-widgets/controls",
     "model_name": "DescriptionStyleModel",
     "state": {
      "_model_module": "@jupyter-widgets/controls",
      "_model_module_version": "1.5.0",
      "_model_name": "DescriptionStyleModel",
      "_view_count": null,
      "_view_module": "@jupyter-widgets/base",
      "_view_module_version": "1.2.0",
      "_view_name": "StyleView",
      "description_width": ""
     }
    },
    "98c594f1e41e4b3fab10f0763bd93d75": {
     "model_module": "@jupyter-widgets/base",
     "model_name": "LayoutModel",
     "state": {
      "_model_module": "@jupyter-widgets/base",
      "_model_module_version": "1.2.0",
      "_model_name": "LayoutModel",
      "_view_count": null,
      "_view_module": "@jupyter-widgets/base",
      "_view_module_version": "1.2.0",
      "_view_name": "LayoutView",
      "align_content": null,
      "align_items": null,
      "align_self": null,
      "border": null,
      "bottom": null,
      "display": null,
      "flex": null,
      "flex_flow": null,
      "grid_area": null,
      "grid_auto_columns": null,
      "grid_auto_flow": null,
      "grid_auto_rows": null,
      "grid_column": null,
      "grid_gap": null,
      "grid_row": null,
      "grid_template_areas": null,
      "grid_template_columns": null,
      "grid_template_rows": null,
      "height": null,
      "justify_content": null,
      "justify_items": null,
      "left": null,
      "margin": null,
      "max_height": null,
      "max_width": null,
      "min_height": null,
      "min_width": null,
      "object_fit": null,
      "object_position": null,
      "order": null,
      "overflow": null,
      "overflow_x": null,
      "overflow_y": null,
      "padding": null,
      "right": null,
      "top": null,
      "visibility": null,
      "width": null
     }
    },
    "98e7ab5f7ebf426fbb71a37bbad4c28f": {
     "model_module": "@jupyter-widgets/controls",
     "model_name": "FloatProgressModel",
     "state": {
      "_dom_classes": [],
      "_model_module": "@jupyter-widgets/controls",
      "_model_module_version": "1.5.0",
      "_model_name": "FloatProgressModel",
      "_view_count": null,
      "_view_module": "@jupyter-widgets/controls",
      "_view_module_version": "1.5.0",
      "_view_name": "ProgressView",
      "bar_style": "info",
      "description": "",
      "description_tooltip": null,
      "layout": "IPY_MODEL_2f5406546970425282a881b5d2f7c248",
      "max": 1,
      "min": 0,
      "orientation": "horizontal",
      "style": "IPY_MODEL_4382726ef043441a9b1a4a647d84f242",
      "value": 1
     }
    },
    "998676d59f9c464e8463d65baad6448b": {
     "model_module": "@jupyter-widgets/controls",
     "model_name": "HTMLModel",
     "state": {
      "_dom_classes": [],
      "_model_module": "@jupyter-widgets/controls",
      "_model_module_version": "1.5.0",
      "_model_name": "HTMLModel",
      "_view_count": null,
      "_view_module": "@jupyter-widgets/controls",
      "_view_module_version": "1.5.0",
      "_view_name": "HTMLView",
      "description": "",
      "description_tooltip": null,
      "layout": "IPY_MODEL_7b4cfd2b448643b8a4409dd612aef0d1",
      "placeholder": "​",
      "style": "IPY_MODEL_7bf5b2b625764f63ad57a360c3fd0a61",
      "value": " 1647/1647 [00:45&lt;00:00, 36.39ex/s]"
     }
    },
    "99d5c44ea54b45ee9bd89380cb1ad189": {
     "model_module": "@jupyter-widgets/base",
     "model_name": "LayoutModel",
     "state": {
      "_model_module": "@jupyter-widgets/base",
      "_model_module_version": "1.2.0",
      "_model_name": "LayoutModel",
      "_view_count": null,
      "_view_module": "@jupyter-widgets/base",
      "_view_module_version": "1.2.0",
      "_view_name": "LayoutView",
      "align_content": null,
      "align_items": null,
      "align_self": null,
      "border": null,
      "bottom": null,
      "display": null,
      "flex": null,
      "flex_flow": null,
      "grid_area": null,
      "grid_auto_columns": null,
      "grid_auto_flow": null,
      "grid_auto_rows": null,
      "grid_column": null,
      "grid_gap": null,
      "grid_row": null,
      "grid_template_areas": null,
      "grid_template_columns": null,
      "grid_template_rows": null,
      "height": null,
      "justify_content": null,
      "justify_items": null,
      "left": null,
      "margin": null,
      "max_height": null,
      "max_width": null,
      "min_height": null,
      "min_width": null,
      "object_fit": null,
      "object_position": null,
      "order": null,
      "overflow": null,
      "overflow_x": null,
      "overflow_y": null,
      "padding": null,
      "right": null,
      "top": null,
      "visibility": null,
      "width": null
     }
    },
    "9eb51a6ecf3f41578aa397a5c2a33673": {
     "model_module": "@jupyter-widgets/base",
     "model_name": "LayoutModel",
     "state": {
      "_model_module": "@jupyter-widgets/base",
      "_model_module_version": "1.2.0",
      "_model_name": "LayoutModel",
      "_view_count": null,
      "_view_module": "@jupyter-widgets/base",
      "_view_module_version": "1.2.0",
      "_view_name": "LayoutView",
      "align_content": null,
      "align_items": null,
      "align_self": null,
      "border": null,
      "bottom": null,
      "display": null,
      "flex": null,
      "flex_flow": null,
      "grid_area": null,
      "grid_auto_columns": null,
      "grid_auto_flow": null,
      "grid_auto_rows": null,
      "grid_column": null,
      "grid_gap": null,
      "grid_row": null,
      "grid_template_areas": null,
      "grid_template_columns": null,
      "grid_template_rows": null,
      "height": null,
      "justify_content": null,
      "justify_items": null,
      "left": null,
      "margin": null,
      "max_height": null,
      "max_width": null,
      "min_height": null,
      "min_width": null,
      "object_fit": null,
      "object_position": null,
      "order": null,
      "overflow": null,
      "overflow_x": null,
      "overflow_y": null,
      "padding": null,
      "right": null,
      "top": null,
      "visibility": null,
      "width": null
     }
    },
    "9f79629ad6a94201acf3283862d1ae17": {
     "model_module": "@jupyter-widgets/controls",
     "model_name": "DescriptionStyleModel",
     "state": {
      "_model_module": "@jupyter-widgets/controls",
      "_model_module_version": "1.5.0",
      "_model_name": "DescriptionStyleModel",
      "_view_count": null,
      "_view_module": "@jupyter-widgets/base",
      "_view_module_version": "1.2.0",
      "_view_name": "StyleView",
      "description_width": ""
     }
    },
    "9fee9d9dd1164d97a9109e942444c332": {
     "model_module": "@jupyter-widgets/controls",
     "model_name": "HTMLModel",
     "state": {
      "_dom_classes": [],
      "_model_module": "@jupyter-widgets/controls",
      "_model_module_version": "1.5.0",
      "_model_name": "HTMLModel",
      "_view_count": null,
      "_view_module": "@jupyter-widgets/controls",
      "_view_module_version": "1.5.0",
      "_view_name": "HTMLView",
      "description": "",
      "description_tooltip": null,
      "layout": "IPY_MODEL_c126ea97019149848396e593cfab016f",
      "placeholder": "​",
      "style": "IPY_MODEL_f9efaa7678c2450f847ff2c2f21ff96e",
      "value": " 52/52 [00:31&lt;00:00,  1.66ba/s]"
     }
    },
    "a170c0cb21cf425fbee97fd6d5584e2c": {
     "model_module": "@jupyter-widgets/base",
     "model_name": "LayoutModel",
     "state": {
      "_model_module": "@jupyter-widgets/base",
      "_model_module_version": "1.2.0",
      "_model_name": "LayoutModel",
      "_view_count": null,
      "_view_module": "@jupyter-widgets/base",
      "_view_module_version": "1.2.0",
      "_view_name": "LayoutView",
      "align_content": null,
      "align_items": null,
      "align_self": null,
      "border": null,
      "bottom": null,
      "display": null,
      "flex": null,
      "flex_flow": null,
      "grid_area": null,
      "grid_auto_columns": null,
      "grid_auto_flow": null,
      "grid_auto_rows": null,
      "grid_column": null,
      "grid_gap": null,
      "grid_row": null,
      "grid_template_areas": null,
      "grid_template_columns": null,
      "grid_template_rows": null,
      "height": null,
      "justify_content": null,
      "justify_items": null,
      "left": null,
      "margin": null,
      "max_height": null,
      "max_width": null,
      "min_height": null,
      "min_width": null,
      "object_fit": null,
      "object_position": null,
      "order": null,
      "overflow": null,
      "overflow_x": null,
      "overflow_y": null,
      "padding": null,
      "right": null,
      "top": null,
      "visibility": null,
      "width": null
     }
    },
    "a34dae18d9994b848630d4e3d836e0cb": {
     "model_module": "@jupyter-widgets/base",
     "model_name": "LayoutModel",
     "state": {
      "_model_module": "@jupyter-widgets/base",
      "_model_module_version": "1.2.0",
      "_model_name": "LayoutModel",
      "_view_count": null,
      "_view_module": "@jupyter-widgets/base",
      "_view_module_version": "1.2.0",
      "_view_name": "LayoutView",
      "align_content": null,
      "align_items": null,
      "align_self": null,
      "border": null,
      "bottom": null,
      "display": null,
      "flex": null,
      "flex_flow": null,
      "grid_area": null,
      "grid_auto_columns": null,
      "grid_auto_flow": null,
      "grid_auto_rows": null,
      "grid_column": null,
      "grid_gap": null,
      "grid_row": null,
      "grid_template_areas": null,
      "grid_template_columns": null,
      "grid_template_rows": null,
      "height": null,
      "justify_content": null,
      "justify_items": null,
      "left": null,
      "margin": null,
      "max_height": null,
      "max_width": null,
      "min_height": null,
      "min_width": null,
      "object_fit": null,
      "object_position": null,
      "order": null,
      "overflow": null,
      "overflow_x": null,
      "overflow_y": null,
      "padding": null,
      "right": null,
      "top": null,
      "visibility": null,
      "width": null
     }
    },
    "a3c04c75ec9743feb795f69e7c4dff4f": {
     "model_module": "@jupyter-widgets/controls",
     "model_name": "ProgressStyleModel",
     "state": {
      "_model_module": "@jupyter-widgets/controls",
      "_model_module_version": "1.5.0",
      "_model_name": "ProgressStyleModel",
      "_view_count": null,
      "_view_module": "@jupyter-widgets/base",
      "_view_module_version": "1.2.0",
      "_view_name": "StyleView",
      "bar_color": null,
      "description_width": "initial"
     }
    },
    "a47f1ea64f894f0b8e6b277c31ae9f7d": {
     "model_module": "@jupyter-widgets/controls",
     "model_name": "ProgressStyleModel",
     "state": {
      "_model_module": "@jupyter-widgets/controls",
      "_model_module_version": "1.5.0",
      "_model_name": "ProgressStyleModel",
      "_view_count": null,
      "_view_module": "@jupyter-widgets/base",
      "_view_module_version": "1.2.0",
      "_view_name": "StyleView",
      "bar_color": null,
      "description_width": "initial"
     }
    },
    "a58c203a7cc54086aea45f2029821207": {
     "model_module": "@jupyter-widgets/controls",
     "model_name": "FloatProgressModel",
     "state": {
      "_dom_classes": [],
      "_model_module": "@jupyter-widgets/controls",
      "_model_module_version": "1.5.0",
      "_model_name": "FloatProgressModel",
      "_view_count": null,
      "_view_module": "@jupyter-widgets/controls",
      "_view_module_version": "1.5.0",
      "_view_name": "ProgressView",
      "bar_style": "success",
      "description": "100%",
      "description_tooltip": null,
      "layout": "IPY_MODEL_b1b6a4649fc34c9996f993c57671766b",
      "max": 1647,
      "min": 0,
      "orientation": "horizontal",
      "style": "IPY_MODEL_c8fdf261ac294093a355778a3a4aba3b",
      "value": 1647
     }
    },
    "a868dea9d9b047a4b853b390e138e4c1": {
     "model_module": "@jupyter-widgets/base",
     "model_name": "LayoutModel",
     "state": {
      "_model_module": "@jupyter-widgets/base",
      "_model_module_version": "1.2.0",
      "_model_name": "LayoutModel",
      "_view_count": null,
      "_view_module": "@jupyter-widgets/base",
      "_view_module_version": "1.2.0",
      "_view_name": "LayoutView",
      "align_content": null,
      "align_items": null,
      "align_self": null,
      "border": null,
      "bottom": null,
      "display": null,
      "flex": null,
      "flex_flow": null,
      "grid_area": null,
      "grid_auto_columns": null,
      "grid_auto_flow": null,
      "grid_auto_rows": null,
      "grid_column": null,
      "grid_gap": null,
      "grid_row": null,
      "grid_template_areas": null,
      "grid_template_columns": null,
      "grid_template_rows": null,
      "height": null,
      "justify_content": null,
      "justify_items": null,
      "left": null,
      "margin": null,
      "max_height": null,
      "max_width": null,
      "min_height": null,
      "min_width": null,
      "object_fit": null,
      "object_position": null,
      "order": null,
      "overflow": null,
      "overflow_x": null,
      "overflow_y": null,
      "padding": null,
      "right": null,
      "top": null,
      "visibility": null,
      "width": null
     }
    },
    "aafd4b2c56db43378c4627797665db17": {
     "model_module": "@jupyter-widgets/controls",
     "model_name": "HTMLModel",
     "state": {
      "_dom_classes": [],
      "_model_module": "@jupyter-widgets/controls",
      "_model_module_version": "1.5.0",
      "_model_name": "HTMLModel",
      "_view_count": null,
      "_view_module": "@jupyter-widgets/controls",
      "_view_module_version": "1.5.0",
      "_view_name": "HTMLView",
      "description": "",
      "description_tooltip": null,
      "layout": "IPY_MODEL_ad428686450f4ebdb50a0356b2e5a8c4",
      "placeholder": "​",
      "style": "IPY_MODEL_ccb720bf256e42f7b0251494ccb7741f",
      "value": " 1/1 [00:45&lt;00:00, 45.03s/ba]"
     }
    },
    "ab72c80dfd5e4ab19a183f4204486b59": {
     "model_module": "@jupyter-widgets/controls",
     "model_name": "DescriptionStyleModel",
     "state": {
      "_model_module": "@jupyter-widgets/controls",
      "_model_module_version": "1.5.0",
      "_model_name": "DescriptionStyleModel",
      "_view_count": null,
      "_view_module": "@jupyter-widgets/base",
      "_view_module_version": "1.2.0",
      "_view_name": "StyleView",
      "description_width": ""
     }
    },
    "ac35dca0845149a284b9867d9e607232": {
     "model_module": "@jupyter-widgets/controls",
     "model_name": "HBoxModel",
     "state": {
      "_dom_classes": [],
      "_model_module": "@jupyter-widgets/controls",
      "_model_module_version": "1.5.0",
      "_model_name": "HBoxModel",
      "_view_count": null,
      "_view_module": "@jupyter-widgets/controls",
      "_view_module_version": "1.5.0",
      "_view_name": "HBoxView",
      "box_style": "",
      "children": [
       "IPY_MODEL_5071a31d06f544a5b7340a4e863d8fdf",
       "IPY_MODEL_542027ba12f444d586e8072452badea0"
      ],
      "layout": "IPY_MODEL_b54bff6261964119bcb562c1a9f74ce6"
     }
    },
    "ad428686450f4ebdb50a0356b2e5a8c4": {
     "model_module": "@jupyter-widgets/base",
     "model_name": "LayoutModel",
     "state": {
      "_model_module": "@jupyter-widgets/base",
      "_model_module_version": "1.2.0",
      "_model_name": "LayoutModel",
      "_view_count": null,
      "_view_module": "@jupyter-widgets/base",
      "_view_module_version": "1.2.0",
      "_view_name": "LayoutView",
      "align_content": null,
      "align_items": null,
      "align_self": null,
      "border": null,
      "bottom": null,
      "display": null,
      "flex": null,
      "flex_flow": null,
      "grid_area": null,
      "grid_auto_columns": null,
      "grid_auto_flow": null,
      "grid_auto_rows": null,
      "grid_column": null,
      "grid_gap": null,
      "grid_row": null,
      "grid_template_areas": null,
      "grid_template_columns": null,
      "grid_template_rows": null,
      "height": null,
      "justify_content": null,
      "justify_items": null,
      "left": null,
      "margin": null,
      "max_height": null,
      "max_width": null,
      "min_height": null,
      "min_width": null,
      "object_fit": null,
      "object_position": null,
      "order": null,
      "overflow": null,
      "overflow_x": null,
      "overflow_y": null,
      "padding": null,
      "right": null,
      "top": null,
      "visibility": null,
      "width": null
     }
    },
    "af85713f677243d19cba9fe69a4a5f46": {
     "model_module": "@jupyter-widgets/base",
     "model_name": "LayoutModel",
     "state": {
      "_model_module": "@jupyter-widgets/base",
      "_model_module_version": "1.2.0",
      "_model_name": "LayoutModel",
      "_view_count": null,
      "_view_module": "@jupyter-widgets/base",
      "_view_module_version": "1.2.0",
      "_view_name": "LayoutView",
      "align_content": null,
      "align_items": null,
      "align_self": null,
      "border": null,
      "bottom": null,
      "display": null,
      "flex": null,
      "flex_flow": null,
      "grid_area": null,
      "grid_auto_columns": null,
      "grid_auto_flow": null,
      "grid_auto_rows": null,
      "grid_column": null,
      "grid_gap": null,
      "grid_row": null,
      "grid_template_areas": null,
      "grid_template_columns": null,
      "grid_template_rows": null,
      "height": null,
      "justify_content": null,
      "justify_items": null,
      "left": null,
      "margin": null,
      "max_height": null,
      "max_width": null,
      "min_height": null,
      "min_width": null,
      "object_fit": null,
      "object_position": null,
      "order": null,
      "overflow": null,
      "overflow_x": null,
      "overflow_y": null,
      "padding": null,
      "right": null,
      "top": null,
      "visibility": null,
      "width": null
     }
    },
    "b0479f03f96241ca959f6fe7bcbd1aba": {
     "model_module": "@jupyter-widgets/base",
     "model_name": "LayoutModel",
     "state": {
      "_model_module": "@jupyter-widgets/base",
      "_model_module_version": "1.2.0",
      "_model_name": "LayoutModel",
      "_view_count": null,
      "_view_module": "@jupyter-widgets/base",
      "_view_module_version": "1.2.0",
      "_view_name": "LayoutView",
      "align_content": null,
      "align_items": null,
      "align_self": null,
      "border": null,
      "bottom": null,
      "display": null,
      "flex": null,
      "flex_flow": null,
      "grid_area": null,
      "grid_auto_columns": null,
      "grid_auto_flow": null,
      "grid_auto_rows": null,
      "grid_column": null,
      "grid_gap": null,
      "grid_row": null,
      "grid_template_areas": null,
      "grid_template_columns": null,
      "grid_template_rows": null,
      "height": null,
      "justify_content": null,
      "justify_items": null,
      "left": null,
      "margin": null,
      "max_height": null,
      "max_width": null,
      "min_height": null,
      "min_width": null,
      "object_fit": null,
      "object_position": null,
      "order": null,
      "overflow": null,
      "overflow_x": null,
      "overflow_y": null,
      "padding": null,
      "right": null,
      "top": null,
      "visibility": null,
      "width": null
     }
    },
    "b054b00a32e64fc5988fbd2966ebbce6": {
     "model_module": "@jupyter-widgets/base",
     "model_name": "LayoutModel",
     "state": {
      "_model_module": "@jupyter-widgets/base",
      "_model_module_version": "1.2.0",
      "_model_name": "LayoutModel",
      "_view_count": null,
      "_view_module": "@jupyter-widgets/base",
      "_view_module_version": "1.2.0",
      "_view_name": "LayoutView",
      "align_content": null,
      "align_items": null,
      "align_self": null,
      "border": null,
      "bottom": null,
      "display": null,
      "flex": null,
      "flex_flow": null,
      "grid_area": null,
      "grid_auto_columns": null,
      "grid_auto_flow": null,
      "grid_auto_rows": null,
      "grid_column": null,
      "grid_gap": null,
      "grid_row": null,
      "grid_template_areas": null,
      "grid_template_columns": null,
      "grid_template_rows": null,
      "height": null,
      "justify_content": null,
      "justify_items": null,
      "left": null,
      "margin": null,
      "max_height": null,
      "max_width": null,
      "min_height": null,
      "min_width": null,
      "object_fit": null,
      "object_position": null,
      "order": null,
      "overflow": null,
      "overflow_x": null,
      "overflow_y": null,
      "padding": null,
      "right": null,
      "top": null,
      "visibility": null,
      "width": null
     }
    },
    "b0e3a36279d243ab9943149705c72c3e": {
     "model_module": "@jupyter-widgets/controls",
     "model_name": "FloatProgressModel",
     "state": {
      "_dom_classes": [],
      "_model_module": "@jupyter-widgets/controls",
      "_model_module_version": "1.5.0",
      "_model_name": "FloatProgressModel",
      "_view_count": null,
      "_view_module": "@jupyter-widgets/controls",
      "_view_module_version": "1.5.0",
      "_view_name": "ProgressView",
      "bar_style": "success",
      "description": "Downloading: ",
      "description_tooltip": null,
      "layout": "IPY_MODEL_a34dae18d9994b848630d4e3d836e0cb",
      "max": 5925,
      "min": 0,
      "orientation": "horizontal",
      "style": "IPY_MODEL_530f66ac087e4f8f979fcaa33941c60d",
      "value": 5925
     }
    },
    "b0f3a205ad4546188fc6e7e7cf96ab32": {
     "model_module": "@jupyter-widgets/controls",
     "model_name": "ProgressStyleModel",
     "state": {
      "_model_module": "@jupyter-widgets/controls",
      "_model_module_version": "1.5.0",
      "_model_name": "ProgressStyleModel",
      "_view_count": null,
      "_view_module": "@jupyter-widgets/base",
      "_view_module_version": "1.2.0",
      "_view_name": "StyleView",
      "bar_color": null,
      "description_width": "initial"
     }
    },
    "b177a8cb85a24b88ab6d56205b630f1d": {
     "model_module": "@jupyter-widgets/base",
     "model_name": "LayoutModel",
     "state": {
      "_model_module": "@jupyter-widgets/base",
      "_model_module_version": "1.2.0",
      "_model_name": "LayoutModel",
      "_view_count": null,
      "_view_module": "@jupyter-widgets/base",
      "_view_module_version": "1.2.0",
      "_view_name": "LayoutView",
      "align_content": null,
      "align_items": null,
      "align_self": null,
      "border": null,
      "bottom": null,
      "display": null,
      "flex": null,
      "flex_flow": null,
      "grid_area": null,
      "grid_auto_columns": null,
      "grid_auto_flow": null,
      "grid_auto_rows": null,
      "grid_column": null,
      "grid_gap": null,
      "grid_row": null,
      "grid_template_areas": null,
      "grid_template_columns": null,
      "grid_template_rows": null,
      "height": null,
      "justify_content": null,
      "justify_items": null,
      "left": null,
      "margin": null,
      "max_height": null,
      "max_width": null,
      "min_height": null,
      "min_width": null,
      "object_fit": null,
      "object_position": null,
      "order": null,
      "overflow": null,
      "overflow_x": null,
      "overflow_y": null,
      "padding": null,
      "right": null,
      "top": null,
      "visibility": null,
      "width": null
     }
    },
    "b1b6a4649fc34c9996f993c57671766b": {
     "model_module": "@jupyter-widgets/base",
     "model_name": "LayoutModel",
     "state": {
      "_model_module": "@jupyter-widgets/base",
      "_model_module_version": "1.2.0",
      "_model_name": "LayoutModel",
      "_view_count": null,
      "_view_module": "@jupyter-widgets/base",
      "_view_module_version": "1.2.0",
      "_view_name": "LayoutView",
      "align_content": null,
      "align_items": null,
      "align_self": null,
      "border": null,
      "bottom": null,
      "display": null,
      "flex": null,
      "flex_flow": null,
      "grid_area": null,
      "grid_auto_columns": null,
      "grid_auto_flow": null,
      "grid_auto_rows": null,
      "grid_column": null,
      "grid_gap": null,
      "grid_row": null,
      "grid_template_areas": null,
      "grid_template_columns": null,
      "grid_template_rows": null,
      "height": null,
      "justify_content": null,
      "justify_items": null,
      "left": null,
      "margin": null,
      "max_height": null,
      "max_width": null,
      "min_height": null,
      "min_width": null,
      "object_fit": null,
      "object_position": null,
      "order": null,
      "overflow": null,
      "overflow_x": null,
      "overflow_y": null,
      "padding": null,
      "right": null,
      "top": null,
      "visibility": null,
      "width": null
     }
    },
    "b1d93a7521fa47b8a815445b5232da59": {
     "model_module": "@jupyter-widgets/base",
     "model_name": "LayoutModel",
     "state": {
      "_model_module": "@jupyter-widgets/base",
      "_model_module_version": "1.2.0",
      "_model_name": "LayoutModel",
      "_view_count": null,
      "_view_module": "@jupyter-widgets/base",
      "_view_module_version": "1.2.0",
      "_view_name": "LayoutView",
      "align_content": null,
      "align_items": null,
      "align_self": null,
      "border": null,
      "bottom": null,
      "display": null,
      "flex": null,
      "flex_flow": null,
      "grid_area": null,
      "grid_auto_columns": null,
      "grid_auto_flow": null,
      "grid_auto_rows": null,
      "grid_column": null,
      "grid_gap": null,
      "grid_row": null,
      "grid_template_areas": null,
      "grid_template_columns": null,
      "grid_template_rows": null,
      "height": null,
      "justify_content": null,
      "justify_items": null,
      "left": null,
      "margin": null,
      "max_height": null,
      "max_width": null,
      "min_height": null,
      "min_width": null,
      "object_fit": null,
      "object_position": null,
      "order": null,
      "overflow": null,
      "overflow_x": null,
      "overflow_y": null,
      "padding": null,
      "right": null,
      "top": null,
      "visibility": null,
      "width": null
     }
    },
    "b2473405490e4556bf30c0cc81237aa5": {
     "model_module": "@jupyter-widgets/base",
     "model_name": "LayoutModel",
     "state": {
      "_model_module": "@jupyter-widgets/base",
      "_model_module_version": "1.2.0",
      "_model_name": "LayoutModel",
      "_view_count": null,
      "_view_module": "@jupyter-widgets/base",
      "_view_module_version": "1.2.0",
      "_view_name": "LayoutView",
      "align_content": null,
      "align_items": null,
      "align_self": null,
      "border": null,
      "bottom": null,
      "display": null,
      "flex": null,
      "flex_flow": null,
      "grid_area": null,
      "grid_auto_columns": null,
      "grid_auto_flow": null,
      "grid_auto_rows": null,
      "grid_column": null,
      "grid_gap": null,
      "grid_row": null,
      "grid_template_areas": null,
      "grid_template_columns": null,
      "grid_template_rows": null,
      "height": null,
      "justify_content": null,
      "justify_items": null,
      "left": null,
      "margin": null,
      "max_height": null,
      "max_width": null,
      "min_height": null,
      "min_width": null,
      "object_fit": null,
      "object_position": null,
      "order": null,
      "overflow": null,
      "overflow_x": null,
      "overflow_y": null,
      "padding": null,
      "right": null,
      "top": null,
      "visibility": null,
      "width": null
     }
    },
    "b320306eaf264ad9872d507a1a1cb2da": {
     "model_module": "@jupyter-widgets/base",
     "model_name": "LayoutModel",
     "state": {
      "_model_module": "@jupyter-widgets/base",
      "_model_module_version": "1.2.0",
      "_model_name": "LayoutModel",
      "_view_count": null,
      "_view_module": "@jupyter-widgets/base",
      "_view_module_version": "1.2.0",
      "_view_name": "LayoutView",
      "align_content": null,
      "align_items": null,
      "align_self": null,
      "border": null,
      "bottom": null,
      "display": null,
      "flex": null,
      "flex_flow": null,
      "grid_area": null,
      "grid_auto_columns": null,
      "grid_auto_flow": null,
      "grid_auto_rows": null,
      "grid_column": null,
      "grid_gap": null,
      "grid_row": null,
      "grid_template_areas": null,
      "grid_template_columns": null,
      "grid_template_rows": null,
      "height": null,
      "justify_content": null,
      "justify_items": null,
      "left": null,
      "margin": null,
      "max_height": null,
      "max_width": null,
      "min_height": null,
      "min_width": null,
      "object_fit": null,
      "object_position": null,
      "order": null,
      "overflow": null,
      "overflow_x": null,
      "overflow_y": null,
      "padding": null,
      "right": null,
      "top": null,
      "visibility": null,
      "width": null
     }
    },
    "b54bff6261964119bcb562c1a9f74ce6": {
     "model_module": "@jupyter-widgets/base",
     "model_name": "LayoutModel",
     "state": {
      "_model_module": "@jupyter-widgets/base",
      "_model_module_version": "1.2.0",
      "_model_name": "LayoutModel",
      "_view_count": null,
      "_view_module": "@jupyter-widgets/base",
      "_view_module_version": "1.2.0",
      "_view_name": "LayoutView",
      "align_content": null,
      "align_items": null,
      "align_self": null,
      "border": null,
      "bottom": null,
      "display": null,
      "flex": null,
      "flex_flow": null,
      "grid_area": null,
      "grid_auto_columns": null,
      "grid_auto_flow": null,
      "grid_auto_rows": null,
      "grid_column": null,
      "grid_gap": null,
      "grid_row": null,
      "grid_template_areas": null,
      "grid_template_columns": null,
      "grid_template_rows": null,
      "height": null,
      "justify_content": null,
      "justify_items": null,
      "left": null,
      "margin": null,
      "max_height": null,
      "max_width": null,
      "min_height": null,
      "min_width": null,
      "object_fit": null,
      "object_position": null,
      "order": null,
      "overflow": null,
      "overflow_x": null,
      "overflow_y": null,
      "padding": null,
      "right": null,
      "top": null,
      "visibility": null,
      "width": null
     }
    },
    "b6221b4c04e64c9da9eb9e11539bac89": {
     "model_module": "@jupyter-widgets/controls",
     "model_name": "HBoxModel",
     "state": {
      "_dom_classes": [],
      "_model_module": "@jupyter-widgets/controls",
      "_model_module_version": "1.5.0",
      "_model_name": "HBoxModel",
      "_view_count": null,
      "_view_module": "@jupyter-widgets/controls",
      "_view_module_version": "1.5.0",
      "_view_name": "HBoxView",
      "box_style": "",
      "children": [
       "IPY_MODEL_02d1f77324854fbca0df9384c57faac8",
       "IPY_MODEL_8e63ba7f1fd24555bf11bc9dbe9c770b"
      ],
      "layout": "IPY_MODEL_dc6862530f6e429ba61a169b4c95722c"
     }
    },
    "b78413dcc0584a0c8f71731a06aaa1b8": {
     "model_module": "@jupyter-widgets/base",
     "model_name": "LayoutModel",
     "state": {
      "_model_module": "@jupyter-widgets/base",
      "_model_module_version": "1.2.0",
      "_model_name": "LayoutModel",
      "_view_count": null,
      "_view_module": "@jupyter-widgets/base",
      "_view_module_version": "1.2.0",
      "_view_name": "LayoutView",
      "align_content": null,
      "align_items": null,
      "align_self": null,
      "border": null,
      "bottom": null,
      "display": null,
      "flex": null,
      "flex_flow": null,
      "grid_area": null,
      "grid_auto_columns": null,
      "grid_auto_flow": null,
      "grid_auto_rows": null,
      "grid_column": null,
      "grid_gap": null,
      "grid_row": null,
      "grid_template_areas": null,
      "grid_template_columns": null,
      "grid_template_rows": null,
      "height": null,
      "justify_content": null,
      "justify_items": null,
      "left": null,
      "margin": null,
      "max_height": null,
      "max_width": null,
      "min_height": null,
      "min_width": null,
      "object_fit": null,
      "object_position": null,
      "order": null,
      "overflow": null,
      "overflow_x": null,
      "overflow_y": null,
      "padding": null,
      "right": null,
      "top": null,
      "visibility": null,
      "width": null
     }
    },
    "b7c43fb5efdd4afbb82c81b923f2815a": {
     "model_module": "@jupyter-widgets/controls",
     "model_name": "HBoxModel",
     "state": {
      "_dom_classes": [],
      "_model_module": "@jupyter-widgets/controls",
      "_model_module_version": "1.5.0",
      "_model_name": "HBoxModel",
      "_view_count": null,
      "_view_module": "@jupyter-widgets/controls",
      "_view_module_version": "1.5.0",
      "_view_name": "HBoxView",
      "box_style": "",
      "children": [
       "IPY_MODEL_8dddd0245dcb4532917cbfa0181d2a00",
       "IPY_MODEL_3bdb4058f40f40e3a10e323325a64638"
      ],
      "layout": "IPY_MODEL_c0a661f20e7e4649a3c8c42a5fd01956"
     }
    },
    "b94e374d92c146009447c3827b977267": {
     "model_module": "@jupyter-widgets/controls",
     "model_name": "FloatProgressModel",
     "state": {
      "_dom_classes": [],
      "_model_module": "@jupyter-widgets/controls",
      "_model_module_version": "1.5.0",
      "_model_name": "FloatProgressModel",
      "_view_count": null,
      "_view_module": "@jupyter-widgets/controls",
      "_view_module_version": "1.5.0",
      "_view_name": "ProgressView",
      "bar_style": "success",
      "description": "100%",
      "description_tooltip": null,
      "layout": "IPY_MODEL_b177a8cb85a24b88ab6d56205b630f1d",
      "max": 3478,
      "min": 0,
      "orientation": "horizontal",
      "style": "IPY_MODEL_4ff7ccffc36a4a0f93031f5cdc3b718d",
      "value": 3478
     }
    },
    "b9c5c6dd54cc4dc5ad5a2bb69a24ab05": {
     "model_module": "@jupyter-widgets/controls",
     "model_name": "ProgressStyleModel",
     "state": {
      "_model_module": "@jupyter-widgets/controls",
      "_model_module_version": "1.5.0",
      "_model_name": "ProgressStyleModel",
      "_view_count": null,
      "_view_module": "@jupyter-widgets/base",
      "_view_module_version": "1.2.0",
      "_view_name": "StyleView",
      "bar_color": null,
      "description_width": "initial"
     }
    },
    "bc41384bbae04044b9780651c6b5a47c": {
     "model_module": "@jupyter-widgets/base",
     "model_name": "LayoutModel",
     "state": {
      "_model_module": "@jupyter-widgets/base",
      "_model_module_version": "1.2.0",
      "_model_name": "LayoutModel",
      "_view_count": null,
      "_view_module": "@jupyter-widgets/base",
      "_view_module_version": "1.2.0",
      "_view_name": "LayoutView",
      "align_content": null,
      "align_items": null,
      "align_self": null,
      "border": null,
      "bottom": null,
      "display": null,
      "flex": null,
      "flex_flow": null,
      "grid_area": null,
      "grid_auto_columns": null,
      "grid_auto_flow": null,
      "grid_auto_rows": null,
      "grid_column": null,
      "grid_gap": null,
      "grid_row": null,
      "grid_template_areas": null,
      "grid_template_columns": null,
      "grid_template_rows": null,
      "height": null,
      "justify_content": null,
      "justify_items": null,
      "left": null,
      "margin": null,
      "max_height": null,
      "max_width": null,
      "min_height": null,
      "min_width": null,
      "object_fit": null,
      "object_position": null,
      "order": null,
      "overflow": null,
      "overflow_x": null,
      "overflow_y": null,
      "padding": null,
      "right": null,
      "top": null,
      "visibility": null,
      "width": null
     }
    },
    "bd0958ea97b141b1aca367c71721c549": {
     "model_module": "@jupyter-widgets/controls",
     "model_name": "HBoxModel",
     "state": {
      "_dom_classes": [],
      "_model_module": "@jupyter-widgets/controls",
      "_model_module_version": "1.5.0",
      "_model_name": "HBoxModel",
      "_view_count": null,
      "_view_module": "@jupyter-widgets/controls",
      "_view_module_version": "1.5.0",
      "_view_name": "HBoxView",
      "box_style": "",
      "children": [
       "IPY_MODEL_d080668299ef42fabb8ab6fbcf329cea",
       "IPY_MODEL_aafd4b2c56db43378c4627797665db17"
      ],
      "layout": "IPY_MODEL_0354ab33471e4c34a0c1b3c062bcd6bb"
     }
    },
    "bd187486ac2548f2961cfcb63d852de1": {
     "model_module": "@jupyter-widgets/controls",
     "model_name": "FloatProgressModel",
     "state": {
      "_dom_classes": [],
      "_model_module": "@jupyter-widgets/controls",
      "_model_module_version": "1.5.0",
      "_model_name": "FloatProgressModel",
      "_view_count": null,
      "_view_module": "@jupyter-widgets/controls",
      "_view_module_version": "1.5.0",
      "_view_name": "ProgressView",
      "bar_style": "success",
      "description": "#1: 100%",
      "description_tooltip": null,
      "layout": "IPY_MODEL_58f3e8002f984594ac05c973aa78ef69",
      "max": 52,
      "min": 0,
      "orientation": "horizontal",
      "style": "IPY_MODEL_231c66f195d34f86b216805518f4bccd",
      "value": 52
     }
    },
    "bd3447291ce54812af10ac6245ea4328": {
     "model_module": "@jupyter-widgets/base",
     "model_name": "LayoutModel",
     "state": {
      "_model_module": "@jupyter-widgets/base",
      "_model_module_version": "1.2.0",
      "_model_name": "LayoutModel",
      "_view_count": null,
      "_view_module": "@jupyter-widgets/base",
      "_view_module_version": "1.2.0",
      "_view_name": "LayoutView",
      "align_content": null,
      "align_items": null,
      "align_self": null,
      "border": null,
      "bottom": null,
      "display": null,
      "flex": null,
      "flex_flow": null,
      "grid_area": null,
      "grid_auto_columns": null,
      "grid_auto_flow": null,
      "grid_auto_rows": null,
      "grid_column": null,
      "grid_gap": null,
      "grid_row": null,
      "grid_template_areas": null,
      "grid_template_columns": null,
      "grid_template_rows": null,
      "height": null,
      "justify_content": null,
      "justify_items": null,
      "left": null,
      "margin": null,
      "max_height": null,
      "max_width": null,
      "min_height": null,
      "min_width": null,
      "object_fit": null,
      "object_position": null,
      "order": null,
      "overflow": null,
      "overflow_x": null,
      "overflow_y": null,
      "padding": null,
      "right": null,
      "top": null,
      "visibility": null,
      "width": null
     }
    },
    "beca070c32124a119a08cb21c2ca95e5": {
     "model_module": "@jupyter-widgets/controls",
     "model_name": "ProgressStyleModel",
     "state": {
      "_model_module": "@jupyter-widgets/controls",
      "_model_module_version": "1.5.0",
      "_model_name": "ProgressStyleModel",
      "_view_count": null,
      "_view_module": "@jupyter-widgets/base",
      "_view_module_version": "1.2.0",
      "_view_name": "StyleView",
      "bar_color": null,
      "description_width": "initial"
     }
    },
    "bee0f50055eb4f738636142a10da0ddd": {
     "model_module": "@jupyter-widgets/base",
     "model_name": "LayoutModel",
     "state": {
      "_model_module": "@jupyter-widgets/base",
      "_model_module_version": "1.2.0",
      "_model_name": "LayoutModel",
      "_view_count": null,
      "_view_module": "@jupyter-widgets/base",
      "_view_module_version": "1.2.0",
      "_view_name": "LayoutView",
      "align_content": null,
      "align_items": null,
      "align_self": null,
      "border": null,
      "bottom": null,
      "display": null,
      "flex": null,
      "flex_flow": null,
      "grid_area": null,
      "grid_auto_columns": null,
      "grid_auto_flow": null,
      "grid_auto_rows": null,
      "grid_column": null,
      "grid_gap": null,
      "grid_row": null,
      "grid_template_areas": null,
      "grid_template_columns": null,
      "grid_template_rows": null,
      "height": null,
      "justify_content": null,
      "justify_items": null,
      "left": null,
      "margin": null,
      "max_height": null,
      "max_width": null,
      "min_height": null,
      "min_width": null,
      "object_fit": null,
      "object_position": null,
      "order": null,
      "overflow": null,
      "overflow_x": null,
      "overflow_y": null,
      "padding": null,
      "right": null,
      "top": null,
      "visibility": null,
      "width": null
     }
    },
    "bf9e57d81135412d9a9a2281f28bd52a": {
     "model_module": "@jupyter-widgets/controls",
     "model_name": "HBoxModel",
     "state": {
      "_dom_classes": [],
      "_model_module": "@jupyter-widgets/controls",
      "_model_module_version": "1.5.0",
      "_model_name": "HBoxModel",
      "_view_count": null,
      "_view_module": "@jupyter-widgets/controls",
      "_view_module_version": "1.5.0",
      "_view_name": "HBoxView",
      "box_style": "",
      "children": [
       "IPY_MODEL_579b6055028f473981ce789a0733a753",
       "IPY_MODEL_4fb7347e9ca542e6ab9003bf4db218e0"
      ],
      "layout": "IPY_MODEL_c41610c0baef412984f8661d96e08b7e"
     }
    },
    "c01aca3229a24d41841be2b4a3a65bcc": {
     "model_module": "@jupyter-widgets/controls",
     "model_name": "ProgressStyleModel",
     "state": {
      "_model_module": "@jupyter-widgets/controls",
      "_model_module_version": "1.5.0",
      "_model_name": "ProgressStyleModel",
      "_view_count": null,
      "_view_module": "@jupyter-widgets/base",
      "_view_module_version": "1.2.0",
      "_view_name": "StyleView",
      "bar_color": null,
      "description_width": "initial"
     }
    },
    "c0a661f20e7e4649a3c8c42a5fd01956": {
     "model_module": "@jupyter-widgets/base",
     "model_name": "LayoutModel",
     "state": {
      "_model_module": "@jupyter-widgets/base",
      "_model_module_version": "1.2.0",
      "_model_name": "LayoutModel",
      "_view_count": null,
      "_view_module": "@jupyter-widgets/base",
      "_view_module_version": "1.2.0",
      "_view_name": "LayoutView",
      "align_content": null,
      "align_items": null,
      "align_self": null,
      "border": null,
      "bottom": null,
      "display": null,
      "flex": null,
      "flex_flow": null,
      "grid_area": null,
      "grid_auto_columns": null,
      "grid_auto_flow": null,
      "grid_auto_rows": null,
      "grid_column": null,
      "grid_gap": null,
      "grid_row": null,
      "grid_template_areas": null,
      "grid_template_columns": null,
      "grid_template_rows": null,
      "height": null,
      "justify_content": null,
      "justify_items": null,
      "left": null,
      "margin": null,
      "max_height": null,
      "max_width": null,
      "min_height": null,
      "min_width": null,
      "object_fit": null,
      "object_position": null,
      "order": null,
      "overflow": null,
      "overflow_x": null,
      "overflow_y": null,
      "padding": null,
      "right": null,
      "top": null,
      "visibility": null,
      "width": null
     }
    },
    "c0e6b6e6395d4dbd827eb1c0de1ad21a": {
     "model_module": "@jupyter-widgets/base",
     "model_name": "LayoutModel",
     "state": {
      "_model_module": "@jupyter-widgets/base",
      "_model_module_version": "1.2.0",
      "_model_name": "LayoutModel",
      "_view_count": null,
      "_view_module": "@jupyter-widgets/base",
      "_view_module_version": "1.2.0",
      "_view_name": "LayoutView",
      "align_content": null,
      "align_items": null,
      "align_self": null,
      "border": null,
      "bottom": null,
      "display": null,
      "flex": null,
      "flex_flow": null,
      "grid_area": null,
      "grid_auto_columns": null,
      "grid_auto_flow": null,
      "grid_auto_rows": null,
      "grid_column": null,
      "grid_gap": null,
      "grid_row": null,
      "grid_template_areas": null,
      "grid_template_columns": null,
      "grid_template_rows": null,
      "height": null,
      "justify_content": null,
      "justify_items": null,
      "left": null,
      "margin": null,
      "max_height": null,
      "max_width": null,
      "min_height": null,
      "min_width": null,
      "object_fit": null,
      "object_position": null,
      "order": null,
      "overflow": null,
      "overflow_x": null,
      "overflow_y": null,
      "padding": null,
      "right": null,
      "top": null,
      "visibility": null,
      "width": null
     }
    },
    "c126ea97019149848396e593cfab016f": {
     "model_module": "@jupyter-widgets/base",
     "model_name": "LayoutModel",
     "state": {
      "_model_module": "@jupyter-widgets/base",
      "_model_module_version": "1.2.0",
      "_model_name": "LayoutModel",
      "_view_count": null,
      "_view_module": "@jupyter-widgets/base",
      "_view_module_version": "1.2.0",
      "_view_name": "LayoutView",
      "align_content": null,
      "align_items": null,
      "align_self": null,
      "border": null,
      "bottom": null,
      "display": null,
      "flex": null,
      "flex_flow": null,
      "grid_area": null,
      "grid_auto_columns": null,
      "grid_auto_flow": null,
      "grid_auto_rows": null,
      "grid_column": null,
      "grid_gap": null,
      "grid_row": null,
      "grid_template_areas": null,
      "grid_template_columns": null,
      "grid_template_rows": null,
      "height": null,
      "justify_content": null,
      "justify_items": null,
      "left": null,
      "margin": null,
      "max_height": null,
      "max_width": null,
      "min_height": null,
      "min_width": null,
      "object_fit": null,
      "object_position": null,
      "order": null,
      "overflow": null,
      "overflow_x": null,
      "overflow_y": null,
      "padding": null,
      "right": null,
      "top": null,
      "visibility": null,
      "width": null
     }
    },
    "c41610c0baef412984f8661d96e08b7e": {
     "model_module": "@jupyter-widgets/base",
     "model_name": "LayoutModel",
     "state": {
      "_model_module": "@jupyter-widgets/base",
      "_model_module_version": "1.2.0",
      "_model_name": "LayoutModel",
      "_view_count": null,
      "_view_module": "@jupyter-widgets/base",
      "_view_module_version": "1.2.0",
      "_view_name": "LayoutView",
      "align_content": null,
      "align_items": null,
      "align_self": null,
      "border": null,
      "bottom": null,
      "display": null,
      "flex": null,
      "flex_flow": null,
      "grid_area": null,
      "grid_auto_columns": null,
      "grid_auto_flow": null,
      "grid_auto_rows": null,
      "grid_column": null,
      "grid_gap": null,
      "grid_row": null,
      "grid_template_areas": null,
      "grid_template_columns": null,
      "grid_template_rows": null,
      "height": null,
      "justify_content": null,
      "justify_items": null,
      "left": null,
      "margin": null,
      "max_height": null,
      "max_width": null,
      "min_height": null,
      "min_width": null,
      "object_fit": null,
      "object_position": null,
      "order": null,
      "overflow": null,
      "overflow_x": null,
      "overflow_y": null,
      "padding": null,
      "right": null,
      "top": null,
      "visibility": null,
      "width": null
     }
    },
    "c546bca23ee248a1be7bd8ead3e82a8f": {
     "model_module": "@jupyter-widgets/controls",
     "model_name": "ProgressStyleModel",
     "state": {
      "_model_module": "@jupyter-widgets/controls",
      "_model_module_version": "1.5.0",
      "_model_name": "ProgressStyleModel",
      "_view_count": null,
      "_view_module": "@jupyter-widgets/base",
      "_view_module_version": "1.2.0",
      "_view_name": "StyleView",
      "bar_color": null,
      "description_width": "initial"
     }
    },
    "c8fdf261ac294093a355778a3a4aba3b": {
     "model_module": "@jupyter-widgets/controls",
     "model_name": "ProgressStyleModel",
     "state": {
      "_model_module": "@jupyter-widgets/controls",
      "_model_module_version": "1.5.0",
      "_model_name": "ProgressStyleModel",
      "_view_count": null,
      "_view_module": "@jupyter-widgets/base",
      "_view_module_version": "1.2.0",
      "_view_name": "StyleView",
      "bar_color": null,
      "description_width": "initial"
     }
    },
    "c9dc4421940241c59f1151aeabedc98b": {
     "model_module": "@jupyter-widgets/base",
     "model_name": "LayoutModel",
     "state": {
      "_model_module": "@jupyter-widgets/base",
      "_model_module_version": "1.2.0",
      "_model_name": "LayoutModel",
      "_view_count": null,
      "_view_module": "@jupyter-widgets/base",
      "_view_module_version": "1.2.0",
      "_view_name": "LayoutView",
      "align_content": null,
      "align_items": null,
      "align_self": null,
      "border": null,
      "bottom": null,
      "display": null,
      "flex": null,
      "flex_flow": null,
      "grid_area": null,
      "grid_auto_columns": null,
      "grid_auto_flow": null,
      "grid_auto_rows": null,
      "grid_column": null,
      "grid_gap": null,
      "grid_row": null,
      "grid_template_areas": null,
      "grid_template_columns": null,
      "grid_template_rows": null,
      "height": null,
      "justify_content": null,
      "justify_items": null,
      "left": null,
      "margin": null,
      "max_height": null,
      "max_width": null,
      "min_height": null,
      "min_width": null,
      "object_fit": null,
      "object_position": null,
      "order": null,
      "overflow": null,
      "overflow_x": null,
      "overflow_y": null,
      "padding": null,
      "right": null,
      "top": null,
      "visibility": null,
      "width": null
     }
    },
    "cb5666eb8ebb4d1392e98d6b5af8761c": {
     "model_module": "@jupyter-widgets/controls",
     "model_name": "DescriptionStyleModel",
     "state": {
      "_model_module": "@jupyter-widgets/controls",
      "_model_module_version": "1.5.0",
      "_model_name": "DescriptionStyleModel",
      "_view_count": null,
      "_view_module": "@jupyter-widgets/base",
      "_view_module_version": "1.2.0",
      "_view_name": "StyleView",
      "description_width": ""
     }
    },
    "cc9c1e00c2d34516b8fd9edff96bb0d8": {
     "model_module": "@jupyter-widgets/controls",
     "model_name": "HBoxModel",
     "state": {
      "_dom_classes": [],
      "_model_module": "@jupyter-widgets/controls",
      "_model_module_version": "1.5.0",
      "_model_name": "HBoxModel",
      "_view_count": null,
      "_view_module": "@jupyter-widgets/controls",
      "_view_module_version": "1.5.0",
      "_view_name": "HBoxView",
      "box_style": "",
      "children": [
       "IPY_MODEL_33c92b5afd1d4b6d88016aabfb434194",
       "IPY_MODEL_998676d59f9c464e8463d65baad6448b"
      ],
      "layout": "IPY_MODEL_6abfbe44a1bd4518b41f5f53f920e936"
     }
    },
    "ccb720bf256e42f7b0251494ccb7741f": {
     "model_module": "@jupyter-widgets/controls",
     "model_name": "DescriptionStyleModel",
     "state": {
      "_model_module": "@jupyter-widgets/controls",
      "_model_module_version": "1.5.0",
      "_model_name": "DescriptionStyleModel",
      "_view_count": null,
      "_view_module": "@jupyter-widgets/base",
      "_view_module_version": "1.2.0",
      "_view_name": "StyleView",
      "description_width": ""
     }
    },
    "ce337f50183942e6a74ca1b33735ade9": {
     "model_module": "@jupyter-widgets/controls",
     "model_name": "HTMLModel",
     "state": {
      "_dom_classes": [],
      "_model_module": "@jupyter-widgets/controls",
      "_model_module_version": "1.5.0",
      "_model_name": "HTMLModel",
      "_view_count": null,
      "_view_module": "@jupyter-widgets/controls",
      "_view_module_version": "1.5.0",
      "_view_name": "HTMLView",
      "description": "",
      "description_tooltip": null,
      "layout": "IPY_MODEL_e9a702f10538415b970ea1345804d72c",
      "placeholder": "​",
      "style": "IPY_MODEL_9532db4cdc5e4371a4a02055a4c67a08",
      "value": " 23.0k/? [00:00&lt;00:00, 72.2kB/s]"
     }
    },
    "ceb44ba4fdf34da19a52469acf1ce63f": {
     "model_module": "@jupyter-widgets/base",
     "model_name": "LayoutModel",
     "state": {
      "_model_module": "@jupyter-widgets/base",
      "_model_module_version": "1.2.0",
      "_model_name": "LayoutModel",
      "_view_count": null,
      "_view_module": "@jupyter-widgets/base",
      "_view_module_version": "1.2.0",
      "_view_name": "LayoutView",
      "align_content": null,
      "align_items": null,
      "align_self": null,
      "border": null,
      "bottom": null,
      "display": null,
      "flex": null,
      "flex_flow": null,
      "grid_area": null,
      "grid_auto_columns": null,
      "grid_auto_flow": null,
      "grid_auto_rows": null,
      "grid_column": null,
      "grid_gap": null,
      "grid_row": null,
      "grid_template_areas": null,
      "grid_template_columns": null,
      "grid_template_rows": null,
      "height": null,
      "justify_content": null,
      "justify_items": null,
      "left": null,
      "margin": null,
      "max_height": null,
      "max_width": null,
      "min_height": null,
      "min_width": null,
      "object_fit": null,
      "object_position": null,
      "order": null,
      "overflow": null,
      "overflow_x": null,
      "overflow_y": null,
      "padding": null,
      "right": null,
      "top": null,
      "visibility": null,
      "width": null
     }
    },
    "d080668299ef42fabb8ab6fbcf329cea": {
     "model_module": "@jupyter-widgets/controls",
     "model_name": "FloatProgressModel",
     "state": {
      "_dom_classes": [],
      "_model_module": "@jupyter-widgets/controls",
      "_model_module_version": "1.5.0",
      "_model_name": "FloatProgressModel",
      "_view_count": null,
      "_view_module": "@jupyter-widgets/controls",
      "_view_module_version": "1.5.0",
      "_view_name": "ProgressView",
      "bar_style": "success",
      "description": "100%",
      "description_tooltip": null,
      "layout": "IPY_MODEL_f972527479e74337a98f236ed018ae1d",
      "max": 1,
      "min": 0,
      "orientation": "horizontal",
      "style": "IPY_MODEL_b0f3a205ad4546188fc6e7e7cf96ab32",
      "value": 1
     }
    },
    "d35c15beeb33476894b07c3563f8facd": {
     "model_module": "@jupyter-widgets/controls",
     "model_name": "DescriptionStyleModel",
     "state": {
      "_model_module": "@jupyter-widgets/controls",
      "_model_module_version": "1.5.0",
      "_model_name": "DescriptionStyleModel",
      "_view_count": null,
      "_view_module": "@jupyter-widgets/base",
      "_view_module_version": "1.2.0",
      "_view_name": "StyleView",
      "description_width": ""
     }
    },
    "d362345c05234c97a675c6bacdad0e92": {
     "model_module": "@jupyter-widgets/controls",
     "model_name": "DescriptionStyleModel",
     "state": {
      "_model_module": "@jupyter-widgets/controls",
      "_model_module_version": "1.5.0",
      "_model_name": "DescriptionStyleModel",
      "_view_count": null,
      "_view_module": "@jupyter-widgets/base",
      "_view_module_version": "1.2.0",
      "_view_name": "StyleView",
      "description_width": ""
     }
    },
    "d453bd4a35e54bfba20dac1fe86c60c1": {
     "model_module": "@jupyter-widgets/base",
     "model_name": "LayoutModel",
     "state": {
      "_model_module": "@jupyter-widgets/base",
      "_model_module_version": "1.2.0",
      "_model_name": "LayoutModel",
      "_view_count": null,
      "_view_module": "@jupyter-widgets/base",
      "_view_module_version": "1.2.0",
      "_view_name": "LayoutView",
      "align_content": null,
      "align_items": null,
      "align_self": null,
      "border": null,
      "bottom": null,
      "display": null,
      "flex": null,
      "flex_flow": null,
      "grid_area": null,
      "grid_auto_columns": null,
      "grid_auto_flow": null,
      "grid_auto_rows": null,
      "grid_column": null,
      "grid_gap": null,
      "grid_row": null,
      "grid_template_areas": null,
      "grid_template_columns": null,
      "grid_template_rows": null,
      "height": null,
      "justify_content": null,
      "justify_items": null,
      "left": null,
      "margin": null,
      "max_height": null,
      "max_width": null,
      "min_height": null,
      "min_width": null,
      "object_fit": null,
      "object_position": null,
      "order": null,
      "overflow": null,
      "overflow_x": null,
      "overflow_y": null,
      "padding": null,
      "right": null,
      "top": null,
      "visibility": null,
      "width": null
     }
    },
    "d4a3f79644fc41848450ba29e6fdfc3d": {
     "model_module": "@jupyter-widgets/base",
     "model_name": "LayoutModel",
     "state": {
      "_model_module": "@jupyter-widgets/base",
      "_model_module_version": "1.2.0",
      "_model_name": "LayoutModel",
      "_view_count": null,
      "_view_module": "@jupyter-widgets/base",
      "_view_module_version": "1.2.0",
      "_view_name": "LayoutView",
      "align_content": null,
      "align_items": null,
      "align_self": null,
      "border": null,
      "bottom": null,
      "display": null,
      "flex": null,
      "flex_flow": null,
      "grid_area": null,
      "grid_auto_columns": null,
      "grid_auto_flow": null,
      "grid_auto_rows": null,
      "grid_column": null,
      "grid_gap": null,
      "grid_row": null,
      "grid_template_areas": null,
      "grid_template_columns": null,
      "grid_template_rows": null,
      "height": null,
      "justify_content": null,
      "justify_items": null,
      "left": null,
      "margin": null,
      "max_height": null,
      "max_width": null,
      "min_height": null,
      "min_width": null,
      "object_fit": null,
      "object_position": null,
      "order": null,
      "overflow": null,
      "overflow_x": null,
      "overflow_y": null,
      "padding": null,
      "right": null,
      "top": null,
      "visibility": null,
      "width": null
     }
    },
    "d5fb02debe4347e781543a996ce39be3": {
     "model_module": "@jupyter-widgets/controls",
     "model_name": "HBoxModel",
     "state": {
      "_dom_classes": [],
      "_model_module": "@jupyter-widgets/controls",
      "_model_module_version": "1.5.0",
      "_model_name": "HBoxModel",
      "_view_count": null,
      "_view_module": "@jupyter-widgets/controls",
      "_view_module_version": "1.5.0",
      "_view_name": "HBoxView",
      "box_style": "",
      "children": [
       "IPY_MODEL_8e1a85a4a6214a16b7431da23a301ada",
       "IPY_MODEL_57198e3250374e1fa64c5a4be255861e"
      ],
      "layout": "IPY_MODEL_da12267c52144292adb9896249d61a6a"
     }
    },
    "d649c0f9c1c24634a84b7ef697721ffa": {
     "model_module": "@jupyter-widgets/base",
     "model_name": "LayoutModel",
     "state": {
      "_model_module": "@jupyter-widgets/base",
      "_model_module_version": "1.2.0",
      "_model_name": "LayoutModel",
      "_view_count": null,
      "_view_module": "@jupyter-widgets/base",
      "_view_module_version": "1.2.0",
      "_view_name": "LayoutView",
      "align_content": null,
      "align_items": null,
      "align_self": null,
      "border": null,
      "bottom": null,
      "display": null,
      "flex": null,
      "flex_flow": null,
      "grid_area": null,
      "grid_auto_columns": null,
      "grid_auto_flow": null,
      "grid_auto_rows": null,
      "grid_column": null,
      "grid_gap": null,
      "grid_row": null,
      "grid_template_areas": null,
      "grid_template_columns": null,
      "grid_template_rows": null,
      "height": null,
      "justify_content": null,
      "justify_items": null,
      "left": null,
      "margin": null,
      "max_height": null,
      "max_width": null,
      "min_height": null,
      "min_width": null,
      "object_fit": null,
      "object_position": null,
      "order": null,
      "overflow": null,
      "overflow_x": null,
      "overflow_y": null,
      "padding": null,
      "right": null,
      "top": null,
      "visibility": null,
      "width": null
     }
    },
    "d69468d63dd74fdd807fe061b92aa84e": {
     "model_module": "@jupyter-widgets/controls",
     "model_name": "HTMLModel",
     "state": {
      "_dom_classes": [],
      "_model_module": "@jupyter-widgets/controls",
      "_model_module_version": "1.5.0",
      "_model_name": "HTMLModel",
      "_view_count": null,
      "_view_module": "@jupyter-widgets/controls",
      "_view_module_version": "1.5.0",
      "_view_name": "HTMLView",
      "description": "",
      "description_tooltip": null,
      "layout": "IPY_MODEL_84e7f0001ebe458dad3c96e7e9a38cdc",
      "placeholder": "​",
      "style": "IPY_MODEL_7f5203fde6b64bf7ad53d6ecd3041bfc",
      "value": " 869/869 [05:47&lt;00:00,  2.50ex/s]"
     }
    },
    "d7f27e9cf8a844349ca90393e0c49a03": {
     "model_module": "@jupyter-widgets/base",
     "model_name": "LayoutModel",
     "state": {
      "_model_module": "@jupyter-widgets/base",
      "_model_module_version": "1.2.0",
      "_model_name": "LayoutModel",
      "_view_count": null,
      "_view_module": "@jupyter-widgets/base",
      "_view_module_version": "1.2.0",
      "_view_name": "LayoutView",
      "align_content": null,
      "align_items": null,
      "align_self": null,
      "border": null,
      "bottom": null,
      "display": null,
      "flex": null,
      "flex_flow": null,
      "grid_area": null,
      "grid_auto_columns": null,
      "grid_auto_flow": null,
      "grid_auto_rows": null,
      "grid_column": null,
      "grid_gap": null,
      "grid_row": null,
      "grid_template_areas": null,
      "grid_template_columns": null,
      "grid_template_rows": null,
      "height": null,
      "justify_content": null,
      "justify_items": null,
      "left": null,
      "margin": null,
      "max_height": null,
      "max_width": null,
      "min_height": null,
      "min_width": null,
      "object_fit": null,
      "object_position": null,
      "order": null,
      "overflow": null,
      "overflow_x": null,
      "overflow_y": null,
      "padding": null,
      "right": null,
      "top": null,
      "visibility": null,
      "width": null
     }
    },
    "d96e01ad62c342cdb7d9b1eceb39afa3": {
     "model_module": "@jupyter-widgets/controls",
     "model_name": "HBoxModel",
     "state": {
      "_dom_classes": [],
      "_model_module": "@jupyter-widgets/controls",
      "_model_module_version": "1.5.0",
      "_model_name": "HBoxModel",
      "_view_count": null,
      "_view_module": "@jupyter-widgets/controls",
      "_view_module_version": "1.5.0",
      "_view_name": "HBoxView",
      "box_style": "",
      "children": [
       "IPY_MODEL_e6178f7b148c4bf39f2826f208e0cc64",
       "IPY_MODEL_f78ff14b9c8f46448ed1ecb3fe1f5e0b"
      ],
      "layout": "IPY_MODEL_e6ce9330460d4a0fb67cc493ca74ae96"
     }
    },
    "da12267c52144292adb9896249d61a6a": {
     "model_module": "@jupyter-widgets/base",
     "model_name": "LayoutModel",
     "state": {
      "_model_module": "@jupyter-widgets/base",
      "_model_module_version": "1.2.0",
      "_model_name": "LayoutModel",
      "_view_count": null,
      "_view_module": "@jupyter-widgets/base",
      "_view_module_version": "1.2.0",
      "_view_name": "LayoutView",
      "align_content": null,
      "align_items": null,
      "align_self": null,
      "border": null,
      "bottom": null,
      "display": null,
      "flex": null,
      "flex_flow": null,
      "grid_area": null,
      "grid_auto_columns": null,
      "grid_auto_flow": null,
      "grid_auto_rows": null,
      "grid_column": null,
      "grid_gap": null,
      "grid_row": null,
      "grid_template_areas": null,
      "grid_template_columns": null,
      "grid_template_rows": null,
      "height": null,
      "justify_content": null,
      "justify_items": null,
      "left": null,
      "margin": null,
      "max_height": null,
      "max_width": null,
      "min_height": null,
      "min_width": null,
      "object_fit": null,
      "object_position": null,
      "order": null,
      "overflow": null,
      "overflow_x": null,
      "overflow_y": null,
      "padding": null,
      "right": null,
      "top": null,
      "visibility": null,
      "width": null
     }
    },
    "da1ff50f8b9241108a325ada04224642": {
     "model_module": "@jupyter-widgets/controls",
     "model_name": "ProgressStyleModel",
     "state": {
      "_model_module": "@jupyter-widgets/controls",
      "_model_module_version": "1.5.0",
      "_model_name": "ProgressStyleModel",
      "_view_count": null,
      "_view_module": "@jupyter-widgets/base",
      "_view_module_version": "1.2.0",
      "_view_name": "StyleView",
      "bar_color": null,
      "description_width": "initial"
     }
    },
    "db71db50799c404aafa4a54de8b9b799": {
     "model_module": "@jupyter-widgets/base",
     "model_name": "LayoutModel",
     "state": {
      "_model_module": "@jupyter-widgets/base",
      "_model_module_version": "1.2.0",
      "_model_name": "LayoutModel",
      "_view_count": null,
      "_view_module": "@jupyter-widgets/base",
      "_view_module_version": "1.2.0",
      "_view_name": "LayoutView",
      "align_content": null,
      "align_items": null,
      "align_self": null,
      "border": null,
      "bottom": null,
      "display": null,
      "flex": null,
      "flex_flow": null,
      "grid_area": null,
      "grid_auto_columns": null,
      "grid_auto_flow": null,
      "grid_auto_rows": null,
      "grid_column": null,
      "grid_gap": null,
      "grid_row": null,
      "grid_template_areas": null,
      "grid_template_columns": null,
      "grid_template_rows": null,
      "height": null,
      "justify_content": null,
      "justify_items": null,
      "left": null,
      "margin": null,
      "max_height": null,
      "max_width": null,
      "min_height": null,
      "min_width": null,
      "object_fit": null,
      "object_position": null,
      "order": null,
      "overflow": null,
      "overflow_x": null,
      "overflow_y": null,
      "padding": null,
      "right": null,
      "top": null,
      "visibility": null,
      "width": null
     }
    },
    "dc6862530f6e429ba61a169b4c95722c": {
     "model_module": "@jupyter-widgets/base",
     "model_name": "LayoutModel",
     "state": {
      "_model_module": "@jupyter-widgets/base",
      "_model_module_version": "1.2.0",
      "_model_name": "LayoutModel",
      "_view_count": null,
      "_view_module": "@jupyter-widgets/base",
      "_view_module_version": "1.2.0",
      "_view_name": "LayoutView",
      "align_content": null,
      "align_items": null,
      "align_self": null,
      "border": null,
      "bottom": null,
      "display": null,
      "flex": null,
      "flex_flow": null,
      "grid_area": null,
      "grid_auto_columns": null,
      "grid_auto_flow": null,
      "grid_auto_rows": null,
      "grid_column": null,
      "grid_gap": null,
      "grid_row": null,
      "grid_template_areas": null,
      "grid_template_columns": null,
      "grid_template_rows": null,
      "height": null,
      "justify_content": null,
      "justify_items": null,
      "left": null,
      "margin": null,
      "max_height": null,
      "max_width": null,
      "min_height": null,
      "min_width": null,
      "object_fit": null,
      "object_position": null,
      "order": null,
      "overflow": null,
      "overflow_x": null,
      "overflow_y": null,
      "padding": null,
      "right": null,
      "top": null,
      "visibility": null,
      "width": null
     }
    },
    "dde7ae43ef954ef1b901c80f0a4e11fd": {
     "model_module": "@jupyter-widgets/base",
     "model_name": "LayoutModel",
     "state": {
      "_model_module": "@jupyter-widgets/base",
      "_model_module_version": "1.2.0",
      "_model_name": "LayoutModel",
      "_view_count": null,
      "_view_module": "@jupyter-widgets/base",
      "_view_module_version": "1.2.0",
      "_view_name": "LayoutView",
      "align_content": null,
      "align_items": null,
      "align_self": null,
      "border": null,
      "bottom": null,
      "display": null,
      "flex": null,
      "flex_flow": null,
      "grid_area": null,
      "grid_auto_columns": null,
      "grid_auto_flow": null,
      "grid_auto_rows": null,
      "grid_column": null,
      "grid_gap": null,
      "grid_row": null,
      "grid_template_areas": null,
      "grid_template_columns": null,
      "grid_template_rows": null,
      "height": null,
      "justify_content": null,
      "justify_items": null,
      "left": null,
      "margin": null,
      "max_height": null,
      "max_width": null,
      "min_height": null,
      "min_width": null,
      "object_fit": null,
      "object_position": null,
      "order": null,
      "overflow": null,
      "overflow_x": null,
      "overflow_y": null,
      "padding": null,
      "right": null,
      "top": null,
      "visibility": null,
      "width": null
     }
    },
    "dec796237765477ea904834d9a824b61": {
     "model_module": "@jupyter-widgets/base",
     "model_name": "LayoutModel",
     "state": {
      "_model_module": "@jupyter-widgets/base",
      "_model_module_version": "1.2.0",
      "_model_name": "LayoutModel",
      "_view_count": null,
      "_view_module": "@jupyter-widgets/base",
      "_view_module_version": "1.2.0",
      "_view_name": "LayoutView",
      "align_content": null,
      "align_items": null,
      "align_self": null,
      "border": null,
      "bottom": null,
      "display": null,
      "flex": null,
      "flex_flow": null,
      "grid_area": null,
      "grid_auto_columns": null,
      "grid_auto_flow": null,
      "grid_auto_rows": null,
      "grid_column": null,
      "grid_gap": null,
      "grid_row": null,
      "grid_template_areas": null,
      "grid_template_columns": null,
      "grid_template_rows": null,
      "height": null,
      "justify_content": null,
      "justify_items": null,
      "left": null,
      "margin": null,
      "max_height": null,
      "max_width": null,
      "min_height": null,
      "min_width": null,
      "object_fit": null,
      "object_position": null,
      "order": null,
      "overflow": null,
      "overflow_x": null,
      "overflow_y": null,
      "padding": null,
      "right": null,
      "top": null,
      "visibility": null,
      "width": null
     }
    },
    "def702d8f8354fa4999587a5c68d0034": {
     "model_module": "@jupyter-widgets/controls",
     "model_name": "HBoxModel",
     "state": {
      "_dom_classes": [],
      "_model_module": "@jupyter-widgets/controls",
      "_model_module_version": "1.5.0",
      "_model_name": "HBoxModel",
      "_view_count": null,
      "_view_module": "@jupyter-widgets/controls",
      "_view_module_version": "1.5.0",
      "_view_name": "HBoxView",
      "box_style": "",
      "children": [
       "IPY_MODEL_edf36819322e4f9fa227a11592fef429",
       "IPY_MODEL_ce337f50183942e6a74ca1b33735ade9"
      ],
      "layout": "IPY_MODEL_2fd148d5587b4139919b0158f9dad71e"
     }
    },
    "e273548a15aa4d4994132b317adb66fc": {
     "model_module": "@jupyter-widgets/controls",
     "model_name": "FloatProgressModel",
     "state": {
      "_dom_classes": [],
      "_model_module": "@jupyter-widgets/controls",
      "_model_module_version": "1.5.0",
      "_model_name": "FloatProgressModel",
      "_view_count": null,
      "_view_module": "@jupyter-widgets/controls",
      "_view_module_version": "1.5.0",
      "_view_name": "ProgressView",
      "bar_style": "success",
      "description": "#0: 100%",
      "description_tooltip": null,
      "layout": "IPY_MODEL_80697300a4394b909f1c499ba80aeb13",
      "max": 52,
      "min": 0,
      "orientation": "horizontal",
      "style": "IPY_MODEL_7d62810674c8482abe46c60fc08884b4",
      "value": 52
     }
    },
    "e3b719c0ffcc4fd1b410ffb7f969b7a5": {
     "model_module": "@jupyter-widgets/controls",
     "model_name": "HTMLModel",
     "state": {
      "_dom_classes": [],
      "_model_module": "@jupyter-widgets/controls",
      "_model_module_version": "1.5.0",
      "_model_name": "HTMLModel",
      "_view_count": null,
      "_view_module": "@jupyter-widgets/controls",
      "_view_module_version": "1.5.0",
      "_view_name": "HTMLView",
      "description": "",
      "description_tooltip": null,
      "layout": "IPY_MODEL_c9dc4421940241c59f1151aeabedc98b",
      "placeholder": "​",
      "style": "IPY_MODEL_19e263785ea343ba99ee2127d9b83d1d",
      "value": " 1831/0 [00:04&lt;00:00,  4.82s/ examples]"
     }
    },
    "e51b5fd9d5a6416d986fac1526d1666f": {
     "model_module": "@jupyter-widgets/base",
     "model_name": "LayoutModel",
     "state": {
      "_model_module": "@jupyter-widgets/base",
      "_model_module_version": "1.2.0",
      "_model_name": "LayoutModel",
      "_view_count": null,
      "_view_module": "@jupyter-widgets/base",
      "_view_module_version": "1.2.0",
      "_view_name": "LayoutView",
      "align_content": null,
      "align_items": null,
      "align_self": null,
      "border": null,
      "bottom": null,
      "display": null,
      "flex": null,
      "flex_flow": null,
      "grid_area": null,
      "grid_auto_columns": null,
      "grid_auto_flow": null,
      "grid_auto_rows": null,
      "grid_column": null,
      "grid_gap": null,
      "grid_row": null,
      "grid_template_areas": null,
      "grid_template_columns": null,
      "grid_template_rows": null,
      "height": null,
      "justify_content": null,
      "justify_items": null,
      "left": null,
      "margin": null,
      "max_height": null,
      "max_width": null,
      "min_height": null,
      "min_width": null,
      "object_fit": null,
      "object_position": null,
      "order": null,
      "overflow": null,
      "overflow_x": null,
      "overflow_y": null,
      "padding": null,
      "right": null,
      "top": null,
      "visibility": null,
      "width": null
     }
    },
    "e6178f7b148c4bf39f2826f208e0cc64": {
     "model_module": "@jupyter-widgets/controls",
     "model_name": "FloatProgressModel",
     "state": {
      "_dom_classes": [],
      "_model_module": "@jupyter-widgets/controls",
      "_model_module_version": "1.5.0",
      "_model_name": "FloatProgressModel",
      "_view_count": null,
      "_view_module": "@jupyter-widgets/controls",
      "_view_module_version": "1.5.0",
      "_view_name": "ProgressView",
      "bar_style": "success",
      "description": "#0: 100%",
      "description_tooltip": null,
      "layout": "IPY_MODEL_6ba6d07674a34836be53cf173c2b61ca",
      "max": 412,
      "min": 0,
      "orientation": "horizontal",
      "style": "IPY_MODEL_929cde17b3484f3e9e8f8774bc43e374",
      "value": 412
     }
    },
    "e6ce9330460d4a0fb67cc493ca74ae96": {
     "model_module": "@jupyter-widgets/base",
     "model_name": "LayoutModel",
     "state": {
      "_model_module": "@jupyter-widgets/base",
      "_model_module_version": "1.2.0",
      "_model_name": "LayoutModel",
      "_view_count": null,
      "_view_module": "@jupyter-widgets/base",
      "_view_module_version": "1.2.0",
      "_view_name": "LayoutView",
      "align_content": null,
      "align_items": null,
      "align_self": null,
      "border": null,
      "bottom": null,
      "display": null,
      "flex": null,
      "flex_flow": null,
      "grid_area": null,
      "grid_auto_columns": null,
      "grid_auto_flow": null,
      "grid_auto_rows": null,
      "grid_column": null,
      "grid_gap": null,
      "grid_row": null,
      "grid_template_areas": null,
      "grid_template_columns": null,
      "grid_template_rows": null,
      "height": null,
      "justify_content": null,
      "justify_items": null,
      "left": null,
      "margin": null,
      "max_height": null,
      "max_width": null,
      "min_height": null,
      "min_width": null,
      "object_fit": null,
      "object_position": null,
      "order": null,
      "overflow": null,
      "overflow_x": null,
      "overflow_y": null,
      "padding": null,
      "right": null,
      "top": null,
      "visibility": null,
      "width": null
     }
    },
    "e9a702f10538415b970ea1345804d72c": {
     "model_module": "@jupyter-widgets/base",
     "model_name": "LayoutModel",
     "state": {
      "_model_module": "@jupyter-widgets/base",
      "_model_module_version": "1.2.0",
      "_model_name": "LayoutModel",
      "_view_count": null,
      "_view_module": "@jupyter-widgets/base",
      "_view_module_version": "1.2.0",
      "_view_name": "LayoutView",
      "align_content": null,
      "align_items": null,
      "align_self": null,
      "border": null,
      "bottom": null,
      "display": null,
      "flex": null,
      "flex_flow": null,
      "grid_area": null,
      "grid_auto_columns": null,
      "grid_auto_flow": null,
      "grid_auto_rows": null,
      "grid_column": null,
      "grid_gap": null,
      "grid_row": null,
      "grid_template_areas": null,
      "grid_template_columns": null,
      "grid_template_rows": null,
      "height": null,
      "justify_content": null,
      "justify_items": null,
      "left": null,
      "margin": null,
      "max_height": null,
      "max_width": null,
      "min_height": null,
      "min_width": null,
      "object_fit": null,
      "object_position": null,
      "order": null,
      "overflow": null,
      "overflow_x": null,
      "overflow_y": null,
      "padding": null,
      "right": null,
      "top": null,
      "visibility": null,
      "width": null
     }
    },
    "ec36a94ee2574ac8b227ccaefdee5520": {
     "model_module": "@jupyter-widgets/controls",
     "model_name": "DescriptionStyleModel",
     "state": {
      "_model_module": "@jupyter-widgets/controls",
      "_model_module_version": "1.5.0",
      "_model_name": "DescriptionStyleModel",
      "_view_count": null,
      "_view_module": "@jupyter-widgets/base",
      "_view_module_version": "1.2.0",
      "_view_name": "StyleView",
      "description_width": ""
     }
    },
    "edf36819322e4f9fa227a11592fef429": {
     "model_module": "@jupyter-widgets/controls",
     "model_name": "FloatProgressModel",
     "state": {
      "_dom_classes": [],
      "_model_module": "@jupyter-widgets/controls",
      "_model_module_version": "1.5.0",
      "_model_name": "FloatProgressModel",
      "_view_count": null,
      "_view_module": "@jupyter-widgets/controls",
      "_view_module_version": "1.5.0",
      "_view_name": "ProgressView",
      "bar_style": "success",
      "description": "Downloading: ",
      "description_tooltip": null,
      "layout": "IPY_MODEL_93f191a48b3141e1889fd94870b6ac0e",
      "max": 4662,
      "min": 0,
      "orientation": "horizontal",
      "style": "IPY_MODEL_8292dafcd40745958d0f3c563bf6b9b0",
      "value": 4662
     }
    },
    "ee641bbf54a7499597713c517baa81bb": {
     "model_module": "@jupyter-widgets/controls",
     "model_name": "HBoxModel",
     "state": {
      "_dom_classes": [],
      "_model_module": "@jupyter-widgets/controls",
      "_model_module_version": "1.5.0",
      "_model_name": "HBoxModel",
      "_view_count": null,
      "_view_module": "@jupyter-widgets/controls",
      "_view_module_version": "1.5.0",
      "_view_name": "HBoxView",
      "box_style": "",
      "children": [
       "IPY_MODEL_4f8957dc035d4c1a9e8630fc8ab8cd10",
       "IPY_MODEL_757e7bd0e6c5410da0490d191b4e68c8"
      ],
      "layout": "IPY_MODEL_3d929b9e2518402b81a71757ffb753d2"
     }
    },
    "eed2ccc12daa4c71b080794a7a18f5cb": {
     "model_module": "@jupyter-widgets/controls",
     "model_name": "HTMLModel",
     "state": {
      "_dom_classes": [],
      "_model_module": "@jupyter-widgets/controls",
      "_model_module_version": "1.5.0",
      "_model_name": "HTMLModel",
      "_view_count": null,
      "_view_module": "@jupyter-widgets/controls",
      "_view_module_version": "1.5.0",
      "_view_name": "HTMLView",
      "description": "",
      "description_tooltip": null,
      "layout": "IPY_MODEL_f18eddbd3d994ddc88f37e02d754c206",
      "placeholder": "​",
      "style": "IPY_MODEL_20347ed29fdc4c0a96da28c09aacf44d",
      "value": " 870/870 [05:39&lt;00:00,  2.45ex/s]"
     }
    },
    "f18eddbd3d994ddc88f37e02d754c206": {
     "model_module": "@jupyter-widgets/base",
     "model_name": "LayoutModel",
     "state": {
      "_model_module": "@jupyter-widgets/base",
      "_model_module_version": "1.2.0",
      "_model_name": "LayoutModel",
      "_view_count": null,
      "_view_module": "@jupyter-widgets/base",
      "_view_module_version": "1.2.0",
      "_view_name": "LayoutView",
      "align_content": null,
      "align_items": null,
      "align_self": null,
      "border": null,
      "bottom": null,
      "display": null,
      "flex": null,
      "flex_flow": null,
      "grid_area": null,
      "grid_auto_columns": null,
      "grid_auto_flow": null,
      "grid_auto_rows": null,
      "grid_column": null,
      "grid_gap": null,
      "grid_row": null,
      "grid_template_areas": null,
      "grid_template_columns": null,
      "grid_template_rows": null,
      "height": null,
      "justify_content": null,
      "justify_items": null,
      "left": null,
      "margin": null,
      "max_height": null,
      "max_width": null,
      "min_height": null,
      "min_width": null,
      "object_fit": null,
      "object_position": null,
      "order": null,
      "overflow": null,
      "overflow_x": null,
      "overflow_y": null,
      "padding": null,
      "right": null,
      "top": null,
      "visibility": null,
      "width": null
     }
    },
    "f203c54e7e054d97aa4d1097f320f611": {
     "model_module": "@jupyter-widgets/controls",
     "model_name": "FloatProgressModel",
     "state": {
      "_dom_classes": [],
      "_model_module": "@jupyter-widgets/controls",
      "_model_module_version": "1.5.0",
      "_model_name": "FloatProgressModel",
      "_view_count": null,
      "_view_module": "@jupyter-widgets/controls",
      "_view_module_version": "1.5.0",
      "_view_name": "ProgressView",
      "bar_style": "success",
      "description": "#3: 100%",
      "description_tooltip": null,
      "layout": "IPY_MODEL_0cd1932178c945d48604ffd299e65d2c",
      "max": 411,
      "min": 0,
      "orientation": "horizontal",
      "style": "IPY_MODEL_3ec3285e9f3e4a5abcefabb7f140f4a3",
      "value": 411
     }
    },
    "f3905820a42c499fba04af9c1ad19705": {
     "model_module": "@jupyter-widgets/controls",
     "model_name": "FloatProgressModel",
     "state": {
      "_dom_classes": [],
      "_model_module": "@jupyter-widgets/controls",
      "_model_module_version": "1.5.0",
      "_model_name": "FloatProgressModel",
      "_view_count": null,
      "_view_module": "@jupyter-widgets/controls",
      "_view_module_version": "1.5.0",
      "_view_name": "ProgressView",
      "bar_style": "success",
      "description": "#2: 100%",
      "description_tooltip": null,
      "layout": "IPY_MODEL_fc9504846f424542a7feb932964f1f5b",
      "max": 869,
      "min": 0,
      "orientation": "horizontal",
      "style": "IPY_MODEL_4c0ad31e73234e46aac0a297ec18bdeb",
      "value": 869
     }
    },
    "f3adb92e618743cca3299e3e7b6e369f": {
     "model_module": "@jupyter-widgets/controls",
     "model_name": "HBoxModel",
     "state": {
      "_dom_classes": [],
      "_model_module": "@jupyter-widgets/controls",
      "_model_module_version": "1.5.0",
      "_model_name": "HBoxModel",
      "_view_count": null,
      "_view_module": "@jupyter-widgets/controls",
      "_view_module_version": "1.5.0",
      "_view_name": "HBoxView",
      "box_style": "",
      "children": [
       "IPY_MODEL_b0e3a36279d243ab9943149705c72c3e",
       "IPY_MODEL_12696cc03f464a63a411efb2b5e5ac3b"
      ],
      "layout": "IPY_MODEL_83b51e16d88046c48dcd745cf09d2e56"
     }
    },
    "f4135dd72864445391f43f387635bfdc": {
     "model_module": "@jupyter-widgets/controls",
     "model_name": "HTMLModel",
     "state": {
      "_dom_classes": [],
      "_model_module": "@jupyter-widgets/controls",
      "_model_module_version": "1.5.0",
      "_model_name": "HTMLModel",
      "_view_count": null,
      "_view_module": "@jupyter-widgets/controls",
      "_view_module_version": "1.5.0",
      "_view_name": "HTMLView",
      "description": "",
      "description_tooltip": null,
      "layout": "IPY_MODEL_923ed9e127524187ab8cfcac31164ba7",
      "placeholder": "​",
      "style": "IPY_MODEL_8df9d19602cb4951b397c385458a11ef",
      "value": " 109/109 [00:56&lt;00:00,  1.93ba/s]"
     }
    },
    "f57d087016124ebeb073fd7428dcb68b": {
     "model_module": "@jupyter-widgets/base",
     "model_name": "LayoutModel",
     "state": {
      "_model_module": "@jupyter-widgets/base",
      "_model_module_version": "1.2.0",
      "_model_name": "LayoutModel",
      "_view_count": null,
      "_view_module": "@jupyter-widgets/base",
      "_view_module_version": "1.2.0",
      "_view_name": "LayoutView",
      "align_content": null,
      "align_items": null,
      "align_self": null,
      "border": null,
      "bottom": null,
      "display": null,
      "flex": null,
      "flex_flow": null,
      "grid_area": null,
      "grid_auto_columns": null,
      "grid_auto_flow": null,
      "grid_auto_rows": null,
      "grid_column": null,
      "grid_gap": null,
      "grid_row": null,
      "grid_template_areas": null,
      "grid_template_columns": null,
      "grid_template_rows": null,
      "height": null,
      "justify_content": null,
      "justify_items": null,
      "left": null,
      "margin": null,
      "max_height": null,
      "max_width": null,
      "min_height": null,
      "min_width": null,
      "object_fit": null,
      "object_position": null,
      "order": null,
      "overflow": null,
      "overflow_x": null,
      "overflow_y": null,
      "padding": null,
      "right": null,
      "top": null,
      "visibility": null,
      "width": null
     }
    },
    "f5f1f0865d7e4d8b810ccb9c3c4d2683": {
     "model_module": "@jupyter-widgets/controls",
     "model_name": "FloatProgressModel",
     "state": {
      "_dom_classes": [],
      "_model_module": "@jupyter-widgets/controls",
      "_model_module_version": "1.5.0",
      "_model_name": "FloatProgressModel",
      "_view_count": null,
      "_view_module": "@jupyter-widgets/controls",
      "_view_module_version": "1.5.0",
      "_view_name": "ProgressView",
      "bar_style": "success",
      "description": "#1: 100%",
      "description_tooltip": null,
      "layout": "IPY_MODEL_e51b5fd9d5a6416d986fac1526d1666f",
      "max": 412,
      "min": 0,
      "orientation": "horizontal",
      "style": "IPY_MODEL_a47f1ea64f894f0b8e6b277c31ae9f7d",
      "value": 412
     }
    },
    "f6930dd5519d4dfda64c597def220a30": {
     "model_module": "@jupyter-widgets/controls",
     "model_name": "HTMLModel",
     "state": {
      "_dom_classes": [],
      "_model_module": "@jupyter-widgets/controls",
      "_model_module_version": "1.5.0",
      "_model_name": "HTMLModel",
      "_view_count": null,
      "_view_module": "@jupyter-widgets/controls",
      "_view_module_version": "1.5.0",
      "_view_name": "HTMLView",
      "description": "",
      "description_tooltip": null,
      "layout": "IPY_MODEL_56ad6231a0a04228be29ceecbc6b7c0e",
      "placeholder": "​",
      "style": "IPY_MODEL_ab72c80dfd5e4ab19a183f4204486b59",
      "value": " 52/52 [00:31&lt;00:00,  1.63ba/s]"
     }
    },
    "f6b01ad0433a40178ef3ba5657bc1583": {
     "model_module": "@jupyter-widgets/controls",
     "model_name": "FloatProgressModel",
     "state": {
      "_dom_classes": [],
      "_model_module": "@jupyter-widgets/controls",
      "_model_module_version": "1.5.0",
      "_model_name": "FloatProgressModel",
      "_view_count": null,
      "_view_module": "@jupyter-widgets/controls",
      "_view_module_version": "1.5.0",
      "_view_name": "ProgressView",
      "bar_style": "success",
      "description": "#0: 100%",
      "description_tooltip": null,
      "layout": "IPY_MODEL_69828f4a101f4340916a4be141866904",
      "max": 870,
      "min": 0,
      "orientation": "horizontal",
      "style": "IPY_MODEL_beca070c32124a119a08cb21c2ca95e5",
      "value": 870
     }
    },
    "f78ff14b9c8f46448ed1ecb3fe1f5e0b": {
     "model_module": "@jupyter-widgets/controls",
     "model_name": "HTMLModel",
     "state": {
      "_dom_classes": [],
      "_model_module": "@jupyter-widgets/controls",
      "_model_module_version": "1.5.0",
      "_model_name": "HTMLModel",
      "_view_count": null,
      "_view_module": "@jupyter-widgets/controls",
      "_view_module_version": "1.5.0",
      "_view_name": "HTMLView",
      "description": "",
      "description_tooltip": null,
      "layout": "IPY_MODEL_b054b00a32e64fc5988fbd2966ebbce6",
      "placeholder": "​",
      "style": "IPY_MODEL_5a5bc8b4a1c644dea08a60128d888d10",
      "value": " 412/412 [03:06&lt;00:00,  2.20ex/s]"
     }
    },
    "f792530a76ee486688cbc2502dfae594": {
     "model_module": "@jupyter-widgets/controls",
     "model_name": "FloatProgressModel",
     "state": {
      "_dom_classes": [],
      "_model_module": "@jupyter-widgets/controls",
      "_model_module_version": "1.5.0",
      "_model_name": "FloatProgressModel",
      "_view_count": null,
      "_view_module": "@jupyter-widgets/controls",
      "_view_module_version": "1.5.0",
      "_view_name": "ProgressView",
      "bar_style": "success",
      "description": "#3: 100%",
      "description_tooltip": null,
      "layout": "IPY_MODEL_7e50f8027fb74d669daae5e46082026c",
      "max": 869,
      "min": 0,
      "orientation": "horizontal",
      "style": "IPY_MODEL_1261590ef796493798f7068ea0547b74",
      "value": 869
     }
    },
    "f972527479e74337a98f236ed018ae1d": {
     "model_module": "@jupyter-widgets/base",
     "model_name": "LayoutModel",
     "state": {
      "_model_module": "@jupyter-widgets/base",
      "_model_module_version": "1.2.0",
      "_model_name": "LayoutModel",
      "_view_count": null,
      "_view_module": "@jupyter-widgets/base",
      "_view_module_version": "1.2.0",
      "_view_name": "LayoutView",
      "align_content": null,
      "align_items": null,
      "align_self": null,
      "border": null,
      "bottom": null,
      "display": null,
      "flex": null,
      "flex_flow": null,
      "grid_area": null,
      "grid_auto_columns": null,
      "grid_auto_flow": null,
      "grid_auto_rows": null,
      "grid_column": null,
      "grid_gap": null,
      "grid_row": null,
      "grid_template_areas": null,
      "grid_template_columns": null,
      "grid_template_rows": null,
      "height": null,
      "justify_content": null,
      "justify_items": null,
      "left": null,
      "margin": null,
      "max_height": null,
      "max_width": null,
      "min_height": null,
      "min_width": null,
      "object_fit": null,
      "object_position": null,
      "order": null,
      "overflow": null,
      "overflow_x": null,
      "overflow_y": null,
      "padding": null,
      "right": null,
      "top": null,
      "visibility": null,
      "width": null
     }
    },
    "f9efaa7678c2450f847ff2c2f21ff96e": {
     "model_module": "@jupyter-widgets/controls",
     "model_name": "DescriptionStyleModel",
     "state": {
      "_model_module": "@jupyter-widgets/controls",
      "_model_module_version": "1.5.0",
      "_model_name": "DescriptionStyleModel",
      "_view_count": null,
      "_view_module": "@jupyter-widgets/base",
      "_view_module_version": "1.2.0",
      "_view_name": "StyleView",
      "description_width": ""
     }
    },
    "fa7926bbe77e48b3a0648b45f5d2dc7a": {
     "model_module": "@jupyter-widgets/controls",
     "model_name": "ProgressStyleModel",
     "state": {
      "_model_module": "@jupyter-widgets/controls",
      "_model_module_version": "1.5.0",
      "_model_name": "ProgressStyleModel",
      "_view_count": null,
      "_view_module": "@jupyter-widgets/base",
      "_view_module_version": "1.2.0",
      "_view_name": "StyleView",
      "bar_color": null,
      "description_width": "initial"
     }
    },
    "fc9504846f424542a7feb932964f1f5b": {
     "model_module": "@jupyter-widgets/base",
     "model_name": "LayoutModel",
     "state": {
      "_model_module": "@jupyter-widgets/base",
      "_model_module_version": "1.2.0",
      "_model_name": "LayoutModel",
      "_view_count": null,
      "_view_module": "@jupyter-widgets/base",
      "_view_module_version": "1.2.0",
      "_view_name": "LayoutView",
      "align_content": null,
      "align_items": null,
      "align_self": null,
      "border": null,
      "bottom": null,
      "display": null,
      "flex": null,
      "flex_flow": null,
      "grid_area": null,
      "grid_auto_columns": null,
      "grid_auto_flow": null,
      "grid_auto_rows": null,
      "grid_column": null,
      "grid_gap": null,
      "grid_row": null,
      "grid_template_areas": null,
      "grid_template_columns": null,
      "grid_template_rows": null,
      "height": null,
      "justify_content": null,
      "justify_items": null,
      "left": null,
      "margin": null,
      "max_height": null,
      "max_width": null,
      "min_height": null,
      "min_width": null,
      "object_fit": null,
      "object_position": null,
      "order": null,
      "overflow": null,
      "overflow_x": null,
      "overflow_y": null,
      "padding": null,
      "right": null,
      "top": null,
      "visibility": null,
      "width": null
     }
    },
    "fe62265afdc74026b7e9c5a50ef61d2c": {
     "model_module": "@jupyter-widgets/base",
     "model_name": "LayoutModel",
     "state": {
      "_model_module": "@jupyter-widgets/base",
      "_model_module_version": "1.2.0",
      "_model_name": "LayoutModel",
      "_view_count": null,
      "_view_module": "@jupyter-widgets/base",
      "_view_module_version": "1.2.0",
      "_view_name": "LayoutView",
      "align_content": null,
      "align_items": null,
      "align_self": null,
      "border": null,
      "bottom": null,
      "display": null,
      "flex": null,
      "flex_flow": null,
      "grid_area": null,
      "grid_auto_columns": null,
      "grid_auto_flow": null,
      "grid_auto_rows": null,
      "grid_column": null,
      "grid_gap": null,
      "grid_row": null,
      "grid_template_areas": null,
      "grid_template_columns": null,
      "grid_template_rows": null,
      "height": null,
      "justify_content": null,
      "justify_items": null,
      "left": null,
      "margin": null,
      "max_height": null,
      "max_width": null,
      "min_height": null,
      "min_width": null,
      "object_fit": null,
      "object_position": null,
      "order": null,
      "overflow": null,
      "overflow_x": null,
      "overflow_y": null,
      "padding": null,
      "right": null,
      "top": null,
      "visibility": null,
      "width": null
     }
    }
   }
  }
 },
 "nbformat": 4,
 "nbformat_minor": 4
}
